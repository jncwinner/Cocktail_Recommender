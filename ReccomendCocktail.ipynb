{
 "cells": [
  {
   "cell_type": "code",
   "execution_count": 2,
   "metadata": {},
   "outputs": [
    {
     "name": "stdout",
     "output_type": "stream",
     "text": [
      "tensor([[0.0345, 0.8419, 0.8869],\n",
      "        [0.0206, 0.6084, 0.5557],\n",
      "        [0.9111, 0.4046, 0.5511],\n",
      "        [0.9436, 0.6862, 0.2714],\n",
      "        [0.4721, 0.4940, 0.2738]])\n"
     ]
    }
   ],
   "source": [
    "import torch\n",
    "x = torch.rand(5, 3)\n",
    "print(x)"
   ]
  },
  {
   "cell_type": "code",
   "execution_count": 3,
   "metadata": {},
   "outputs": [],
   "source": [
    "import pandas as pd\n",
    "import numpy as np\n",
    "from scipy.sparse import csr_matrix\n",
    "import pickle\n",
    "import statsmodels.api as sm\n",
    "import statsmodels.formula.api as smf\n",
    "import matplotlib.pyplot as plt\n",
    "import seaborn as sns\n",
    "import gzip\n",
    "from lenskit import batch, topn, util\n",
    "from lenskit import crossfold as xf\n",
    "from lenskit.algorithms import Recommender, als, bias, basic, user_knn, svd, tf, item_knn as knn\n",
    "from lenskit.algorithms import bias\n",
    "from lenskit import topn\n",
    "import seaborn as sns\n",
    "import lenskit\n",
    "from lenskit.metrics.predict import rmse\n",
    "import lift\n",
    "import scipy.sparse as sps\n",
    "from csr import CSR\n",
    "from sklearn.model_selection import train_test_split\n"
   ]
  },
  {
   "cell_type": "code",
   "execution_count": 3,
   "metadata": {},
   "outputs": [
    {
     "data": {
      "text/html": [
       "<div>\n",
       "<style scoped>\n",
       "    .dataframe tbody tr th:only-of-type {\n",
       "        vertical-align: middle;\n",
       "    }\n",
       "\n",
       "    .dataframe tbody tr th {\n",
       "        vertical-align: top;\n",
       "    }\n",
       "\n",
       "    .dataframe thead th {\n",
       "        text-align: right;\n",
       "    }\n",
       "</style>\n",
       "<table border=\"1\" class=\"dataframe\">\n",
       "  <thead>\n",
       "    <tr style=\"text-align: right;\">\n",
       "      <th></th>\n",
       "      <th>name</th>\n",
       "      <th>category</th>\n",
       "      <th>measurement-1</th>\n",
       "      <th>ingredient-1</th>\n",
       "      <th>measurement-2</th>\n",
       "      <th>ingredient-2</th>\n",
       "      <th>measurement-3</th>\n",
       "      <th>ingredient-3</th>\n",
       "      <th>measurement-4</th>\n",
       "      <th>ingredient-4</th>\n",
       "      <th>measurement-5</th>\n",
       "      <th>ingredient-5</th>\n",
       "      <th>measurement-6</th>\n",
       "      <th>ingredient-6</th>\n",
       "      <th>instructions</th>\n",
       "      <th>glass</th>\n",
       "      <th>glass-size</th>\n",
       "    </tr>\n",
       "  </thead>\n",
       "  <tbody>\n",
       "    <tr>\n",
       "      <th>0</th>\n",
       "      <td>Gauguin</td>\n",
       "      <td>Cocktail Classics</td>\n",
       "      <td>2 oz</td>\n",
       "      <td>Light Rum</td>\n",
       "      <td>1 oz</td>\n",
       "      <td>Passion Fruit Syrup</td>\n",
       "      <td>1 oz</td>\n",
       "      <td>Lemon Juice</td>\n",
       "      <td>1 oz</td>\n",
       "      <td>Lime Juice</td>\n",
       "      <td>NaN</td>\n",
       "      <td>NaN</td>\n",
       "      <td>NaN</td>\n",
       "      <td>NaN</td>\n",
       "      <td>Combine ingredients with a cup of crushed ice ...</td>\n",
       "      <td>Old-Fashioned Glass</td>\n",
       "      <td>6 to 8 ounces</td>\n",
       "    </tr>\n",
       "    <tr>\n",
       "      <th>1</th>\n",
       "      <td>Fort Lauderdale</td>\n",
       "      <td>Cocktail Classics</td>\n",
       "      <td>1 1/2 oz</td>\n",
       "      <td>Light Rum</td>\n",
       "      <td>1/2 oz</td>\n",
       "      <td>Sweet Vermouth</td>\n",
       "      <td>1/4 oz</td>\n",
       "      <td>Juice of Orange</td>\n",
       "      <td>1/4 oz</td>\n",
       "      <td>Juice of a Lime</td>\n",
       "      <td>NaN</td>\n",
       "      <td>NaN</td>\n",
       "      <td>NaN</td>\n",
       "      <td>NaN</td>\n",
       "      <td>Shake with ice and strain into old-fashioned g...</td>\n",
       "      <td>Old-Fashioned Glass</td>\n",
       "      <td>6 to 8 ounces</td>\n",
       "    </tr>\n",
       "    <tr>\n",
       "      <th>2</th>\n",
       "      <td>Apple Pie</td>\n",
       "      <td>Cordials and Liqueurs</td>\n",
       "      <td>3 oz</td>\n",
       "      <td>Apple schnapps</td>\n",
       "      <td>1 oz</td>\n",
       "      <td>Cinnamon schnapps</td>\n",
       "      <td>NaN</td>\n",
       "      <td>Apple slice</td>\n",
       "      <td>NaN</td>\n",
       "      <td>NaN</td>\n",
       "      <td>NaN</td>\n",
       "      <td>NaN</td>\n",
       "      <td>NaN</td>\n",
       "      <td>NaN</td>\n",
       "      <td>Pour into ice-filled old-fashioned glass. Garn...</td>\n",
       "      <td>Old-Fashioned Glass</td>\n",
       "      <td>6 to 8 ounces</td>\n",
       "    </tr>\n",
       "    <tr>\n",
       "      <th>3</th>\n",
       "      <td>Cuban Cocktail No. 1</td>\n",
       "      <td>Cocktail Classics</td>\n",
       "      <td>1/2 oz</td>\n",
       "      <td>Juice of a Lime</td>\n",
       "      <td>1/2 oz</td>\n",
       "      <td>Powdered Sugar</td>\n",
       "      <td>2 oz</td>\n",
       "      <td>Light Rum</td>\n",
       "      <td>NaN</td>\n",
       "      <td>NaN</td>\n",
       "      <td>NaN</td>\n",
       "      <td>NaN</td>\n",
       "      <td>NaN</td>\n",
       "      <td>NaN</td>\n",
       "      <td>Shake with ice and  strain into cocktail glass.</td>\n",
       "      <td>Cocktail Glass</td>\n",
       "      <td>6 or more ounces</td>\n",
       "    </tr>\n",
       "    <tr>\n",
       "      <th>4</th>\n",
       "      <td>Cool Carlos</td>\n",
       "      <td>Cocktail Classics</td>\n",
       "      <td>1 1/2 oz</td>\n",
       "      <td>Dark rum</td>\n",
       "      <td>2 oz</td>\n",
       "      <td>Cranberry Juice</td>\n",
       "      <td>2 oz</td>\n",
       "      <td>Pineapple Juice</td>\n",
       "      <td>1 oz</td>\n",
       "      <td>Orange curacao</td>\n",
       "      <td>1 oz</td>\n",
       "      <td>Sour Mix</td>\n",
       "      <td>NaN</td>\n",
       "      <td>NaN</td>\n",
       "      <td>Mix all ingredients except curacao with ice, s...</td>\n",
       "      <td>Collins Glass</td>\n",
       "      <td>14 to 16 ounces</td>\n",
       "    </tr>\n",
       "    <tr>\n",
       "      <th>...</th>\n",
       "      <td>...</td>\n",
       "      <td>...</td>\n",
       "      <td>...</td>\n",
       "      <td>...</td>\n",
       "      <td>...</td>\n",
       "      <td>...</td>\n",
       "      <td>...</td>\n",
       "      <td>...</td>\n",
       "      <td>...</td>\n",
       "      <td>...</td>\n",
       "      <td>...</td>\n",
       "      <td>...</td>\n",
       "      <td>...</td>\n",
       "      <td>...</td>\n",
       "      <td>...</td>\n",
       "      <td>...</td>\n",
       "      <td>...</td>\n",
       "    </tr>\n",
       "    <tr>\n",
       "      <th>985</th>\n",
       "      <td>Wallis Blue Cocktail</td>\n",
       "      <td>Gin</td>\n",
       "      <td>1</td>\n",
       "      <td>Lime wedge, superfine sugar</td>\n",
       "      <td>1 oz</td>\n",
       "      <td>Gin</td>\n",
       "      <td>1 oz</td>\n",
       "      <td>Triple Sec</td>\n",
       "      <td>1 oz</td>\n",
       "      <td>Fresh Lime Juice</td>\n",
       "      <td>NaN</td>\n",
       "      <td>NaN</td>\n",
       "      <td>NaN</td>\n",
       "      <td>NaN</td>\n",
       "      <td>Rim old-fashioned glass with lime and sugar. F...</td>\n",
       "      <td>Old-Fashioned Glass</td>\n",
       "      <td>6 to 8 ounces</td>\n",
       "    </tr>\n",
       "    <tr>\n",
       "      <th>986</th>\n",
       "      <td>Minnehaha Cocktail</td>\n",
       "      <td>Cocktail Classics</td>\n",
       "      <td>1/4 oz</td>\n",
       "      <td>Juice of Orange</td>\n",
       "      <td>1/2 oz</td>\n",
       "      <td>Dry Vermouth</td>\n",
       "      <td>1/2 oz</td>\n",
       "      <td>Sweet Vermouth</td>\n",
       "      <td>1 oz</td>\n",
       "      <td>Old Mr. Boston Dry Gin</td>\n",
       "      <td>NaN</td>\n",
       "      <td>NaN</td>\n",
       "      <td>NaN</td>\n",
       "      <td>NaN</td>\n",
       "      <td>Shake well with cracked ice and strain into 4 ...</td>\n",
       "      <td>Cocktail Glass</td>\n",
       "      <td>6 or more ounces</td>\n",
       "    </tr>\n",
       "    <tr>\n",
       "      <th>987</th>\n",
       "      <td>Wallick Cocktail</td>\n",
       "      <td>Gin</td>\n",
       "      <td>1 1/2 oz</td>\n",
       "      <td>Gin</td>\n",
       "      <td>1 1/2 oz</td>\n",
       "      <td>Dry Vermouth</td>\n",
       "      <td>1 oz</td>\n",
       "      <td>Triple Sec</td>\n",
       "      <td>NaN</td>\n",
       "      <td>NaN</td>\n",
       "      <td>NaN</td>\n",
       "      <td>NaN</td>\n",
       "      <td>NaN</td>\n",
       "      <td>NaN</td>\n",
       "      <td>Stir with ice and strain into chilled cocktail...</td>\n",
       "      <td>Cocktail Glass</td>\n",
       "      <td>6 or more ounces</td>\n",
       "    </tr>\n",
       "    <tr>\n",
       "      <th>988</th>\n",
       "      <td>Waikiki Beachcomber</td>\n",
       "      <td>Gin</td>\n",
       "      <td>3/4 oz</td>\n",
       "      <td>Gin</td>\n",
       "      <td>3/4 oz</td>\n",
       "      <td>Triple Sec</td>\n",
       "      <td>1/2 oz</td>\n",
       "      <td>Pineapple Juice</td>\n",
       "      <td>NaN</td>\n",
       "      <td>NaN</td>\n",
       "      <td>NaN</td>\n",
       "      <td>NaN</td>\n",
       "      <td>NaN</td>\n",
       "      <td>NaN</td>\n",
       "      <td>Shake with ice and strain into chilled cocktai...</td>\n",
       "      <td>Cocktail Glass</td>\n",
       "      <td>6 or more ounces</td>\n",
       "    </tr>\n",
       "    <tr>\n",
       "      <th>989</th>\n",
       "      <td>Vow Of Silence</td>\n",
       "      <td>Gin</td>\n",
       "      <td>1 1/2 oz</td>\n",
       "      <td>Gin</td>\n",
       "      <td>3/4 oz</td>\n",
       "      <td>Grapefruit Juice</td>\n",
       "      <td>1/2 oz</td>\n",
       "      <td>Fresh Lime Juice</td>\n",
       "      <td>1/2 oz</td>\n",
       "      <td>Yellow Chartreuse</td>\n",
       "      <td>1/4 oz</td>\n",
       "      <td>Amaro</td>\n",
       "      <td>1/4 oz</td>\n",
       "      <td>Simple Syrup</td>\n",
       "      <td>Shake with ice and strain into chilled cocktai...</td>\n",
       "      <td>Cocktail Glass</td>\n",
       "      <td>6 or more ounces</td>\n",
       "    </tr>\n",
       "  </tbody>\n",
       "</table>\n",
       "<p>990 rows × 17 columns</p>\n",
       "</div>"
      ],
      "text/plain": [
       "                     name               category measurement-1  \\\n",
       "0                 Gauguin      Cocktail Classics          2 oz   \n",
       "1         Fort Lauderdale      Cocktail Classics      1 1/2 oz   \n",
       "2               Apple Pie  Cordials and Liqueurs          3 oz   \n",
       "3    Cuban Cocktail No. 1      Cocktail Classics        1/2 oz   \n",
       "4             Cool Carlos      Cocktail Classics      1 1/2 oz   \n",
       "..                    ...                    ...           ...   \n",
       "985  Wallis Blue Cocktail                    Gin             1   \n",
       "986    Minnehaha Cocktail      Cocktail Classics        1/4 oz   \n",
       "987      Wallick Cocktail                    Gin      1 1/2 oz   \n",
       "988   Waikiki Beachcomber                    Gin        3/4 oz   \n",
       "989        Vow Of Silence                    Gin      1 1/2 oz   \n",
       "\n",
       "                    ingredient-1 measurement-2          ingredient-2  \\\n",
       "0                      Light Rum          1 oz   Passion Fruit Syrup   \n",
       "1                      Light Rum        1/2 oz        Sweet Vermouth   \n",
       "2                 Apple schnapps          1 oz     Cinnamon schnapps   \n",
       "3                Juice of a Lime        1/2 oz        Powdered Sugar   \n",
       "4                       Dark rum          2 oz       Cranberry Juice   \n",
       "..                           ...           ...                   ...   \n",
       "985  Lime wedge, superfine sugar          1 oz                   Gin   \n",
       "986              Juice of Orange        1/2 oz          Dry Vermouth   \n",
       "987                          Gin      1 1/2 oz          Dry Vermouth   \n",
       "988                          Gin        3/4 oz            Triple Sec   \n",
       "989                          Gin        3/4 oz      Grapefruit Juice   \n",
       "\n",
       "    measurement-3       ingredient-3 measurement-4             ingredient-4  \\\n",
       "0            1 oz        Lemon Juice          1 oz               Lime Juice   \n",
       "1          1/4 oz    Juice of Orange        1/4 oz          Juice of a Lime   \n",
       "2             NaN        Apple slice           NaN                      NaN   \n",
       "3            2 oz          Light Rum           NaN                      NaN   \n",
       "4            2 oz    Pineapple Juice          1 oz           Orange curacao   \n",
       "..            ...                ...           ...                      ...   \n",
       "985          1 oz         Triple Sec          1 oz         Fresh Lime Juice   \n",
       "986        1/2 oz     Sweet Vermouth          1 oz   Old Mr. Boston Dry Gin   \n",
       "987          1 oz         Triple Sec           NaN                      NaN   \n",
       "988        1/2 oz    Pineapple Juice           NaN                      NaN   \n",
       "989        1/2 oz   Fresh Lime Juice        1/2 oz        Yellow Chartreuse   \n",
       "\n",
       "    measurement-5 ingredient-5 measurement-6   ingredient-6  \\\n",
       "0             NaN          NaN           NaN            NaN   \n",
       "1             NaN          NaN           NaN            NaN   \n",
       "2             NaN          NaN           NaN            NaN   \n",
       "3             NaN          NaN           NaN            NaN   \n",
       "4            1 oz     Sour Mix           NaN            NaN   \n",
       "..            ...          ...           ...            ...   \n",
       "985           NaN          NaN           NaN            NaN   \n",
       "986           NaN          NaN           NaN            NaN   \n",
       "987           NaN          NaN           NaN            NaN   \n",
       "988           NaN          NaN           NaN            NaN   \n",
       "989        1/4 oz        Amaro        1/4 oz   Simple Syrup   \n",
       "\n",
       "                                          instructions                glass  \\\n",
       "0    Combine ingredients with a cup of crushed ice ...  Old-Fashioned Glass   \n",
       "1    Shake with ice and strain into old-fashioned g...  Old-Fashioned Glass   \n",
       "2    Pour into ice-filled old-fashioned glass. Garn...  Old-Fashioned Glass   \n",
       "3      Shake with ice and  strain into cocktail glass.       Cocktail Glass   \n",
       "4    Mix all ingredients except curacao with ice, s...        Collins Glass   \n",
       "..                                                 ...                  ...   \n",
       "985  Rim old-fashioned glass with lime and sugar. F...  Old-Fashioned Glass   \n",
       "986  Shake well with cracked ice and strain into 4 ...       Cocktail Glass   \n",
       "987  Stir with ice and strain into chilled cocktail...       Cocktail Glass   \n",
       "988  Shake with ice and strain into chilled cocktai...       Cocktail Glass   \n",
       "989  Shake with ice and strain into chilled cocktai...       Cocktail Glass   \n",
       "\n",
       "           glass-size  \n",
       "0       6 to 8 ounces  \n",
       "1       6 to 8 ounces  \n",
       "2       6 to 8 ounces  \n",
       "3    6 or more ounces  \n",
       "4     14 to 16 ounces  \n",
       "..                ...  \n",
       "985     6 to 8 ounces  \n",
       "986  6 or more ounces  \n",
       "987  6 or more ounces  \n",
       "988  6 or more ounces  \n",
       "989  6 or more ounces  \n",
       "\n",
       "[990 rows x 17 columns]"
      ]
     },
     "execution_count": 3,
     "metadata": {},
     "output_type": "execute_result"
    }
   ],
   "source": [
    "cocktails = pd.read_csv(\"cocktails.csv\")\n",
    "cocktails"
   ]
  },
  {
   "cell_type": "code",
   "execution_count": 5,
   "metadata": {},
   "outputs": [
    {
     "data": {
      "text/plain": [
       "11"
      ]
     },
     "execution_count": 5,
     "metadata": {},
     "output_type": "execute_result"
    }
   ],
   "source": [
    "len(cocktails['category'].unique())"
   ]
  },
  {
   "cell_type": "code",
   "execution_count": 6,
   "metadata": {},
   "outputs": [
    {
     "data": {
      "text/plain": [
       "238"
      ]
     },
     "execution_count": 6,
     "metadata": {},
     "output_type": "execute_result"
    }
   ],
   "source": [
    "len(cocktails['ingredient-1'].unique())"
   ]
  },
  {
   "cell_type": "code",
   "execution_count": 7,
   "metadata": {},
   "outputs": [
    {
     "data": {
      "text/plain": [
       "257"
      ]
     },
     "execution_count": 7,
     "metadata": {},
     "output_type": "execute_result"
    }
   ],
   "source": [
    "len(cocktails['ingredient-2'].unique())"
   ]
  },
  {
   "cell_type": "code",
   "execution_count": 8,
   "metadata": {},
   "outputs": [
    {
     "data": {
      "text/plain": [
       "228"
      ]
     },
     "execution_count": 8,
     "metadata": {},
     "output_type": "execute_result"
    }
   ],
   "source": [
    "len(cocktails['ingredient-3'].unique())"
   ]
  },
  {
   "cell_type": "code",
   "execution_count": 9,
   "metadata": {},
   "outputs": [
    {
     "data": {
      "text/plain": [
       "174"
      ]
     },
     "execution_count": 9,
     "metadata": {},
     "output_type": "execute_result"
    }
   ],
   "source": [
    "len(cocktails['ingredient-4'].unique())"
   ]
  },
  {
   "cell_type": "code",
   "execution_count": 10,
   "metadata": {},
   "outputs": [
    {
     "data": {
      "text/plain": [
       "145"
      ]
     },
     "execution_count": 10,
     "metadata": {},
     "output_type": "execute_result"
    }
   ],
   "source": [
    "len(cocktails['ingredient-5'].unique())"
   ]
  },
  {
   "cell_type": "code",
   "execution_count": 11,
   "metadata": {},
   "outputs": [
    {
     "data": {
      "text/plain": [
       "118"
      ]
     },
     "execution_count": 11,
     "metadata": {},
     "output_type": "execute_result"
    }
   ],
   "source": [
    "len(cocktails['ingredient-6'].unique())"
   ]
  },
  {
   "cell_type": "code",
   "execution_count": 12,
   "metadata": {},
   "outputs": [
    {
     "data": {
      "text/plain": [
       "159"
      ]
     },
     "execution_count": 12,
     "metadata": {},
     "output_type": "execute_result"
    }
   ],
   "source": [
    "len(cocktails['ingredient-6'].dropna())"
   ]
  },
  {
   "cell_type": "code",
   "execution_count": null,
   "metadata": {},
   "outputs": [],
   "source": []
  },
  {
   "cell_type": "code",
   "execution_count": null,
   "metadata": {},
   "outputs": [],
   "source": [
    "np.unique(cocktails[['ingredient-1', 'ingredient-2', 'ingredient-3', 'ingredient-4', 'ingredient-5', 'ingredient-6']].values.astype(str))"
   ]
  },
  {
   "cell_type": "code",
   "execution_count": 61,
   "metadata": {},
   "outputs": [
    {
     "data": {
      "text/plain": [
       "688"
      ]
     },
     "execution_count": 61,
     "metadata": {},
     "output_type": "execute_result"
    }
   ],
   "source": [
    "len(np.unique(cocktails[['ingredient-1', 'ingredient-2', 'ingredient-3', 'ingredient-4', 'ingredient-5', 'ingredient-6']].values.astype(str)))"
   ]
  },
  {
   "cell_type": "code",
   "execution_count": 62,
   "metadata": {},
   "outputs": [
    {
     "data": {
      "text/html": [
       "<div>\n",
       "<style scoped>\n",
       "    .dataframe tbody tr th:only-of-type {\n",
       "        vertical-align: middle;\n",
       "    }\n",
       "\n",
       "    .dataframe tbody tr th {\n",
       "        vertical-align: top;\n",
       "    }\n",
       "\n",
       "    .dataframe thead th {\n",
       "        text-align: right;\n",
       "    }\n",
       "</style>\n",
       "<table border=\"1\" class=\"dataframe\">\n",
       "  <thead>\n",
       "    <tr style=\"text-align: right;\">\n",
       "      <th></th>\n",
       "      <th>id</th>\n",
       "      <th>i</th>\n",
       "      <th>name_tokens</th>\n",
       "      <th>ingredient_tokens</th>\n",
       "      <th>steps_tokens</th>\n",
       "      <th>techniques</th>\n",
       "      <th>calorie_level</th>\n",
       "      <th>ingredient_ids</th>\n",
       "    </tr>\n",
       "  </thead>\n",
       "  <tbody>\n",
       "    <tr>\n",
       "      <th>0</th>\n",
       "      <td>424415</td>\n",
       "      <td>23</td>\n",
       "      <td>[40480, 37229, 2911, 1019, 249, 6878, 6878, 28...</td>\n",
       "      <td>[[2911, 1019, 249, 6878], [1353], [6953], [153...</td>\n",
       "      <td>[40480, 40482, 21662, 481, 6878, 500, 246, 161...</td>\n",
       "      <td>[0, 0, 0, 0, 0, 0, 0, 0, 0, 1, 0, 0, 0, 0, 0, ...</td>\n",
       "      <td>0</td>\n",
       "      <td>[389, 7655, 6270, 1527, 3406]</td>\n",
       "    </tr>\n",
       "    <tr>\n",
       "      <th>1</th>\n",
       "      <td>146223</td>\n",
       "      <td>96900</td>\n",
       "      <td>[40480, 18376, 7056, 246, 1531, 2032, 40481]</td>\n",
       "      <td>[[17918], [25916], [2507, 6444], [8467, 1179],...</td>\n",
       "      <td>[40480, 40482, 729, 2525, 10906, 485, 43, 8393...</td>\n",
       "      <td>[1, 0, 0, 0, 0, 0, 0, 0, 0, 1, 0, 0, 0, 0, 0, ...</td>\n",
       "      <td>0</td>\n",
       "      <td>[2683, 4969, 800, 5298, 840, 2499, 6632, 7022,...</td>\n",
       "    </tr>\n",
       "    <tr>\n",
       "      <th>2</th>\n",
       "      <td>312329</td>\n",
       "      <td>120056</td>\n",
       "      <td>[40480, 21044, 16954, 8294, 556, 10837, 40481]</td>\n",
       "      <td>[[5867, 24176], [1353], [6953], [1301, 11332],...</td>\n",
       "      <td>[40480, 40482, 8240, 481, 24176, 296, 1353, 66...</td>\n",
       "      <td>[0, 0, 0, 0, 1, 0, 0, 0, 0, 0, 0, 1, 0, 0, 0, ...</td>\n",
       "      <td>1</td>\n",
       "      <td>[1257, 7655, 6270, 590, 5024, 1119, 4883, 6696...</td>\n",
       "    </tr>\n",
       "    <tr>\n",
       "      <th>3</th>\n",
       "      <td>74301</td>\n",
       "      <td>168258</td>\n",
       "      <td>[40480, 10025, 31156, 40481]</td>\n",
       "      <td>[[1270, 1645, 28447], [21601], [27952, 29471, ...</td>\n",
       "      <td>[40480, 40482, 5539, 21601, 1073, 903, 2324, 4...</td>\n",
       "      <td>[1, 0, 0, 0, 0, 0, 0, 0, 0, 0, 0, 0, 0, 0, 0, ...</td>\n",
       "      <td>0</td>\n",
       "      <td>[7940, 3609, 7060, 6265, 1170, 6654, 5003, 3561]</td>\n",
       "    </tr>\n",
       "    <tr>\n",
       "      <th>4</th>\n",
       "      <td>76272</td>\n",
       "      <td>109030</td>\n",
       "      <td>[40480, 17841, 252, 782, 2373, 1641, 2373, 252...</td>\n",
       "      <td>[[1430, 11434], [1430, 17027], [1615, 23, 695,...</td>\n",
       "      <td>[40480, 40482, 14046, 1430, 11434, 488, 17027,...</td>\n",
       "      <td>[0, 0, 0, 0, 0, 0, 0, 0, 0, 1, 0, 0, 0, 0, 0, ...</td>\n",
       "      <td>0</td>\n",
       "      <td>[3484, 6324, 7594, 243]</td>\n",
       "    </tr>\n",
       "    <tr>\n",
       "      <th>...</th>\n",
       "      <td>...</td>\n",
       "      <td>...</td>\n",
       "      <td>...</td>\n",
       "      <td>...</td>\n",
       "      <td>...</td>\n",
       "      <td>...</td>\n",
       "      <td>...</td>\n",
       "      <td>...</td>\n",
       "    </tr>\n",
       "    <tr>\n",
       "      <th>178260</th>\n",
       "      <td>323143</td>\n",
       "      <td>76862</td>\n",
       "      <td>[40480, 6444, 1964, 9369, 486, 569, 17551, 40481]</td>\n",
       "      <td>[[8780], [11835, 1762, 4465, 31494], [6812], [...</td>\n",
       "      <td>[40480, 40482, 729, 2525, 715, 485, 26641, 404...</td>\n",
       "      <td>[1, 0, 0, 0, 0, 0, 0, 0, 0, 0, 0, 0, 0, 0, 0, ...</td>\n",
       "      <td>1</td>\n",
       "      <td>[840, 208, 2499, 2683, 1925, 335, 1511]</td>\n",
       "    </tr>\n",
       "    <tr>\n",
       "      <th>178261</th>\n",
       "      <td>149114</td>\n",
       "      <td>145962</td>\n",
       "      <td>[40480, 17027, 24715, 974, 11877, 40481]</td>\n",
       "      <td>[[6812], [5940], [30645, 4785, 6821], [6953], ...</td>\n",
       "      <td>[40480, 40482, 729, 2525, 10906, 485, 43, 8393...</td>\n",
       "      <td>[1, 0, 0, 0, 0, 0, 0, 0, 0, 0, 0, 0, 0, 0, 0, ...</td>\n",
       "      <td>0</td>\n",
       "      <td>[2499, 4717, 1168, 6270, 6324, 7040]</td>\n",
       "    </tr>\n",
       "    <tr>\n",
       "      <th>178262</th>\n",
       "      <td>34200</td>\n",
       "      <td>65066</td>\n",
       "      <td>[40480, 12187, 11434, 1738, 2627, 40481]</td>\n",
       "      <td>[[6167, 20930, 510], [1353], [15022, 6953], [6...</td>\n",
       "      <td>[40480, 40482, 500, 246, 1719, 5024, 240, 2366...</td>\n",
       "      <td>[1, 0, 0, 0, 0, 0, 0, 0, 0, 1, 0, 0, 0, 0, 0, ...</td>\n",
       "      <td>2</td>\n",
       "      <td>[2378, 7655, 3219, 2320, 5168, 5319, 4189, 268...</td>\n",
       "    </tr>\n",
       "    <tr>\n",
       "      <th>178263</th>\n",
       "      <td>30618</td>\n",
       "      <td>77358</td>\n",
       "      <td>[40480, 870, 488, 1325, 519, 2220, 2417, 488, ...</td>\n",
       "      <td>[[12395, 38308, 40118], [3137, 15022], [30878,...</td>\n",
       "      <td>[40480, 40482, 562, 481, 10734, 240, 23667, 58...</td>\n",
       "      <td>[0, 0, 0, 0, 1, 0, 0, 0, 0, 1, 0, 0, 0, 0, 0, ...</td>\n",
       "      <td>0</td>\n",
       "      <td>[5627, 2807, 5412, 3399, 7979, 1093, 1257, 780...</td>\n",
       "    </tr>\n",
       "    <tr>\n",
       "      <th>178264</th>\n",
       "      <td>263840</td>\n",
       "      <td>137160</td>\n",
       "      <td>[40480, 30565, 12316, 1024, 40481]</td>\n",
       "      <td>[[3151, 12486], [2507, 6444], [30565], [17918]...</td>\n",
       "      <td>[40480, 40482, 729, 2525, 10906, 485, 43, 2232...</td>\n",
       "      <td>[1, 0, 0, 1, 0, 0, 0, 0, 0, 0, 0, 0, 0, 0, 0, ...</td>\n",
       "      <td>0</td>\n",
       "      <td>[6473, 800, 4807, 2683, 335, 1563, 1511, 3248,...</td>\n",
       "    </tr>\n",
       "  </tbody>\n",
       "</table>\n",
       "<p>178265 rows × 8 columns</p>\n",
       "</div>"
      ],
      "text/plain": [
       "            id       i                                        name_tokens  \\\n",
       "0       424415      23  [40480, 37229, 2911, 1019, 249, 6878, 6878, 28...   \n",
       "1       146223   96900       [40480, 18376, 7056, 246, 1531, 2032, 40481]   \n",
       "2       312329  120056     [40480, 21044, 16954, 8294, 556, 10837, 40481]   \n",
       "3        74301  168258                       [40480, 10025, 31156, 40481]   \n",
       "4        76272  109030  [40480, 17841, 252, 782, 2373, 1641, 2373, 252...   \n",
       "...        ...     ...                                                ...   \n",
       "178260  323143   76862  [40480, 6444, 1964, 9369, 486, 569, 17551, 40481]   \n",
       "178261  149114  145962           [40480, 17027, 24715, 974, 11877, 40481]   \n",
       "178262   34200   65066           [40480, 12187, 11434, 1738, 2627, 40481]   \n",
       "178263   30618   77358  [40480, 870, 488, 1325, 519, 2220, 2417, 488, ...   \n",
       "178264  263840  137160                 [40480, 30565, 12316, 1024, 40481]   \n",
       "\n",
       "                                        ingredient_tokens  \\\n",
       "0       [[2911, 1019, 249, 6878], [1353], [6953], [153...   \n",
       "1       [[17918], [25916], [2507, 6444], [8467, 1179],...   \n",
       "2       [[5867, 24176], [1353], [6953], [1301, 11332],...   \n",
       "3       [[1270, 1645, 28447], [21601], [27952, 29471, ...   \n",
       "4       [[1430, 11434], [1430, 17027], [1615, 23, 695,...   \n",
       "...                                                   ...   \n",
       "178260  [[8780], [11835, 1762, 4465, 31494], [6812], [...   \n",
       "178261  [[6812], [5940], [30645, 4785, 6821], [6953], ...   \n",
       "178262  [[6167, 20930, 510], [1353], [15022, 6953], [6...   \n",
       "178263  [[12395, 38308, 40118], [3137, 15022], [30878,...   \n",
       "178264  [[3151, 12486], [2507, 6444], [30565], [17918]...   \n",
       "\n",
       "                                             steps_tokens  \\\n",
       "0       [40480, 40482, 21662, 481, 6878, 500, 246, 161...   \n",
       "1       [40480, 40482, 729, 2525, 10906, 485, 43, 8393...   \n",
       "2       [40480, 40482, 8240, 481, 24176, 296, 1353, 66...   \n",
       "3       [40480, 40482, 5539, 21601, 1073, 903, 2324, 4...   \n",
       "4       [40480, 40482, 14046, 1430, 11434, 488, 17027,...   \n",
       "...                                                   ...   \n",
       "178260  [40480, 40482, 729, 2525, 715, 485, 26641, 404...   \n",
       "178261  [40480, 40482, 729, 2525, 10906, 485, 43, 8393...   \n",
       "178262  [40480, 40482, 500, 246, 1719, 5024, 240, 2366...   \n",
       "178263  [40480, 40482, 562, 481, 10734, 240, 23667, 58...   \n",
       "178264  [40480, 40482, 729, 2525, 10906, 485, 43, 2232...   \n",
       "\n",
       "                                               techniques  calorie_level  \\\n",
       "0       [0, 0, 0, 0, 0, 0, 0, 0, 0, 1, 0, 0, 0, 0, 0, ...              0   \n",
       "1       [1, 0, 0, 0, 0, 0, 0, 0, 0, 1, 0, 0, 0, 0, 0, ...              0   \n",
       "2       [0, 0, 0, 0, 1, 0, 0, 0, 0, 0, 0, 1, 0, 0, 0, ...              1   \n",
       "3       [1, 0, 0, 0, 0, 0, 0, 0, 0, 0, 0, 0, 0, 0, 0, ...              0   \n",
       "4       [0, 0, 0, 0, 0, 0, 0, 0, 0, 1, 0, 0, 0, 0, 0, ...              0   \n",
       "...                                                   ...            ...   \n",
       "178260  [1, 0, 0, 0, 0, 0, 0, 0, 0, 0, 0, 0, 0, 0, 0, ...              1   \n",
       "178261  [1, 0, 0, 0, 0, 0, 0, 0, 0, 0, 0, 0, 0, 0, 0, ...              0   \n",
       "178262  [1, 0, 0, 0, 0, 0, 0, 0, 0, 1, 0, 0, 0, 0, 0, ...              2   \n",
       "178263  [0, 0, 0, 0, 1, 0, 0, 0, 0, 1, 0, 0, 0, 0, 0, ...              0   \n",
       "178264  [1, 0, 0, 1, 0, 0, 0, 0, 0, 0, 0, 0, 0, 0, 0, ...              0   \n",
       "\n",
       "                                           ingredient_ids  \n",
       "0                           [389, 7655, 6270, 1527, 3406]  \n",
       "1       [2683, 4969, 800, 5298, 840, 2499, 6632, 7022,...  \n",
       "2       [1257, 7655, 6270, 590, 5024, 1119, 4883, 6696...  \n",
       "3        [7940, 3609, 7060, 6265, 1170, 6654, 5003, 3561]  \n",
       "4                                 [3484, 6324, 7594, 243]  \n",
       "...                                                   ...  \n",
       "178260            [840, 208, 2499, 2683, 1925, 335, 1511]  \n",
       "178261               [2499, 4717, 1168, 6270, 6324, 7040]  \n",
       "178262  [2378, 7655, 3219, 2320, 5168, 5319, 4189, 268...  \n",
       "178263  [5627, 2807, 5412, 3399, 7979, 1093, 1257, 780...  \n",
       "178264  [6473, 800, 4807, 2683, 335, 1563, 1511, 3248,...  \n",
       "\n",
       "[178265 rows x 8 columns]"
      ]
     },
     "execution_count": 62,
     "metadata": {},
     "output_type": "execute_result"
    }
   ],
   "source": [
    "recipes = pd.read_csv('food.com-recipes-and-interactions/PP_recipes.csv')\n",
    "recipes"
   ]
  },
  {
   "cell_type": "code",
   "execution_count": 63,
   "metadata": {},
   "outputs": [
    {
     "data": {
      "text/html": [
       "<div>\n",
       "<style scoped>\n",
       "    .dataframe tbody tr th:only-of-type {\n",
       "        vertical-align: middle;\n",
       "    }\n",
       "\n",
       "    .dataframe tbody tr th {\n",
       "        vertical-align: top;\n",
       "    }\n",
       "\n",
       "    .dataframe thead th {\n",
       "        text-align: right;\n",
       "    }\n",
       "</style>\n",
       "<table border=\"1\" class=\"dataframe\">\n",
       "  <thead>\n",
       "    <tr style=\"text-align: right;\">\n",
       "      <th></th>\n",
       "      <th>user_id</th>\n",
       "      <th>recipe_id</th>\n",
       "      <th>date</th>\n",
       "      <th>rating</th>\n",
       "      <th>review</th>\n",
       "    </tr>\n",
       "  </thead>\n",
       "  <tbody>\n",
       "    <tr>\n",
       "      <th>0</th>\n",
       "      <td>38094</td>\n",
       "      <td>40893</td>\n",
       "      <td>2003-02-17</td>\n",
       "      <td>4</td>\n",
       "      <td>Great with a salad. Cooked on top of stove for...</td>\n",
       "    </tr>\n",
       "    <tr>\n",
       "      <th>1</th>\n",
       "      <td>1293707</td>\n",
       "      <td>40893</td>\n",
       "      <td>2011-12-21</td>\n",
       "      <td>5</td>\n",
       "      <td>So simple, so delicious! Great for chilly fall...</td>\n",
       "    </tr>\n",
       "    <tr>\n",
       "      <th>2</th>\n",
       "      <td>8937</td>\n",
       "      <td>44394</td>\n",
       "      <td>2002-12-01</td>\n",
       "      <td>4</td>\n",
       "      <td>This worked very well and is EASY.  I used not...</td>\n",
       "    </tr>\n",
       "    <tr>\n",
       "      <th>3</th>\n",
       "      <td>126440</td>\n",
       "      <td>85009</td>\n",
       "      <td>2010-02-27</td>\n",
       "      <td>5</td>\n",
       "      <td>I made the Mexican topping and took it to bunk...</td>\n",
       "    </tr>\n",
       "    <tr>\n",
       "      <th>4</th>\n",
       "      <td>57222</td>\n",
       "      <td>85009</td>\n",
       "      <td>2011-10-01</td>\n",
       "      <td>5</td>\n",
       "      <td>Made the cheddar bacon topping, adding a sprin...</td>\n",
       "    </tr>\n",
       "    <tr>\n",
       "      <th>...</th>\n",
       "      <td>...</td>\n",
       "      <td>...</td>\n",
       "      <td>...</td>\n",
       "      <td>...</td>\n",
       "      <td>...</td>\n",
       "    </tr>\n",
       "    <tr>\n",
       "      <th>1132362</th>\n",
       "      <td>116593</td>\n",
       "      <td>72730</td>\n",
       "      <td>2003-12-09</td>\n",
       "      <td>0</td>\n",
       "      <td>Another approach is to start making sauce with...</td>\n",
       "    </tr>\n",
       "    <tr>\n",
       "      <th>1132363</th>\n",
       "      <td>583662</td>\n",
       "      <td>386618</td>\n",
       "      <td>2009-09-29</td>\n",
       "      <td>5</td>\n",
       "      <td>These were so delicious!  My husband and I tru...</td>\n",
       "    </tr>\n",
       "    <tr>\n",
       "      <th>1132364</th>\n",
       "      <td>157126</td>\n",
       "      <td>78003</td>\n",
       "      <td>2008-06-23</td>\n",
       "      <td>5</td>\n",
       "      <td>WOW!  Sometimes I don't take the time to rate ...</td>\n",
       "    </tr>\n",
       "    <tr>\n",
       "      <th>1132365</th>\n",
       "      <td>53932</td>\n",
       "      <td>78003</td>\n",
       "      <td>2009-01-11</td>\n",
       "      <td>4</td>\n",
       "      <td>Very good!  I used regular port as well.  The ...</td>\n",
       "    </tr>\n",
       "    <tr>\n",
       "      <th>1132366</th>\n",
       "      <td>2001868099</td>\n",
       "      <td>78003</td>\n",
       "      <td>2017-12-18</td>\n",
       "      <td>5</td>\n",
       "      <td>I am so glad I googled and found this here. Th...</td>\n",
       "    </tr>\n",
       "  </tbody>\n",
       "</table>\n",
       "<p>1132367 rows × 5 columns</p>\n",
       "</div>"
      ],
      "text/plain": [
       "            user_id  recipe_id        date  rating  \\\n",
       "0             38094      40893  2003-02-17       4   \n",
       "1           1293707      40893  2011-12-21       5   \n",
       "2              8937      44394  2002-12-01       4   \n",
       "3            126440      85009  2010-02-27       5   \n",
       "4             57222      85009  2011-10-01       5   \n",
       "...             ...        ...         ...     ...   \n",
       "1132362      116593      72730  2003-12-09       0   \n",
       "1132363      583662     386618  2009-09-29       5   \n",
       "1132364      157126      78003  2008-06-23       5   \n",
       "1132365       53932      78003  2009-01-11       4   \n",
       "1132366  2001868099      78003  2017-12-18       5   \n",
       "\n",
       "                                                    review  \n",
       "0        Great with a salad. Cooked on top of stove for...  \n",
       "1        So simple, so delicious! Great for chilly fall...  \n",
       "2        This worked very well and is EASY.  I used not...  \n",
       "3        I made the Mexican topping and took it to bunk...  \n",
       "4        Made the cheddar bacon topping, adding a sprin...  \n",
       "...                                                    ...  \n",
       "1132362  Another approach is to start making sauce with...  \n",
       "1132363  These were so delicious!  My husband and I tru...  \n",
       "1132364  WOW!  Sometimes I don't take the time to rate ...  \n",
       "1132365  Very good!  I used regular port as well.  The ...  \n",
       "1132366  I am so glad I googled and found this here. Th...  \n",
       "\n",
       "[1132367 rows x 5 columns]"
      ]
     },
     "execution_count": 63,
     "metadata": {},
     "output_type": "execute_result"
    }
   ],
   "source": [
    "pd.read_csv('food.com-recipes-and-interactions/RAW_interactions.csv')"
   ]
  },
  {
   "cell_type": "code",
   "execution_count": 8,
   "metadata": {},
   "outputs": [
    {
     "data": {
      "text/html": [
       "<div>\n",
       "<style scoped>\n",
       "    .dataframe tbody tr th:only-of-type {\n",
       "        vertical-align: middle;\n",
       "    }\n",
       "\n",
       "    .dataframe tbody tr th {\n",
       "        vertical-align: top;\n",
       "    }\n",
       "\n",
       "    .dataframe thead th {\n",
       "        text-align: right;\n",
       "    }\n",
       "</style>\n",
       "<table border=\"1\" class=\"dataframe\">\n",
       "  <thead>\n",
       "    <tr style=\"text-align: right;\">\n",
       "      <th></th>\n",
       "      <th>name</th>\n",
       "      <th>id</th>\n",
       "      <th>minutes</th>\n",
       "      <th>contributor_id</th>\n",
       "      <th>submitted</th>\n",
       "      <th>tags</th>\n",
       "      <th>nutrition</th>\n",
       "      <th>n_steps</th>\n",
       "      <th>steps</th>\n",
       "      <th>description</th>\n",
       "      <th>ingredients</th>\n",
       "      <th>n_ingredients</th>\n",
       "    </tr>\n",
       "  </thead>\n",
       "  <tbody>\n",
       "    <tr>\n",
       "      <th>0</th>\n",
       "      <td>arriba   baked winter squash mexican style</td>\n",
       "      <td>137739</td>\n",
       "      <td>55</td>\n",
       "      <td>47892</td>\n",
       "      <td>2005-09-16</td>\n",
       "      <td>['60-minutes-or-less', 'time-to-make', 'course...</td>\n",
       "      <td>[51.5, 0.0, 13.0, 0.0, 2.0, 0.0, 4.0]</td>\n",
       "      <td>11</td>\n",
       "      <td>['make a choice and proceed with recipe', 'dep...</td>\n",
       "      <td>autumn is my favorite time of year to cook! th...</td>\n",
       "      <td>[winter squash, mexican seasoning, mixed spice...</td>\n",
       "      <td>7</td>\n",
       "    </tr>\n",
       "    <tr>\n",
       "      <th>1</th>\n",
       "      <td>a bit different  breakfast pizza</td>\n",
       "      <td>31490</td>\n",
       "      <td>30</td>\n",
       "      <td>26278</td>\n",
       "      <td>2002-06-17</td>\n",
       "      <td>['30-minutes-or-less', 'time-to-make', 'course...</td>\n",
       "      <td>[173.4, 18.0, 0.0, 17.0, 22.0, 35.0, 1.0]</td>\n",
       "      <td>9</td>\n",
       "      <td>['preheat oven to 425 degrees f', 'press dough...</td>\n",
       "      <td>this recipe calls for the crust to be prebaked...</td>\n",
       "      <td>[prepared pizza crust, sausage patty, eggs, mi...</td>\n",
       "      <td>6</td>\n",
       "    </tr>\n",
       "    <tr>\n",
       "      <th>2</th>\n",
       "      <td>all in the kitchen  chili</td>\n",
       "      <td>112140</td>\n",
       "      <td>130</td>\n",
       "      <td>196586</td>\n",
       "      <td>2005-02-25</td>\n",
       "      <td>['time-to-make', 'course', 'preparation', 'mai...</td>\n",
       "      <td>[269.8, 22.0, 32.0, 48.0, 39.0, 27.0, 5.0]</td>\n",
       "      <td>6</td>\n",
       "      <td>['brown ground beef in large pot', 'add choppe...</td>\n",
       "      <td>this modified version of 'mom's' chili was a h...</td>\n",
       "      <td>[ground beef, yellow onions, diced tomatoes, t...</td>\n",
       "      <td>13</td>\n",
       "    </tr>\n",
       "    <tr>\n",
       "      <th>3</th>\n",
       "      <td>alouette  potatoes</td>\n",
       "      <td>59389</td>\n",
       "      <td>45</td>\n",
       "      <td>68585</td>\n",
       "      <td>2003-04-14</td>\n",
       "      <td>['60-minutes-or-less', 'time-to-make', 'course...</td>\n",
       "      <td>[368.1, 17.0, 10.0, 2.0, 14.0, 8.0, 20.0]</td>\n",
       "      <td>11</td>\n",
       "      <td>['place potatoes in a large pot of lightly sal...</td>\n",
       "      <td>this is a super easy, great tasting, make ahea...</td>\n",
       "      <td>[spreadable cheese with garlic and herbs, new ...</td>\n",
       "      <td>11</td>\n",
       "    </tr>\n",
       "    <tr>\n",
       "      <th>4</th>\n",
       "      <td>amish  tomato ketchup  for canning</td>\n",
       "      <td>44061</td>\n",
       "      <td>190</td>\n",
       "      <td>41706</td>\n",
       "      <td>2002-10-25</td>\n",
       "      <td>['weeknight', 'time-to-make', 'course', 'main-...</td>\n",
       "      <td>[352.9, 1.0, 337.0, 23.0, 3.0, 0.0, 28.0]</td>\n",
       "      <td>5</td>\n",
       "      <td>['mix all ingredients&amp; boil for 2 1 / 2 hours ...</td>\n",
       "      <td>my dh's amish mother raised him on this recipe...</td>\n",
       "      <td>[tomato juice, apple cider vinegar, sugar, sal...</td>\n",
       "      <td>8</td>\n",
       "    </tr>\n",
       "    <tr>\n",
       "      <th>...</th>\n",
       "      <td>...</td>\n",
       "      <td>...</td>\n",
       "      <td>...</td>\n",
       "      <td>...</td>\n",
       "      <td>...</td>\n",
       "      <td>...</td>\n",
       "      <td>...</td>\n",
       "      <td>...</td>\n",
       "      <td>...</td>\n",
       "      <td>...</td>\n",
       "      <td>...</td>\n",
       "      <td>...</td>\n",
       "    </tr>\n",
       "    <tr>\n",
       "      <th>231632</th>\n",
       "      <td>zydeco soup</td>\n",
       "      <td>486161</td>\n",
       "      <td>60</td>\n",
       "      <td>227978</td>\n",
       "      <td>2012-08-29</td>\n",
       "      <td>['ham', '60-minutes-or-less', 'time-to-make', ...</td>\n",
       "      <td>[415.2, 26.0, 34.0, 26.0, 44.0, 21.0, 15.0]</td>\n",
       "      <td>7</td>\n",
       "      <td>['heat oil in a 4-quart dutch oven', 'add cele...</td>\n",
       "      <td>this is a delicious soup that i originally fou...</td>\n",
       "      <td>[celery, onion, green sweet pepper, garlic clo...</td>\n",
       "      <td>22</td>\n",
       "    </tr>\n",
       "    <tr>\n",
       "      <th>231633</th>\n",
       "      <td>zydeco spice mix</td>\n",
       "      <td>493372</td>\n",
       "      <td>5</td>\n",
       "      <td>1500678</td>\n",
       "      <td>2013-01-09</td>\n",
       "      <td>['15-minutes-or-less', 'time-to-make', 'course...</td>\n",
       "      <td>[14.8, 0.0, 2.0, 58.0, 1.0, 0.0, 1.0]</td>\n",
       "      <td>1</td>\n",
       "      <td>['mix all ingredients together thoroughly']</td>\n",
       "      <td>this spice mix will make your taste buds dance!</td>\n",
       "      <td>[paprika, salt, garlic powder, onion powder, d...</td>\n",
       "      <td>13</td>\n",
       "    </tr>\n",
       "    <tr>\n",
       "      <th>231634</th>\n",
       "      <td>zydeco ya ya deviled eggs</td>\n",
       "      <td>308080</td>\n",
       "      <td>40</td>\n",
       "      <td>37779</td>\n",
       "      <td>2008-06-07</td>\n",
       "      <td>['60-minutes-or-less', 'time-to-make', 'course...</td>\n",
       "      <td>[59.2, 6.0, 2.0, 3.0, 6.0, 5.0, 0.0]</td>\n",
       "      <td>7</td>\n",
       "      <td>['in a bowl , combine the mashed yolks and may...</td>\n",
       "      <td>deviled eggs, cajun-style</td>\n",
       "      <td>[hard-cooked eggs, mayonnaise, dijon mustard, ...</td>\n",
       "      <td>8</td>\n",
       "    </tr>\n",
       "    <tr>\n",
       "      <th>231635</th>\n",
       "      <td>cookies by design   cookies on a stick</td>\n",
       "      <td>298512</td>\n",
       "      <td>29</td>\n",
       "      <td>506822</td>\n",
       "      <td>2008-04-15</td>\n",
       "      <td>['30-minutes-or-less', 'time-to-make', 'course...</td>\n",
       "      <td>[188.0, 11.0, 57.0, 11.0, 7.0, 21.0, 9.0]</td>\n",
       "      <td>9</td>\n",
       "      <td>['place melted butter in a large mixing bowl a...</td>\n",
       "      <td>i've heard of the 'cookies by design' company,...</td>\n",
       "      <td>[butter, eagle brand condensed milk, light bro...</td>\n",
       "      <td>10</td>\n",
       "    </tr>\n",
       "    <tr>\n",
       "      <th>231636</th>\n",
       "      <td>cookies by design   sugar shortbread cookies</td>\n",
       "      <td>298509</td>\n",
       "      <td>20</td>\n",
       "      <td>506822</td>\n",
       "      <td>2008-04-15</td>\n",
       "      <td>['30-minutes-or-less', 'time-to-make', 'course...</td>\n",
       "      <td>[174.9, 14.0, 33.0, 4.0, 4.0, 11.0, 6.0]</td>\n",
       "      <td>5</td>\n",
       "      <td>['whip sugar and shortening in a large bowl , ...</td>\n",
       "      <td>i've heard of the 'cookies by design' company,...</td>\n",
       "      <td>[granulated sugar, shortening, eggs, flour, cr...</td>\n",
       "      <td>7</td>\n",
       "    </tr>\n",
       "  </tbody>\n",
       "</table>\n",
       "<p>231637 rows × 12 columns</p>\n",
       "</div>"
      ],
      "text/plain": [
       "                                                name      id  minutes  \\\n",
       "0         arriba   baked winter squash mexican style  137739       55   \n",
       "1                   a bit different  breakfast pizza   31490       30   \n",
       "2                          all in the kitchen  chili  112140      130   \n",
       "3                                 alouette  potatoes   59389       45   \n",
       "4                 amish  tomato ketchup  for canning   44061      190   \n",
       "...                                              ...     ...      ...   \n",
       "231632                                   zydeco soup  486161       60   \n",
       "231633                              zydeco spice mix  493372        5   \n",
       "231634                     zydeco ya ya deviled eggs  308080       40   \n",
       "231635        cookies by design   cookies on a stick  298512       29   \n",
       "231636  cookies by design   sugar shortbread cookies  298509       20   \n",
       "\n",
       "        contributor_id   submitted  \\\n",
       "0                47892  2005-09-16   \n",
       "1                26278  2002-06-17   \n",
       "2               196586  2005-02-25   \n",
       "3                68585  2003-04-14   \n",
       "4                41706  2002-10-25   \n",
       "...                ...         ...   \n",
       "231632          227978  2012-08-29   \n",
       "231633         1500678  2013-01-09   \n",
       "231634           37779  2008-06-07   \n",
       "231635          506822  2008-04-15   \n",
       "231636          506822  2008-04-15   \n",
       "\n",
       "                                                     tags  \\\n",
       "0       ['60-minutes-or-less', 'time-to-make', 'course...   \n",
       "1       ['30-minutes-or-less', 'time-to-make', 'course...   \n",
       "2       ['time-to-make', 'course', 'preparation', 'mai...   \n",
       "3       ['60-minutes-or-less', 'time-to-make', 'course...   \n",
       "4       ['weeknight', 'time-to-make', 'course', 'main-...   \n",
       "...                                                   ...   \n",
       "231632  ['ham', '60-minutes-or-less', 'time-to-make', ...   \n",
       "231633  ['15-minutes-or-less', 'time-to-make', 'course...   \n",
       "231634  ['60-minutes-or-less', 'time-to-make', 'course...   \n",
       "231635  ['30-minutes-or-less', 'time-to-make', 'course...   \n",
       "231636  ['30-minutes-or-less', 'time-to-make', 'course...   \n",
       "\n",
       "                                          nutrition  n_steps  \\\n",
       "0             [51.5, 0.0, 13.0, 0.0, 2.0, 0.0, 4.0]       11   \n",
       "1         [173.4, 18.0, 0.0, 17.0, 22.0, 35.0, 1.0]        9   \n",
       "2        [269.8, 22.0, 32.0, 48.0, 39.0, 27.0, 5.0]        6   \n",
       "3         [368.1, 17.0, 10.0, 2.0, 14.0, 8.0, 20.0]       11   \n",
       "4         [352.9, 1.0, 337.0, 23.0, 3.0, 0.0, 28.0]        5   \n",
       "...                                             ...      ...   \n",
       "231632  [415.2, 26.0, 34.0, 26.0, 44.0, 21.0, 15.0]        7   \n",
       "231633        [14.8, 0.0, 2.0, 58.0, 1.0, 0.0, 1.0]        1   \n",
       "231634         [59.2, 6.0, 2.0, 3.0, 6.0, 5.0, 0.0]        7   \n",
       "231635    [188.0, 11.0, 57.0, 11.0, 7.0, 21.0, 9.0]        9   \n",
       "231636     [174.9, 14.0, 33.0, 4.0, 4.0, 11.0, 6.0]        5   \n",
       "\n",
       "                                                    steps  \\\n",
       "0       ['make a choice and proceed with recipe', 'dep...   \n",
       "1       ['preheat oven to 425 degrees f', 'press dough...   \n",
       "2       ['brown ground beef in large pot', 'add choppe...   \n",
       "3       ['place potatoes in a large pot of lightly sal...   \n",
       "4       ['mix all ingredients& boil for 2 1 / 2 hours ...   \n",
       "...                                                   ...   \n",
       "231632  ['heat oil in a 4-quart dutch oven', 'add cele...   \n",
       "231633        ['mix all ingredients together thoroughly']   \n",
       "231634  ['in a bowl , combine the mashed yolks and may...   \n",
       "231635  ['place melted butter in a large mixing bowl a...   \n",
       "231636  ['whip sugar and shortening in a large bowl , ...   \n",
       "\n",
       "                                              description  \\\n",
       "0       autumn is my favorite time of year to cook! th...   \n",
       "1       this recipe calls for the crust to be prebaked...   \n",
       "2       this modified version of 'mom's' chili was a h...   \n",
       "3       this is a super easy, great tasting, make ahea...   \n",
       "4       my dh's amish mother raised him on this recipe...   \n",
       "...                                                   ...   \n",
       "231632  this is a delicious soup that i originally fou...   \n",
       "231633    this spice mix will make your taste buds dance!   \n",
       "231634                          deviled eggs, cajun-style   \n",
       "231635  i've heard of the 'cookies by design' company,...   \n",
       "231636  i've heard of the 'cookies by design' company,...   \n",
       "\n",
       "                                              ingredients  n_ingredients  \n",
       "0       [winter squash, mexican seasoning, mixed spice...              7  \n",
       "1       [prepared pizza crust, sausage patty, eggs, mi...              6  \n",
       "2       [ground beef, yellow onions, diced tomatoes, t...             13  \n",
       "3       [spreadable cheese with garlic and herbs, new ...             11  \n",
       "4       [tomato juice, apple cider vinegar, sugar, sal...              8  \n",
       "...                                                   ...            ...  \n",
       "231632  [celery, onion, green sweet pepper, garlic clo...             22  \n",
       "231633  [paprika, salt, garlic powder, onion powder, d...             13  \n",
       "231634  [hard-cooked eggs, mayonnaise, dijon mustard, ...              8  \n",
       "231635  [butter, eagle brand condensed milk, light bro...             10  \n",
       "231636  [granulated sugar, shortening, eggs, flour, cr...              7  \n",
       "\n",
       "[231637 rows x 12 columns]"
      ]
     },
     "execution_count": 8,
     "metadata": {},
     "output_type": "execute_result"
    }
   ],
   "source": [
    "unsort_recipes = pd.read_csv('food.com-recipes-and-interactions/RAW_recipes.csv',converters={'ingredients': eval})\n",
    "unsort_recipes"
   ]
  },
  {
   "cell_type": "code",
   "execution_count": 85,
   "metadata": {},
   "outputs": [],
   "source": [
    "drink_index= []\n",
    "index_count = 0\n",
    "for tag in unsort_recipes['description'].values.astype('str'):\n",
    "#     print(tag)\n",
    "    if 'drink' in tag:\n",
    "        drink_index.append(index_count)\n",
    "    index_count = index_count + 1\n",
    "#     for parse_tag in tag:\n",
    "#         if 'cocktail' in parse_tag:\n",
    "#             print(tag)\n",
    "#         if parse_tag.contains('drink'):\n",
    "#             print(tag)"
   ]
  },
  {
   "cell_type": "code",
   "execution_count": 87,
   "metadata": {},
   "outputs": [
    {
     "data": {
      "text/plain": [
       "3528"
      ]
     },
     "execution_count": 87,
     "metadata": {},
     "output_type": "execute_result"
    }
   ],
   "source": [
    "len(drink_index)"
   ]
  },
  {
   "cell_type": "code",
   "execution_count": 89,
   "metadata": {},
   "outputs": [
    {
     "data": {
      "text/plain": [
       "\"['time-to-make', 'course', 'main-ingredient', 'cuisine', 'preparation', 'occasion', 'north-american', 'beverages', 'fruit', 'american', 'southern-united-states', '1-day-or-more', 'easy', 'dinner-party', 'fall', 'holiday-event', 'cocktails', 'dietary', 'seasonal', 'apples', '3-steps-or-less']\""
      ]
     },
     "execution_count": 89,
     "metadata": {},
     "output_type": "execute_result"
    }
   ],
   "source": [
    "unsort_recipes.iloc[317]['tags']"
   ]
  },
  {
   "cell_type": "code",
   "execution_count": 94,
   "metadata": {},
   "outputs": [],
   "source": [
    "beverage_index = []\n",
    "index_count = 0\n",
    "for tag in unsort_recipes['tags'].values:\n",
    "#     print(tag)\n",
    "    if 'beverages' in tag:\n",
    "        beverage_index.append(index_count)\n",
    "    index_count = index_count + 1"
   ]
  },
  {
   "cell_type": "code",
   "execution_count": 95,
   "metadata": {},
   "outputs": [
    {
     "data": {
      "text/plain": [
       "11124"
      ]
     },
     "execution_count": 95,
     "metadata": {},
     "output_type": "execute_result"
    }
   ],
   "source": [
    "len(beverage_index)"
   ]
  },
  {
   "cell_type": "code",
   "execution_count": 9,
   "metadata": {},
   "outputs": [],
   "source": [
    "cocktails_index = []\n",
    "index_count = 0\n",
    "for tag in unsort_recipes['tags'].values:\n",
    "#     print(tag)\n",
    "    if 'cocktails' in tag:\n",
    "        cocktails_index.append(index_count)\n",
    "    index_count = index_count + 1"
   ]
  },
  {
   "cell_type": "code",
   "execution_count": 21,
   "metadata": {},
   "outputs": [
    {
     "data": {
      "text/plain": [
       "4313"
      ]
     },
     "execution_count": 21,
     "metadata": {},
     "output_type": "execute_result"
    }
   ],
   "source": [
    "len(cocktails_index)"
   ]
  },
  {
   "cell_type": "code",
   "execution_count": 10,
   "metadata": {},
   "outputs": [
    {
     "name": "stdout",
     "output_type": "stream",
     "text": [
      "<class 'pandas.core.frame.DataFrame'>\n",
      "Int64Index: 4313 entries, 102 to 230834\n",
      "Data columns (total 12 columns):\n",
      " #   Column          Non-Null Count  Dtype \n",
      "---  ------          --------------  ----- \n",
      " 0   name            4313 non-null   object\n",
      " 1   id              4313 non-null   int64 \n",
      " 2   minutes         4313 non-null   int64 \n",
      " 3   contributor_id  4313 non-null   int64 \n",
      " 4   submitted       4313 non-null   object\n",
      " 5   tags            4313 non-null   object\n",
      " 6   nutrition       4313 non-null   object\n",
      " 7   n_steps         4313 non-null   int64 \n",
      " 8   steps           4313 non-null   object\n",
      " 9   description     4263 non-null   object\n",
      " 10  ingredients     4313 non-null   object\n",
      " 11  n_ingredients   4313 non-null   int64 \n",
      "dtypes: int64(5), object(7)\n",
      "memory usage: 438.0+ KB\n"
     ]
    },
    {
     "data": {
      "text/html": [
       "<div>\n",
       "<style scoped>\n",
       "    .dataframe tbody tr th:only-of-type {\n",
       "        vertical-align: middle;\n",
       "    }\n",
       "\n",
       "    .dataframe tbody tr th {\n",
       "        vertical-align: top;\n",
       "    }\n",
       "\n",
       "    .dataframe thead th {\n",
       "        text-align: right;\n",
       "    }\n",
       "</style>\n",
       "<table border=\"1\" class=\"dataframe\">\n",
       "  <thead>\n",
       "    <tr style=\"text-align: right;\">\n",
       "      <th></th>\n",
       "      <th>name</th>\n",
       "      <th>id</th>\n",
       "      <th>minutes</th>\n",
       "      <th>contributor_id</th>\n",
       "      <th>submitted</th>\n",
       "      <th>tags</th>\n",
       "      <th>nutrition</th>\n",
       "      <th>n_steps</th>\n",
       "      <th>steps</th>\n",
       "      <th>description</th>\n",
       "      <th>ingredients</th>\n",
       "      <th>n_ingredients</th>\n",
       "    </tr>\n",
       "  </thead>\n",
       "  <tbody>\n",
       "    <tr>\n",
       "      <th>102</th>\n",
       "      <td>truth serum  margaritas</td>\n",
       "      <td>45859</td>\n",
       "      <td>30</td>\n",
       "      <td>59756</td>\n",
       "      <td>2002-11-13</td>\n",
       "      <td>['30-minutes-or-less', 'time-to-make', 'course...</td>\n",
       "      <td>[72.0, 0.0, 61.0, 0.0, 0.0, 0.0, 6.0]</td>\n",
       "      <td>3</td>\n",
       "      <td>['mix limeade , lime juice , tequila and tripl...</td>\n",
       "      <td>you'll know why i call it truth serum after yo...</td>\n",
       "      <td>[limeade, lime juice, tequila, triple sec, lim...</td>\n",
       "      <td>6</td>\n",
       "    </tr>\n",
       "    <tr>\n",
       "      <th>264</th>\n",
       "      <td>red robin  drink recipe  mai tai</td>\n",
       "      <td>175306</td>\n",
       "      <td>1</td>\n",
       "      <td>329471</td>\n",
       "      <td>2006-06-28</td>\n",
       "      <td>['15-minutes-or-less', 'time-to-make', 'course...</td>\n",
       "      <td>[160.9, 0.0, 46.0, 0.0, 0.0, 0.0, 5.0]</td>\n",
       "      <td>6</td>\n",
       "      <td>['add grenadine and orgeat into a bottom of gl...</td>\n",
       "      <td>tropical mai tai from \\r\\nred robin gourmet bu...</td>\n",
       "      <td>[grenadine, orgeat syrup, white rum, orange cu...</td>\n",
       "      <td>9</td>\n",
       "    </tr>\n",
       "    <tr>\n",
       "      <th>272</th>\n",
       "      <td>sexy greek   cocktail</td>\n",
       "      <td>423875</td>\n",
       "      <td>5</td>\n",
       "      <td>65502</td>\n",
       "      <td>2010-05-07</td>\n",
       "      <td>['15-minutes-or-less', 'time-to-make', 'course...</td>\n",
       "      <td>[94.7, 0.0, 70.0, 0.0, 2.0, 0.0, 7.0]</td>\n",
       "      <td>2</td>\n",
       "      <td>['just mix together ouzo and orange juice and ...</td>\n",
       "      <td>the greek lady that made this recipe said that...</td>\n",
       "      <td>[ouzo, orange juice, ice cube, orange slice]</td>\n",
       "      <td>4</td>\n",
       "    </tr>\n",
       "    <tr>\n",
       "      <th>295</th>\n",
       "      <td>white  sangria</td>\n",
       "      <td>251021</td>\n",
       "      <td>5</td>\n",
       "      <td>383346</td>\n",
       "      <td>2007-09-04</td>\n",
       "      <td>['15-minutes-or-less', 'time-to-make', 'course...</td>\n",
       "      <td>[158.0, 0.0, 6.0, 0.0, 0.0, 0.0, 1.0]</td>\n",
       "      <td>3</td>\n",
       "      <td>['pour wine , vodka , schnapps and peach couli...</td>\n",
       "      <td>another sangria, but from the calabash bar in ...</td>\n",
       "      <td>[dry white wine, lemon-flavored vodka, peach s...</td>\n",
       "      <td>11</td>\n",
       "    </tr>\n",
       "    <tr>\n",
       "      <th>304</th>\n",
       "      <td>007  martini</td>\n",
       "      <td>429524</td>\n",
       "      <td>5</td>\n",
       "      <td>599450</td>\n",
       "      <td>2010-06-12</td>\n",
       "      <td>['celebrity', '15-minutes-or-less', 'time-to-m...</td>\n",
       "      <td>[146.5, 0.0, 0.0, 0.0, 0.0, 0.0, 0.0]</td>\n",
       "      <td>4</td>\n",
       "      <td>['rinse martini glass with extra dry vermouth'...</td>\n",
       "      <td>based on a recipe from ray foley's the ultimat...</td>\n",
       "      <td>[dry vermouth, vodka, gin, lillet blanc]</td>\n",
       "      <td>4</td>\n",
       "    </tr>\n",
       "  </tbody>\n",
       "</table>\n",
       "</div>"
      ],
      "text/plain": [
       "                                 name      id  minutes  contributor_id  \\\n",
       "102           truth serum  margaritas   45859       30           59756   \n",
       "264  red robin  drink recipe  mai tai  175306        1          329471   \n",
       "272             sexy greek   cocktail  423875        5           65502   \n",
       "295                    white  sangria  251021        5          383346   \n",
       "304                      007  martini  429524        5          599450   \n",
       "\n",
       "      submitted                                               tags  \\\n",
       "102  2002-11-13  ['30-minutes-or-less', 'time-to-make', 'course...   \n",
       "264  2006-06-28  ['15-minutes-or-less', 'time-to-make', 'course...   \n",
       "272  2010-05-07  ['15-minutes-or-less', 'time-to-make', 'course...   \n",
       "295  2007-09-04  ['15-minutes-or-less', 'time-to-make', 'course...   \n",
       "304  2010-06-12  ['celebrity', '15-minutes-or-less', 'time-to-m...   \n",
       "\n",
       "                                  nutrition  n_steps  \\\n",
       "102   [72.0, 0.0, 61.0, 0.0, 0.0, 0.0, 6.0]        3   \n",
       "264  [160.9, 0.0, 46.0, 0.0, 0.0, 0.0, 5.0]        6   \n",
       "272   [94.7, 0.0, 70.0, 0.0, 2.0, 0.0, 7.0]        2   \n",
       "295   [158.0, 0.0, 6.0, 0.0, 0.0, 0.0, 1.0]        3   \n",
       "304   [146.5, 0.0, 0.0, 0.0, 0.0, 0.0, 0.0]        4   \n",
       "\n",
       "                                                 steps  \\\n",
       "102  ['mix limeade , lime juice , tequila and tripl...   \n",
       "264  ['add grenadine and orgeat into a bottom of gl...   \n",
       "272  ['just mix together ouzo and orange juice and ...   \n",
       "295  ['pour wine , vodka , schnapps and peach couli...   \n",
       "304  ['rinse martini glass with extra dry vermouth'...   \n",
       "\n",
       "                                           description  \\\n",
       "102  you'll know why i call it truth serum after yo...   \n",
       "264  tropical mai tai from \\r\\nred robin gourmet bu...   \n",
       "272  the greek lady that made this recipe said that...   \n",
       "295  another sangria, but from the calabash bar in ...   \n",
       "304  based on a recipe from ray foley's the ultimat...   \n",
       "\n",
       "                                           ingredients  n_ingredients  \n",
       "102  [limeade, lime juice, tequila, triple sec, lim...              6  \n",
       "264  [grenadine, orgeat syrup, white rum, orange cu...              9  \n",
       "272       [ouzo, orange juice, ice cube, orange slice]              4  \n",
       "295  [dry white wine, lemon-flavored vodka, peach s...             11  \n",
       "304           [dry vermouth, vodka, gin, lillet blanc]              4  "
      ]
     },
     "execution_count": 10,
     "metadata": {},
     "output_type": "execute_result"
    }
   ],
   "source": [
    "cocktails = unsort_recipes.iloc[cocktails_index]\n",
    "cocktails.info()\n",
    "cocktails.head()"
   ]
  },
  {
   "cell_type": "code",
   "execution_count": 171,
   "metadata": {},
   "outputs": [
    {
     "data": {
      "text/html": [
       "<div>\n",
       "<style scoped>\n",
       "    .dataframe tbody tr th:only-of-type {\n",
       "        vertical-align: middle;\n",
       "    }\n",
       "\n",
       "    .dataframe tbody tr th {\n",
       "        vertical-align: top;\n",
       "    }\n",
       "\n",
       "    .dataframe thead th {\n",
       "        text-align: right;\n",
       "    }\n",
       "</style>\n",
       "<table border=\"1\" class=\"dataframe\">\n",
       "  <thead>\n",
       "    <tr style=\"text-align: right;\">\n",
       "      <th></th>\n",
       "      <th>item</th>\n",
       "      <th>ingredient</th>\n",
       "    </tr>\n",
       "  </thead>\n",
       "  <tbody>\n",
       "    <tr>\n",
       "      <th>0</th>\n",
       "      <td>45859</td>\n",
       "      <td>limeade</td>\n",
       "    </tr>\n",
       "    <tr>\n",
       "      <th>1</th>\n",
       "      <td>45859</td>\n",
       "      <td>lime juice</td>\n",
       "    </tr>\n",
       "    <tr>\n",
       "      <th>2</th>\n",
       "      <td>45859</td>\n",
       "      <td>tequila</td>\n",
       "    </tr>\n",
       "    <tr>\n",
       "      <th>3</th>\n",
       "      <td>45859</td>\n",
       "      <td>triple sec</td>\n",
       "    </tr>\n",
       "    <tr>\n",
       "      <th>4</th>\n",
       "      <td>45859</td>\n",
       "      <td>lime wedge</td>\n",
       "    </tr>\n",
       "    <tr>\n",
       "      <th>...</th>\n",
       "      <td>...</td>\n",
       "      <td>...</td>\n",
       "    </tr>\n",
       "    <tr>\n",
       "      <th>21957</th>\n",
       "      <td>14224</td>\n",
       "      <td>stolichnaya vodka</td>\n",
       "    </tr>\n",
       "    <tr>\n",
       "      <th>21958</th>\n",
       "      <td>14224</td>\n",
       "      <td>ouzo</td>\n",
       "    </tr>\n",
       "    <tr>\n",
       "      <th>21959</th>\n",
       "      <td>238533</td>\n",
       "      <td>creme de cacao</td>\n",
       "    </tr>\n",
       "    <tr>\n",
       "      <th>21960</th>\n",
       "      <td>238533</td>\n",
       "      <td>almond liqueur</td>\n",
       "    </tr>\n",
       "    <tr>\n",
       "      <th>21961</th>\n",
       "      <td>238533</td>\n",
       "      <td>irish cream</td>\n",
       "    </tr>\n",
       "  </tbody>\n",
       "</table>\n",
       "<p>21962 rows × 2 columns</p>\n",
       "</div>"
      ],
      "text/plain": [
       "         item         ingredient\n",
       "0       45859            limeade\n",
       "1       45859         lime juice\n",
       "2       45859            tequila\n",
       "3       45859         triple sec\n",
       "4       45859         lime wedge\n",
       "...       ...                ...\n",
       "21957   14224  stolichnaya vodka\n",
       "21958   14224               ouzo\n",
       "21959  238533     creme de cacao\n",
       "21960  238533     almond liqueur\n",
       "21961  238533        irish cream\n",
       "\n",
       "[21962 rows x 2 columns]"
      ]
     },
     "execution_count": 171,
     "metadata": {},
     "output_type": "execute_result"
    }
   ],
   "source": [
    "ingredients = pd.DataFrame()\n",
    "for cocktail_id in cocktails.id.values:\n",
    "    for ingredient_list in cocktails.loc[cocktails['id'] == cocktail_id]['ingredients']:\n",
    "        for ingredient in ingredient_list:\n",
    "            ingredients = ingredients.append(pd.DataFrame([[cocktail_id,ingredient]], columns={'item', 'ingredient'}),ignore_index=True) \n",
    "#         print(ingredients)\n",
    "ingredients"
   ]
  },
  {
   "cell_type": "code",
   "execution_count": 11,
   "metadata": {},
   "outputs": [],
   "source": [
    "cocktails.to_csv('data/cocktails.csv')"
   ]
  },
  {
   "cell_type": "code",
   "execution_count": 196,
   "metadata": {},
   "outputs": [
    {
     "ename": "TypeError",
     "evalue": "'int' object is not iterable",
     "output_type": "error",
     "traceback": [
      "\u001b[1;31m---------------------------------------------------------------------------\u001b[0m",
      "\u001b[1;31mTypeError\u001b[0m                                 Traceback (most recent call last)",
      "\u001b[1;32m<ipython-input-196-eadca03b101f>\u001b[0m in \u001b[0;36m<module>\u001b[1;34m\u001b[0m\n\u001b[0;32m      2\u001b[0m \u001b[1;32mfor\u001b[0m \u001b[0mcocktail_id\u001b[0m \u001b[1;32min\u001b[0m \u001b[0mcocktails\u001b[0m\u001b[1;33m.\u001b[0m\u001b[0mid\u001b[0m\u001b[1;33m.\u001b[0m\u001b[0mvalues\u001b[0m\u001b[1;33m:\u001b[0m\u001b[1;33m\u001b[0m\u001b[1;33m\u001b[0m\u001b[0m\n\u001b[0;32m      3\u001b[0m     \u001b[1;32mfor\u001b[0m \u001b[0mingredient_list\u001b[0m \u001b[1;32min\u001b[0m \u001b[0mcocktails\u001b[0m\u001b[1;33m.\u001b[0m\u001b[0mloc\u001b[0m\u001b[1;33m[\u001b[0m\u001b[0mcocktails\u001b[0m\u001b[1;33m[\u001b[0m\u001b[1;34m'id'\u001b[0m\u001b[1;33m]\u001b[0m \u001b[1;33m==\u001b[0m \u001b[0mcocktail_id\u001b[0m\u001b[1;33m]\u001b[0m\u001b[1;33m[\u001b[0m\u001b[1;34m'n_steps'\u001b[0m\u001b[1;33m]\u001b[0m\u001b[1;33m:\u001b[0m\u001b[1;33m\u001b[0m\u001b[1;33m\u001b[0m\u001b[0m\n\u001b[1;32m----> 4\u001b[1;33m         \u001b[1;32mfor\u001b[0m \u001b[0mingredient\u001b[0m \u001b[1;32min\u001b[0m \u001b[0mingredient_list\u001b[0m\u001b[1;33m:\u001b[0m\u001b[1;33m\u001b[0m\u001b[1;33m\u001b[0m\u001b[0m\n\u001b[0m\u001b[0;32m      5\u001b[0m             \u001b[0mdrink_steps\u001b[0m \u001b[1;33m=\u001b[0m \u001b[0mdrink_steps\u001b[0m\u001b[1;33m.\u001b[0m\u001b[0mappend\u001b[0m\u001b[1;33m(\u001b[0m\u001b[0mpd\u001b[0m\u001b[1;33m.\u001b[0m\u001b[0mDataFrame\u001b[0m\u001b[1;33m(\u001b[0m\u001b[1;33m[\u001b[0m\u001b[1;33m[\u001b[0m\u001b[0mcocktail_id\u001b[0m\u001b[1;33m,\u001b[0m\u001b[0mingredient\u001b[0m\u001b[1;33m]\u001b[0m\u001b[1;33m]\u001b[0m\u001b[1;33m,\u001b[0m \u001b[0mcolumns\u001b[0m\u001b[1;33m=\u001b[0m\u001b[1;33m{\u001b[0m\u001b[1;34m'item'\u001b[0m\u001b[1;33m,\u001b[0m \u001b[1;34m'n_steps'\u001b[0m\u001b[1;33m}\u001b[0m\u001b[1;33m)\u001b[0m\u001b[1;33m,\u001b[0m\u001b[0mignore_index\u001b[0m\u001b[1;33m=\u001b[0m\u001b[1;32mTrue\u001b[0m\u001b[1;33m)\u001b[0m\u001b[1;33m\u001b[0m\u001b[1;33m\u001b[0m\u001b[0m\n\u001b[0;32m      6\u001b[0m \u001b[1;31m#         print(ingredients)\u001b[0m\u001b[1;33m\u001b[0m\u001b[1;33m\u001b[0m\u001b[1;33m\u001b[0m\u001b[0m\n",
      "\u001b[1;31mTypeError\u001b[0m: 'int' object is not iterable"
     ]
    }
   ],
   "source": [
    "drink_steps = pd.DataFrame()\n",
    "for cocktail_id in cocktails.id.values:\n",
    "    for ingredient_list in cocktails.loc[cocktails['id'] == cocktail_id]['n_steps']:\n",
    "        for ingredient in ingredient_list:\n",
    "        drink_steps = drink_steps.append(pd.DataFrame([[cocktail_id,ingredient]], columns={'item', 'n_steps'}),ignore_index=True) \n",
    "#         print(ingredients)\n",
    "drink_steps"
   ]
  },
  {
   "cell_type": "code",
   "execution_count": 12,
   "metadata": {},
   "outputs": [
    {
     "data": {
      "text/html": [
       "<div>\n",
       "<style scoped>\n",
       "    .dataframe tbody tr th:only-of-type {\n",
       "        vertical-align: middle;\n",
       "    }\n",
       "\n",
       "    .dataframe tbody tr th {\n",
       "        vertical-align: top;\n",
       "    }\n",
       "\n",
       "    .dataframe thead th {\n",
       "        text-align: right;\n",
       "    }\n",
       "</style>\n",
       "<table border=\"1\" class=\"dataframe\">\n",
       "  <thead>\n",
       "    <tr style=\"text-align: right;\">\n",
       "      <th></th>\n",
       "      <th>item</th>\n",
       "      <th>n_steps</th>\n",
       "    </tr>\n",
       "  </thead>\n",
       "  <tbody>\n",
       "    <tr>\n",
       "      <th>102</th>\n",
       "      <td>45859</td>\n",
       "      <td>3</td>\n",
       "    </tr>\n",
       "    <tr>\n",
       "      <th>264</th>\n",
       "      <td>175306</td>\n",
       "      <td>6</td>\n",
       "    </tr>\n",
       "    <tr>\n",
       "      <th>272</th>\n",
       "      <td>423875</td>\n",
       "      <td>2</td>\n",
       "    </tr>\n",
       "    <tr>\n",
       "      <th>295</th>\n",
       "      <td>251021</td>\n",
       "      <td>3</td>\n",
       "    </tr>\n",
       "    <tr>\n",
       "      <th>304</th>\n",
       "      <td>429524</td>\n",
       "      <td>4</td>\n",
       "    </tr>\n",
       "    <tr>\n",
       "      <th>...</th>\n",
       "      <td>...</td>\n",
       "      <td>...</td>\n",
       "    </tr>\n",
       "    <tr>\n",
       "      <th>230382</th>\n",
       "      <td>423088</td>\n",
       "      <td>2</td>\n",
       "    </tr>\n",
       "    <tr>\n",
       "      <th>230766</th>\n",
       "      <td>428485</td>\n",
       "      <td>3</td>\n",
       "    </tr>\n",
       "    <tr>\n",
       "      <th>230828</th>\n",
       "      <td>213532</td>\n",
       "      <td>2</td>\n",
       "    </tr>\n",
       "    <tr>\n",
       "      <th>230833</th>\n",
       "      <td>14224</td>\n",
       "      <td>2</td>\n",
       "    </tr>\n",
       "    <tr>\n",
       "      <th>230834</th>\n",
       "      <td>238533</td>\n",
       "      <td>2</td>\n",
       "    </tr>\n",
       "  </tbody>\n",
       "</table>\n",
       "<p>4313 rows × 2 columns</p>\n",
       "</div>"
      ],
      "text/plain": [
       "          item  n_steps\n",
       "102      45859        3\n",
       "264     175306        6\n",
       "272     423875        2\n",
       "295     251021        3\n",
       "304     429524        4\n",
       "...        ...      ...\n",
       "230382  423088        2\n",
       "230766  428485        3\n",
       "230828  213532        2\n",
       "230833   14224        2\n",
       "230834  238533        2\n",
       "\n",
       "[4313 rows x 2 columns]"
      ]
     },
     "execution_count": 12,
     "metadata": {},
     "output_type": "execute_result"
    }
   ],
   "source": [
    "drink_steps = cocktails[['id', 'n_steps']] \n",
    "drink_steps = drink_steps.rename(columns={'id':'item'})\n",
    "drink_steps"
   ]
  },
  {
   "cell_type": "code",
   "execution_count": 13,
   "metadata": {},
   "outputs": [],
   "source": [
    "drink_steps.to_csv('data/drink_steps.csv')"
   ]
  },
  {
   "cell_type": "code",
   "execution_count": 175,
   "metadata": {},
   "outputs": [],
   "source": [
    "ingredients.to_csv('data/ingredients.csv')"
   ]
  },
  {
   "cell_type": "code",
   "execution_count": 173,
   "metadata": {},
   "outputs": [
    {
     "data": {
      "text/plain": [
       "1619"
      ]
     },
     "execution_count": 173,
     "metadata": {},
     "output_type": "execute_result"
    }
   ],
   "source": [
    "len(ingredients['ingredient'].unique())"
   ]
  },
  {
   "cell_type": "code",
   "execution_count": 106,
   "metadata": {},
   "outputs": [
    {
     "name": "stdout",
     "output_type": "stream",
     "text": [
      "<class 'pandas.core.frame.DataFrame'>\n",
      "RangeIndex: 1132367 entries, 0 to 1132366\n",
      "Data columns (total 5 columns):\n",
      " #   Column     Non-Null Count    Dtype \n",
      "---  ------     --------------    ----- \n",
      " 0   user_id    1132367 non-null  int64 \n",
      " 1   recipe_id  1132367 non-null  int64 \n",
      " 2   date       1132367 non-null  object\n",
      " 3   rating     1132367 non-null  int64 \n",
      " 4   review     1132198 non-null  object\n",
      "dtypes: int64(3), object(2)\n",
      "memory usage: 43.2+ MB\n"
     ]
    },
    {
     "data": {
      "text/html": [
       "<div>\n",
       "<style scoped>\n",
       "    .dataframe tbody tr th:only-of-type {\n",
       "        vertical-align: middle;\n",
       "    }\n",
       "\n",
       "    .dataframe tbody tr th {\n",
       "        vertical-align: top;\n",
       "    }\n",
       "\n",
       "    .dataframe thead th {\n",
       "        text-align: right;\n",
       "    }\n",
       "</style>\n",
       "<table border=\"1\" class=\"dataframe\">\n",
       "  <thead>\n",
       "    <tr style=\"text-align: right;\">\n",
       "      <th></th>\n",
       "      <th>user_id</th>\n",
       "      <th>recipe_id</th>\n",
       "      <th>date</th>\n",
       "      <th>rating</th>\n",
       "      <th>review</th>\n",
       "    </tr>\n",
       "  </thead>\n",
       "  <tbody>\n",
       "    <tr>\n",
       "      <th>0</th>\n",
       "      <td>38094</td>\n",
       "      <td>40893</td>\n",
       "      <td>2003-02-17</td>\n",
       "      <td>4</td>\n",
       "      <td>Great with a salad. Cooked on top of stove for...</td>\n",
       "    </tr>\n",
       "    <tr>\n",
       "      <th>1</th>\n",
       "      <td>1293707</td>\n",
       "      <td>40893</td>\n",
       "      <td>2011-12-21</td>\n",
       "      <td>5</td>\n",
       "      <td>So simple, so delicious! Great for chilly fall...</td>\n",
       "    </tr>\n",
       "    <tr>\n",
       "      <th>2</th>\n",
       "      <td>8937</td>\n",
       "      <td>44394</td>\n",
       "      <td>2002-12-01</td>\n",
       "      <td>4</td>\n",
       "      <td>This worked very well and is EASY.  I used not...</td>\n",
       "    </tr>\n",
       "    <tr>\n",
       "      <th>3</th>\n",
       "      <td>126440</td>\n",
       "      <td>85009</td>\n",
       "      <td>2010-02-27</td>\n",
       "      <td>5</td>\n",
       "      <td>I made the Mexican topping and took it to bunk...</td>\n",
       "    </tr>\n",
       "    <tr>\n",
       "      <th>4</th>\n",
       "      <td>57222</td>\n",
       "      <td>85009</td>\n",
       "      <td>2011-10-01</td>\n",
       "      <td>5</td>\n",
       "      <td>Made the cheddar bacon topping, adding a sprin...</td>\n",
       "    </tr>\n",
       "  </tbody>\n",
       "</table>\n",
       "</div>"
      ],
      "text/plain": [
       "   user_id  recipe_id        date  rating  \\\n",
       "0    38094      40893  2003-02-17       4   \n",
       "1  1293707      40893  2011-12-21       5   \n",
       "2     8937      44394  2002-12-01       4   \n",
       "3   126440      85009  2010-02-27       5   \n",
       "4    57222      85009  2011-10-01       5   \n",
       "\n",
       "                                              review  \n",
       "0  Great with a salad. Cooked on top of stove for...  \n",
       "1  So simple, so delicious! Great for chilly fall...  \n",
       "2  This worked very well and is EASY.  I used not...  \n",
       "3  I made the Mexican topping and took it to bunk...  \n",
       "4  Made the cheddar bacon topping, adding a sprin...  "
      ]
     },
     "execution_count": 106,
     "metadata": {},
     "output_type": "execute_result"
    }
   ],
   "source": [
    "ratings = pd.read_csv('food.com-recipes-and-interactions/RAW_interactions.csv')\n",
    "ratings.info()\n",
    "ratings.head()"
   ]
  },
  {
   "cell_type": "code",
   "execution_count": 113,
   "metadata": {},
   "outputs": [],
   "source": [
    "filtered_ratings = ratings[ratings['recipe_id'].isin(cocktails['id'].values)]"
   ]
  },
  {
   "cell_type": "code",
   "execution_count": 178,
   "metadata": {},
   "outputs": [],
   "source": [
    "filtered_ratings = filtered_ratings.drop(columns={'review'})"
   ]
  },
  {
   "cell_type": "code",
   "execution_count": 180,
   "metadata": {},
   "outputs": [],
   "source": [
    "filtered_ratings = filtered_ratings.rename(columns={'user_id': 'user', 'recipe_id': 'item'})"
   ]
  },
  {
   "cell_type": "code",
   "execution_count": 184,
   "metadata": {},
   "outputs": [],
   "source": [
    "filtered_ratings.reset_index(inplace=True)"
   ]
  },
  {
   "cell_type": "code",
   "execution_count": 187,
   "metadata": {},
   "outputs": [],
   "source": [
    "filtered_ratings = filtered_ratings.drop(columns={'index'})"
   ]
  },
  {
   "cell_type": "code",
   "execution_count": 188,
   "metadata": {},
   "outputs": [
    {
     "name": "stdout",
     "output_type": "stream",
     "text": [
      "<class 'pandas.core.frame.DataFrame'>\n",
      "RangeIndex: 14297 entries, 0 to 14296\n",
      "Data columns (total 4 columns):\n",
      " #   Column  Non-Null Count  Dtype \n",
      "---  ------  --------------  ----- \n",
      " 0   user    14297 non-null  int64 \n",
      " 1   item    14297 non-null  int64 \n",
      " 2   date    14297 non-null  object\n",
      " 3   rating  14297 non-null  int64 \n",
      "dtypes: int64(3), object(1)\n",
      "memory usage: 446.9+ KB\n"
     ]
    },
    {
     "data": {
      "text/html": [
       "<div>\n",
       "<style scoped>\n",
       "    .dataframe tbody tr th:only-of-type {\n",
       "        vertical-align: middle;\n",
       "    }\n",
       "\n",
       "    .dataframe tbody tr th {\n",
       "        vertical-align: top;\n",
       "    }\n",
       "\n",
       "    .dataframe thead th {\n",
       "        text-align: right;\n",
       "    }\n",
       "</style>\n",
       "<table border=\"1\" class=\"dataframe\">\n",
       "  <thead>\n",
       "    <tr style=\"text-align: right;\">\n",
       "      <th></th>\n",
       "      <th>user</th>\n",
       "      <th>item</th>\n",
       "      <th>date</th>\n",
       "      <th>rating</th>\n",
       "    </tr>\n",
       "  </thead>\n",
       "  <tbody>\n",
       "    <tr>\n",
       "      <th>0</th>\n",
       "      <td>296027</td>\n",
       "      <td>182985</td>\n",
       "      <td>2007-05-19</td>\n",
       "      <td>4</td>\n",
       "    </tr>\n",
       "    <tr>\n",
       "      <th>1</th>\n",
       "      <td>452940</td>\n",
       "      <td>367080</td>\n",
       "      <td>2009-07-10</td>\n",
       "      <td>4</td>\n",
       "    </tr>\n",
       "    <tr>\n",
       "      <th>2</th>\n",
       "      <td>162826</td>\n",
       "      <td>367080</td>\n",
       "      <td>2009-10-04</td>\n",
       "      <td>5</td>\n",
       "    </tr>\n",
       "    <tr>\n",
       "      <th>3</th>\n",
       "      <td>303545</td>\n",
       "      <td>259553</td>\n",
       "      <td>2009-11-01</td>\n",
       "      <td>5</td>\n",
       "    </tr>\n",
       "    <tr>\n",
       "      <th>4</th>\n",
       "      <td>538524</td>\n",
       "      <td>280085</td>\n",
       "      <td>2008-04-12</td>\n",
       "      <td>5</td>\n",
       "    </tr>\n",
       "  </tbody>\n",
       "</table>\n",
       "</div>"
      ],
      "text/plain": [
       "     user    item        date  rating\n",
       "0  296027  182985  2007-05-19       4\n",
       "1  452940  367080  2009-07-10       4\n",
       "2  162826  367080  2009-10-04       5\n",
       "3  303545  259553  2009-11-01       5\n",
       "4  538524  280085  2008-04-12       5"
      ]
     },
     "execution_count": 188,
     "metadata": {},
     "output_type": "execute_result"
    }
   ],
   "source": [
    "filtered_ratings.info()\n",
    "filtered_ratings.head()"
   ]
  },
  {
   "cell_type": "code",
   "execution_count": 4,
   "metadata": {},
   "outputs": [
    {
     "ename": "NameError",
     "evalue": "name 'filtered_ratings' is not defined",
     "output_type": "error",
     "traceback": [
      "\u001b[1;31m---------------------------------------------------------------------------\u001b[0m",
      "\u001b[1;31mNameError\u001b[0m                                 Traceback (most recent call last)",
      "\u001b[1;32m<ipython-input-4-d57ab0bc0877>\u001b[0m in \u001b[0;36m<module>\u001b[1;34m\u001b[0m\n\u001b[1;32m----> 1\u001b[1;33m \u001b[0mfiltered_ratings\u001b[0m\u001b[1;33m.\u001b[0m\u001b[0mto_csv\u001b[0m\u001b[1;33m(\u001b[0m\u001b[1;34m'data/filtered_ratings.csv'\u001b[0m\u001b[1;33m)\u001b[0m\u001b[1;33m\u001b[0m\u001b[1;33m\u001b[0m\u001b[0m\n\u001b[0m",
      "\u001b[1;31mNameError\u001b[0m: name 'filtered_ratings' is not defined"
     ]
    }
   ],
   "source": [
    "# filtered_ratings.to_csv('data/filtered_ratings.csv')"
   ]
  },
  {
   "cell_type": "code",
   "execution_count": 190,
   "metadata": {},
   "outputs": [
    {
     "data": {
      "text/plain": [
       "3613"
      ]
     },
     "execution_count": 190,
     "metadata": {},
     "output_type": "execute_result"
    }
   ],
   "source": [
    "len(filtered_ratings['user'].unique())"
   ]
  },
  {
   "cell_type": "code",
   "execution_count": 31,
   "metadata": {},
   "outputs": [],
   "source": [
    "from sklearn.model_selection import train_test_split\n",
    "train ,test = train_test_split(filtered_ratings,test_size=0.2, random_state=456)  "
   ]
  },
  {
   "cell_type": "code",
   "execution_count": 56,
   "metadata": {},
   "outputs": [],
   "source": [
    "from sklearn.model_selection import train_test_split\n",
    "train ,test = train_test_split(ratings_above_5,test_size=0.2, random_state=456)  "
   ]
  },
  {
   "cell_type": "code",
   "execution_count": 113,
   "metadata": {},
   "outputs": [],
   "source": [
    "train ,test = train_test_split(ratings_items_above_5,test_size=0.2, random_state=456)  "
   ]
  },
  {
   "cell_type": "code",
   "execution_count": 109,
   "metadata": {},
   "outputs": [],
   "source": [
    "train ,test = train_test_split(maybe_test,test_size=0.2, random_state=456)  "
   ]
  },
  {
   "cell_type": "code",
   "execution_count": 118,
   "metadata": {},
   "outputs": [],
   "source": [
    "from hydrink import DrinkTagMF\n"
   ]
  },
  {
   "cell_type": "code",
   "execution_count": 103,
   "metadata": {},
   "outputs": [
    {
     "name": "stdout",
     "output_type": "stream",
     "text": [
      "start training popular_model\n",
      "done training popular_model\n",
      "start pickle popular_model\n",
      "done with pickle popular_model\n",
      "start recommend popular_model\n",
      "done with recommend popular_model\n",
      "save recommend popular_model to file\n",
      "start training SVD_model\n",
      "done training SVD_model\n",
      "start pickle SVD_model\n",
      "done with pickle SVD_model\n",
      "start recommend SVD_model\n",
      "done with recommend ISVD_model\n",
      "save recommend SVD_model to file\n",
      "start training ImplicitMF_model\n",
      "done training ImplicitMF_model\n",
      "start pickle ImplicitMF_model\n",
      "done with pickle ImplicitMF_model\n",
      "start recommend ImplicitMF_model\n",
      "done with recommend ImplicitMF_model\n",
      "save recommend ImplicitMF_model to file\n",
      "start training ExplicitMF_model\n",
      "done training ExplicitMF_model\n",
      "start pickle ExplicitMF_model\n",
      "done with pickle ExplicitMF_model\n",
      "start recommend ExplicitMF_model\n",
      "done with recommend ExplicitMF_model\n",
      "save recommend ExplicitMF_model to file\n",
      "start training itemItemSum_model\n",
      "done training itemItemSum_model\n",
      "start pickle itemItemSum_model\n",
      "done with pickle itemItemSum_model\n",
      "start recommend itemItemSum_model\n"
     ]
    },
    {
     "ename": "AssertionError",
     "evalue": "",
     "output_type": "error",
     "traceback": [
      "\u001b[1;31m---------------------------------------------------------------------------\u001b[0m",
      "\u001b[1;31m_RemoteTraceback\u001b[0m                          Traceback (most recent call last)",
      "\u001b[1;31m_RemoteTraceback\u001b[0m: \n\"\"\"\nTraceback (most recent call last):\n  File \"c:\\users\\jncwi\\appdata\\local\\programs\\python\\python37\\lib\\concurrent\\futures\\process.py\", line 239, in _process_worker\n    r = call_item.fn(*call_item.args, **call_item.kwargs)\n  File \"c:\\users\\jncwi\\appdata\\local\\programs\\python\\python37\\lib\\concurrent\\futures\\process.py\", line 198, in _process_chunk\n    return [fn(*args) for args in chunk]\n  File \"c:\\users\\jncwi\\appdata\\local\\programs\\python\\python37\\lib\\concurrent\\futures\\process.py\", line 198, in <listcomp>\n    return [fn(*args) for args in chunk]\n  File \"c:\\users\\jncwi\\appdata\\local\\programs\\python\\python37\\lib\\site-packages\\lenskit\\util\\parallel.py\", line 131, in _mp_invoke_worker\n    return __work_func(model, *args)\n  File \"c:\\users\\jncwi\\appdata\\local\\programs\\python\\python37\\lib\\site-packages\\lenskit\\batch\\_recommend.py\", line 19, in _recommend_user\n    res = algo.recommend(user, n, candidates)\n  File \"c:\\users\\jncwi\\appdata\\local\\programs\\python\\python37\\lib\\site-packages\\lenskit\\algorithms\\basic.py\", line 189, in recommend\n    scores = self.predictor.predict_for_user(user, candidates, ratings)\n  File \"c:\\users\\jncwi\\appdata\\local\\programs\\python\\python37\\lib\\site-packages\\lenskit\\algorithms\\item_knn.py\", line 418, in predict_for_user\n    assert np.sum(np.logical_not(np.isnan(rate_v))) == len(ri_pos)\nAssertionError\n\"\"\"",
      "\nThe above exception was the direct cause of the following exception:\n",
      "\u001b[1;31mAssertionError\u001b[0m                            Traceback (most recent call last)",
      "\u001b[1;32m<ipython-input-103-24a9368edb4e>\u001b[0m in \u001b[0;36m<module>\u001b[1;34m\u001b[0m\n\u001b[0;32m     94\u001b[0m \u001b[0mprint\u001b[0m\u001b[1;33m(\u001b[0m\u001b[1;34mf\"done with pickle itemItemSum_model\"\u001b[0m\u001b[1;33m)\u001b[0m\u001b[1;33m\u001b[0m\u001b[1;33m\u001b[0m\u001b[0m\n\u001b[0;32m     95\u001b[0m \u001b[0mprint\u001b[0m\u001b[1;33m(\u001b[0m\u001b[1;34mf\"start recommend itemItemSum_model\"\u001b[0m\u001b[1;33m)\u001b[0m\u001b[1;33m\u001b[0m\u001b[1;33m\u001b[0m\u001b[0m\n\u001b[1;32m---> 96\u001b[1;33m \u001b[0mrecs\u001b[0m \u001b[1;33m=\u001b[0m \u001b[0mbatch\u001b[0m\u001b[1;33m.\u001b[0m\u001b[0mrecommend\u001b[0m\u001b[1;33m(\u001b[0m\u001b[0mfittable\u001b[0m\u001b[1;33m,\u001b[0m \u001b[0musers\u001b[0m\u001b[1;33m,\u001b[0m \u001b[1;36m50\u001b[0m\u001b[1;33m)\u001b[0m\u001b[1;33m\u001b[0m\u001b[1;33m\u001b[0m\u001b[0m\n\u001b[0m\u001b[0;32m     97\u001b[0m \u001b[0mprint\u001b[0m\u001b[1;33m(\u001b[0m\u001b[1;34mf\"done with recommend itemItemSum_model\"\u001b[0m\u001b[1;33m)\u001b[0m\u001b[1;33m\u001b[0m\u001b[1;33m\u001b[0m\u001b[0m\n\u001b[0;32m     98\u001b[0m \u001b[0mrecs\u001b[0m\u001b[1;33m[\u001b[0m\u001b[1;34m'Algorithm'\u001b[0m\u001b[1;33m]\u001b[0m \u001b[1;33m=\u001b[0m \u001b[1;34mf'itemItemSum'\u001b[0m\u001b[1;33m\u001b[0m\u001b[1;33m\u001b[0m\u001b[0m\n",
      "\u001b[1;32mc:\\users\\jncwi\\appdata\\local\\programs\\python\\python37\\lib\\site-packages\\lenskit\\batch\\_recommend.py\u001b[0m in \u001b[0;36mrecommend\u001b[1;34m(***failed resolving arguments***)\u001b[0m\n\u001b[0;32m     86\u001b[0m         \u001b[0mtimer\u001b[0m \u001b[1;33m=\u001b[0m \u001b[0mutil\u001b[0m\u001b[1;33m.\u001b[0m\u001b[0mStopwatch\u001b[0m\u001b[1;33m(\u001b[0m\u001b[1;33m)\u001b[0m\u001b[1;33m\u001b[0m\u001b[1;33m\u001b[0m\u001b[0m\n\u001b[0;32m     87\u001b[0m         \u001b[0mresults\u001b[0m \u001b[1;33m=\u001b[0m \u001b[0mworker\u001b[0m\u001b[1;33m.\u001b[0m\u001b[0mmap\u001b[0m\u001b[1;33m(\u001b[0m\u001b[1;33m(\u001b[0m\u001b[0muser\u001b[0m\u001b[1;33m,\u001b[0m \u001b[0mn\u001b[0m\u001b[1;33m,\u001b[0m \u001b[0mcandidates\u001b[0m\u001b[1;33m(\u001b[0m\u001b[0muser\u001b[0m\u001b[1;33m)\u001b[0m\u001b[1;33m)\u001b[0m \u001b[1;32mfor\u001b[0m \u001b[0muser\u001b[0m \u001b[1;32min\u001b[0m \u001b[0musers\u001b[0m\u001b[1;33m)\u001b[0m\u001b[1;33m\u001b[0m\u001b[1;33m\u001b[0m\u001b[0m\n\u001b[1;32m---> 88\u001b[1;33m         \u001b[0mresults\u001b[0m \u001b[1;33m=\u001b[0m \u001b[0mpd\u001b[0m\u001b[1;33m.\u001b[0m\u001b[0mconcat\u001b[0m\u001b[1;33m(\u001b[0m\u001b[0mresults\u001b[0m\u001b[1;33m,\u001b[0m \u001b[0mignore_index\u001b[0m\u001b[1;33m=\u001b[0m\u001b[1;32mTrue\u001b[0m\u001b[1;33m,\u001b[0m \u001b[0mcopy\u001b[0m\u001b[1;33m=\u001b[0m\u001b[1;32mFalse\u001b[0m\u001b[1;33m)\u001b[0m\u001b[1;33m\u001b[0m\u001b[1;33m\u001b[0m\u001b[0m\n\u001b[0m\u001b[0;32m     89\u001b[0m         \u001b[0m_logger\u001b[0m\u001b[1;33m.\u001b[0m\u001b[0minfo\u001b[0m\u001b[1;33m(\u001b[0m\u001b[1;34m'recommended for %d users in %s'\u001b[0m\u001b[1;33m,\u001b[0m \u001b[0mlen\u001b[0m\u001b[1;33m(\u001b[0m\u001b[0musers\u001b[0m\u001b[1;33m)\u001b[0m\u001b[1;33m,\u001b[0m \u001b[0mtimer\u001b[0m\u001b[1;33m)\u001b[0m\u001b[1;33m\u001b[0m\u001b[1;33m\u001b[0m\u001b[0m\n\u001b[0;32m     90\u001b[0m \u001b[1;33m\u001b[0m\u001b[0m\n",
      "\u001b[1;32mc:\\users\\jncwi\\appdata\\local\\programs\\python\\python37\\lib\\site-packages\\pandas\\core\\reshape\\concat.py\u001b[0m in \u001b[0;36mconcat\u001b[1;34m(objs, axis, join, ignore_index, keys, levels, names, verify_integrity, sort, copy)\u001b[0m\n\u001b[0;32m    282\u001b[0m         \u001b[0mverify_integrity\u001b[0m\u001b[1;33m=\u001b[0m\u001b[0mverify_integrity\u001b[0m\u001b[1;33m,\u001b[0m\u001b[1;33m\u001b[0m\u001b[1;33m\u001b[0m\u001b[0m\n\u001b[0;32m    283\u001b[0m         \u001b[0mcopy\u001b[0m\u001b[1;33m=\u001b[0m\u001b[0mcopy\u001b[0m\u001b[1;33m,\u001b[0m\u001b[1;33m\u001b[0m\u001b[1;33m\u001b[0m\u001b[0m\n\u001b[1;32m--> 284\u001b[1;33m         \u001b[0msort\u001b[0m\u001b[1;33m=\u001b[0m\u001b[0msort\u001b[0m\u001b[1;33m,\u001b[0m\u001b[1;33m\u001b[0m\u001b[1;33m\u001b[0m\u001b[0m\n\u001b[0m\u001b[0;32m    285\u001b[0m     )\n\u001b[0;32m    286\u001b[0m \u001b[1;33m\u001b[0m\u001b[0m\n",
      "\u001b[1;32mc:\\users\\jncwi\\appdata\\local\\programs\\python\\python37\\lib\\site-packages\\pandas\\core\\reshape\\concat.py\u001b[0m in \u001b[0;36m__init__\u001b[1;34m(self, objs, axis, join, keys, levels, names, ignore_index, verify_integrity, copy, sort)\u001b[0m\n\u001b[0;32m    326\u001b[0m             \u001b[0mobjs\u001b[0m \u001b[1;33m=\u001b[0m \u001b[1;33m[\u001b[0m\u001b[0mobjs\u001b[0m\u001b[1;33m[\u001b[0m\u001b[0mk\u001b[0m\u001b[1;33m]\u001b[0m \u001b[1;32mfor\u001b[0m \u001b[0mk\u001b[0m \u001b[1;32min\u001b[0m \u001b[0mkeys\u001b[0m\u001b[1;33m]\u001b[0m\u001b[1;33m\u001b[0m\u001b[1;33m\u001b[0m\u001b[0m\n\u001b[0;32m    327\u001b[0m         \u001b[1;32melse\u001b[0m\u001b[1;33m:\u001b[0m\u001b[1;33m\u001b[0m\u001b[1;33m\u001b[0m\u001b[0m\n\u001b[1;32m--> 328\u001b[1;33m             \u001b[0mobjs\u001b[0m \u001b[1;33m=\u001b[0m \u001b[0mlist\u001b[0m\u001b[1;33m(\u001b[0m\u001b[0mobjs\u001b[0m\u001b[1;33m)\u001b[0m\u001b[1;33m\u001b[0m\u001b[1;33m\u001b[0m\u001b[0m\n\u001b[0m\u001b[0;32m    329\u001b[0m \u001b[1;33m\u001b[0m\u001b[0m\n\u001b[0;32m    330\u001b[0m         \u001b[1;32mif\u001b[0m \u001b[0mlen\u001b[0m\u001b[1;33m(\u001b[0m\u001b[0mobjs\u001b[0m\u001b[1;33m)\u001b[0m \u001b[1;33m==\u001b[0m \u001b[1;36m0\u001b[0m\u001b[1;33m:\u001b[0m\u001b[1;33m\u001b[0m\u001b[1;33m\u001b[0m\u001b[0m\n",
      "\u001b[1;32mc:\\users\\jncwi\\appdata\\local\\programs\\python\\python37\\lib\\concurrent\\futures\\process.py\u001b[0m in \u001b[0;36m_chain_from_iterable_of_lists\u001b[1;34m(iterable)\u001b[0m\n\u001b[0;32m    481\u001b[0m     \u001b[0mcareful\u001b[0m \u001b[1;32mnot\u001b[0m \u001b[0mto\u001b[0m \u001b[0mkeep\u001b[0m \u001b[0mreferences\u001b[0m \u001b[0mto\u001b[0m \u001b[0myielded\u001b[0m \u001b[0mobjects\u001b[0m\u001b[1;33m.\u001b[0m\u001b[1;33m\u001b[0m\u001b[1;33m\u001b[0m\u001b[0m\n\u001b[0;32m    482\u001b[0m     \"\"\"\n\u001b[1;32m--> 483\u001b[1;33m     \u001b[1;32mfor\u001b[0m \u001b[0melement\u001b[0m \u001b[1;32min\u001b[0m \u001b[0miterable\u001b[0m\u001b[1;33m:\u001b[0m\u001b[1;33m\u001b[0m\u001b[1;33m\u001b[0m\u001b[0m\n\u001b[0m\u001b[0;32m    484\u001b[0m         \u001b[0melement\u001b[0m\u001b[1;33m.\u001b[0m\u001b[0mreverse\u001b[0m\u001b[1;33m(\u001b[0m\u001b[1;33m)\u001b[0m\u001b[1;33m\u001b[0m\u001b[1;33m\u001b[0m\u001b[0m\n\u001b[0;32m    485\u001b[0m         \u001b[1;32mwhile\u001b[0m \u001b[0melement\u001b[0m\u001b[1;33m:\u001b[0m\u001b[1;33m\u001b[0m\u001b[1;33m\u001b[0m\u001b[0m\n",
      "\u001b[1;32mc:\\users\\jncwi\\appdata\\local\\programs\\python\\python37\\lib\\concurrent\\futures\\_base.py\u001b[0m in \u001b[0;36mresult_iterator\u001b[1;34m()\u001b[0m\n\u001b[0;32m    596\u001b[0m                     \u001b[1;31m# Careful not to keep a reference to the popped future\u001b[0m\u001b[1;33m\u001b[0m\u001b[1;33m\u001b[0m\u001b[1;33m\u001b[0m\u001b[0m\n\u001b[0;32m    597\u001b[0m                     \u001b[1;32mif\u001b[0m \u001b[0mtimeout\u001b[0m \u001b[1;32mis\u001b[0m \u001b[1;32mNone\u001b[0m\u001b[1;33m:\u001b[0m\u001b[1;33m\u001b[0m\u001b[1;33m\u001b[0m\u001b[0m\n\u001b[1;32m--> 598\u001b[1;33m                         \u001b[1;32myield\u001b[0m \u001b[0mfs\u001b[0m\u001b[1;33m.\u001b[0m\u001b[0mpop\u001b[0m\u001b[1;33m(\u001b[0m\u001b[1;33m)\u001b[0m\u001b[1;33m.\u001b[0m\u001b[0mresult\u001b[0m\u001b[1;33m(\u001b[0m\u001b[1;33m)\u001b[0m\u001b[1;33m\u001b[0m\u001b[1;33m\u001b[0m\u001b[0m\n\u001b[0m\u001b[0;32m    599\u001b[0m                     \u001b[1;32melse\u001b[0m\u001b[1;33m:\u001b[0m\u001b[1;33m\u001b[0m\u001b[1;33m\u001b[0m\u001b[0m\n\u001b[0;32m    600\u001b[0m                         \u001b[1;32myield\u001b[0m \u001b[0mfs\u001b[0m\u001b[1;33m.\u001b[0m\u001b[0mpop\u001b[0m\u001b[1;33m(\u001b[0m\u001b[1;33m)\u001b[0m\u001b[1;33m.\u001b[0m\u001b[0mresult\u001b[0m\u001b[1;33m(\u001b[0m\u001b[0mend_time\u001b[0m \u001b[1;33m-\u001b[0m \u001b[0mtime\u001b[0m\u001b[1;33m.\u001b[0m\u001b[0mmonotonic\u001b[0m\u001b[1;33m(\u001b[0m\u001b[1;33m)\u001b[0m\u001b[1;33m)\u001b[0m\u001b[1;33m\u001b[0m\u001b[1;33m\u001b[0m\u001b[0m\n",
      "\u001b[1;32mc:\\users\\jncwi\\appdata\\local\\programs\\python\\python37\\lib\\concurrent\\futures\\_base.py\u001b[0m in \u001b[0;36mresult\u001b[1;34m(self, timeout)\u001b[0m\n\u001b[0;32m    433\u001b[0m                 \u001b[1;32mraise\u001b[0m \u001b[0mCancelledError\u001b[0m\u001b[1;33m(\u001b[0m\u001b[1;33m)\u001b[0m\u001b[1;33m\u001b[0m\u001b[1;33m\u001b[0m\u001b[0m\n\u001b[0;32m    434\u001b[0m             \u001b[1;32melif\u001b[0m \u001b[0mself\u001b[0m\u001b[1;33m.\u001b[0m\u001b[0m_state\u001b[0m \u001b[1;33m==\u001b[0m \u001b[0mFINISHED\u001b[0m\u001b[1;33m:\u001b[0m\u001b[1;33m\u001b[0m\u001b[1;33m\u001b[0m\u001b[0m\n\u001b[1;32m--> 435\u001b[1;33m                 \u001b[1;32mreturn\u001b[0m \u001b[0mself\u001b[0m\u001b[1;33m.\u001b[0m\u001b[0m__get_result\u001b[0m\u001b[1;33m(\u001b[0m\u001b[1;33m)\u001b[0m\u001b[1;33m\u001b[0m\u001b[1;33m\u001b[0m\u001b[0m\n\u001b[0m\u001b[0;32m    436\u001b[0m             \u001b[1;32melse\u001b[0m\u001b[1;33m:\u001b[0m\u001b[1;33m\u001b[0m\u001b[1;33m\u001b[0m\u001b[0m\n\u001b[0;32m    437\u001b[0m                 \u001b[1;32mraise\u001b[0m \u001b[0mTimeoutError\u001b[0m\u001b[1;33m(\u001b[0m\u001b[1;33m)\u001b[0m\u001b[1;33m\u001b[0m\u001b[1;33m\u001b[0m\u001b[0m\n",
      "\u001b[1;32mc:\\users\\jncwi\\appdata\\local\\programs\\python\\python37\\lib\\concurrent\\futures\\_base.py\u001b[0m in \u001b[0;36m__get_result\u001b[1;34m(self)\u001b[0m\n\u001b[0;32m    382\u001b[0m     \u001b[1;32mdef\u001b[0m \u001b[0m__get_result\u001b[0m\u001b[1;33m(\u001b[0m\u001b[0mself\u001b[0m\u001b[1;33m)\u001b[0m\u001b[1;33m:\u001b[0m\u001b[1;33m\u001b[0m\u001b[1;33m\u001b[0m\u001b[0m\n\u001b[0;32m    383\u001b[0m         \u001b[1;32mif\u001b[0m \u001b[0mself\u001b[0m\u001b[1;33m.\u001b[0m\u001b[0m_exception\u001b[0m\u001b[1;33m:\u001b[0m\u001b[1;33m\u001b[0m\u001b[1;33m\u001b[0m\u001b[0m\n\u001b[1;32m--> 384\u001b[1;33m             \u001b[1;32mraise\u001b[0m \u001b[0mself\u001b[0m\u001b[1;33m.\u001b[0m\u001b[0m_exception\u001b[0m\u001b[1;33m\u001b[0m\u001b[1;33m\u001b[0m\u001b[0m\n\u001b[0m\u001b[0;32m    385\u001b[0m         \u001b[1;32melse\u001b[0m\u001b[1;33m:\u001b[0m\u001b[1;33m\u001b[0m\u001b[1;33m\u001b[0m\u001b[0m\n\u001b[0;32m    386\u001b[0m             \u001b[1;32mreturn\u001b[0m \u001b[0mself\u001b[0m\u001b[1;33m.\u001b[0m\u001b[0m_result\u001b[0m\u001b[1;33m\u001b[0m\u001b[1;33m\u001b[0m\u001b[0m\n",
      "\u001b[1;31mAssertionError\u001b[0m: "
     ]
    }
   ],
   "source": [
    "popular = basic.Popular()\n",
    "ImplicitMF = als.ImplicitMF(50)\n",
    "SVD = svd.BiasedSVD(25)\n",
    "biases = bias.Bias()\n",
    "itemItem = knn.ItemItem(20,2)\n",
    "itemItemSum = knn.ItemItem(20,2,aggregate='sum')\n",
    "\n",
    "\n",
    "BPR = tf.BPR(50)\n",
    "liftmod = lift.Lift()\n",
    "\n",
    "from hydrink import DrinkTagMF\n",
    "customBPR = DrinkTagMF(n_features=500, reg=0.001, device='cuda')\n",
    "\n",
    "users = test.user.unique()\n",
    "items = test.item.unique()\n",
    "\n",
    "fittable = util.clone(popular)\n",
    "fittable = Recommender.adapt(fittable)\n",
    "print(f\"start training popular_model\")\n",
    "fittable.fit(train)\n",
    "print(f\"done training popular_model\")\n",
    "print(f\"start pickle popular_model\")\n",
    "filename = f'popular_model.sav'\n",
    "pickle.dump(model, open(filename, 'wb'))\n",
    "print(f\"done with pickle popular_model\")\n",
    "print(f\"start recommend popular_model\")\n",
    "recs = batch.recommend(fittable, users, 50)\n",
    "print(f\"done with recommend popular_model\")\n",
    "recs['Algorithm'] = f'popular'\n",
    "print(f\"save recommend popular_model to file\")\n",
    "recs.to_csv('all_recs4.csv')\n",
    "\n",
    "\n",
    "fittable = util.clone(SVD)\n",
    "fittable = Recommender.adapt(fittable)\n",
    "print(f\"start training SVD_model\")\n",
    "fittable.fit(train)\n",
    "print(f\"done training SVD_model\")\n",
    "print(f\"start pickle SVD_model\")\n",
    "filename = f'SVD_model.sav'\n",
    "pickle.dump(model, open(filename, 'wb'))\n",
    "print(f\"done with pickle SVD_model\")\n",
    "print(f\"start recommend SVD_model\")\n",
    "recs = batch.recommend(fittable, users, 50)\n",
    "print(f\"done with recommend ISVD_model\")\n",
    "recs['Algorithm'] = f'SVD'\n",
    "print(f\"save recommend SVD_model to file\")\n",
    "recs.to_csv('all_recs4.csv', mode='a', header=False)\n",
    "\n",
    "\n",
    "fittable = util.clone(ImplicitMF)\n",
    "fittable = Recommender.adapt(fittable)\n",
    "print(f\"start training ImplicitMF_model\")\n",
    "fittable.fit(train)\n",
    "print(f\"done training ImplicitMF_model\")\n",
    "print(f\"start pickle ImplicitMF_model\")\n",
    "filename = f'ImplicitMF_model.sav'\n",
    "pickle.dump(model, open(filename, 'wb'))\n",
    "print(f\"done with pickle ImplicitMF_model\")\n",
    "print(f\"start recommend ImplicitMF_model\")\n",
    "recs = batch.recommend(fittable, users, 50)\n",
    "print(f\"done with recommend ImplicitMF_model\")\n",
    "recs['Algorithm'] = f'ImplicitMF'\n",
    "print(f\"save recommend ImplicitMF_model to file\")\n",
    "recs.to_csv('all_recs4.csv', mode='a', header=False)\n",
    "\n",
    "\n",
    "fittable = util.clone(ExplicitMF)\n",
    "fittable = Recommender.adapt(fittable)\n",
    "print(f\"start training ExplicitMF_model\")\n",
    "fittable.fit(train)\n",
    "print(f\"done training ExplicitMF_model\")\n",
    "print(f\"start pickle ExplicitMF_model\")\n",
    "filename = f'ExplicitMF_model.sav'\n",
    "pickle.dump(model, open(filename, 'wb'))\n",
    "print(f\"done with pickle ExplicitMF_model\")\n",
    "print(f\"start recommend ExplicitMF_model\")\n",
    "recs = batch.recommend(fittable, users, 50)\n",
    "print(f\"done with recommend ExplicitMF_model\")\n",
    "recs['Algorithm'] = f'ExplicitMF'\n",
    "print(f\"save recommend ExplicitMF_model to file\")\n",
    "recs.to_csv('all_recs4.csv', mode='a', header=False)\n",
    "\n",
    "\n",
    "fittable = util.clone(itemItemSum)\n",
    "fittable = Recommender.adapt(fittable)\n",
    "print(f\"start training itemItemSum_model\")\n",
    "fittable.fit(train)\n",
    "print(f\"done training itemItemSum_model\")\n",
    "print(f\"start pickle itemItemSum_model\")\n",
    "filename = f'itemItemSum_model.sav'\n",
    "pickle.dump(model, open(filename, 'wb'))\n",
    "print(f\"done with pickle itemItemSum_model\")\n",
    "print(f\"start recommend itemItemSum_model\")\n",
    "recs = batch.recommend(fittable, users, 50)\n",
    "print(f\"done with recommend itemItemSum_model\")\n",
    "recs['Algorithm'] = f'itemItemSum'\n",
    "print(f\"save recommend itemItemSum_model to file\")\n",
    "recs.to_csv('all_recs4.csv', mode='a', header=False)\n",
    "\n",
    "\n",
    "\n",
    "fittable = util.clone(itemItem)\n",
    "fittable = Recommender.adapt(fittable)\n",
    "print(f\"start training itemItem_model\")\n",
    "fittable.fit(train)\n",
    "print(f\"done training itemItem_model\")\n",
    "print(f\"start pickle itemItem_model\")\n",
    "filename = f'itemItem_model.sav'\n",
    "pickle.dump(model, open(filename, 'wb'))\n",
    "print(f\"done with pickle itemItem_model\")\n",
    "print(f\"start recommend itemItem_model\")\n",
    "recs = batch.recommend(fittable, users, 50)\n",
    "print(f\"done with recommend itemItem_model\")\n",
    "recs['Algorithm'] = f'itemItem'\n",
    "print(f\"save recommend itemItem_model to file\")\n",
    "recs.to_csv('all_recs4.csv', mode='a', header=False)\n",
    "\n",
    "\n",
    "\n",
    "fittable = util.clone(biases)\n",
    "fittable = Recommender.adapt(fittable)\n",
    "print(f\"start training biases_model\")\n",
    "fittable.fit(train)\n",
    "print(f\"done training biases_model\")\n",
    "print(f\"start pickle biases_model\")\n",
    "filename = f'biases_model.sav'\n",
    "pickle.dump(model, open(filename, 'wb'))\n",
    "print(f\"done with pickle biases_model\")\n",
    "print(f\"start recommend biases_model\")\n",
    "recs = batch.recommend(fittable, users, 50)\n",
    "print(f\"done with recommend biases_model\")\n",
    "recs['Algorithm'] = f'biases'\n",
    "print(f\"save recommend biases_model to file\")\n",
    "recs.to_csv('all_recs4.csv', mode='a', header=False)\n",
    "\n",
    "\n",
    "fittable = util.clone(customBPR)\n",
    "fittable = Recommender.adapt(fittable)\n",
    "print(f\"start training customBPR_model\")\n",
    "fittable.fit(train, ingredients=ingredients, ingredientCounts=drink_steps)\n",
    "print(f\"done training customBPR_model\")\n",
    "print(f\"start pickle customBPR_model\")\n",
    "filename = f'customBPR_model.sav'\n",
    "pickle.dump(model, open(filename, 'wb'))\n",
    "print(f\"done with pickle customBPR_model\")\n",
    "print(f\"start recommend customBPR_model\")\n",
    "recs = batch.recommend(fittable, users, 50)\n",
    "print(f\"done with recommend customBPR_model\")\n",
    "recs['Algorithm'] = f'customBPR'\n",
    "print(f\"save recommend customBPR_model to file\")\n",
    "recs.to_csv('all_recs4.csv', mode='a', header=False)\n",
    "\n"
   ]
  },
  {
   "cell_type": "code",
   "execution_count": null,
   "metadata": {},
   "outputs": [],
   "source": []
  },
  {
   "cell_type": "code",
   "execution_count": 123,
   "metadata": {},
   "outputs": [],
   "source": [
    "filtered_ratings = pd.read_csv('data/filtered_ratings.csv', index_col = 0 )\n",
    "ingredients = pd.read_csv('data/ingredients.csv', index_col = 0 )"
   ]
  },
  {
   "cell_type": "code",
   "execution_count": 6,
   "metadata": {},
   "outputs": [
    {
     "data": {
      "text/html": [
       "<div>\n",
       "<style scoped>\n",
       "    .dataframe tbody tr th:only-of-type {\n",
       "        vertical-align: middle;\n",
       "    }\n",
       "\n",
       "    .dataframe tbody tr th {\n",
       "        vertical-align: top;\n",
       "    }\n",
       "\n",
       "    .dataframe thead th {\n",
       "        text-align: right;\n",
       "    }\n",
       "</style>\n",
       "<table border=\"1\" class=\"dataframe\">\n",
       "  <thead>\n",
       "    <tr style=\"text-align: right;\">\n",
       "      <th></th>\n",
       "      <th>user</th>\n",
       "      <th>item</th>\n",
       "      <th>rating</th>\n",
       "    </tr>\n",
       "  </thead>\n",
       "  <tbody>\n",
       "    <tr>\n",
       "      <th>0</th>\n",
       "      <td>296027</td>\n",
       "      <td>182985</td>\n",
       "      <td>4</td>\n",
       "    </tr>\n",
       "    <tr>\n",
       "      <th>1</th>\n",
       "      <td>452940</td>\n",
       "      <td>367080</td>\n",
       "      <td>4</td>\n",
       "    </tr>\n",
       "    <tr>\n",
       "      <th>2</th>\n",
       "      <td>162826</td>\n",
       "      <td>367080</td>\n",
       "      <td>5</td>\n",
       "    </tr>\n",
       "    <tr>\n",
       "      <th>3</th>\n",
       "      <td>303545</td>\n",
       "      <td>259553</td>\n",
       "      <td>5</td>\n",
       "    </tr>\n",
       "    <tr>\n",
       "      <th>4</th>\n",
       "      <td>538524</td>\n",
       "      <td>280085</td>\n",
       "      <td>5</td>\n",
       "    </tr>\n",
       "    <tr>\n",
       "      <th>...</th>\n",
       "      <td>...</td>\n",
       "      <td>...</td>\n",
       "      <td>...</td>\n",
       "    </tr>\n",
       "    <tr>\n",
       "      <th>14292</th>\n",
       "      <td>32907</td>\n",
       "      <td>94338</td>\n",
       "      <td>4</td>\n",
       "    </tr>\n",
       "    <tr>\n",
       "      <th>14293</th>\n",
       "      <td>465056</td>\n",
       "      <td>255933</td>\n",
       "      <td>5</td>\n",
       "    </tr>\n",
       "    <tr>\n",
       "      <th>14294</th>\n",
       "      <td>37449</td>\n",
       "      <td>255933</td>\n",
       "      <td>5</td>\n",
       "    </tr>\n",
       "    <tr>\n",
       "      <th>14295</th>\n",
       "      <td>128473</td>\n",
       "      <td>255933</td>\n",
       "      <td>5</td>\n",
       "    </tr>\n",
       "    <tr>\n",
       "      <th>14296</th>\n",
       "      <td>107583</td>\n",
       "      <td>255933</td>\n",
       "      <td>5</td>\n",
       "    </tr>\n",
       "  </tbody>\n",
       "</table>\n",
       "<p>14297 rows × 3 columns</p>\n",
       "</div>"
      ],
      "text/plain": [
       "         user    item  rating\n",
       "0      296027  182985       4\n",
       "1      452940  367080       4\n",
       "2      162826  367080       5\n",
       "3      303545  259553       5\n",
       "4      538524  280085       5\n",
       "...       ...     ...     ...\n",
       "14292   32907   94338       4\n",
       "14293  465056  255933       5\n",
       "14294   37449  255933       5\n",
       "14295  128473  255933       5\n",
       "14296  107583  255933       5\n",
       "\n",
       "[14297 rows x 3 columns]"
      ]
     },
     "execution_count": 6,
     "metadata": {},
     "output_type": "execute_result"
    }
   ],
   "source": [
    "filtered_ratings = filtered_ratings.drop(columns={\"date\"})\n",
    "filtered_ratings"
   ]
  },
  {
   "cell_type": "code",
   "execution_count": 60,
   "metadata": {},
   "outputs": [
    {
     "data": {
      "text/html": [
       "<div>\n",
       "<style scoped>\n",
       "    .dataframe tbody tr th:only-of-type {\n",
       "        vertical-align: middle;\n",
       "    }\n",
       "\n",
       "    .dataframe tbody tr th {\n",
       "        vertical-align: top;\n",
       "    }\n",
       "\n",
       "    .dataframe thead th {\n",
       "        text-align: right;\n",
       "    }\n",
       "</style>\n",
       "<table border=\"1\" class=\"dataframe\">\n",
       "  <thead>\n",
       "    <tr style=\"text-align: right;\">\n",
       "      <th></th>\n",
       "      <th>user</th>\n",
       "      <th>item</th>\n",
       "      <th>date</th>\n",
       "      <th>rating</th>\n",
       "    </tr>\n",
       "  </thead>\n",
       "  <tbody>\n",
       "    <tr>\n",
       "      <th>2619</th>\n",
       "      <td>169969</td>\n",
       "      <td>306714</td>\n",
       "      <td>2008-06-09</td>\n",
       "      <td>5</td>\n",
       "    </tr>\n",
       "    <tr>\n",
       "      <th>1651</th>\n",
       "      <td>227978</td>\n",
       "      <td>213034</td>\n",
       "      <td>2009-08-29</td>\n",
       "      <td>5</td>\n",
       "    </tr>\n",
       "    <tr>\n",
       "      <th>4330</th>\n",
       "      <td>61569</td>\n",
       "      <td>213182</td>\n",
       "      <td>2008-06-26</td>\n",
       "      <td>5</td>\n",
       "    </tr>\n",
       "    <tr>\n",
       "      <th>4470</th>\n",
       "      <td>330545</td>\n",
       "      <td>279301</td>\n",
       "      <td>2008-01-22</td>\n",
       "      <td>2</td>\n",
       "    </tr>\n",
       "    <tr>\n",
       "      <th>1886</th>\n",
       "      <td>679953</td>\n",
       "      <td>336382</td>\n",
       "      <td>2011-03-31</td>\n",
       "      <td>5</td>\n",
       "    </tr>\n",
       "    <tr>\n",
       "      <th>...</th>\n",
       "      <td>...</td>\n",
       "      <td>...</td>\n",
       "      <td>...</td>\n",
       "      <td>...</td>\n",
       "    </tr>\n",
       "    <tr>\n",
       "      <th>1523</th>\n",
       "      <td>280271</td>\n",
       "      <td>347635</td>\n",
       "      <td>2010-03-09</td>\n",
       "      <td>5</td>\n",
       "    </tr>\n",
       "    <tr>\n",
       "      <th>2259</th>\n",
       "      <td>1072593</td>\n",
       "      <td>270387</td>\n",
       "      <td>2012-01-21</td>\n",
       "      <td>5</td>\n",
       "    </tr>\n",
       "    <tr>\n",
       "      <th>2639</th>\n",
       "      <td>314579</td>\n",
       "      <td>166673</td>\n",
       "      <td>2006-06-14</td>\n",
       "      <td>5</td>\n",
       "    </tr>\n",
       "    <tr>\n",
       "      <th>2690</th>\n",
       "      <td>464080</td>\n",
       "      <td>229351</td>\n",
       "      <td>2009-05-18</td>\n",
       "      <td>5</td>\n",
       "    </tr>\n",
       "    <tr>\n",
       "      <th>407</th>\n",
       "      <td>351811</td>\n",
       "      <td>232823</td>\n",
       "      <td>2008-04-20</td>\n",
       "      <td>4</td>\n",
       "    </tr>\n",
       "  </tbody>\n",
       "</table>\n",
       "<p>961 rows × 4 columns</p>\n",
       "</div>"
      ],
      "text/plain": [
       "         user    item        date  rating\n",
       "2619   169969  306714  2008-06-09       5\n",
       "1651   227978  213034  2009-08-29       5\n",
       "4330    61569  213182  2008-06-26       5\n",
       "4470   330545  279301  2008-01-22       2\n",
       "1886   679953  336382  2011-03-31       5\n",
       "...       ...     ...         ...     ...\n",
       "1523   280271  347635  2010-03-09       5\n",
       "2259  1072593  270387  2012-01-21       5\n",
       "2639   314579  166673  2006-06-14       5\n",
       "2690   464080  229351  2009-05-18       5\n",
       "407    351811  232823  2008-04-20       4\n",
       "\n",
       "[961 rows x 4 columns]"
      ]
     },
     "execution_count": 60,
     "metadata": {},
     "output_type": "execute_result"
    }
   ],
   "source": [
    "test"
   ]
  },
  {
   "cell_type": "code",
   "execution_count": 101,
   "metadata": {},
   "outputs": [
    {
     "data": {
      "text/html": [
       "<div>\n",
       "<style scoped>\n",
       "    .dataframe tbody tr th:only-of-type {\n",
       "        vertical-align: middle;\n",
       "    }\n",
       "\n",
       "    .dataframe tbody tr th {\n",
       "        vertical-align: top;\n",
       "    }\n",
       "\n",
       "    .dataframe thead th {\n",
       "        text-align: right;\n",
       "    }\n",
       "</style>\n",
       "<table border=\"1\" class=\"dataframe\">\n",
       "  <thead>\n",
       "    <tr style=\"text-align: right;\">\n",
       "      <th></th>\n",
       "      <th>user</th>\n",
       "      <th>item</th>\n",
       "      <th>date</th>\n",
       "      <th>rating</th>\n",
       "    </tr>\n",
       "  </thead>\n",
       "  <tbody>\n",
       "    <tr>\n",
       "      <th>0</th>\n",
       "      <td>382071</td>\n",
       "      <td>258558</td>\n",
       "      <td>2007-10-29</td>\n",
       "      <td>5</td>\n",
       "    </tr>\n",
       "    <tr>\n",
       "      <th>1</th>\n",
       "      <td>382071</td>\n",
       "      <td>303968</td>\n",
       "      <td>2008-06-06</td>\n",
       "      <td>4</td>\n",
       "    </tr>\n",
       "    <tr>\n",
       "      <th>2</th>\n",
       "      <td>382071</td>\n",
       "      <td>232298</td>\n",
       "      <td>2007-10-08</td>\n",
       "      <td>5</td>\n",
       "    </tr>\n",
       "    <tr>\n",
       "      <th>3</th>\n",
       "      <td>382071</td>\n",
       "      <td>240135</td>\n",
       "      <td>2007-10-06</td>\n",
       "      <td>4</td>\n",
       "    </tr>\n",
       "    <tr>\n",
       "      <th>4</th>\n",
       "      <td>382071</td>\n",
       "      <td>250764</td>\n",
       "      <td>2007-10-14</td>\n",
       "      <td>4</td>\n",
       "    </tr>\n",
       "    <tr>\n",
       "      <th>...</th>\n",
       "      <td>...</td>\n",
       "      <td>...</td>\n",
       "      <td>...</td>\n",
       "      <td>...</td>\n",
       "    </tr>\n",
       "    <tr>\n",
       "      <th>945</th>\n",
       "      <td>64203</td>\n",
       "      <td>66947</td>\n",
       "      <td>2008-05-26</td>\n",
       "      <td>5</td>\n",
       "    </tr>\n",
       "    <tr>\n",
       "      <th>946</th>\n",
       "      <td>282678</td>\n",
       "      <td>315657</td>\n",
       "      <td>2008-08-14</td>\n",
       "      <td>5</td>\n",
       "    </tr>\n",
       "    <tr>\n",
       "      <th>947</th>\n",
       "      <td>4470</td>\n",
       "      <td>8877</td>\n",
       "      <td>2005-12-08</td>\n",
       "      <td>5</td>\n",
       "    </tr>\n",
       "    <tr>\n",
       "      <th>948</th>\n",
       "      <td>4470</td>\n",
       "      <td>191999</td>\n",
       "      <td>2006-10-26</td>\n",
       "      <td>5</td>\n",
       "    </tr>\n",
       "    <tr>\n",
       "      <th>949</th>\n",
       "      <td>497077</td>\n",
       "      <td>271812</td>\n",
       "      <td>2008-10-23</td>\n",
       "      <td>5</td>\n",
       "    </tr>\n",
       "  </tbody>\n",
       "</table>\n",
       "<p>950 rows × 4 columns</p>\n",
       "</div>"
      ],
      "text/plain": [
       "       user    item        date  rating\n",
       "0    382071  258558  2007-10-29       5\n",
       "1    382071  303968  2008-06-06       4\n",
       "2    382071  232298  2007-10-08       5\n",
       "3    382071  240135  2007-10-06       4\n",
       "4    382071  250764  2007-10-14       4\n",
       "..      ...     ...         ...     ...\n",
       "945   64203   66947  2008-05-26       5\n",
       "946  282678  315657  2008-08-14       5\n",
       "947    4470    8877  2005-12-08       5\n",
       "948    4470  191999  2006-10-26       5\n",
       "949  497077  271812  2008-10-23       5\n",
       "\n",
       "[950 rows x 4 columns]"
      ]
     },
     "execution_count": 101,
     "metadata": {},
     "output_type": "execute_result"
    }
   ],
   "source": [
    "train ,test = train_test_split(ratings_items_above_5,test_size=0.2, random_state=456)  \n",
    "test2 = pd.DataFrame()\n",
    "for user in train.user.unique():\n",
    "    temp = test[test['user'] == user]\n",
    "    if (len(temp) >= 1):\n",
    "        test2 = test2.append(temp, ignore_index=True)\n",
    "test2"
   ]
  },
  {
   "cell_type": "code",
   "execution_count": 78,
   "metadata": {},
   "outputs": [
    {
     "name": "stdout",
     "output_type": "stream",
     "text": [
      "start training customBPR_model\n"
     ]
    },
    {
     "data": {
      "application/vnd.jupyter.widget-view+json": {
       "model_id": "06ccae5abfc64772924a7f884e4797a7",
       "version_major": 2,
       "version_minor": 0
      },
      "text/plain": [
       "HBox(children=(HTML(value=''), FloatProgress(value=0.0, max=1.0), HTML(value='')))"
      ]
     },
     "metadata": {},
     "output_type": "display_data"
    },
    {
     "name": "stdout",
     "output_type": "stream",
     "text": [
      "\n"
     ]
    },
    {
     "data": {
      "application/vnd.jupyter.widget-view+json": {
       "model_id": "1678796cfc9948a9a0b16d4da3efa29a",
       "version_major": 2,
       "version_minor": 0
      },
      "text/plain": [
       "HBox(children=(HTML(value=''), FloatProgress(value=0.0, max=1.0), HTML(value='')))"
      ]
     },
     "metadata": {},
     "output_type": "display_data"
    },
    {
     "name": "stdout",
     "output_type": "stream",
     "text": [
      "\n"
     ]
    },
    {
     "data": {
      "application/vnd.jupyter.widget-view+json": {
       "model_id": "037b189f398f4253a66c75277fc91a2e",
       "version_major": 2,
       "version_minor": 0
      },
      "text/plain": [
       "HBox(children=(HTML(value=''), FloatProgress(value=0.0, max=1.0), HTML(value='')))"
      ]
     },
     "metadata": {},
     "output_type": "display_data"
    },
    {
     "name": "stdout",
     "output_type": "stream",
     "text": [
      "\n"
     ]
    },
    {
     "data": {
      "application/vnd.jupyter.widget-view+json": {
       "model_id": "65c17cea517a4e409ddd6055bfb5f0de",
       "version_major": 2,
       "version_minor": 0
      },
      "text/plain": [
       "HBox(children=(HTML(value=''), FloatProgress(value=0.0, max=1.0), HTML(value='')))"
      ]
     },
     "metadata": {},
     "output_type": "display_data"
    },
    {
     "name": "stdout",
     "output_type": "stream",
     "text": [
      "\n"
     ]
    },
    {
     "data": {
      "application/vnd.jupyter.widget-view+json": {
       "model_id": "42211d9ef3da48e5ab87422ea12ffcf3",
       "version_major": 2,
       "version_minor": 0
      },
      "text/plain": [
       "HBox(children=(HTML(value=''), FloatProgress(value=0.0, max=1.0), HTML(value='')))"
      ]
     },
     "metadata": {},
     "output_type": "display_data"
    },
    {
     "name": "stdout",
     "output_type": "stream",
     "text": [
      "\n",
      "done training customBPR_model\n",
      "start pickle customBPR_model\n",
      "done with pickle customBPR_model\n",
      "start recommend customBPR_model\n"
     ]
    },
    {
     "name": "stderr",
     "output_type": "stream",
     "text": [
      "user 50969 unknown\n",
      "user 33159 unknown\n",
      "user 114027 unknown\n",
      "user 1800054678 unknown\n",
      "user 303700 unknown\n",
      "user 280166 unknown\n",
      "user 68460 unknown\n",
      "user 461428 unknown\n"
     ]
    },
    {
     "name": "stdout",
     "output_type": "stream",
     "text": [
      "done with recommend customBPR_model\n",
      "save recommend customBPR_model to file\n"
     ]
    }
   ],
   "source": [
    "train ,test = train_test_split(ratings_items_above_5,test_size=0.2, random_state=456)  \n",
    "\n",
    "popular = basic.Popular()\n",
    "ImplicitMF = als.ImplicitMF(50)\n",
    "BPR = tf.BPR(50)\n",
    "liftmod = lift.Lift()\n",
    "\n",
    "biases = bias.Bias()\n",
    "userUser = user_knn.UserUser(30)\n",
    "itemItem = knn.ItemItem(20,2)\n",
    "itemItemSum = knn.ItemItem(20,2,aggregate='sum')\n",
    "ExplicitMF = als.BiasedMF(50)\n",
    "SVD = svd.BiasedSVD(25)\n",
    "\n",
    "from hydrink import DrinkTagMF\n",
    "model = DrinkTagMF(50, device='cuda')\n",
    "\n",
    "users = test.user.unique()\n",
    "items = test.item.unique()\n",
    "\n",
    "fittable = util.clone(model)\n",
    "fittable = Recommender.adapt(fittable)\n",
    "print(f\"start training customBPR_model\")\n",
    "fittable.fit(train, ingredients=ingredients, ingredientCounts=drink_steps)\n",
    "print(f\"done training customBPR_model\")\n",
    "print(f\"start pickle customBPR_model\")\n",
    "filename = f'customBPR_model.sav'\n",
    "pickle.dump(model, open(filename, 'wb'))\n",
    "print(f\"done with pickle customBPR_model\")\n",
    "print(f\"start recommend customBPR_model\")\n",
    "recs = batch.recommend(fittable, users, 50)\n",
    "print(f\"done with recommend customBPR_model\")\n",
    "recs['Algorithm'] = f'customBPR'\n",
    "print(f\"save recommend customBPR_model to file\")\n",
    "# recs.to_csv('all_recs.csv', mode='a', header=False)\n",
    "recs.to_csv('all_recs5.csv')"
   ]
  },
  {
   "cell_type": "code",
   "execution_count": 86,
   "metadata": {},
   "outputs": [
    {
     "ename": "TypeError",
     "evalue": "__init__() got an unexpected keyword argument 'n_features'",
     "output_type": "error",
     "traceback": [
      "\u001b[1;31m---------------------------------------------------------------------------\u001b[0m",
      "\u001b[1;31mTypeError\u001b[0m                                 Traceback (most recent call last)",
      "\u001b[1;32m<ipython-input-86-95653a1a90cd>\u001b[0m in \u001b[0;36m<module>\u001b[1;34m\u001b[0m\n\u001b[0;32m      2\u001b[0m \u001b[1;32mfor\u001b[0m \u001b[0mi\u001b[0m \u001b[1;32min\u001b[0m \u001b[1;33m[\u001b[0m\u001b[1;36m5\u001b[0m\u001b[1;33m,\u001b[0m\u001b[1;36m10\u001b[0m\u001b[1;33m,\u001b[0m\u001b[1;36m25\u001b[0m\u001b[1;33m,\u001b[0m\u001b[1;36m50\u001b[0m\u001b[1;33m,\u001b[0m\u001b[1;36m75\u001b[0m\u001b[1;33m,\u001b[0m\u001b[1;36m100\u001b[0m\u001b[1;33m,\u001b[0m\u001b[1;36m200\u001b[0m\u001b[1;33m]\u001b[0m\u001b[1;33m:\u001b[0m\u001b[1;33m\u001b[0m\u001b[1;33m\u001b[0m\u001b[0m\n\u001b[0;32m      3\u001b[0m     \u001b[1;32mfor\u001b[0m \u001b[0mj\u001b[0m \u001b[1;32min\u001b[0m \u001b[1;33m[\u001b[0m\u001b[1;36m0.1\u001b[0m\u001b[1;33m,\u001b[0m\u001b[1;36m0.01\u001b[0m\u001b[1;33m,\u001b[0m\u001b[1;36m0.001\u001b[0m\u001b[1;33m]\u001b[0m\u001b[1;33m:\u001b[0m\u001b[1;33m\u001b[0m\u001b[1;33m\u001b[0m\u001b[0m\n\u001b[1;32m----> 4\u001b[1;33m         \u001b[0mmodel\u001b[0m \u001b[1;33m=\u001b[0m \u001b[0mbasic\u001b[0m\u001b[1;33m.\u001b[0m\u001b[0mPopular\u001b[0m\u001b[1;33m(\u001b[0m\u001b[0mn_features\u001b[0m\u001b[1;33m=\u001b[0m\u001b[0mi\u001b[0m\u001b[1;33m,\u001b[0m \u001b[0mreg\u001b[0m\u001b[1;33m=\u001b[0m\u001b[0mj\u001b[0m\u001b[1;33m,\u001b[0m \u001b[0mdevice\u001b[0m\u001b[1;33m=\u001b[0m\u001b[1;34m'cuda'\u001b[0m\u001b[1;33m)\u001b[0m\u001b[1;33m\u001b[0m\u001b[1;33m\u001b[0m\u001b[0m\n\u001b[0m\u001b[0;32m      5\u001b[0m         \u001b[0mfittable\u001b[0m \u001b[1;33m=\u001b[0m \u001b[0mutil\u001b[0m\u001b[1;33m.\u001b[0m\u001b[0mclone\u001b[0m\u001b[1;33m(\u001b[0m\u001b[0mmodel\u001b[0m\u001b[1;33m)\u001b[0m\u001b[1;33m\u001b[0m\u001b[1;33m\u001b[0m\u001b[0m\n\u001b[0;32m      6\u001b[0m         \u001b[0mfittable\u001b[0m \u001b[1;33m=\u001b[0m \u001b[0mRecommender\u001b[0m\u001b[1;33m.\u001b[0m\u001b[0madapt\u001b[0m\u001b[1;33m(\u001b[0m\u001b[0mfittable\u001b[0m\u001b[1;33m)\u001b[0m\u001b[1;33m\u001b[0m\u001b[1;33m\u001b[0m\u001b[0m\n",
      "\u001b[1;31mTypeError\u001b[0m: __init__() got an unexpected keyword argument 'n_features'"
     ]
    }
   ],
   "source": [
    "counter = 1\n",
    "for i in [5,10,25,50,75,100,200]:\n",
    "    for j in [0.1,0.01,0.001]:\n",
    "        model = DrinkTagMF(n_features=i, reg=j, device='cuda')\n",
    "        fittable = util.clone(model)\n",
    "        fittable = Recommender.adapt(fittable)\n",
    "        print(f\"start training hydrink_model{counter}\")\n",
    "        fittable.fit(train, ingredients=ingredients, ingredientCounts=drink_steps)\n",
    "        print(f\"done training hydrink_model{counter}\")\n",
    "        print(f\"start pickle hydrink_model{counter}\")\n",
    "        filename = f'hydrink_model{counter}.sav'\n",
    "        pickle.dump(model, open(filename, 'wb'))\n",
    "        print(f\"done with pickle hydrink_model{counter}\")\n",
    "        print(f\"start recommend hydrink_model{counter}\")\n",
    "        recs = batch.recommend(fittable, users, 50)\n",
    "        print(f\"done with recommend hydrink_model{counter}\")\n",
    "        recs['Algorithm'] = f'hydrink_{counter}'\n",
    "        print(f\"save recommend hydrink_model{counter} to file\")\n",
    "        recs.to_csv('all_recs5.csv', mode='a', header=False)\n",
    "        counter = counter + 1"
   ]
  },
  {
   "cell_type": "code",
   "execution_count": 81,
   "metadata": {},
   "outputs": [
    {
     "data": {
      "text/plain": [
       "<AxesSubplot:xlabel='Algorithm'>"
      ]
     },
     "execution_count": 81,
     "metadata": {},
     "output_type": "execute_result"
    },
    {
     "data": {
      "image/png": "[encoded data removed]",
      "text/plain": [
       "<Figure size 432x288 with 1 Axes>"
      ]
     },
     "metadata": {
      "needs_background": "light"
     },
     "output_type": "display_data"
    }
   ],
   "source": [
    "from lenskit import topn\n",
    "import pandas as pd\n",
    "# test6 = pd.read_csv('test6.csv', index_col = 0 )\n",
    "test_data = pd.DataFrame()\n",
    "test_data = []\n",
    "test_data.append(test)\n",
    "test_data = pd.concat(test_data, ignore_index=True)\n",
    "test_rec = pd.read_csv('all_recs5.csv', index_col = 0 )\n",
    "rla = topn.RecListAnalysis()\n",
    "rla.add_metric(topn.ndcg)\n",
    "results = rla.compute(test_rec, test_data)\n",
    "\n",
    "results.head()\n",
    "results.groupby('Algorithm').ndcg.mean()\n",
    "results.groupby('Algorithm').ndcg.mean().plot.bar()"
   ]
  },
  {
   "cell_type": "code",
   "execution_count": 84,
   "metadata": {},
   "outputs": [
    {
     "name": "stdout",
     "output_type": "stream",
     "text": [
      "start training hydrink_model1\n"
     ]
    },
    {
     "data": {
      "application/vnd.jupyter.widget-view+json": {
       "model_id": "ebf8b1916ba34968a57bc7af7b1fdbb8",
       "version_major": 2,
       "version_minor": 0
      },
      "text/plain": [
       "HBox(children=(HTML(value=''), FloatProgress(value=0.0, max=1.0), HTML(value='')))"
      ]
     },
     "metadata": {},
     "output_type": "display_data"
    },
    {
     "name": "stdout",
     "output_type": "stream",
     "text": [
      "\n"
     ]
    },
    {
     "data": {
      "application/vnd.jupyter.widget-view+json": {
       "model_id": "4519d8709ba841ba8700c45a81405759",
       "version_major": 2,
       "version_minor": 0
      },
      "text/plain": [
       "HBox(children=(HTML(value=''), FloatProgress(value=0.0, max=1.0), HTML(value='')))"
      ]
     },
     "metadata": {},
     "output_type": "display_data"
    },
    {
     "name": "stdout",
     "output_type": "stream",
     "text": [
      "\n"
     ]
    },
    {
     "data": {
      "application/vnd.jupyter.widget-view+json": {
       "model_id": "70f15fc41b9b485b90ee3355adc44cc5",
       "version_major": 2,
       "version_minor": 0
      },
      "text/plain": [
       "HBox(children=(HTML(value=''), FloatProgress(value=0.0, max=1.0), HTML(value='')))"
      ]
     },
     "metadata": {},
     "output_type": "display_data"
    },
    {
     "name": "stdout",
     "output_type": "stream",
     "text": [
      "\n"
     ]
    },
    {
     "data": {
      "application/vnd.jupyter.widget-view+json": {
       "model_id": "5ad40ec77de741bc88053cc5f0a26cc5",
       "version_major": 2,
       "version_minor": 0
      },
      "text/plain": [
       "HBox(children=(HTML(value=''), FloatProgress(value=0.0, max=1.0), HTML(value='')))"
      ]
     },
     "metadata": {},
     "output_type": "display_data"
    },
    {
     "name": "stdout",
     "output_type": "stream",
     "text": [
      "\n"
     ]
    },
    {
     "data": {
      "application/vnd.jupyter.widget-view+json": {
       "model_id": "fbfa76eb97bf4a6f8f0d1e035c2ccd95",
       "version_major": 2,
       "version_minor": 0
      },
      "text/plain": [
       "HBox(children=(HTML(value=''), FloatProgress(value=0.0, max=1.0), HTML(value='')))"
      ]
     },
     "metadata": {},
     "output_type": "display_data"
    },
    {
     "name": "stdout",
     "output_type": "stream",
     "text": [
      "\n",
      "done training hydrink_model1\n",
      "start pickle hydrink_model1\n",
      "done with pickle hydrink_model1\n",
      "start recommend hydrink_model1\n"
     ]
    },
    {
     "name": "stderr",
     "output_type": "stream",
     "text": [
      "user 50969 unknown\n",
      "user 33159 unknown\n",
      "user 114027 unknown\n",
      "user 1800054678 unknown\n",
      "user 303700 unknown\n",
      "user 280166 unknown\n",
      "user 68460 unknown\n",
      "user 461428 unknown\n"
     ]
    },
    {
     "name": "stdout",
     "output_type": "stream",
     "text": [
      "done with recommend hydrink_model1\n",
      "save recommend hydrink_model1 to file\n",
      "start training hydrink_model2\n"
     ]
    },
    {
     "data": {
      "application/vnd.jupyter.widget-view+json": {
       "model_id": "612b9542bced4eb6a12e05160495c4e3",
       "version_major": 2,
       "version_minor": 0
      },
      "text/plain": [
       "HBox(children=(HTML(value=''), FloatProgress(value=0.0, max=1.0), HTML(value='')))"
      ]
     },
     "metadata": {},
     "output_type": "display_data"
    },
    {
     "name": "stdout",
     "output_type": "stream",
     "text": [
      "\n"
     ]
    },
    {
     "data": {
      "application/vnd.jupyter.widget-view+json": {
       "model_id": "87ef6b1df729436099711c590adf107f",
       "version_major": 2,
       "version_minor": 0
      },
      "text/plain": [
       "HBox(children=(HTML(value=''), FloatProgress(value=0.0, max=1.0), HTML(value='')))"
      ]
     },
     "metadata": {},
     "output_type": "display_data"
    },
    {
     "name": "stdout",
     "output_type": "stream",
     "text": [
      "\n"
     ]
    },
    {
     "data": {
      "application/vnd.jupyter.widget-view+json": {
       "model_id": "21d6b1dfdb5842a996754255662a86ff",
       "version_major": 2,
       "version_minor": 0
      },
      "text/plain": [
       "HBox(children=(HTML(value=''), FloatProgress(value=0.0, max=1.0), HTML(value='')))"
      ]
     },
     "metadata": {},
     "output_type": "display_data"
    },
    {
     "name": "stdout",
     "output_type": "stream",
     "text": [
      "\n"
     ]
    },
    {
     "data": {
      "application/vnd.jupyter.widget-view+json": {
       "model_id": "9cd0fd621bd3472eb7c28f824c3d75d2",
       "version_major": 2,
       "version_minor": 0
      },
      "text/plain": [
       "HBox(children=(HTML(value=''), FloatProgress(value=0.0, max=1.0), HTML(value='')))"
      ]
     },
     "metadata": {},
     "output_type": "display_data"
    },
    {
     "name": "stdout",
     "output_type": "stream",
     "text": [
      "\n"
     ]
    },
    {
     "data": {
      "application/vnd.jupyter.widget-view+json": {
       "model_id": "99ed901e4d1a47f1bd55cf8d83b690cf",
       "version_major": 2,
       "version_minor": 0
      },
      "text/plain": [
       "HBox(children=(HTML(value=''), FloatProgress(value=0.0, max=1.0), HTML(value='')))"
      ]
     },
     "metadata": {},
     "output_type": "display_data"
    },
    {
     "name": "stdout",
     "output_type": "stream",
     "text": [
      "\n",
      "done training hydrink_model2\n",
      "start pickle hydrink_model2\n",
      "done with pickle hydrink_model2\n",
      "start recommend hydrink_model2\n"
     ]
    },
    {
     "name": "stderr",
     "output_type": "stream",
     "text": [
      "user 50969 unknown\n",
      "user 33159 unknown\n",
      "user 114027 unknown\n",
      "user 1800054678 unknown\n",
      "user 303700 unknown\n",
      "user 280166 unknown\n",
      "user 68460 unknown\n",
      "user 461428 unknown\n"
     ]
    },
    {
     "name": "stdout",
     "output_type": "stream",
     "text": [
      "done with recommend hydrink_model2\n",
      "save recommend hydrink_model2 to file\n",
      "start training hydrink_model3\n"
     ]
    },
    {
     "data": {
      "application/vnd.jupyter.widget-view+json": {
       "model_id": "c931e66a06f94d0fbf1afcb20a2c10e2",
       "version_major": 2,
       "version_minor": 0
      },
      "text/plain": [
       "HBox(children=(HTML(value=''), FloatProgress(value=0.0, max=1.0), HTML(value='')))"
      ]
     },
     "metadata": {},
     "output_type": "display_data"
    },
    {
     "name": "stdout",
     "output_type": "stream",
     "text": [
      "\n"
     ]
    },
    {
     "data": {
      "application/vnd.jupyter.widget-view+json": {
       "model_id": "09e0af7be5b5432dbe485fd8b5f68fb1",
       "version_major": 2,
       "version_minor": 0
      },
      "text/plain": [
       "HBox(children=(HTML(value=''), FloatProgress(value=0.0, max=1.0), HTML(value='')))"
      ]
     },
     "metadata": {},
     "output_type": "display_data"
    },
    {
     "name": "stdout",
     "output_type": "stream",
     "text": [
      "\n"
     ]
    },
    {
     "data": {
      "application/vnd.jupyter.widget-view+json": {
       "model_id": "7a85684fff1b4c389911b5bba289152e",
       "version_major": 2,
       "version_minor": 0
      },
      "text/plain": [
       "HBox(children=(HTML(value=''), FloatProgress(value=0.0, max=1.0), HTML(value='')))"
      ]
     },
     "metadata": {},
     "output_type": "display_data"
    },
    {
     "name": "stdout",
     "output_type": "stream",
     "text": [
      "\n"
     ]
    },
    {
     "data": {
      "application/vnd.jupyter.widget-view+json": {
       "model_id": "4322a245a0954469a711964c97108130",
       "version_major": 2,
       "version_minor": 0
      },
      "text/plain": [
       "HBox(children=(HTML(value=''), FloatProgress(value=0.0, max=1.0), HTML(value='')))"
      ]
     },
     "metadata": {},
     "output_type": "display_data"
    },
    {
     "name": "stdout",
     "output_type": "stream",
     "text": [
      "\n"
     ]
    },
    {
     "data": {
      "application/vnd.jupyter.widget-view+json": {
       "model_id": "8b2ef82eaae043c0bd521b54b91aa341",
       "version_major": 2,
       "version_minor": 0
      },
      "text/plain": [
       "HBox(children=(HTML(value=''), FloatProgress(value=0.0, max=1.0), HTML(value='')))"
      ]
     },
     "metadata": {},
     "output_type": "display_data"
    },
    {
     "name": "stdout",
     "output_type": "stream",
     "text": [
      "\n",
      "done training hydrink_model3\n",
      "start pickle hydrink_model3\n",
      "done with pickle hydrink_model3\n",
      "start recommend hydrink_model3\n"
     ]
    },
    {
     "name": "stderr",
     "output_type": "stream",
     "text": [
      "user 50969 unknown\n",
      "user 33159 unknown\n",
      "user 1800054678 unknown\n",
      "user 114027 unknown\n",
      "user 303700 unknown\n",
      "user 280166 unknown\n",
      "user 68460 unknown\n",
      "user 461428 unknown\n"
     ]
    },
    {
     "name": "stdout",
     "output_type": "stream",
     "text": [
      "done with recommend hydrink_model3\n",
      "save recommend hydrink_model3 to file\n",
      "start training hydrink_model4\n"
     ]
    },
    {
     "data": {
      "application/vnd.jupyter.widget-view+json": {
       "model_id": "1d3f408b5e5746c0afd103c0b7fc8de6",
       "version_major": 2,
       "version_minor": 0
      },
      "text/plain": [
       "HBox(children=(HTML(value=''), FloatProgress(value=0.0, max=1.0), HTML(value='')))"
      ]
     },
     "metadata": {},
     "output_type": "display_data"
    },
    {
     "name": "stdout",
     "output_type": "stream",
     "text": [
      "\n"
     ]
    },
    {
     "data": {
      "application/vnd.jupyter.widget-view+json": {
       "model_id": "3e825ab09de545a49819bbd188835ac9",
       "version_major": 2,
       "version_minor": 0
      },
      "text/plain": [
       "HBox(children=(HTML(value=''), FloatProgress(value=0.0, max=1.0), HTML(value='')))"
      ]
     },
     "metadata": {},
     "output_type": "display_data"
    },
    {
     "name": "stdout",
     "output_type": "stream",
     "text": [
      "\n"
     ]
    },
    {
     "data": {
      "application/vnd.jupyter.widget-view+json": {
       "model_id": "658d84ef39d245c08b987e9abfa6265c",
       "version_major": 2,
       "version_minor": 0
      },
      "text/plain": [
       "HBox(children=(HTML(value=''), FloatProgress(value=0.0, max=1.0), HTML(value='')))"
      ]
     },
     "metadata": {},
     "output_type": "display_data"
    },
    {
     "name": "stdout",
     "output_type": "stream",
     "text": [
      "\n"
     ]
    },
    {
     "data": {
      "application/vnd.jupyter.widget-view+json": {
       "model_id": "6b39a1d785904e88bd33a98fba4eb0b4",
       "version_major": 2,
       "version_minor": 0
      },
      "text/plain": [
       "HBox(children=(HTML(value=''), FloatProgress(value=0.0, max=1.0), HTML(value='')))"
      ]
     },
     "metadata": {},
     "output_type": "display_data"
    },
    {
     "name": "stdout",
     "output_type": "stream",
     "text": [
      "\n"
     ]
    },
    {
     "data": {
      "application/vnd.jupyter.widget-view+json": {
       "model_id": "22c7700c15d844b08a363b4dc88beb31",
       "version_major": 2,
       "version_minor": 0
      },
      "text/plain": [
       "HBox(children=(HTML(value=''), FloatProgress(value=0.0, max=1.0), HTML(value='')))"
      ]
     },
     "metadata": {},
     "output_type": "display_data"
    },
    {
     "name": "stdout",
     "output_type": "stream",
     "text": [
      "\n",
      "done training hydrink_model4\n",
      "start pickle hydrink_model4\n",
      "done with pickle hydrink_model4\n",
      "start recommend hydrink_model4\n"
     ]
    },
    {
     "name": "stderr",
     "output_type": "stream",
     "text": [
      "user 50969 unknown\n",
      "user 33159 unknown\n",
      "user 114027 unknown\n",
      "user 1800054678 unknown\n",
      "user 303700 unknown\n",
      "user 280166 unknown\n",
      "user 68460 unknown\n",
      "user 461428 unknown\n"
     ]
    },
    {
     "name": "stdout",
     "output_type": "stream",
     "text": [
      "done with recommend hydrink_model4\n",
      "save recommend hydrink_model4 to file\n",
      "start training hydrink_model5\n"
     ]
    },
    {
     "data": {
      "application/vnd.jupyter.widget-view+json": {
       "model_id": "c8b04106f88c4b83936b0eaed31f9434",
       "version_major": 2,
       "version_minor": 0
      },
      "text/plain": [
       "HBox(children=(HTML(value=''), FloatProgress(value=0.0, max=1.0), HTML(value='')))"
      ]
     },
     "metadata": {},
     "output_type": "display_data"
    },
    {
     "name": "stdout",
     "output_type": "stream",
     "text": [
      "\n"
     ]
    },
    {
     "data": {
      "application/vnd.jupyter.widget-view+json": {
       "model_id": "1c40ce196f924fbe807633b626a5c3c1",
       "version_major": 2,
       "version_minor": 0
      },
      "text/plain": [
       "HBox(children=(HTML(value=''), FloatProgress(value=0.0, max=1.0), HTML(value='')))"
      ]
     },
     "metadata": {},
     "output_type": "display_data"
    },
    {
     "name": "stdout",
     "output_type": "stream",
     "text": [
      "\n"
     ]
    },
    {
     "data": {
      "application/vnd.jupyter.widget-view+json": {
       "model_id": "70d848a1760245aca6c68dadf7b107ea",
       "version_major": 2,
       "version_minor": 0
      },
      "text/plain": [
       "HBox(children=(HTML(value=''), FloatProgress(value=0.0, max=1.0), HTML(value='')))"
      ]
     },
     "metadata": {},
     "output_type": "display_data"
    },
    {
     "name": "stdout",
     "output_type": "stream",
     "text": [
      "\n"
     ]
    },
    {
     "data": {
      "application/vnd.jupyter.widget-view+json": {
       "model_id": "797c781e02034adbaf6da6b8da8a4da2",
       "version_major": 2,
       "version_minor": 0
      },
      "text/plain": [
       "HBox(children=(HTML(value=''), FloatProgress(value=0.0, max=1.0), HTML(value='')))"
      ]
     },
     "metadata": {},
     "output_type": "display_data"
    },
    {
     "name": "stdout",
     "output_type": "stream",
     "text": [
      "\n"
     ]
    },
    {
     "data": {
      "application/vnd.jupyter.widget-view+json": {
       "model_id": "15c95f179a014c8b941246ac62908e17",
       "version_major": 2,
       "version_minor": 0
      },
      "text/plain": [
       "HBox(children=(HTML(value=''), FloatProgress(value=0.0, max=1.0), HTML(value='')))"
      ]
     },
     "metadata": {},
     "output_type": "display_data"
    },
    {
     "name": "stdout",
     "output_type": "stream",
     "text": [
      "\n",
      "done training hydrink_model5\n",
      "start pickle hydrink_model5\n",
      "done with pickle hydrink_model5\n",
      "start recommend hydrink_model5\n"
     ]
    },
    {
     "name": "stderr",
     "output_type": "stream",
     "text": [
      "user 50969 unknown\n",
      "user 33159 unknown\n",
      "user 114027 unknown\n",
      "user 1800054678 unknown\n",
      "user 303700 unknown\n",
      "user 280166 unknown\n",
      "user 68460 unknown\n",
      "user 461428 unknown\n"
     ]
    },
    {
     "name": "stdout",
     "output_type": "stream",
     "text": [
      "done with recommend hydrink_model5\n",
      "save recommend hydrink_model5 to file\n",
      "start training hydrink_model6\n"
     ]
    },
    {
     "data": {
      "application/vnd.jupyter.widget-view+json": {
       "model_id": "8470e44753d842bf940b1f53a75706c8",
       "version_major": 2,
       "version_minor": 0
      },
      "text/plain": [
       "HBox(children=(HTML(value=''), FloatProgress(value=0.0, max=1.0), HTML(value='')))"
      ]
     },
     "metadata": {},
     "output_type": "display_data"
    },
    {
     "name": "stdout",
     "output_type": "stream",
     "text": [
      "\n"
     ]
    },
    {
     "data": {
      "application/vnd.jupyter.widget-view+json": {
       "model_id": "249e5ec4d3284a8bb7087994653f00b2",
       "version_major": 2,
       "version_minor": 0
      },
      "text/plain": [
       "HBox(children=(HTML(value=''), FloatProgress(value=0.0, max=1.0), HTML(value='')))"
      ]
     },
     "metadata": {},
     "output_type": "display_data"
    },
    {
     "name": "stdout",
     "output_type": "stream",
     "text": [
      "\n"
     ]
    },
    {
     "data": {
      "application/vnd.jupyter.widget-view+json": {
       "model_id": "ea4811095d6b4ceb97c318aa0bceee8d",
       "version_major": 2,
       "version_minor": 0
      },
      "text/plain": [
       "HBox(children=(HTML(value=''), FloatProgress(value=0.0, max=1.0), HTML(value='')))"
      ]
     },
     "metadata": {},
     "output_type": "display_data"
    },
    {
     "name": "stdout",
     "output_type": "stream",
     "text": [
      "\n"
     ]
    },
    {
     "data": {
      "application/vnd.jupyter.widget-view+json": {
       "model_id": "48e625261a624555a65234734c43287e",
       "version_major": 2,
       "version_minor": 0
      },
      "text/plain": [
       "HBox(children=(HTML(value=''), FloatProgress(value=0.0, max=1.0), HTML(value='')))"
      ]
     },
     "metadata": {},
     "output_type": "display_data"
    },
    {
     "name": "stdout",
     "output_type": "stream",
     "text": [
      "\n"
     ]
    },
    {
     "data": {
      "application/vnd.jupyter.widget-view+json": {
       "model_id": "4c2355c9d3704da3a5e370c1087ffbff",
       "version_major": 2,
       "version_minor": 0
      },
      "text/plain": [
       "HBox(children=(HTML(value=''), FloatProgress(value=0.0, max=1.0), HTML(value='')))"
      ]
     },
     "metadata": {},
     "output_type": "display_data"
    },
    {
     "name": "stdout",
     "output_type": "stream",
     "text": [
      "\n",
      "done training hydrink_model6\n",
      "start pickle hydrink_model6\n",
      "done with pickle hydrink_model6\n",
      "start recommend hydrink_model6\n"
     ]
    },
    {
     "name": "stderr",
     "output_type": "stream",
     "text": [
      "user 50969 unknown\n",
      "user 33159 unknown\n",
      "user 1800054678 unknown\n",
      "user 114027 unknown\n",
      "user 303700 unknown\n",
      "user 280166 unknown\n",
      "user 68460 unknown\n",
      "user 461428 unknown\n"
     ]
    },
    {
     "name": "stdout",
     "output_type": "stream",
     "text": [
      "done with recommend hydrink_model6\n",
      "save recommend hydrink_model6 to file\n",
      "start training hydrink_model7\n"
     ]
    },
    {
     "data": {
      "application/vnd.jupyter.widget-view+json": {
       "model_id": "8a4062af9d99439d9df920d76a869e15",
       "version_major": 2,
       "version_minor": 0
      },
      "text/plain": [
       "HBox(children=(HTML(value=''), FloatProgress(value=0.0, max=1.0), HTML(value='')))"
      ]
     },
     "metadata": {},
     "output_type": "display_data"
    },
    {
     "name": "stdout",
     "output_type": "stream",
     "text": [
      "\n"
     ]
    },
    {
     "data": {
      "application/vnd.jupyter.widget-view+json": {
       "model_id": "c932c7a802dc474ca837e2802da35fdc",
       "version_major": 2,
       "version_minor": 0
      },
      "text/plain": [
       "HBox(children=(HTML(value=''), FloatProgress(value=0.0, max=1.0), HTML(value='')))"
      ]
     },
     "metadata": {},
     "output_type": "display_data"
    },
    {
     "name": "stdout",
     "output_type": "stream",
     "text": [
      "\n"
     ]
    },
    {
     "data": {
      "application/vnd.jupyter.widget-view+json": {
       "model_id": "66ae187c4c814784aafda3577ab269b7",
       "version_major": 2,
       "version_minor": 0
      },
      "text/plain": [
       "HBox(children=(HTML(value=''), FloatProgress(value=0.0, max=1.0), HTML(value='')))"
      ]
     },
     "metadata": {},
     "output_type": "display_data"
    },
    {
     "name": "stdout",
     "output_type": "stream",
     "text": [
      "\n"
     ]
    },
    {
     "data": {
      "application/vnd.jupyter.widget-view+json": {
       "model_id": "e71bc7f15cbd4b2d8ec295c14a42e903",
       "version_major": 2,
       "version_minor": 0
      },
      "text/plain": [
       "HBox(children=(HTML(value=''), FloatProgress(value=0.0, max=1.0), HTML(value='')))"
      ]
     },
     "metadata": {},
     "output_type": "display_data"
    },
    {
     "name": "stdout",
     "output_type": "stream",
     "text": [
      "\n"
     ]
    },
    {
     "data": {
      "application/vnd.jupyter.widget-view+json": {
       "model_id": "3ac7cc11d48c4c6ea3038cf6eb546a1f",
       "version_major": 2,
       "version_minor": 0
      },
      "text/plain": [
       "HBox(children=(HTML(value=''), FloatProgress(value=0.0, max=1.0), HTML(value='')))"
      ]
     },
     "metadata": {},
     "output_type": "display_data"
    },
    {
     "name": "stdout",
     "output_type": "stream",
     "text": [
      "\n",
      "done training hydrink_model7\n",
      "start pickle hydrink_model7\n",
      "done with pickle hydrink_model7\n",
      "start recommend hydrink_model7\n"
     ]
    },
    {
     "name": "stderr",
     "output_type": "stream",
     "text": [
      "user 50969 unknown\n",
      "user 33159 unknown\n",
      "user 114027 unknown\n",
      "user 1800054678 unknown\n",
      "user 303700 unknown\n",
      "user 280166 unknown\n",
      "user 68460 unknown\n",
      "user 461428 unknown\n"
     ]
    },
    {
     "name": "stdout",
     "output_type": "stream",
     "text": [
      "done with recommend hydrink_model7\n",
      "save recommend hydrink_model7 to file\n",
      "start training hydrink_model8\n"
     ]
    },
    {
     "data": {
      "application/vnd.jupyter.widget-view+json": {
       "model_id": "2dec4cb6cd104539bbf5b8c21cff12e3",
       "version_major": 2,
       "version_minor": 0
      },
      "text/plain": [
       "HBox(children=(HTML(value=''), FloatProgress(value=0.0, max=1.0), HTML(value='')))"
      ]
     },
     "metadata": {},
     "output_type": "display_data"
    },
    {
     "name": "stdout",
     "output_type": "stream",
     "text": [
      "\n"
     ]
    },
    {
     "data": {
      "application/vnd.jupyter.widget-view+json": {
       "model_id": "8d06f791930f4048a948bbba54bbd85e",
       "version_major": 2,
       "version_minor": 0
      },
      "text/plain": [
       "HBox(children=(HTML(value=''), FloatProgress(value=0.0, max=1.0), HTML(value='')))"
      ]
     },
     "metadata": {},
     "output_type": "display_data"
    },
    {
     "name": "stdout",
     "output_type": "stream",
     "text": [
      "\n"
     ]
    },
    {
     "data": {
      "application/vnd.jupyter.widget-view+json": {
       "model_id": "c3230a3baf374baab3b7f32af99feac7",
       "version_major": 2,
       "version_minor": 0
      },
      "text/plain": [
       "HBox(children=(HTML(value=''), FloatProgress(value=0.0, max=1.0), HTML(value='')))"
      ]
     },
     "metadata": {},
     "output_type": "display_data"
    },
    {
     "name": "stdout",
     "output_type": "stream",
     "text": [
      "\n"
     ]
    },
    {
     "data": {
      "application/vnd.jupyter.widget-view+json": {
       "model_id": "5952bbf7be11404dbbda42a2bfc3c484",
       "version_major": 2,
       "version_minor": 0
      },
      "text/plain": [
       "HBox(children=(HTML(value=''), FloatProgress(value=0.0, max=1.0), HTML(value='')))"
      ]
     },
     "metadata": {},
     "output_type": "display_data"
    },
    {
     "name": "stdout",
     "output_type": "stream",
     "text": [
      "\n"
     ]
    },
    {
     "data": {
      "application/vnd.jupyter.widget-view+json": {
       "model_id": "bcf38ea925e64fdabe999d52be0a4280",
       "version_major": 2,
       "version_minor": 0
      },
      "text/plain": [
       "HBox(children=(HTML(value=''), FloatProgress(value=0.0, max=1.0), HTML(value='')))"
      ]
     },
     "metadata": {},
     "output_type": "display_data"
    },
    {
     "name": "stdout",
     "output_type": "stream",
     "text": [
      "\n",
      "done training hydrink_model8\n",
      "start pickle hydrink_model8\n",
      "done with pickle hydrink_model8\n",
      "start recommend hydrink_model8\n"
     ]
    },
    {
     "name": "stderr",
     "output_type": "stream",
     "text": [
      "user 50969 unknown\n",
      "user 33159 unknown\n",
      "user 114027 unknown\n",
      "user 1800054678 unknown\n",
      "user 303700 unknown\n",
      "user 280166 unknown\n",
      "user 68460 unknown\n",
      "user 461428 unknown\n"
     ]
    },
    {
     "name": "stdout",
     "output_type": "stream",
     "text": [
      "done with recommend hydrink_model8\n",
      "save recommend hydrink_model8 to file\n",
      "start training hydrink_model9\n"
     ]
    },
    {
     "data": {
      "application/vnd.jupyter.widget-view+json": {
       "model_id": "55102f7d62f347eaba4af71b9506aaed",
       "version_major": 2,
       "version_minor": 0
      },
      "text/plain": [
       "HBox(children=(HTML(value=''), FloatProgress(value=0.0, max=1.0), HTML(value='')))"
      ]
     },
     "metadata": {},
     "output_type": "display_data"
    },
    {
     "name": "stdout",
     "output_type": "stream",
     "text": [
      "\n"
     ]
    },
    {
     "data": {
      "application/vnd.jupyter.widget-view+json": {
       "model_id": "b3c58657f6ed4e3fbaea988d09b66146",
       "version_major": 2,
       "version_minor": 0
      },
      "text/plain": [
       "HBox(children=(HTML(value=''), FloatProgress(value=0.0, max=1.0), HTML(value='')))"
      ]
     },
     "metadata": {},
     "output_type": "display_data"
    },
    {
     "name": "stdout",
     "output_type": "stream",
     "text": [
      "\n"
     ]
    },
    {
     "data": {
      "application/vnd.jupyter.widget-view+json": {
       "model_id": "c753add99ea14f63bb800f19cbe2d5c3",
       "version_major": 2,
       "version_minor": 0
      },
      "text/plain": [
       "HBox(children=(HTML(value=''), FloatProgress(value=0.0, max=1.0), HTML(value='')))"
      ]
     },
     "metadata": {},
     "output_type": "display_data"
    },
    {
     "name": "stdout",
     "output_type": "stream",
     "text": [
      "\n"
     ]
    },
    {
     "data": {
      "application/vnd.jupyter.widget-view+json": {
       "model_id": "a62dae39cbf141ab9c02c4f1fcae927d",
       "version_major": 2,
       "version_minor": 0
      },
      "text/plain": [
       "HBox(children=(HTML(value=''), FloatProgress(value=0.0, max=1.0), HTML(value='')))"
      ]
     },
     "metadata": {},
     "output_type": "display_data"
    },
    {
     "name": "stdout",
     "output_type": "stream",
     "text": [
      "\n"
     ]
    },
    {
     "data": {
      "application/vnd.jupyter.widget-view+json": {
       "model_id": "8311fa196f424832b0d3c0ed6b134f95",
       "version_major": 2,
       "version_minor": 0
      },
      "text/plain": [
       "HBox(children=(HTML(value=''), FloatProgress(value=0.0, max=1.0), HTML(value='')))"
      ]
     },
     "metadata": {},
     "output_type": "display_data"
    },
    {
     "name": "stdout",
     "output_type": "stream",
     "text": [
      "\n",
      "done training hydrink_model9\n",
      "start pickle hydrink_model9\n",
      "done with pickle hydrink_model9\n",
      "start recommend hydrink_model9\n"
     ]
    },
    {
     "name": "stderr",
     "output_type": "stream",
     "text": [
      "user 50969 unknown\n",
      "user 33159 unknown\n",
      "user 114027 unknown\n",
      "user 1800054678 unknown\n",
      "user 303700 unknown\n",
      "user 280166 unknown\n",
      "user 68460 unknown\n",
      "user 461428 unknown\n"
     ]
    },
    {
     "name": "stdout",
     "output_type": "stream",
     "text": [
      "done with recommend hydrink_model9\n",
      "save recommend hydrink_model9 to file\n",
      "start training hydrink_model10\n"
     ]
    },
    {
     "data": {
      "application/vnd.jupyter.widget-view+json": {
       "model_id": "d280cdfa79dc4ad8a34810fd091b70cf",
       "version_major": 2,
       "version_minor": 0
      },
      "text/plain": [
       "HBox(children=(HTML(value=''), FloatProgress(value=0.0, max=1.0), HTML(value='')))"
      ]
     },
     "metadata": {},
     "output_type": "display_data"
    },
    {
     "name": "stdout",
     "output_type": "stream",
     "text": [
      "\n"
     ]
    },
    {
     "data": {
      "application/vnd.jupyter.widget-view+json": {
       "model_id": "62a506f4aebf42739c3116b58f92dfd4",
       "version_major": 2,
       "version_minor": 0
      },
      "text/plain": [
       "HBox(children=(HTML(value=''), FloatProgress(value=0.0, max=1.0), HTML(value='')))"
      ]
     },
     "metadata": {},
     "output_type": "display_data"
    },
    {
     "name": "stdout",
     "output_type": "stream",
     "text": [
      "\n"
     ]
    },
    {
     "data": {
      "application/vnd.jupyter.widget-view+json": {
       "model_id": "07d0914c96fd4c1d803085ca2f6d84db",
       "version_major": 2,
       "version_minor": 0
      },
      "text/plain": [
       "HBox(children=(HTML(value=''), FloatProgress(value=0.0, max=1.0), HTML(value='')))"
      ]
     },
     "metadata": {},
     "output_type": "display_data"
    },
    {
     "name": "stdout",
     "output_type": "stream",
     "text": [
      "\n"
     ]
    },
    {
     "data": {
      "application/vnd.jupyter.widget-view+json": {
       "model_id": "cc25235aac6949d497af0316e1a302a1",
       "version_major": 2,
       "version_minor": 0
      },
      "text/plain": [
       "HBox(children=(HTML(value=''), FloatProgress(value=0.0, max=1.0), HTML(value='')))"
      ]
     },
     "metadata": {},
     "output_type": "display_data"
    },
    {
     "name": "stdout",
     "output_type": "stream",
     "text": [
      "\n"
     ]
    },
    {
     "data": {
      "application/vnd.jupyter.widget-view+json": {
       "model_id": "4e2639ca48b24fa9b0662d5787f9df12",
       "version_major": 2,
       "version_minor": 0
      },
      "text/plain": [
       "HBox(children=(HTML(value=''), FloatProgress(value=0.0, max=1.0), HTML(value='')))"
      ]
     },
     "metadata": {},
     "output_type": "display_data"
    },
    {
     "name": "stdout",
     "output_type": "stream",
     "text": [
      "\n",
      "done training hydrink_model10\n",
      "start pickle hydrink_model10\n",
      "done with pickle hydrink_model10\n",
      "start recommend hydrink_model10\n"
     ]
    },
    {
     "name": "stderr",
     "output_type": "stream",
     "text": [
      "user 50969 unknown\n",
      "user 33159 unknown\n",
      "user 114027 unknown\n",
      "user 1800054678 unknown\n",
      "user 303700 unknown\n",
      "user 280166 unknown\n",
      "user 68460 unknown\n",
      "user 461428 unknown\n"
     ]
    },
    {
     "name": "stdout",
     "output_type": "stream",
     "text": [
      "done with recommend hydrink_model10\n",
      "save recommend hydrink_model10 to file\n",
      "start training hydrink_model11\n"
     ]
    },
    {
     "data": {
      "application/vnd.jupyter.widget-view+json": {
       "model_id": "fc5855dd77f14ba694fdb1896c931d98",
       "version_major": 2,
       "version_minor": 0
      },
      "text/plain": [
       "HBox(children=(HTML(value=''), FloatProgress(value=0.0, max=1.0), HTML(value='')))"
      ]
     },
     "metadata": {},
     "output_type": "display_data"
    },
    {
     "name": "stdout",
     "output_type": "stream",
     "text": [
      "\n"
     ]
    },
    {
     "data": {
      "application/vnd.jupyter.widget-view+json": {
       "model_id": "6e719a5fc804478b8d4841364431dc47",
       "version_major": 2,
       "version_minor": 0
      },
      "text/plain": [
       "HBox(children=(HTML(value=''), FloatProgress(value=0.0, max=1.0), HTML(value='')))"
      ]
     },
     "metadata": {},
     "output_type": "display_data"
    },
    {
     "name": "stdout",
     "output_type": "stream",
     "text": [
      "\n"
     ]
    },
    {
     "data": {
      "application/vnd.jupyter.widget-view+json": {
       "model_id": "8ccee809075748e1bb17b02eaa1cc9a8",
       "version_major": 2,
       "version_minor": 0
      },
      "text/plain": [
       "HBox(children=(HTML(value=''), FloatProgress(value=0.0, max=1.0), HTML(value='')))"
      ]
     },
     "metadata": {},
     "output_type": "display_data"
    },
    {
     "name": "stdout",
     "output_type": "stream",
     "text": [
      "\n"
     ]
    },
    {
     "data": {
      "application/vnd.jupyter.widget-view+json": {
       "model_id": "ce6adf240ac942468a023d77a64c2190",
       "version_major": 2,
       "version_minor": 0
      },
      "text/plain": [
       "HBox(children=(HTML(value=''), FloatProgress(value=0.0, max=1.0), HTML(value='')))"
      ]
     },
     "metadata": {},
     "output_type": "display_data"
    },
    {
     "name": "stdout",
     "output_type": "stream",
     "text": [
      "\n"
     ]
    },
    {
     "data": {
      "application/vnd.jupyter.widget-view+json": {
       "model_id": "638f5aacab734b50bec9b7e84dcddd89",
       "version_major": 2,
       "version_minor": 0
      },
      "text/plain": [
       "HBox(children=(HTML(value=''), FloatProgress(value=0.0, max=1.0), HTML(value='')))"
      ]
     },
     "metadata": {},
     "output_type": "display_data"
    },
    {
     "name": "stdout",
     "output_type": "stream",
     "text": [
      "\n",
      "done training hydrink_model11\n",
      "start pickle hydrink_model11\n",
      "done with pickle hydrink_model11\n",
      "start recommend hydrink_model11\n"
     ]
    },
    {
     "name": "stderr",
     "output_type": "stream",
     "text": [
      "user 50969 unknown\n",
      "user 33159 unknown\n",
      "user 1800054678 unknown\n",
      "user 114027 unknown\n",
      "user 303700 unknown\n",
      "user 280166 unknown\n",
      "user 68460 unknown\n",
      "user 461428 unknown\n"
     ]
    },
    {
     "name": "stdout",
     "output_type": "stream",
     "text": [
      "done with recommend hydrink_model11\n",
      "save recommend hydrink_model11 to file\n",
      "start training hydrink_model12\n"
     ]
    },
    {
     "data": {
      "application/vnd.jupyter.widget-view+json": {
       "model_id": "54f2971d76e34d3f93a2674e24a6cdf0",
       "version_major": 2,
       "version_minor": 0
      },
      "text/plain": [
       "HBox(children=(HTML(value=''), FloatProgress(value=0.0, max=1.0), HTML(value='')))"
      ]
     },
     "metadata": {},
     "output_type": "display_data"
    },
    {
     "name": "stdout",
     "output_type": "stream",
     "text": [
      "\n"
     ]
    },
    {
     "data": {
      "application/vnd.jupyter.widget-view+json": {
       "model_id": "8ebe110c846f470b8d3071ed01082838",
       "version_major": 2,
       "version_minor": 0
      },
      "text/plain": [
       "HBox(children=(HTML(value=''), FloatProgress(value=0.0, max=1.0), HTML(value='')))"
      ]
     },
     "metadata": {},
     "output_type": "display_data"
    },
    {
     "name": "stdout",
     "output_type": "stream",
     "text": [
      "\n"
     ]
    },
    {
     "data": {
      "application/vnd.jupyter.widget-view+json": {
       "model_id": "19f7709b32004a1c9ff99abab075782b",
       "version_major": 2,
       "version_minor": 0
      },
      "text/plain": [
       "HBox(children=(HTML(value=''), FloatProgress(value=0.0, max=1.0), HTML(value='')))"
      ]
     },
     "metadata": {},
     "output_type": "display_data"
    },
    {
     "name": "stdout",
     "output_type": "stream",
     "text": [
      "\n"
     ]
    },
    {
     "data": {
      "application/vnd.jupyter.widget-view+json": {
       "model_id": "3208d135e6ec46a3a5c87dc691989d6c",
       "version_major": 2,
       "version_minor": 0
      },
      "text/plain": [
       "HBox(children=(HTML(value=''), FloatProgress(value=0.0, max=1.0), HTML(value='')))"
      ]
     },
     "metadata": {},
     "output_type": "display_data"
    },
    {
     "name": "stdout",
     "output_type": "stream",
     "text": [
      "\n"
     ]
    },
    {
     "data": {
      "application/vnd.jupyter.widget-view+json": {
       "model_id": "b02c5bfbfbf0472ea5642a9f19c80df8",
       "version_major": 2,
       "version_minor": 0
      },
      "text/plain": [
       "HBox(children=(HTML(value=''), FloatProgress(value=0.0, max=1.0), HTML(value='')))"
      ]
     },
     "metadata": {},
     "output_type": "display_data"
    },
    {
     "name": "stdout",
     "output_type": "stream",
     "text": [
      "\n",
      "done training hydrink_model12\n",
      "start pickle hydrink_model12\n",
      "done with pickle hydrink_model12\n",
      "start recommend hydrink_model12\n"
     ]
    },
    {
     "name": "stderr",
     "output_type": "stream",
     "text": [
      "user 50969 unknown\n",
      "user 33159 unknown\n",
      "user 1800054678 unknown\n",
      "user 114027 unknown\n",
      "user 303700 unknown\n",
      "user 280166 unknown\n",
      "user 68460 unknown\n",
      "user 461428 unknown\n"
     ]
    },
    {
     "name": "stdout",
     "output_type": "stream",
     "text": [
      "done with recommend hydrink_model12\n",
      "save recommend hydrink_model12 to file\n",
      "start training hydrink_model13\n"
     ]
    },
    {
     "data": {
      "application/vnd.jupyter.widget-view+json": {
       "model_id": "4db07ff4e37f4810bf303a0c89c896ea",
       "version_major": 2,
       "version_minor": 0
      },
      "text/plain": [
       "HBox(children=(HTML(value=''), FloatProgress(value=0.0, max=1.0), HTML(value='')))"
      ]
     },
     "metadata": {},
     "output_type": "display_data"
    },
    {
     "name": "stdout",
     "output_type": "stream",
     "text": [
      "\n"
     ]
    },
    {
     "data": {
      "application/vnd.jupyter.widget-view+json": {
       "model_id": "9f4a670ae9694d04b077f7f8afb46403",
       "version_major": 2,
       "version_minor": 0
      },
      "text/plain": [
       "HBox(children=(HTML(value=''), FloatProgress(value=0.0, max=1.0), HTML(value='')))"
      ]
     },
     "metadata": {},
     "output_type": "display_data"
    },
    {
     "name": "stdout",
     "output_type": "stream",
     "text": [
      "\n"
     ]
    },
    {
     "data": {
      "application/vnd.jupyter.widget-view+json": {
       "model_id": "4d7fdd95bf8c4bdba476a0c22d2d5788",
       "version_major": 2,
       "version_minor": 0
      },
      "text/plain": [
       "HBox(children=(HTML(value=''), FloatProgress(value=0.0, max=1.0), HTML(value='')))"
      ]
     },
     "metadata": {},
     "output_type": "display_data"
    },
    {
     "name": "stdout",
     "output_type": "stream",
     "text": [
      "\n"
     ]
    },
    {
     "data": {
      "application/vnd.jupyter.widget-view+json": {
       "model_id": "5bf4e0ad9d8a4d4ab8ee4a16f0c98182",
       "version_major": 2,
       "version_minor": 0
      },
      "text/plain": [
       "HBox(children=(HTML(value=''), FloatProgress(value=0.0, max=1.0), HTML(value='')))"
      ]
     },
     "metadata": {},
     "output_type": "display_data"
    },
    {
     "name": "stdout",
     "output_type": "stream",
     "text": [
      "\n"
     ]
    },
    {
     "data": {
      "application/vnd.jupyter.widget-view+json": {
       "model_id": "c95b62a2b53248ac9ed356f63fbdfa7a",
       "version_major": 2,
       "version_minor": 0
      },
      "text/plain": [
       "HBox(children=(HTML(value=''), FloatProgress(value=0.0, max=1.0), HTML(value='')))"
      ]
     },
     "metadata": {},
     "output_type": "display_data"
    },
    {
     "name": "stdout",
     "output_type": "stream",
     "text": [
      "\n",
      "done training hydrink_model13\n",
      "start pickle hydrink_model13\n",
      "done with pickle hydrink_model13\n",
      "start recommend hydrink_model13\n"
     ]
    },
    {
     "name": "stderr",
     "output_type": "stream",
     "text": [
      "user 50969 unknown\n",
      "user 33159 unknown\n",
      "user 114027 unknown\n",
      "user 1800054678 unknown\n",
      "user 303700 unknown\n",
      "user 280166 unknown\n",
      "user 68460 unknown\n",
      "user 461428 unknown\n"
     ]
    },
    {
     "name": "stdout",
     "output_type": "stream",
     "text": [
      "done with recommend hydrink_model13\n",
      "save recommend hydrink_model13 to file\n",
      "start training hydrink_model14\n"
     ]
    },
    {
     "data": {
      "application/vnd.jupyter.widget-view+json": {
       "model_id": "1055d83406234532b9a0855f8facda04",
       "version_major": 2,
       "version_minor": 0
      },
      "text/plain": [
       "HBox(children=(HTML(value=''), FloatProgress(value=0.0, max=1.0), HTML(value='')))"
      ]
     },
     "metadata": {},
     "output_type": "display_data"
    },
    {
     "name": "stdout",
     "output_type": "stream",
     "text": [
      "\n"
     ]
    },
    {
     "data": {
      "application/vnd.jupyter.widget-view+json": {
       "model_id": "5a2cc3fdb69f4815a815e4ee4c3cf66b",
       "version_major": 2,
       "version_minor": 0
      },
      "text/plain": [
       "HBox(children=(HTML(value=''), FloatProgress(value=0.0, max=1.0), HTML(value='')))"
      ]
     },
     "metadata": {},
     "output_type": "display_data"
    },
    {
     "name": "stdout",
     "output_type": "stream",
     "text": [
      "\n"
     ]
    },
    {
     "data": {
      "application/vnd.jupyter.widget-view+json": {
       "model_id": "10e512d984504b18a03c428234176e87",
       "version_major": 2,
       "version_minor": 0
      },
      "text/plain": [
       "HBox(children=(HTML(value=''), FloatProgress(value=0.0, max=1.0), HTML(value='')))"
      ]
     },
     "metadata": {},
     "output_type": "display_data"
    },
    {
     "name": "stdout",
     "output_type": "stream",
     "text": [
      "\n"
     ]
    },
    {
     "data": {
      "application/vnd.jupyter.widget-view+json": {
       "model_id": "08dec45d25ac4cd4924871250d669526",
       "version_major": 2,
       "version_minor": 0
      },
      "text/plain": [
       "HBox(children=(HTML(value=''), FloatProgress(value=0.0, max=1.0), HTML(value='')))"
      ]
     },
     "metadata": {},
     "output_type": "display_data"
    },
    {
     "name": "stdout",
     "output_type": "stream",
     "text": [
      "\n"
     ]
    },
    {
     "data": {
      "application/vnd.jupyter.widget-view+json": {
       "model_id": "e2b324da23d546689bc5674494bcae07",
       "version_major": 2,
       "version_minor": 0
      },
      "text/plain": [
       "HBox(children=(HTML(value=''), FloatProgress(value=0.0, max=1.0), HTML(value='')))"
      ]
     },
     "metadata": {},
     "output_type": "display_data"
    },
    {
     "name": "stdout",
     "output_type": "stream",
     "text": [
      "\n",
      "done training hydrink_model14\n",
      "start pickle hydrink_model14\n",
      "done with pickle hydrink_model14\n",
      "start recommend hydrink_model14\n"
     ]
    },
    {
     "name": "stderr",
     "output_type": "stream",
     "text": [
      "user 50969 unknown\n",
      "user 33159 unknown\n",
      "user 114027 unknown\n",
      "user 1800054678 unknown\n",
      "user 303700 unknown\n",
      "user 280166 unknown\n",
      "user 68460 unknown\n",
      "user 461428 unknown\n"
     ]
    },
    {
     "name": "stdout",
     "output_type": "stream",
     "text": [
      "done with recommend hydrink_model14\n",
      "save recommend hydrink_model14 to file\n",
      "start training hydrink_model15\n"
     ]
    },
    {
     "data": {
      "application/vnd.jupyter.widget-view+json": {
       "model_id": "4a475495ee11488b84838fa87237af05",
       "version_major": 2,
       "version_minor": 0
      },
      "text/plain": [
       "HBox(children=(HTML(value=''), FloatProgress(value=0.0, max=1.0), HTML(value='')))"
      ]
     },
     "metadata": {},
     "output_type": "display_data"
    },
    {
     "name": "stdout",
     "output_type": "stream",
     "text": [
      "\n"
     ]
    },
    {
     "data": {
      "application/vnd.jupyter.widget-view+json": {
       "model_id": "721e56593c39478b9e840fe4f37ed171",
       "version_major": 2,
       "version_minor": 0
      },
      "text/plain": [
       "HBox(children=(HTML(value=''), FloatProgress(value=0.0, max=1.0), HTML(value='')))"
      ]
     },
     "metadata": {},
     "output_type": "display_data"
    },
    {
     "name": "stdout",
     "output_type": "stream",
     "text": [
      "\n"
     ]
    },
    {
     "data": {
      "application/vnd.jupyter.widget-view+json": {
       "model_id": "30b2a5dbaa2f4cbf8c0b03812b8673cf",
       "version_major": 2,
       "version_minor": 0
      },
      "text/plain": [
       "HBox(children=(HTML(value=''), FloatProgress(value=0.0, max=1.0), HTML(value='')))"
      ]
     },
     "metadata": {},
     "output_type": "display_data"
    },
    {
     "name": "stdout",
     "output_type": "stream",
     "text": [
      "\n"
     ]
    },
    {
     "data": {
      "application/vnd.jupyter.widget-view+json": {
       "model_id": "77327c370eca4584afe726713a01def6",
       "version_major": 2,
       "version_minor": 0
      },
      "text/plain": [
       "HBox(children=(HTML(value=''), FloatProgress(value=0.0, max=1.0), HTML(value='')))"
      ]
     },
     "metadata": {},
     "output_type": "display_data"
    },
    {
     "name": "stdout",
     "output_type": "stream",
     "text": [
      "\n"
     ]
    },
    {
     "data": {
      "application/vnd.jupyter.widget-view+json": {
       "model_id": "6d07a531ba9f4c94b24f31cf00c08627",
       "version_major": 2,
       "version_minor": 0
      },
      "text/plain": [
       "HBox(children=(HTML(value=''), FloatProgress(value=0.0, max=1.0), HTML(value='')))"
      ]
     },
     "metadata": {},
     "output_type": "display_data"
    },
    {
     "name": "stdout",
     "output_type": "stream",
     "text": [
      "\n",
      "done training hydrink_model15\n",
      "start pickle hydrink_model15\n",
      "done with pickle hydrink_model15\n",
      "start recommend hydrink_model15\n"
     ]
    },
    {
     "name": "stderr",
     "output_type": "stream",
     "text": [
      "user 50969 unknown\n",
      "user 33159 unknown\n",
      "user 114027 unknown\n",
      "user 1800054678 unknown\n",
      "user 303700 unknown\n",
      "user 280166 unknown\n",
      "user 68460 unknown\n",
      "user 461428 unknown\n"
     ]
    },
    {
     "name": "stdout",
     "output_type": "stream",
     "text": [
      "done with recommend hydrink_model15\n",
      "save recommend hydrink_model15 to file\n"
     ]
    }
   ],
   "source": [
    "counter = 1\n",
    "for i in [225,250,275,300,500]:\n",
    "    for j in [0.1,0.01,0.001]:\n",
    "        model = DrinkTagMF(n_features=i, reg=j, device='cuda')\n",
    "        fittable = util.clone(model)\n",
    "        fittable = Recommender.adapt(fittable)\n",
    "        print(f\"start training hydrink_model{counter}\")\n",
    "        fittable.fit(train, ingredients=ingredients, ingredientCounts=drink_steps)\n",
    "        print(f\"done training hydrink_model{counter}\")\n",
    "        print(f\"start pickle hydrink_model{counter}\")\n",
    "        filename = f'hydrink_model{counter}.sav'\n",
    "        pickle.dump(model, open(filename, 'wb'))\n",
    "        print(f\"done with pickle hydrink_model{counter}\")\n",
    "        print(f\"start recommend hydrink_model{counter}\")\n",
    "        recs = batch.recommend(fittable, users, 50)\n",
    "        print(f\"done with recommend hydrink_model{counter}\")\n",
    "        recs['Algorithm'] = f'hydrink_{counter}'\n",
    "        print(f\"save recommend hydrink_model{counter} to file\")\n",
    "        if(counter == 1):\n",
    "             recs.to_csv('all_recs6.csv')\n",
    "        else:\n",
    "            recs.to_csv('all_recs6.csv', mode='a', header=False)\n",
    "        counter = counter + 1"
   ]
  },
  {
   "cell_type": "code",
   "execution_count": 114,
   "metadata": {},
   "outputs": [
    {
     "data": {
      "text/plain": [
       "<AxesSubplot:xlabel='Algorithm'>"
      ]
     },
     "execution_count": 114,
     "metadata": {},
     "output_type": "execute_result"
    },
    {
     "data": {
      "image/png": "[encoded data removed]",
      "text/plain": [
       "<Figure size 432x288 with 1 Axes>"
      ]
     },
     "metadata": {},
     "output_type": "display_data"
    }
   ],
   "source": [
    "from lenskit import topn\n",
    "import pandas as pd\n",
    "# test6 = pd.read_csv('test6.csv', index_col = 0 )\n",
    "test_data = pd.DataFrame()\n",
    "test_data = []\n",
    "test_data.append(test)\n",
    "test_data = pd.concat(test_data, ignore_index=True)\n",
    "test_rec = pd.read_csv('all_recs6.csv', index_col = 0 )\n",
    "rla = topn.RecListAnalysis()\n",
    "rla.add_metric(topn.ndcg)\n",
    "results = rla.compute(test_rec, test_data)\n",
    "\n",
    "results.head()\n",
    "results.groupby('Algorithm').ndcg.mean()\n",
    "results.groupby('Algorithm').ndcg.mean().plot.bar()"
   ]
  },
  {
   "cell_type": "code",
   "execution_count": 104,
   "metadata": {},
   "outputs": [
    {
     "data": {
      "text/plain": [
       "<AxesSubplot:xlabel='Algorithm'>"
      ]
     },
     "execution_count": 104,
     "metadata": {},
     "output_type": "execute_result"
    },
    {
     "data": {
      "image/png": "[encoded data removed]",
      "text/plain": [
       "<Figure size 432x288 with 1 Axes>"
      ]
     },
     "metadata": {},
     "output_type": "display_data"
    }
   ],
   "source": [
    "from lenskit import topn\n",
    "import pandas as pd\n",
    "# test6 = pd.read_csv('test6.csv', index_col = 0 )\n",
    "test_data = pd.DataFrame()\n",
    "test_data = []\n",
    "test_data.append(test)\n",
    "test_data = pd.concat(test_data, ignore_index=True)\n",
    "test_rec = pd.read_csv('all_recs6.csv', index_col = 0 )\n",
    "rla = topn.RecListAnalysis()\n",
    "rla.add_metric(topn.ndcg)\n",
    "results = rla.compute(test_rec, test_data)\n",
    "\n",
    "results.head()\n",
    "results.groupby('Algorithm').ndcg.mean()\n",
    "results.groupby('Algorithm').ndcg.mean().plot.bar()"
   ]
  },
  {
   "cell_type": "code",
   "execution_count": 119,
   "metadata": {},
   "outputs": [
    {
     "data": {
      "application/vnd.jupyter.widget-view+json": {
       "model_id": "72ff1521ae63448aba7a7b014527aca9",
       "version_major": 2,
       "version_minor": 0
      },
      "text/plain": [
       "HBox(children=(HTML(value=''), FloatProgress(value=0.0, max=1.0), HTML(value='')))"
      ]
     },
     "metadata": {},
     "output_type": "display_data"
    },
    {
     "name": "stdout",
     "output_type": "stream",
     "text": [
      "\n"
     ]
    },
    {
     "data": {
      "application/vnd.jupyter.widget-view+json": {
       "model_id": "36d2276b92ba4f418088bc6615cdc2b0",
       "version_major": 2,
       "version_minor": 0
      },
      "text/plain": [
       "HBox(children=(HTML(value=''), FloatProgress(value=0.0, max=1.0), HTML(value='')))"
      ]
     },
     "metadata": {},
     "output_type": "display_data"
    },
    {
     "name": "stdout",
     "output_type": "stream",
     "text": [
      "\n"
     ]
    },
    {
     "data": {
      "application/vnd.jupyter.widget-view+json": {
       "model_id": "098404e942564336b3384824dd91804a",
       "version_major": 2,
       "version_minor": 0
      },
      "text/plain": [
       "HBox(children=(HTML(value=''), FloatProgress(value=0.0, max=1.0), HTML(value='')))"
      ]
     },
     "metadata": {},
     "output_type": "display_data"
    },
    {
     "name": "stdout",
     "output_type": "stream",
     "text": [
      "\n"
     ]
    },
    {
     "data": {
      "application/vnd.jupyter.widget-view+json": {
       "model_id": "79cf892b02ca44a8821cb059884f1f55",
       "version_major": 2,
       "version_minor": 0
      },
      "text/plain": [
       "HBox(children=(HTML(value=''), FloatProgress(value=0.0, max=1.0), HTML(value='')))"
      ]
     },
     "metadata": {},
     "output_type": "display_data"
    },
    {
     "name": "stdout",
     "output_type": "stream",
     "text": [
      "\n"
     ]
    },
    {
     "data": {
      "application/vnd.jupyter.widget-view+json": {
       "model_id": "f286622ceafb42d9a865d905d909a720",
       "version_major": 2,
       "version_minor": 0
      },
      "text/plain": [
       "HBox(children=(HTML(value=''), FloatProgress(value=0.0, max=1.0), HTML(value='')))"
      ]
     },
     "metadata": {},
     "output_type": "display_data"
    },
    {
     "name": "stdout",
     "output_type": "stream",
     "text": [
      "\n"
     ]
    },
    {
     "name": "stderr",
     "output_type": "stream",
     "text": [
      "user 50969 unknown\n",
      "user 33159 unknown\n",
      "user 114027 unknown\n",
      "user 1800054678 unknown\n",
      "user 303700 unknown\n",
      "user 280166 unknown\n",
      "user 68460 unknown\n",
      "user 461428 unknown\n"
     ]
    }
   ],
   "source": [
    "users = test.user.unique()\n",
    "items = test.item.unique()\n",
    "# filename = f'hydrink_model21.sav'\n",
    "# model = pickle.load(open(filename, 'rb'))\n",
    "model = DrinkTagMF(n_features=200, reg=0.001, device='cuda')\n",
    "\n",
    "fittable = util.clone(model)\n",
    "fittable = Recommender.adapt(fittable)\n",
    "#         print(f\"start training hydrink_model{counter}\")\n",
    "fittable.fit(train, ingredients=ingredients, ingredientCounts=drink_steps)\n",
    "#         print(f\"done training hydrink_model{counter}\")\n",
    "#         print(f\"start pickle hydrink_model{counter}\")\n",
    "# filename = f'hydrink_model25.sav'\n",
    "#         pickle.dump(model, open(filename, 'wb'))\n",
    "#         print(f\"done with pickle hydrink_model{counter}\")\n",
    "#         print(f\"start recommend hydrink_model{counter}\")\n",
    "recs = batch.recommend(fittable, users, 50)\n",
    "#         print(f\"done with recommend hydrink_model{counter}\")\n",
    "recs['Algorithm'] = f'customBPR_hyperparameterTuned'\n",
    "#         print(f\"save recommend hydrink_model{counter} to file\")\n",
    "recs.to_csv('all_recs2.csv', mode='a', header=False)"
   ]
  },
  {
   "cell_type": "code",
   "execution_count": 33,
   "metadata": {},
   "outputs": [
    {
     "data": {
      "text/html": [
       "<div>\n",
       "<style scoped>\n",
       "    .dataframe tbody tr th:only-of-type {\n",
       "        vertical-align: middle;\n",
       "    }\n",
       "\n",
       "    .dataframe tbody tr th {\n",
       "        vertical-align: top;\n",
       "    }\n",
       "\n",
       "    .dataframe thead th {\n",
       "        text-align: right;\n",
       "    }\n",
       "</style>\n",
       "<table border=\"1\" class=\"dataframe\">\n",
       "  <thead>\n",
       "    <tr style=\"text-align: right;\">\n",
       "      <th></th>\n",
       "      <th>item</th>\n",
       "      <th>score</th>\n",
       "      <th>user</th>\n",
       "      <th>rank</th>\n",
       "      <th>Algorithm</th>\n",
       "    </tr>\n",
       "  </thead>\n",
       "  <tbody>\n",
       "    <tr>\n",
       "      <th>0</th>\n",
       "      <td>66947</td>\n",
       "      <td>88.000000</td>\n",
       "      <td>125640</td>\n",
       "      <td>1</td>\n",
       "      <td>popular</td>\n",
       "    </tr>\n",
       "    <tr>\n",
       "      <th>1</th>\n",
       "      <td>18458</td>\n",
       "      <td>68.000000</td>\n",
       "      <td>125640</td>\n",
       "      <td>2</td>\n",
       "      <td>popular</td>\n",
       "    </tr>\n",
       "    <tr>\n",
       "      <th>2</th>\n",
       "      <td>234344</td>\n",
       "      <td>66.000000</td>\n",
       "      <td>125640</td>\n",
       "      <td>3</td>\n",
       "      <td>popular</td>\n",
       "    </tr>\n",
       "    <tr>\n",
       "      <th>3</th>\n",
       "      <td>88364</td>\n",
       "      <td>39.000000</td>\n",
       "      <td>125640</td>\n",
       "      <td>4</td>\n",
       "      <td>popular</td>\n",
       "    </tr>\n",
       "    <tr>\n",
       "      <th>4</th>\n",
       "      <td>59148</td>\n",
       "      <td>38.000000</td>\n",
       "      <td>125640</td>\n",
       "      <td>5</td>\n",
       "      <td>popular</td>\n",
       "    </tr>\n",
       "    <tr>\n",
       "      <th>...</th>\n",
       "      <td>...</td>\n",
       "      <td>...</td>\n",
       "      <td>...</td>\n",
       "      <td>...</td>\n",
       "      <td>...</td>\n",
       "    </tr>\n",
       "    <tr>\n",
       "      <th>29245</th>\n",
       "      <td>50797</td>\n",
       "      <td>0.108096</td>\n",
       "      <td>457690</td>\n",
       "      <td>46</td>\n",
       "      <td>customBPR</td>\n",
       "    </tr>\n",
       "    <tr>\n",
       "      <th>29246</th>\n",
       "      <td>487069</td>\n",
       "      <td>0.108066</td>\n",
       "      <td>457690</td>\n",
       "      <td>47</td>\n",
       "      <td>customBPR</td>\n",
       "    </tr>\n",
       "    <tr>\n",
       "      <th>29247</th>\n",
       "      <td>244731</td>\n",
       "      <td>0.108044</td>\n",
       "      <td>457690</td>\n",
       "      <td>48</td>\n",
       "      <td>customBPR</td>\n",
       "    </tr>\n",
       "    <tr>\n",
       "      <th>29248</th>\n",
       "      <td>248572</td>\n",
       "      <td>0.108034</td>\n",
       "      <td>457690</td>\n",
       "      <td>49</td>\n",
       "      <td>customBPR</td>\n",
       "    </tr>\n",
       "    <tr>\n",
       "      <th>29249</th>\n",
       "      <td>462167</td>\n",
       "      <td>0.105920</td>\n",
       "      <td>457690</td>\n",
       "      <td>50</td>\n",
       "      <td>customBPR</td>\n",
       "    </tr>\n",
       "  </tbody>\n",
       "</table>\n",
       "<p>222334 rows × 5 columns</p>\n",
       "</div>"
      ],
      "text/plain": [
       "         item      score    user  rank  Algorithm\n",
       "0       66947  88.000000  125640     1    popular\n",
       "1       18458  68.000000  125640     2    popular\n",
       "2      234344  66.000000  125640     3    popular\n",
       "3       88364  39.000000  125640     4    popular\n",
       "4       59148  38.000000  125640     5    popular\n",
       "...       ...        ...     ...   ...        ...\n",
       "29245   50797   0.108096  457690    46  customBPR\n",
       "29246  487069   0.108066  457690    47  customBPR\n",
       "29247  244731   0.108044  457690    48  customBPR\n",
       "29248  248572   0.108034  457690    49  customBPR\n",
       "29249  462167   0.105920  457690    50  customBPR\n",
       "\n",
       "[222334 rows x 5 columns]"
      ]
     },
     "execution_count": 33,
     "metadata": {},
     "output_type": "execute_result"
    }
   ],
   "source": [
    "test_rec = pd.read_csv('all_recs.csv', index_col = 0 )\n",
    "test_rec"
   ]
  },
  {
   "cell_type": "code",
   "execution_count": 40,
   "metadata": {},
   "outputs": [],
   "source": [
    "# test_rec[:193084].to_csv('all_recs.csv')"
   ]
  },
  {
   "cell_type": "code",
   "execution_count": null,
   "metadata": {},
   "outputs": [],
   "source": []
  },
  {
   "cell_type": "code",
   "execution_count": 34,
   "metadata": {},
   "outputs": [
    {
     "data": {
      "text/html": [
       "<div>\n",
       "<style scoped>\n",
       "    .dataframe tbody tr th:only-of-type {\n",
       "        vertical-align: middle;\n",
       "    }\n",
       "\n",
       "    .dataframe tbody tr th {\n",
       "        vertical-align: top;\n",
       "    }\n",
       "\n",
       "    .dataframe thead th {\n",
       "        text-align: right;\n",
       "    }\n",
       "</style>\n",
       "<table border=\"1\" class=\"dataframe\">\n",
       "  <thead>\n",
       "    <tr style=\"text-align: right;\">\n",
       "      <th></th>\n",
       "      <th>item</th>\n",
       "      <th>score</th>\n",
       "      <th>user</th>\n",
       "      <th>rank</th>\n",
       "      <th>Algorithm</th>\n",
       "    </tr>\n",
       "  </thead>\n",
       "  <tbody>\n",
       "    <tr>\n",
       "      <th>0</th>\n",
       "      <td>274360</td>\n",
       "      <td>0.214185</td>\n",
       "      <td>141293</td>\n",
       "      <td>1</td>\n",
       "      <td>customBPR</td>\n",
       "    </tr>\n",
       "    <tr>\n",
       "      <th>1</th>\n",
       "      <td>254112</td>\n",
       "      <td>0.163628</td>\n",
       "      <td>141293</td>\n",
       "      <td>2</td>\n",
       "      <td>customBPR</td>\n",
       "    </tr>\n",
       "    <tr>\n",
       "      <th>2</th>\n",
       "      <td>210450</td>\n",
       "      <td>0.158582</td>\n",
       "      <td>141293</td>\n",
       "      <td>3</td>\n",
       "      <td>customBPR</td>\n",
       "    </tr>\n",
       "    <tr>\n",
       "      <th>3</th>\n",
       "      <td>172896</td>\n",
       "      <td>0.158262</td>\n",
       "      <td>141293</td>\n",
       "      <td>4</td>\n",
       "      <td>customBPR</td>\n",
       "    </tr>\n",
       "    <tr>\n",
       "      <th>4</th>\n",
       "      <td>290578</td>\n",
       "      <td>0.156002</td>\n",
       "      <td>141293</td>\n",
       "      <td>5</td>\n",
       "      <td>customBPR</td>\n",
       "    </tr>\n",
       "    <tr>\n",
       "      <th>...</th>\n",
       "      <td>...</td>\n",
       "      <td>...</td>\n",
       "      <td>...</td>\n",
       "      <td>...</td>\n",
       "      <td>...</td>\n",
       "    </tr>\n",
       "    <tr>\n",
       "      <th>29245</th>\n",
       "      <td>50797</td>\n",
       "      <td>0.108096</td>\n",
       "      <td>457690</td>\n",
       "      <td>46</td>\n",
       "      <td>customBPR</td>\n",
       "    </tr>\n",
       "    <tr>\n",
       "      <th>29246</th>\n",
       "      <td>487069</td>\n",
       "      <td>0.108066</td>\n",
       "      <td>457690</td>\n",
       "      <td>47</td>\n",
       "      <td>customBPR</td>\n",
       "    </tr>\n",
       "    <tr>\n",
       "      <th>29247</th>\n",
       "      <td>244731</td>\n",
       "      <td>0.108044</td>\n",
       "      <td>457690</td>\n",
       "      <td>48</td>\n",
       "      <td>customBPR</td>\n",
       "    </tr>\n",
       "    <tr>\n",
       "      <th>29248</th>\n",
       "      <td>248572</td>\n",
       "      <td>0.108034</td>\n",
       "      <td>457690</td>\n",
       "      <td>49</td>\n",
       "      <td>customBPR</td>\n",
       "    </tr>\n",
       "    <tr>\n",
       "      <th>29249</th>\n",
       "      <td>462167</td>\n",
       "      <td>0.105920</td>\n",
       "      <td>457690</td>\n",
       "      <td>50</td>\n",
       "      <td>customBPR</td>\n",
       "    </tr>\n",
       "  </tbody>\n",
       "</table>\n",
       "<p>29250 rows × 5 columns</p>\n",
       "</div>"
      ],
      "text/plain": [
       "         item     score    user  rank  Algorithm\n",
       "0      274360  0.214185  141293     1  customBPR\n",
       "1      254112  0.163628  141293     2  customBPR\n",
       "2      210450  0.158582  141293     3  customBPR\n",
       "3      172896  0.158262  141293     4  customBPR\n",
       "4      290578  0.156002  141293     5  customBPR\n",
       "...       ...       ...     ...   ...        ...\n",
       "29245   50797  0.108096  457690    46  customBPR\n",
       "29246  487069  0.108066  457690    47  customBPR\n",
       "29247  244731  0.108044  457690    48  customBPR\n",
       "29248  248572  0.108034  457690    49  customBPR\n",
       "29249  462167  0.105920  457690    50  customBPR\n",
       "\n",
       "[29250 rows x 5 columns]"
      ]
     },
     "execution_count": 34,
     "metadata": {},
     "output_type": "execute_result"
    }
   ],
   "source": [
    "test_rec[test_rec['Algorithm'] != 'customBPR']"
   ]
  },
  {
   "cell_type": "code",
   "execution_count": 53,
   "metadata": {},
   "outputs": [],
   "source": [
    "from sklearn.model_selection import train_test_split\n",
    "train ,test = train_test_split(filtered_ratings,test_size=0.2, random_state=456)  "
   ]
  },
  {
   "cell_type": "code",
   "execution_count": 54,
   "metadata": {},
   "outputs": [
    {
     "data": {
      "text/plain": [
       "<AxesSubplot:xlabel='Algorithm'>"
      ]
     },
     "execution_count": 54,
     "metadata": {},
     "output_type": "execute_result"
    },
    {
     "data": {
      "image/png": "[encoded data removed]",
      "text/plain": [
       "<Figure size 432x288 with 1 Axes>"
      ]
     },
     "metadata": {
      "needs_background": "light"
     },
     "output_type": "display_data"
    }
   ],
   "source": [
    "from lenskit import topn\n",
    "import pandas as pd\n",
    "# test6 = pd.read_csv('test6.csv', index_col = 0 )\n",
    "test_data = pd.DataFrame()\n",
    "test_data = []\n",
    "test_data.append(test)\n",
    "test_data = pd.concat(test_data, ignore_index=True)\n",
    "test_rec = pd.read_csv('all_recs.csv', index_col = 0 )\n",
    "rla = topn.RecListAnalysis()\n",
    "rla.add_metric(topn.ndcg)\n",
    "results = rla.compute(test_rec, test_data)\n",
    "\n",
    "results.head()\n",
    "results.groupby('Algorithm').ndcg.mean()\n",
    "results.groupby('Algorithm').ndcg.mean().plot.bar()"
   ]
  },
  {
   "cell_type": "code",
   "execution_count": 55,
   "metadata": {},
   "outputs": [
    {
     "data": {
      "text/html": [
       "<div>\n",
       "<style scoped>\n",
       "    .dataframe tbody tr th:only-of-type {\n",
       "        vertical-align: middle;\n",
       "    }\n",
       "\n",
       "    .dataframe tbody tr th {\n",
       "        vertical-align: top;\n",
       "    }\n",
       "\n",
       "    .dataframe thead th {\n",
       "        text-align: right;\n",
       "    }\n",
       "</style>\n",
       "<table border=\"1\" class=\"dataframe\">\n",
       "  <thead>\n",
       "    <tr style=\"text-align: right;\">\n",
       "      <th></th>\n",
       "      <th></th>\n",
       "      <th>nrecs</th>\n",
       "      <th>ndcg</th>\n",
       "    </tr>\n",
       "    <tr>\n",
       "      <th>Algorithm</th>\n",
       "      <th>user</th>\n",
       "      <th></th>\n",
       "      <th></th>\n",
       "    </tr>\n",
       "  </thead>\n",
       "  <tbody>\n",
       "    <tr>\n",
       "      <th rowspan=\"5\" valign=\"top\">ExplicitMF</th>\n",
       "      <th>1535</th>\n",
       "      <td>50.0</td>\n",
       "      <td>0.000000</td>\n",
       "    </tr>\n",
       "    <tr>\n",
       "      <th>1634</th>\n",
       "      <td>50.0</td>\n",
       "      <td>0.000000</td>\n",
       "    </tr>\n",
       "    <tr>\n",
       "      <th>2178</th>\n",
       "      <td>50.0</td>\n",
       "      <td>0.000000</td>\n",
       "    </tr>\n",
       "    <tr>\n",
       "      <th>2310</th>\n",
       "      <td>50.0</td>\n",
       "      <td>0.000000</td>\n",
       "    </tr>\n",
       "    <tr>\n",
       "      <th>4439</th>\n",
       "      <td>50.0</td>\n",
       "      <td>0.000000</td>\n",
       "    </tr>\n",
       "    <tr>\n",
       "      <th>...</th>\n",
       "      <th>...</th>\n",
       "      <td>...</td>\n",
       "      <td>...</td>\n",
       "    </tr>\n",
       "    <tr>\n",
       "      <th rowspan=\"5\" valign=\"top\">popular</th>\n",
       "      <th>2002175450</th>\n",
       "      <td>50.0</td>\n",
       "      <td>0.000000</td>\n",
       "    </tr>\n",
       "    <tr>\n",
       "      <th>2002223735</th>\n",
       "      <td>50.0</td>\n",
       "      <td>0.218104</td>\n",
       "    </tr>\n",
       "    <tr>\n",
       "      <th>2002233010</th>\n",
       "      <td>50.0</td>\n",
       "      <td>0.000000</td>\n",
       "    </tr>\n",
       "    <tr>\n",
       "      <th>2002238191</th>\n",
       "      <td>50.0</td>\n",
       "      <td>0.218104</td>\n",
       "    </tr>\n",
       "    <tr>\n",
       "      <th>2002351275</th>\n",
       "      <td>50.0</td>\n",
       "      <td>NaN</td>\n",
       "    </tr>\n",
       "  </tbody>\n",
       "</table>\n",
       "<p>4524 rows × 2 columns</p>\n",
       "</div>"
      ],
      "text/plain": [
       "                       nrecs      ndcg\n",
       "Algorithm  user                       \n",
       "ExplicitMF 1535         50.0  0.000000\n",
       "           1634         50.0  0.000000\n",
       "           2178         50.0  0.000000\n",
       "           2310         50.0  0.000000\n",
       "           4439         50.0  0.000000\n",
       "...                      ...       ...\n",
       "popular    2002175450   50.0  0.000000\n",
       "           2002223735   50.0  0.218104\n",
       "           2002233010   50.0  0.000000\n",
       "           2002238191   50.0  0.218104\n",
       "           2002351275   50.0       NaN\n",
       "\n",
       "[4524 rows x 2 columns]"
      ]
     },
     "execution_count": 55,
     "metadata": {},
     "output_type": "execute_result"
    }
   ],
   "source": [
    "results"
   ]
  },
  {
   "cell_type": "code",
   "execution_count": 120,
   "metadata": {},
   "outputs": [
    {
     "data": {
      "text/plain": [
       "<AxesSubplot:xlabel='Algorithm'>"
      ]
     },
     "execution_count": 120,
     "metadata": {},
     "output_type": "execute_result"
    },
    {
     "data": {
      "image/png": "[encoded data removed]",
      "text/plain": [
       "<Figure size 432x288 with 1 Axes>"
      ]
     },
     "metadata": {},
     "output_type": "display_data"
    }
   ],
   "source": [
    "from lenskit import topn\n",
    "import pandas as pd\n",
    "# test6 = pd.read_csv('test6.csv', index_col = 0 )\n",
    "test_data = pd.DataFrame()\n",
    "test_data = []\n",
    "test_data.append(test)\n",
    "test_data = pd.concat(test_data, ignore_index=True)\n",
    "test_rec = pd.read_csv('all_recs2.csv', index_col = 0 )\n",
    "rla = topn.RecListAnalysis()\n",
    "rla.add_metric(topn.ndcg)\n",
    "results = rla.compute(test_rec, test_data)\n",
    "results.head()\n",
    "results.groupby('Algorithm').ndcg.mean()\n",
    "results.groupby('Algorithm').ndcg.mean().plot.bar()"
   ]
  },
  {
   "cell_type": "code",
   "execution_count": 64,
   "metadata": {},
   "outputs": [
    {
     "data": {
      "text/plain": [
       "<AxesSubplot:xlabel='Algorithm'>"
      ]
     },
     "execution_count": 64,
     "metadata": {},
     "output_type": "execute_result"
    },
    {
     "data": {
      "image/png": "[encoded data removed]",
      "text/plain": [
       "<Figure size 432x288 with 1 Axes>"
      ]
     },
     "metadata": {
      "needs_background": "light"
     },
     "output_type": "display_data"
    }
   ],
   "source": [
    "from lenskit import topn\n",
    "import pandas as pd\n",
    "# test6 = pd.read_csv('test6.csv', index_col = 0 )\n",
    "test_data = pd.DataFrame()\n",
    "test_data = []\n",
    "test_data.append(test2)\n",
    "test_data = pd.concat(test_data, ignore_index=True)\n",
    "test_rec = pd.read_csv('all_recs3.csv', index_col = 0 )\n",
    "rla = topn.RecListAnalysis()\n",
    "rla.add_metric(topn.ndcg)\n",
    "results = rla.compute(test_rec, test_data)\n",
    "\n",
    "results.head()\n",
    "results.groupby('Algorithm').ndcg.mean()\n",
    "results.groupby('Algorithm').ndcg.mean().plot.bar()"
   ]
  },
  {
   "cell_type": "code",
   "execution_count": 114,
   "metadata": {},
   "outputs": [
    {
     "data": {
      "text/html": [
       "<div>\n",
       "<style scoped>\n",
       "    .dataframe tbody tr th:only-of-type {\n",
       "        vertical-align: middle;\n",
       "    }\n",
       "\n",
       "    .dataframe tbody tr th {\n",
       "        vertical-align: top;\n",
       "    }\n",
       "\n",
       "    .dataframe thead th {\n",
       "        text-align: right;\n",
       "    }\n",
       "</style>\n",
       "<table border=\"1\" class=\"dataframe\">\n",
       "  <thead>\n",
       "    <tr style=\"text-align: right;\">\n",
       "      <th></th>\n",
       "      <th></th>\n",
       "      <th>date</th>\n",
       "      <th>rating</th>\n",
       "      <th>ingredient</th>\n",
       "      <th>n_steps</th>\n",
       "    </tr>\n",
       "    <tr>\n",
       "      <th>user</th>\n",
       "      <th>item</th>\n",
       "      <th></th>\n",
       "      <th></th>\n",
       "      <th></th>\n",
       "      <th></th>\n",
       "    </tr>\n",
       "  </thead>\n",
       "  <tbody>\n",
       "    <tr>\n",
       "      <th rowspan=\"5\" valign=\"top\">1535</th>\n",
       "      <th>30392</th>\n",
       "      <td>2005-01-27</td>\n",
       "      <td>5</td>\n",
       "      <td>kahlua</td>\n",
       "      <td>2</td>\n",
       "    </tr>\n",
       "    <tr>\n",
       "      <th>36536</th>\n",
       "      <td>2006-06-06</td>\n",
       "      <td>5</td>\n",
       "      <td>watermelon</td>\n",
       "      <td>4</td>\n",
       "    </tr>\n",
       "    <tr>\n",
       "      <th>48814</th>\n",
       "      <td>2006-05-01</td>\n",
       "      <td>4</td>\n",
       "      <td>whole milk</td>\n",
       "      <td>3</td>\n",
       "    </tr>\n",
       "    <tr>\n",
       "      <th>60354</th>\n",
       "      <td>2006-01-11</td>\n",
       "      <td>3</td>\n",
       "      <td>heavy cream</td>\n",
       "      <td>4</td>\n",
       "    </tr>\n",
       "    <tr>\n",
       "      <th>72387</th>\n",
       "      <td>2006-03-11</td>\n",
       "      <td>5</td>\n",
       "      <td>strong coffee</td>\n",
       "      <td>3</td>\n",
       "    </tr>\n",
       "    <tr>\n",
       "      <th>...</th>\n",
       "      <th>...</th>\n",
       "      <td>...</td>\n",
       "      <td>...</td>\n",
       "      <td>...</td>\n",
       "      <td>...</td>\n",
       "    </tr>\n",
       "    <tr>\n",
       "      <th>2002298826</th>\n",
       "      <th>294532</th>\n",
       "      <td>2018-10-12</td>\n",
       "      <td>4</td>\n",
       "      <td>cold water</td>\n",
       "      <td>6</td>\n",
       "    </tr>\n",
       "    <tr>\n",
       "      <th>2002319904</th>\n",
       "      <th>243479</th>\n",
       "      <td>2018-11-03</td>\n",
       "      <td>5</td>\n",
       "      <td>pisco</td>\n",
       "      <td>3</td>\n",
       "    </tr>\n",
       "    <tr>\n",
       "      <th>2002351275</th>\n",
       "      <th>312980</th>\n",
       "      <td>2018-11-29</td>\n",
       "      <td>0</td>\n",
       "      <td>milk</td>\n",
       "      <td>9</td>\n",
       "    </tr>\n",
       "    <tr>\n",
       "      <th>2002361607</th>\n",
       "      <th>107273</th>\n",
       "      <td>2018-12-09</td>\n",
       "      <td>5</td>\n",
       "      <td>vanilla extract</td>\n",
       "      <td>16</td>\n",
       "    </tr>\n",
       "    <tr>\n",
       "      <th>2002363832</th>\n",
       "      <th>234344</th>\n",
       "      <td>2018-12-12</td>\n",
       "      <td>0</td>\n",
       "      <td>water</td>\n",
       "      <td>6</td>\n",
       "    </tr>\n",
       "  </tbody>\n",
       "</table>\n",
       "<p>9206 rows × 4 columns</p>\n",
       "</div>"
      ],
      "text/plain": [
       "                         date  rating       ingredient  n_steps\n",
       "user       item                                                \n",
       "1535       30392   2005-01-27       5           kahlua        2\n",
       "           36536   2006-06-06       5       watermelon        4\n",
       "           48814   2006-05-01       4       whole milk        3\n",
       "           60354   2006-01-11       3      heavy cream        4\n",
       "           72387   2006-03-11       5    strong coffee        3\n",
       "...                       ...     ...              ...      ...\n",
       "2002298826 294532  2018-10-12       4       cold water        6\n",
       "2002319904 243479  2018-11-03       5            pisco        3\n",
       "2002351275 312980  2018-11-29       0             milk        9\n",
       "2002361607 107273  2018-12-09       5  vanilla extract       16\n",
       "2002363832 234344  2018-12-12       0            water        6\n",
       "\n",
       "[9206 rows x 4 columns]"
      ]
     },
     "execution_count": 114,
     "metadata": {},
     "output_type": "execute_result"
    }
   ],
   "source": [
    "test.groupby(['user', 'item']).first()"
   ]
  },
  {
   "cell_type": "code",
   "execution_count": 112,
   "metadata": {},
   "outputs": [
    {
     "ename": "KeyError",
     "evalue": "Index(['user,item'], dtype='object')",
     "output_type": "error",
     "traceback": [
      "\u001b[1;31m---------------------------------------------------------------------------\u001b[0m",
      "\u001b[1;31mKeyError\u001b[0m                                  Traceback (most recent call last)",
      "\u001b[1;32m<ipython-input-112-63b9ad9eb42f>\u001b[0m in \u001b[0;36m<module>\u001b[1;34m\u001b[0m\n\u001b[1;32m----> 1\u001b[1;33m \u001b[0mtest\u001b[0m\u001b[1;33m.\u001b[0m\u001b[0mdrop_duplicates\u001b[0m\u001b[1;33m(\u001b[0m\u001b[0msubset\u001b[0m\u001b[1;33m=\u001b[0m\u001b[1;33m[\u001b[0m\u001b[1;34m'user,item'\u001b[0m\u001b[1;33m]\u001b[0m\u001b[1;33m,\u001b[0m \u001b[0mkeep\u001b[0m\u001b[1;33m=\u001b[0m\u001b[1;34m\"last\"\u001b[0m\u001b[1;33m)\u001b[0m\u001b[1;33m.\u001b[0m\u001b[0mreset_index\u001b[0m\u001b[1;33m(\u001b[0m\u001b[0mdrop\u001b[0m \u001b[1;33m=\u001b[0m \u001b[1;32mTrue\u001b[0m\u001b[1;33m)\u001b[0m\u001b[1;33m\u001b[0m\u001b[1;33m\u001b[0m\u001b[0m\n\u001b[0m",
      "\u001b[1;32mc:\\users\\jncwi\\appdata\\local\\programs\\python\\python37\\lib\\site-packages\\pandas\\core\\frame.py\u001b[0m in \u001b[0;36mdrop_duplicates\u001b[1;34m(self, subset, keep, inplace, ignore_index)\u001b[0m\n\u001b[0;32m   5105\u001b[0m \u001b[1;33m\u001b[0m\u001b[0m\n\u001b[0;32m   5106\u001b[0m         \u001b[0minplace\u001b[0m \u001b[1;33m=\u001b[0m \u001b[0mvalidate_bool_kwarg\u001b[0m\u001b[1;33m(\u001b[0m\u001b[0minplace\u001b[0m\u001b[1;33m,\u001b[0m \u001b[1;34m\"inplace\"\u001b[0m\u001b[1;33m)\u001b[0m\u001b[1;33m\u001b[0m\u001b[1;33m\u001b[0m\u001b[0m\n\u001b[1;32m-> 5107\u001b[1;33m         \u001b[0mduplicated\u001b[0m \u001b[1;33m=\u001b[0m \u001b[0mself\u001b[0m\u001b[1;33m.\u001b[0m\u001b[0mduplicated\u001b[0m\u001b[1;33m(\u001b[0m\u001b[0msubset\u001b[0m\u001b[1;33m,\u001b[0m \u001b[0mkeep\u001b[0m\u001b[1;33m=\u001b[0m\u001b[0mkeep\u001b[0m\u001b[1;33m)\u001b[0m\u001b[1;33m\u001b[0m\u001b[1;33m\u001b[0m\u001b[0m\n\u001b[0m\u001b[0;32m   5108\u001b[0m \u001b[1;33m\u001b[0m\u001b[0m\n\u001b[0;32m   5109\u001b[0m         \u001b[0mresult\u001b[0m \u001b[1;33m=\u001b[0m \u001b[0mself\u001b[0m\u001b[1;33m[\u001b[0m\u001b[1;33m-\u001b[0m\u001b[0mduplicated\u001b[0m\u001b[1;33m]\u001b[0m\u001b[1;33m\u001b[0m\u001b[1;33m\u001b[0m\u001b[0m\n",
      "\u001b[1;32mc:\\users\\jncwi\\appdata\\local\\programs\\python\\python37\\lib\\site-packages\\pandas\\core\\frame.py\u001b[0m in \u001b[0;36mduplicated\u001b[1;34m(self, subset, keep)\u001b[0m\n\u001b[0;32m   5241\u001b[0m         \u001b[0mdiff\u001b[0m \u001b[1;33m=\u001b[0m \u001b[0mIndex\u001b[0m\u001b[1;33m(\u001b[0m\u001b[0msubset\u001b[0m\u001b[1;33m)\u001b[0m\u001b[1;33m.\u001b[0m\u001b[0mdifference\u001b[0m\u001b[1;33m(\u001b[0m\u001b[0mself\u001b[0m\u001b[1;33m.\u001b[0m\u001b[0mcolumns\u001b[0m\u001b[1;33m)\u001b[0m\u001b[1;33m\u001b[0m\u001b[1;33m\u001b[0m\u001b[0m\n\u001b[0;32m   5242\u001b[0m         \u001b[1;32mif\u001b[0m \u001b[1;32mnot\u001b[0m \u001b[0mdiff\u001b[0m\u001b[1;33m.\u001b[0m\u001b[0mempty\u001b[0m\u001b[1;33m:\u001b[0m\u001b[1;33m\u001b[0m\u001b[1;33m\u001b[0m\u001b[0m\n\u001b[1;32m-> 5243\u001b[1;33m             \u001b[1;32mraise\u001b[0m \u001b[0mKeyError\u001b[0m\u001b[1;33m(\u001b[0m\u001b[0mdiff\u001b[0m\u001b[1;33m)\u001b[0m\u001b[1;33m\u001b[0m\u001b[1;33m\u001b[0m\u001b[0m\n\u001b[0m\u001b[0;32m   5244\u001b[0m \u001b[1;33m\u001b[0m\u001b[0m\n\u001b[0;32m   5245\u001b[0m         \u001b[0mvals\u001b[0m \u001b[1;33m=\u001b[0m \u001b[1;33m(\u001b[0m\u001b[0mcol\u001b[0m\u001b[1;33m.\u001b[0m\u001b[0mvalues\u001b[0m \u001b[1;32mfor\u001b[0m \u001b[0mname\u001b[0m\u001b[1;33m,\u001b[0m \u001b[0mcol\u001b[0m \u001b[1;32min\u001b[0m \u001b[0mself\u001b[0m\u001b[1;33m.\u001b[0m\u001b[0mitems\u001b[0m\u001b[1;33m(\u001b[0m\u001b[1;33m)\u001b[0m \u001b[1;32mif\u001b[0m \u001b[0mname\u001b[0m \u001b[1;32min\u001b[0m \u001b[0msubset\u001b[0m\u001b[1;33m)\u001b[0m\u001b[1;33m\u001b[0m\u001b[1;33m\u001b[0m\u001b[0m\n",
      "\u001b[1;31mKeyError\u001b[0m: Index(['user,item'], dtype='object')"
     ]
    }
   ],
   "source": [
    "test.drop_duplicates(subset=['user','item'], keep=\"last\").reset_index(drop = True)"
   ]
  },
  {
   "cell_type": "code",
   "execution_count": 102,
   "metadata": {},
   "outputs": [
    {
     "ename": "KeyError",
     "evalue": "(1634,)",
     "output_type": "error",
     "traceback": [
      "\u001b[1;31m---------------------------------------------------------------------------\u001b[0m",
      "\u001b[1;31m_RemoteTraceback\u001b[0m                          Traceback (most recent call last)",
      "\u001b[1;31m_RemoteTraceback\u001b[0m: \n\"\"\"\nTraceback (most recent call last):\n  File \"c:\\users\\jncwi\\appdata\\local\\programs\\python\\python37\\lib\\concurrent\\futures\\process.py\", line 239, in _process_worker\n    r = call_item.fn(*call_item.args, **call_item.kwargs)\n  File \"c:\\users\\jncwi\\appdata\\local\\programs\\python\\python37\\lib\\concurrent\\futures\\process.py\", line 198, in _process_chunk\n    return [fn(*args) for args in chunk]\n  File \"c:\\users\\jncwi\\appdata\\local\\programs\\python\\python37\\lib\\concurrent\\futures\\process.py\", line 198, in <listcomp>\n    return [fn(*args) for args in chunk]\n  File \"c:\\users\\jncwi\\appdata\\local\\programs\\python\\python37\\lib\\site-packages\\lenskit\\util\\parallel.py\", line 131, in _mp_invoke_worker\n    return __work_func(model, *args)\n  File \"c:\\users\\jncwi\\appdata\\local\\programs\\python\\python37\\lib\\site-packages\\lenskit\\topn.py\", line 37, in _rla_worker\n    return model._compute_group(col, val)\n  File \"c:\\users\\jncwi\\appdata\\local\\programs\\python\\python37\\lib\\site-packages\\lenskit\\topn.py\", line 75, in _compute_group\n    return pd.DataFrame.from_records(gen, columns=self.rec_key + mnames)\n  File \"c:\\users\\jncwi\\appdata\\local\\programs\\python\\python37\\lib\\site-packages\\pandas\\core\\frame.py\", line 1762, in from_records\n    values += data\n  File \"c:\\users\\jncwi\\appdata\\local\\programs\\python\\python37\\lib\\site-packages\\lenskit\\topn.py\", line 86, in _iter_measurements\n    g_truth = self.truth[tk]\nKeyError: (1634,)\n\"\"\"",
      "\nThe above exception was the direct cause of the following exception:\n",
      "\u001b[1;31mKeyError\u001b[0m                                  Traceback (most recent call last)",
      "\u001b[1;32m<ipython-input-102-99b7da56f65f>\u001b[0m in \u001b[0;36m<module>\u001b[1;34m\u001b[0m\n\u001b[0;32m      9\u001b[0m \u001b[0mrla\u001b[0m \u001b[1;33m=\u001b[0m \u001b[0mtopn\u001b[0m\u001b[1;33m.\u001b[0m\u001b[0mRecListAnalysis\u001b[0m\u001b[1;33m(\u001b[0m\u001b[1;33m)\u001b[0m\u001b[1;33m\u001b[0m\u001b[1;33m\u001b[0m\u001b[0m\n\u001b[0;32m     10\u001b[0m \u001b[0mrla\u001b[0m\u001b[1;33m.\u001b[0m\u001b[0madd_metric\u001b[0m\u001b[1;33m(\u001b[0m\u001b[0mtopn\u001b[0m\u001b[1;33m.\u001b[0m\u001b[0mndcg\u001b[0m\u001b[1;33m)\u001b[0m\u001b[1;33m\u001b[0m\u001b[1;33m\u001b[0m\u001b[0m\n\u001b[1;32m---> 11\u001b[1;33m \u001b[0mresults\u001b[0m \u001b[1;33m=\u001b[0m \u001b[0mrla\u001b[0m\u001b[1;33m.\u001b[0m\u001b[0mcompute\u001b[0m\u001b[1;33m(\u001b[0m\u001b[0mtest_rec\u001b[0m\u001b[1;33m,\u001b[0m \u001b[0mtest_data\u001b[0m\u001b[1;33m)\u001b[0m\u001b[1;33m\u001b[0m\u001b[1;33m\u001b[0m\u001b[0m\n\u001b[0m\u001b[0;32m     12\u001b[0m \u001b[1;33m\u001b[0m\u001b[0m\n\u001b[0;32m     13\u001b[0m \u001b[0mresults\u001b[0m\u001b[1;33m.\u001b[0m\u001b[0mhead\u001b[0m\u001b[1;33m(\u001b[0m\u001b[1;33m)\u001b[0m\u001b[1;33m\u001b[0m\u001b[1;33m\u001b[0m\u001b[0m\n",
      "\u001b[1;32mc:\\users\\jncwi\\appdata\\local\\programs\\python\\python37\\lib\\site-packages\\lenskit\\topn.py\u001b[0m in \u001b[0;36mcompute\u001b[1;34m(self, recs, truth, include_missing)\u001b[0m\n\u001b[0;32m    174\u001b[0m         \u001b[0mtimer\u001b[0m \u001b[1;33m=\u001b[0m \u001b[0mStopwatch\u001b[0m\u001b[1;33m(\u001b[0m\u001b[1;33m)\u001b[0m\u001b[1;33m\u001b[0m\u001b[1;33m\u001b[0m\u001b[0m\n\u001b[0;32m    175\u001b[0m         \u001b[0m_log\u001b[0m\u001b[1;33m.\u001b[0m\u001b[0minfo\u001b[0m\u001b[1;33m(\u001b[0m\u001b[1;34m'collecting metric results'\u001b[0m\u001b[1;33m)\u001b[0m\u001b[1;33m\u001b[0m\u001b[1;33m\u001b[0m\u001b[0m\n\u001b[1;32m--> 176\u001b[1;33m         \u001b[0mres\u001b[0m \u001b[1;33m=\u001b[0m \u001b[0mjob\u001b[0m\u001b[1;33m.\u001b[0m\u001b[0mcompute\u001b[0m\u001b[1;33m(\u001b[0m\u001b[0mself\u001b[0m\u001b[1;33m.\u001b[0m\u001b[0mn_jobs\u001b[0m\u001b[1;33m)\u001b[0m\u001b[1;33m\u001b[0m\u001b[1;33m\u001b[0m\u001b[0m\n\u001b[0m\u001b[0;32m    177\u001b[0m         \u001b[0m_log\u001b[0m\u001b[1;33m.\u001b[0m\u001b[0minfo\u001b[0m\u001b[1;33m(\u001b[0m\u001b[1;34m'measured %d lists in %s'\u001b[0m\u001b[1;33m,\u001b[0m \u001b[0mlen\u001b[0m\u001b[1;33m(\u001b[0m\u001b[0mres\u001b[0m\u001b[1;33m)\u001b[0m\u001b[1;33m,\u001b[0m \u001b[0mtimer\u001b[0m\u001b[1;33m)\u001b[0m\u001b[1;33m\u001b[0m\u001b[1;33m\u001b[0m\u001b[0m\n\u001b[0;32m    178\u001b[0m \u001b[1;33m\u001b[0m\u001b[0m\n",
      "\u001b[1;32mc:\\users\\jncwi\\appdata\\local\\programs\\python\\python37\\lib\\site-packages\\lenskit\\topn.py\u001b[0m in \u001b[0;36mcompute\u001b[1;34m(self, n_jobs)\u001b[0m\n\u001b[0;32m     65\u001b[0m         \u001b[1;32mwith\u001b[0m \u001b[0minvoker\u001b[0m\u001b[1;33m(\u001b[0m\u001b[0mself\u001b[0m\u001b[1;33m,\u001b[0m \u001b[0m_rla_worker\u001b[0m\u001b[1;33m,\u001b[0m \u001b[0mn_jobs\u001b[0m\u001b[1;33m)\u001b[0m \u001b[1;32mas\u001b[0m \u001b[0mloop\u001b[0m\u001b[1;33m:\u001b[0m\u001b[1;33m\u001b[0m\u001b[1;33m\u001b[0m\u001b[0m\n\u001b[0;32m     66\u001b[0m             \u001b[0mres\u001b[0m \u001b[1;33m=\u001b[0m \u001b[0mloop\u001b[0m\u001b[1;33m.\u001b[0m\u001b[0mmap\u001b[0m\u001b[1;33m(\u001b[0m\u001b[1;33m(\u001b[0m\u001b[0mfirst\u001b[0m\u001b[1;33m,\u001b[0m \u001b[0mv\u001b[0m\u001b[1;33m)\u001b[0m \u001b[1;32mfor\u001b[0m \u001b[0mv\u001b[0m \u001b[1;32min\u001b[0m \u001b[0mbins\u001b[0m\u001b[1;33m.\u001b[0m\u001b[0mindex\u001b[0m\u001b[1;33m.\u001b[0m\u001b[0mvalues\u001b[0m\u001b[1;33m)\u001b[0m\u001b[1;33m\u001b[0m\u001b[1;33m\u001b[0m\u001b[0m\n\u001b[1;32m---> 67\u001b[1;33m             \u001b[0mres\u001b[0m \u001b[1;33m=\u001b[0m \u001b[0mpd\u001b[0m\u001b[1;33m.\u001b[0m\u001b[0mconcat\u001b[0m\u001b[1;33m(\u001b[0m\u001b[0mres\u001b[0m\u001b[1;33m,\u001b[0m \u001b[0mignore_index\u001b[0m\u001b[1;33m=\u001b[0m\u001b[1;32mTrue\u001b[0m\u001b[1;33m)\u001b[0m\u001b[1;33m\u001b[0m\u001b[1;33m\u001b[0m\u001b[0m\n\u001b[0m\u001b[0;32m     68\u001b[0m \u001b[1;33m\u001b[0m\u001b[0m\n\u001b[0;32m     69\u001b[0m         \u001b[1;32mreturn\u001b[0m \u001b[0mres\u001b[0m\u001b[1;33m.\u001b[0m\u001b[0mset_index\u001b[0m\u001b[1;33m(\u001b[0m\u001b[0mself\u001b[0m\u001b[1;33m.\u001b[0m\u001b[0mrec_key\u001b[0m\u001b[1;33m)\u001b[0m\u001b[1;33m\u001b[0m\u001b[1;33m\u001b[0m\u001b[0m\n",
      "\u001b[1;32mc:\\users\\jncwi\\appdata\\local\\programs\\python\\python37\\lib\\site-packages\\pandas\\core\\reshape\\concat.py\u001b[0m in \u001b[0;36mconcat\u001b[1;34m(objs, axis, join, ignore_index, keys, levels, names, verify_integrity, sort, copy)\u001b[0m\n\u001b[0;32m    282\u001b[0m         \u001b[0mverify_integrity\u001b[0m\u001b[1;33m=\u001b[0m\u001b[0mverify_integrity\u001b[0m\u001b[1;33m,\u001b[0m\u001b[1;33m\u001b[0m\u001b[1;33m\u001b[0m\u001b[0m\n\u001b[0;32m    283\u001b[0m         \u001b[0mcopy\u001b[0m\u001b[1;33m=\u001b[0m\u001b[0mcopy\u001b[0m\u001b[1;33m,\u001b[0m\u001b[1;33m\u001b[0m\u001b[1;33m\u001b[0m\u001b[0m\n\u001b[1;32m--> 284\u001b[1;33m         \u001b[0msort\u001b[0m\u001b[1;33m=\u001b[0m\u001b[0msort\u001b[0m\u001b[1;33m,\u001b[0m\u001b[1;33m\u001b[0m\u001b[1;33m\u001b[0m\u001b[0m\n\u001b[0m\u001b[0;32m    285\u001b[0m     )\n\u001b[0;32m    286\u001b[0m \u001b[1;33m\u001b[0m\u001b[0m\n",
      "\u001b[1;32mc:\\users\\jncwi\\appdata\\local\\programs\\python\\python37\\lib\\site-packages\\pandas\\core\\reshape\\concat.py\u001b[0m in \u001b[0;36m__init__\u001b[1;34m(self, objs, axis, join, keys, levels, names, ignore_index, verify_integrity, copy, sort)\u001b[0m\n\u001b[0;32m    326\u001b[0m             \u001b[0mobjs\u001b[0m \u001b[1;33m=\u001b[0m \u001b[1;33m[\u001b[0m\u001b[0mobjs\u001b[0m\u001b[1;33m[\u001b[0m\u001b[0mk\u001b[0m\u001b[1;33m]\u001b[0m \u001b[1;32mfor\u001b[0m \u001b[0mk\u001b[0m \u001b[1;32min\u001b[0m \u001b[0mkeys\u001b[0m\u001b[1;33m]\u001b[0m\u001b[1;33m\u001b[0m\u001b[1;33m\u001b[0m\u001b[0m\n\u001b[0;32m    327\u001b[0m         \u001b[1;32melse\u001b[0m\u001b[1;33m:\u001b[0m\u001b[1;33m\u001b[0m\u001b[1;33m\u001b[0m\u001b[0m\n\u001b[1;32m--> 328\u001b[1;33m             \u001b[0mobjs\u001b[0m \u001b[1;33m=\u001b[0m \u001b[0mlist\u001b[0m\u001b[1;33m(\u001b[0m\u001b[0mobjs\u001b[0m\u001b[1;33m)\u001b[0m\u001b[1;33m\u001b[0m\u001b[1;33m\u001b[0m\u001b[0m\n\u001b[0m\u001b[0;32m    329\u001b[0m \u001b[1;33m\u001b[0m\u001b[0m\n\u001b[0;32m    330\u001b[0m         \u001b[1;32mif\u001b[0m \u001b[0mlen\u001b[0m\u001b[1;33m(\u001b[0m\u001b[0mobjs\u001b[0m\u001b[1;33m)\u001b[0m \u001b[1;33m==\u001b[0m \u001b[1;36m0\u001b[0m\u001b[1;33m:\u001b[0m\u001b[1;33m\u001b[0m\u001b[1;33m\u001b[0m\u001b[0m\n",
      "\u001b[1;32mc:\\users\\jncwi\\appdata\\local\\programs\\python\\python37\\lib\\concurrent\\futures\\process.py\u001b[0m in \u001b[0;36m_chain_from_iterable_of_lists\u001b[1;34m(iterable)\u001b[0m\n\u001b[0;32m    481\u001b[0m     \u001b[0mcareful\u001b[0m \u001b[1;32mnot\u001b[0m \u001b[0mto\u001b[0m \u001b[0mkeep\u001b[0m \u001b[0mreferences\u001b[0m \u001b[0mto\u001b[0m \u001b[0myielded\u001b[0m \u001b[0mobjects\u001b[0m\u001b[1;33m.\u001b[0m\u001b[1;33m\u001b[0m\u001b[1;33m\u001b[0m\u001b[0m\n\u001b[0;32m    482\u001b[0m     \"\"\"\n\u001b[1;32m--> 483\u001b[1;33m     \u001b[1;32mfor\u001b[0m \u001b[0melement\u001b[0m \u001b[1;32min\u001b[0m \u001b[0miterable\u001b[0m\u001b[1;33m:\u001b[0m\u001b[1;33m\u001b[0m\u001b[1;33m\u001b[0m\u001b[0m\n\u001b[0m\u001b[0;32m    484\u001b[0m         \u001b[0melement\u001b[0m\u001b[1;33m.\u001b[0m\u001b[0mreverse\u001b[0m\u001b[1;33m(\u001b[0m\u001b[1;33m)\u001b[0m\u001b[1;33m\u001b[0m\u001b[1;33m\u001b[0m\u001b[0m\n\u001b[0;32m    485\u001b[0m         \u001b[1;32mwhile\u001b[0m \u001b[0melement\u001b[0m\u001b[1;33m:\u001b[0m\u001b[1;33m\u001b[0m\u001b[1;33m\u001b[0m\u001b[0m\n",
      "\u001b[1;32mc:\\users\\jncwi\\appdata\\local\\programs\\python\\python37\\lib\\concurrent\\futures\\_base.py\u001b[0m in \u001b[0;36mresult_iterator\u001b[1;34m()\u001b[0m\n\u001b[0;32m    596\u001b[0m                     \u001b[1;31m# Careful not to keep a reference to the popped future\u001b[0m\u001b[1;33m\u001b[0m\u001b[1;33m\u001b[0m\u001b[1;33m\u001b[0m\u001b[0m\n\u001b[0;32m    597\u001b[0m                     \u001b[1;32mif\u001b[0m \u001b[0mtimeout\u001b[0m \u001b[1;32mis\u001b[0m \u001b[1;32mNone\u001b[0m\u001b[1;33m:\u001b[0m\u001b[1;33m\u001b[0m\u001b[1;33m\u001b[0m\u001b[0m\n\u001b[1;32m--> 598\u001b[1;33m                         \u001b[1;32myield\u001b[0m \u001b[0mfs\u001b[0m\u001b[1;33m.\u001b[0m\u001b[0mpop\u001b[0m\u001b[1;33m(\u001b[0m\u001b[1;33m)\u001b[0m\u001b[1;33m.\u001b[0m\u001b[0mresult\u001b[0m\u001b[1;33m(\u001b[0m\u001b[1;33m)\u001b[0m\u001b[1;33m\u001b[0m\u001b[1;33m\u001b[0m\u001b[0m\n\u001b[0m\u001b[0;32m    599\u001b[0m                     \u001b[1;32melse\u001b[0m\u001b[1;33m:\u001b[0m\u001b[1;33m\u001b[0m\u001b[1;33m\u001b[0m\u001b[0m\n\u001b[0;32m    600\u001b[0m                         \u001b[1;32myield\u001b[0m \u001b[0mfs\u001b[0m\u001b[1;33m.\u001b[0m\u001b[0mpop\u001b[0m\u001b[1;33m(\u001b[0m\u001b[1;33m)\u001b[0m\u001b[1;33m.\u001b[0m\u001b[0mresult\u001b[0m\u001b[1;33m(\u001b[0m\u001b[0mend_time\u001b[0m \u001b[1;33m-\u001b[0m \u001b[0mtime\u001b[0m\u001b[1;33m.\u001b[0m\u001b[0mmonotonic\u001b[0m\u001b[1;33m(\u001b[0m\u001b[1;33m)\u001b[0m\u001b[1;33m)\u001b[0m\u001b[1;33m\u001b[0m\u001b[1;33m\u001b[0m\u001b[0m\n",
      "\u001b[1;32mc:\\users\\jncwi\\appdata\\local\\programs\\python\\python37\\lib\\concurrent\\futures\\_base.py\u001b[0m in \u001b[0;36mresult\u001b[1;34m(self, timeout)\u001b[0m\n\u001b[0;32m    433\u001b[0m                 \u001b[1;32mraise\u001b[0m \u001b[0mCancelledError\u001b[0m\u001b[1;33m(\u001b[0m\u001b[1;33m)\u001b[0m\u001b[1;33m\u001b[0m\u001b[1;33m\u001b[0m\u001b[0m\n\u001b[0;32m    434\u001b[0m             \u001b[1;32melif\u001b[0m \u001b[0mself\u001b[0m\u001b[1;33m.\u001b[0m\u001b[0m_state\u001b[0m \u001b[1;33m==\u001b[0m \u001b[0mFINISHED\u001b[0m\u001b[1;33m:\u001b[0m\u001b[1;33m\u001b[0m\u001b[1;33m\u001b[0m\u001b[0m\n\u001b[1;32m--> 435\u001b[1;33m                 \u001b[1;32mreturn\u001b[0m \u001b[0mself\u001b[0m\u001b[1;33m.\u001b[0m\u001b[0m__get_result\u001b[0m\u001b[1;33m(\u001b[0m\u001b[1;33m)\u001b[0m\u001b[1;33m\u001b[0m\u001b[1;33m\u001b[0m\u001b[0m\n\u001b[0m\u001b[0;32m    436\u001b[0m             \u001b[1;32melse\u001b[0m\u001b[1;33m:\u001b[0m\u001b[1;33m\u001b[0m\u001b[1;33m\u001b[0m\u001b[0m\n\u001b[0;32m    437\u001b[0m                 \u001b[1;32mraise\u001b[0m \u001b[0mTimeoutError\u001b[0m\u001b[1;33m(\u001b[0m\u001b[1;33m)\u001b[0m\u001b[1;33m\u001b[0m\u001b[1;33m\u001b[0m\u001b[0m\n",
      "\u001b[1;32mc:\\users\\jncwi\\appdata\\local\\programs\\python\\python37\\lib\\concurrent\\futures\\_base.py\u001b[0m in \u001b[0;36m__get_result\u001b[1;34m(self)\u001b[0m\n\u001b[0;32m    382\u001b[0m     \u001b[1;32mdef\u001b[0m \u001b[0m__get_result\u001b[0m\u001b[1;33m(\u001b[0m\u001b[0mself\u001b[0m\u001b[1;33m)\u001b[0m\u001b[1;33m:\u001b[0m\u001b[1;33m\u001b[0m\u001b[1;33m\u001b[0m\u001b[0m\n\u001b[0;32m    383\u001b[0m         \u001b[1;32mif\u001b[0m \u001b[0mself\u001b[0m\u001b[1;33m.\u001b[0m\u001b[0m_exception\u001b[0m\u001b[1;33m:\u001b[0m\u001b[1;33m\u001b[0m\u001b[1;33m\u001b[0m\u001b[0m\n\u001b[1;32m--> 384\u001b[1;33m             \u001b[1;32mraise\u001b[0m \u001b[0mself\u001b[0m\u001b[1;33m.\u001b[0m\u001b[0m_exception\u001b[0m\u001b[1;33m\u001b[0m\u001b[1;33m\u001b[0m\u001b[0m\n\u001b[0m\u001b[0;32m    385\u001b[0m         \u001b[1;32melse\u001b[0m\u001b[1;33m:\u001b[0m\u001b[1;33m\u001b[0m\u001b[1;33m\u001b[0m\u001b[0m\n\u001b[0;32m    386\u001b[0m             \u001b[1;32mreturn\u001b[0m \u001b[0mself\u001b[0m\u001b[1;33m.\u001b[0m\u001b[0m_result\u001b[0m\u001b[1;33m\u001b[0m\u001b[1;33m\u001b[0m\u001b[0m\n",
      "\u001b[1;31mKeyError\u001b[0m: (1634,)"
     ]
    }
   ],
   "source": [
    "from lenskit import topn\n",
    "import pandas as pd\n",
    "# test6 = pd.read_csv('test6.csv', index_col = 0 )\n",
    "test_data = pd.DataFrame()\n",
    "test_data = []\n",
    "test_data.append(test.drop_duplicates())\n",
    "test_data = pd.concat(test_data, ignore_index=True)\n",
    "test_rec = pd.read_csv('all_recs4.csv', index_col = 0 )\n",
    "rla = topn.RecListAnalysis()\n",
    "rla.add_metric(topn.ndcg)\n",
    "results = rla.compute(test_rec, test_data)\n",
    "\n",
    "results.head()\n",
    "results.groupby('Algorithm').ndcg.mean()\n",
    "results.groupby('Algorithm').ndcg.mean().plot.bar()"
   ]
  },
  {
   "cell_type": "code",
   "execution_count": 10,
   "metadata": {},
   "outputs": [],
   "source": [
    "user2 = []\n",
    "for user in users:\n",
    "    if user in train.user.unique():\n",
    "        user2.append(user)"
   ]
  },
  {
   "cell_type": "code",
   "execution_count": null,
   "metadata": {},
   "outputs": [],
   "source": [
    "# from sklearn.model_selection import train_test_split\n",
    "# train ,test = train_test_split(filtered_ratings,test_size=0.2)  \n",
    "\n",
    "popular = basic.Popular()\n",
    "ImplicitMF = als.ImplicitMF(50)\n",
    "BPR = tf.BPR(50)\n",
    "liftmod = lift.Lift()\n",
    "\n",
    "from hybook import BookTagMF\n",
    "model = BookTagMF(50, device='gpu')\n",
    "\n",
    "# users = test.user.unique()\n",
    "items = test.item.unique()\n",
    "\n",
    "fittable = util.clone(BPR)\n",
    "fittable = Recommender.adapt(fittable)\n",
    "print(f\"start training BPR_model\")\n",
    "fittable.fit(train)\n",
    "print(f\"done training BPR_model\")\n",
    "print(f\"start pickle BPR_model\")\n",
    "filename = f'BPR_model.sav'\n",
    "pickle.dump(model, open(filename, 'wb'))\n",
    "print(f\"done with pickle BPR_model\")\n",
    "print(f\"start recommend BPR_model\")\n",
    "recs = batch.recommend(fittable, users, 50)\n",
    "print(f\"done with recommend BPR_model\")\n",
    "recs['Algorithm'] = f'BPR'\n",
    "print(f\"save recommend BPR_model to file\")\n",
    "recs.to_csv('all_recs7.csv', mode='a', header=False)"
   ]
  },
  {
   "cell_type": "code",
   "execution_count": 14,
   "metadata": {},
   "outputs": [
    {
     "data": {
      "application/vnd.jupyter.widget-view+json": {
       "model_id": "0ba5bb649bfd49f2b1a5744ab0139974",
       "version_major": 2,
       "version_minor": 0
      },
      "text/plain": [
       "HBox(children=(HTML(value=''), FloatProgress(value=0.0, max=3.0), HTML(value='')))"
      ]
     },
     "metadata": {},
     "output_type": "display_data"
    },
    {
     "name": "stdout",
     "output_type": "stream",
     "text": [
      "\n"
     ]
    },
    {
     "data": {
      "text/plain": [
       "<lenskit.algorithms.basic.TopN at 0x2c855102048>"
      ]
     },
     "execution_count": 14,
     "metadata": {},
     "output_type": "execute_result"
    }
   ],
   "source": [
    "fittable.fit(train)"
   ]
  },
  {
   "cell_type": "code",
   "execution_count": 16,
   "metadata": {},
   "outputs": [
    {
     "ename": "KeyError",
     "evalue": "28345",
     "output_type": "error",
     "traceback": [
      "\u001b[1;31m---------------------------------------------------------------------------\u001b[0m",
      "\u001b[1;31m_RemoteTraceback\u001b[0m                          Traceback (most recent call last)",
      "\u001b[1;31m_RemoteTraceback\u001b[0m: \n\"\"\"\nTraceback (most recent call last):\n  File \"c:\\users\\jncwi\\appdata\\local\\programs\\python\\python37\\lib\\site-packages\\pandas\\core\\indexes\\base.py\", line 2891, in get_loc\n    return self._engine.get_loc(casted_key)\n  File \"pandas\\_libs\\index.pyx\", line 70, in pandas._libs.index.IndexEngine.get_loc\n  File \"pandas\\_libs\\index.pyx\", line 101, in pandas._libs.index.IndexEngine.get_loc\n  File \"pandas\\_libs\\hashtable_class_helper.pxi\", line 1032, in pandas._libs.hashtable.Int64HashTable.get_item\n  File \"pandas\\_libs\\hashtable_class_helper.pxi\", line 1039, in pandas._libs.hashtable.Int64HashTable.get_item\nKeyError: 28345\n\nThe above exception was the direct cause of the following exception:\n\nTraceback (most recent call last):\n  File \"c:\\users\\jncwi\\appdata\\local\\programs\\python\\python37\\lib\\concurrent\\futures\\process.py\", line 239, in _process_worker\n    r = call_item.fn(*call_item.args, **call_item.kwargs)\n  File \"c:\\users\\jncwi\\appdata\\local\\programs\\python\\python37\\lib\\concurrent\\futures\\process.py\", line 198, in _process_chunk\n    return [fn(*args) for args in chunk]\n  File \"c:\\users\\jncwi\\appdata\\local\\programs\\python\\python37\\lib\\concurrent\\futures\\process.py\", line 198, in <listcomp>\n    return [fn(*args) for args in chunk]\n  File \"c:\\users\\jncwi\\appdata\\local\\programs\\python\\python37\\lib\\site-packages\\lenskit\\util\\parallel.py\", line 131, in _mp_invoke_worker\n    return __work_func(model, *args)\n  File \"c:\\users\\jncwi\\appdata\\local\\programs\\python\\python37\\lib\\site-packages\\lenskit\\batch\\_recommend.py\", line 19, in _recommend_user\n    res = algo.recommend(user, n, candidates)\n  File \"c:\\users\\jncwi\\appdata\\local\\programs\\python\\python37\\lib\\site-packages\\lenskit\\algorithms\\basic.py\", line 189, in recommend\n    scores = self.predictor.predict_for_user(user, candidates, ratings)\n  File \"C:\\Users\\jncwi\\OneDrive\\School\\CS533\\CS538\\cocktailProject\\lift.py\", line 183, in predict_for_user\n    u_row = self.user_index_.get_loc(user)\n  File \"c:\\users\\jncwi\\appdata\\local\\programs\\python\\python37\\lib\\site-packages\\pandas\\core\\indexes\\base.py\", line 2893, in get_loc\n    raise KeyError(key) from err\nKeyError: 28345\n\"\"\"",
      "\nThe above exception was the direct cause of the following exception:\n",
      "\u001b[1;31mKeyError\u001b[0m                                  Traceback (most recent call last)",
      "\u001b[1;32m<ipython-input-16-470900b7dd24>\u001b[0m in \u001b[0;36m<module>\u001b[1;34m\u001b[0m\n\u001b[1;32m----> 1\u001b[1;33m \u001b[0mbatch\u001b[0m\u001b[1;33m.\u001b[0m\u001b[0mrecommend\u001b[0m\u001b[1;33m(\u001b[0m\u001b[0mfittable\u001b[0m\u001b[1;33m,\u001b[0m \u001b[0muser2\u001b[0m\u001b[1;33m,\u001b[0m \u001b[1;36m50\u001b[0m\u001b[1;33m)\u001b[0m\u001b[1;33m\u001b[0m\u001b[1;33m\u001b[0m\u001b[0m\n\u001b[0m",
      "\u001b[1;32mc:\\users\\jncwi\\appdata\\local\\programs\\python\\python37\\lib\\site-packages\\lenskit\\batch\\_recommend.py\u001b[0m in \u001b[0;36mrecommend\u001b[1;34m(***failed resolving arguments***)\u001b[0m\n\u001b[0;32m     86\u001b[0m         \u001b[0mtimer\u001b[0m \u001b[1;33m=\u001b[0m \u001b[0mutil\u001b[0m\u001b[1;33m.\u001b[0m\u001b[0mStopwatch\u001b[0m\u001b[1;33m(\u001b[0m\u001b[1;33m)\u001b[0m\u001b[1;33m\u001b[0m\u001b[1;33m\u001b[0m\u001b[0m\n\u001b[0;32m     87\u001b[0m         \u001b[0mresults\u001b[0m \u001b[1;33m=\u001b[0m \u001b[0mworker\u001b[0m\u001b[1;33m.\u001b[0m\u001b[0mmap\u001b[0m\u001b[1;33m(\u001b[0m\u001b[1;33m(\u001b[0m\u001b[0muser\u001b[0m\u001b[1;33m,\u001b[0m \u001b[0mn\u001b[0m\u001b[1;33m,\u001b[0m \u001b[0mcandidates\u001b[0m\u001b[1;33m(\u001b[0m\u001b[0muser\u001b[0m\u001b[1;33m)\u001b[0m\u001b[1;33m)\u001b[0m \u001b[1;32mfor\u001b[0m \u001b[0muser\u001b[0m \u001b[1;32min\u001b[0m \u001b[0musers\u001b[0m\u001b[1;33m)\u001b[0m\u001b[1;33m\u001b[0m\u001b[1;33m\u001b[0m\u001b[0m\n\u001b[1;32m---> 88\u001b[1;33m         \u001b[0mresults\u001b[0m \u001b[1;33m=\u001b[0m \u001b[0mpd\u001b[0m\u001b[1;33m.\u001b[0m\u001b[0mconcat\u001b[0m\u001b[1;33m(\u001b[0m\u001b[0mresults\u001b[0m\u001b[1;33m,\u001b[0m \u001b[0mignore_index\u001b[0m\u001b[1;33m=\u001b[0m\u001b[1;32mTrue\u001b[0m\u001b[1;33m,\u001b[0m \u001b[0mcopy\u001b[0m\u001b[1;33m=\u001b[0m\u001b[1;32mFalse\u001b[0m\u001b[1;33m)\u001b[0m\u001b[1;33m\u001b[0m\u001b[1;33m\u001b[0m\u001b[0m\n\u001b[0m\u001b[0;32m     89\u001b[0m         \u001b[0m_logger\u001b[0m\u001b[1;33m.\u001b[0m\u001b[0minfo\u001b[0m\u001b[1;33m(\u001b[0m\u001b[1;34m'recommended for %d users in %s'\u001b[0m\u001b[1;33m,\u001b[0m \u001b[0mlen\u001b[0m\u001b[1;33m(\u001b[0m\u001b[0musers\u001b[0m\u001b[1;33m)\u001b[0m\u001b[1;33m,\u001b[0m \u001b[0mtimer\u001b[0m\u001b[1;33m)\u001b[0m\u001b[1;33m\u001b[0m\u001b[1;33m\u001b[0m\u001b[0m\n\u001b[0;32m     90\u001b[0m \u001b[1;33m\u001b[0m\u001b[0m\n",
      "\u001b[1;32mc:\\users\\jncwi\\appdata\\local\\programs\\python\\python37\\lib\\site-packages\\pandas\\core\\reshape\\concat.py\u001b[0m in \u001b[0;36mconcat\u001b[1;34m(objs, axis, join, ignore_index, keys, levels, names, verify_integrity, sort, copy)\u001b[0m\n\u001b[0;32m    282\u001b[0m         \u001b[0mverify_integrity\u001b[0m\u001b[1;33m=\u001b[0m\u001b[0mverify_integrity\u001b[0m\u001b[1;33m,\u001b[0m\u001b[1;33m\u001b[0m\u001b[1;33m\u001b[0m\u001b[0m\n\u001b[0;32m    283\u001b[0m         \u001b[0mcopy\u001b[0m\u001b[1;33m=\u001b[0m\u001b[0mcopy\u001b[0m\u001b[1;33m,\u001b[0m\u001b[1;33m\u001b[0m\u001b[1;33m\u001b[0m\u001b[0m\n\u001b[1;32m--> 284\u001b[1;33m         \u001b[0msort\u001b[0m\u001b[1;33m=\u001b[0m\u001b[0msort\u001b[0m\u001b[1;33m,\u001b[0m\u001b[1;33m\u001b[0m\u001b[1;33m\u001b[0m\u001b[0m\n\u001b[0m\u001b[0;32m    285\u001b[0m     )\n\u001b[0;32m    286\u001b[0m \u001b[1;33m\u001b[0m\u001b[0m\n",
      "\u001b[1;32mc:\\users\\jncwi\\appdata\\local\\programs\\python\\python37\\lib\\site-packages\\pandas\\core\\reshape\\concat.py\u001b[0m in \u001b[0;36m__init__\u001b[1;34m(self, objs, axis, join, keys, levels, names, ignore_index, verify_integrity, copy, sort)\u001b[0m\n\u001b[0;32m    326\u001b[0m             \u001b[0mobjs\u001b[0m \u001b[1;33m=\u001b[0m \u001b[1;33m[\u001b[0m\u001b[0mobjs\u001b[0m\u001b[1;33m[\u001b[0m\u001b[0mk\u001b[0m\u001b[1;33m]\u001b[0m \u001b[1;32mfor\u001b[0m \u001b[0mk\u001b[0m \u001b[1;32min\u001b[0m \u001b[0mkeys\u001b[0m\u001b[1;33m]\u001b[0m\u001b[1;33m\u001b[0m\u001b[1;33m\u001b[0m\u001b[0m\n\u001b[0;32m    327\u001b[0m         \u001b[1;32melse\u001b[0m\u001b[1;33m:\u001b[0m\u001b[1;33m\u001b[0m\u001b[1;33m\u001b[0m\u001b[0m\n\u001b[1;32m--> 328\u001b[1;33m             \u001b[0mobjs\u001b[0m \u001b[1;33m=\u001b[0m \u001b[0mlist\u001b[0m\u001b[1;33m(\u001b[0m\u001b[0mobjs\u001b[0m\u001b[1;33m)\u001b[0m\u001b[1;33m\u001b[0m\u001b[1;33m\u001b[0m\u001b[0m\n\u001b[0m\u001b[0;32m    329\u001b[0m \u001b[1;33m\u001b[0m\u001b[0m\n\u001b[0;32m    330\u001b[0m         \u001b[1;32mif\u001b[0m \u001b[0mlen\u001b[0m\u001b[1;33m(\u001b[0m\u001b[0mobjs\u001b[0m\u001b[1;33m)\u001b[0m \u001b[1;33m==\u001b[0m \u001b[1;36m0\u001b[0m\u001b[1;33m:\u001b[0m\u001b[1;33m\u001b[0m\u001b[1;33m\u001b[0m\u001b[0m\n",
      "\u001b[1;32mc:\\users\\jncwi\\appdata\\local\\programs\\python\\python37\\lib\\concurrent\\futures\\process.py\u001b[0m in \u001b[0;36m_chain_from_iterable_of_lists\u001b[1;34m(iterable)\u001b[0m\n\u001b[0;32m    481\u001b[0m     \u001b[0mcareful\u001b[0m \u001b[1;32mnot\u001b[0m \u001b[0mto\u001b[0m \u001b[0mkeep\u001b[0m \u001b[0mreferences\u001b[0m \u001b[0mto\u001b[0m \u001b[0myielded\u001b[0m \u001b[0mobjects\u001b[0m\u001b[1;33m.\u001b[0m\u001b[1;33m\u001b[0m\u001b[1;33m\u001b[0m\u001b[0m\n\u001b[0;32m    482\u001b[0m     \"\"\"\n\u001b[1;32m--> 483\u001b[1;33m     \u001b[1;32mfor\u001b[0m \u001b[0melement\u001b[0m \u001b[1;32min\u001b[0m \u001b[0miterable\u001b[0m\u001b[1;33m:\u001b[0m\u001b[1;33m\u001b[0m\u001b[1;33m\u001b[0m\u001b[0m\n\u001b[0m\u001b[0;32m    484\u001b[0m         \u001b[0melement\u001b[0m\u001b[1;33m.\u001b[0m\u001b[0mreverse\u001b[0m\u001b[1;33m(\u001b[0m\u001b[1;33m)\u001b[0m\u001b[1;33m\u001b[0m\u001b[1;33m\u001b[0m\u001b[0m\n\u001b[0;32m    485\u001b[0m         \u001b[1;32mwhile\u001b[0m \u001b[0melement\u001b[0m\u001b[1;33m:\u001b[0m\u001b[1;33m\u001b[0m\u001b[1;33m\u001b[0m\u001b[0m\n",
      "\u001b[1;32mc:\\users\\jncwi\\appdata\\local\\programs\\python\\python37\\lib\\concurrent\\futures\\_base.py\u001b[0m in \u001b[0;36mresult_iterator\u001b[1;34m()\u001b[0m\n\u001b[0;32m    596\u001b[0m                     \u001b[1;31m# Careful not to keep a reference to the popped future\u001b[0m\u001b[1;33m\u001b[0m\u001b[1;33m\u001b[0m\u001b[1;33m\u001b[0m\u001b[0m\n\u001b[0;32m    597\u001b[0m                     \u001b[1;32mif\u001b[0m \u001b[0mtimeout\u001b[0m \u001b[1;32mis\u001b[0m \u001b[1;32mNone\u001b[0m\u001b[1;33m:\u001b[0m\u001b[1;33m\u001b[0m\u001b[1;33m\u001b[0m\u001b[0m\n\u001b[1;32m--> 598\u001b[1;33m                         \u001b[1;32myield\u001b[0m \u001b[0mfs\u001b[0m\u001b[1;33m.\u001b[0m\u001b[0mpop\u001b[0m\u001b[1;33m(\u001b[0m\u001b[1;33m)\u001b[0m\u001b[1;33m.\u001b[0m\u001b[0mresult\u001b[0m\u001b[1;33m(\u001b[0m\u001b[1;33m)\u001b[0m\u001b[1;33m\u001b[0m\u001b[1;33m\u001b[0m\u001b[0m\n\u001b[0m\u001b[0;32m    599\u001b[0m                     \u001b[1;32melse\u001b[0m\u001b[1;33m:\u001b[0m\u001b[1;33m\u001b[0m\u001b[1;33m\u001b[0m\u001b[0m\n\u001b[0;32m    600\u001b[0m                         \u001b[1;32myield\u001b[0m \u001b[0mfs\u001b[0m\u001b[1;33m.\u001b[0m\u001b[0mpop\u001b[0m\u001b[1;33m(\u001b[0m\u001b[1;33m)\u001b[0m\u001b[1;33m.\u001b[0m\u001b[0mresult\u001b[0m\u001b[1;33m(\u001b[0m\u001b[0mend_time\u001b[0m \u001b[1;33m-\u001b[0m \u001b[0mtime\u001b[0m\u001b[1;33m.\u001b[0m\u001b[0mmonotonic\u001b[0m\u001b[1;33m(\u001b[0m\u001b[1;33m)\u001b[0m\u001b[1;33m)\u001b[0m\u001b[1;33m\u001b[0m\u001b[1;33m\u001b[0m\u001b[0m\n",
      "\u001b[1;32mc:\\users\\jncwi\\appdata\\local\\programs\\python\\python37\\lib\\concurrent\\futures\\_base.py\u001b[0m in \u001b[0;36mresult\u001b[1;34m(self, timeout)\u001b[0m\n\u001b[0;32m    426\u001b[0m                 \u001b[1;32mraise\u001b[0m \u001b[0mCancelledError\u001b[0m\u001b[1;33m(\u001b[0m\u001b[1;33m)\u001b[0m\u001b[1;33m\u001b[0m\u001b[1;33m\u001b[0m\u001b[0m\n\u001b[0;32m    427\u001b[0m             \u001b[1;32melif\u001b[0m \u001b[0mself\u001b[0m\u001b[1;33m.\u001b[0m\u001b[0m_state\u001b[0m \u001b[1;33m==\u001b[0m \u001b[0mFINISHED\u001b[0m\u001b[1;33m:\u001b[0m\u001b[1;33m\u001b[0m\u001b[1;33m\u001b[0m\u001b[0m\n\u001b[1;32m--> 428\u001b[1;33m                 \u001b[1;32mreturn\u001b[0m \u001b[0mself\u001b[0m\u001b[1;33m.\u001b[0m\u001b[0m__get_result\u001b[0m\u001b[1;33m(\u001b[0m\u001b[1;33m)\u001b[0m\u001b[1;33m\u001b[0m\u001b[1;33m\u001b[0m\u001b[0m\n\u001b[0m\u001b[0;32m    429\u001b[0m \u001b[1;33m\u001b[0m\u001b[0m\n\u001b[0;32m    430\u001b[0m             \u001b[0mself\u001b[0m\u001b[1;33m.\u001b[0m\u001b[0m_condition\u001b[0m\u001b[1;33m.\u001b[0m\u001b[0mwait\u001b[0m\u001b[1;33m(\u001b[0m\u001b[0mtimeout\u001b[0m\u001b[1;33m)\u001b[0m\u001b[1;33m\u001b[0m\u001b[1;33m\u001b[0m\u001b[0m\n",
      "\u001b[1;32mc:\\users\\jncwi\\appdata\\local\\programs\\python\\python37\\lib\\concurrent\\futures\\_base.py\u001b[0m in \u001b[0;36m__get_result\u001b[1;34m(self)\u001b[0m\n\u001b[0;32m    382\u001b[0m     \u001b[1;32mdef\u001b[0m \u001b[0m__get_result\u001b[0m\u001b[1;33m(\u001b[0m\u001b[0mself\u001b[0m\u001b[1;33m)\u001b[0m\u001b[1;33m:\u001b[0m\u001b[1;33m\u001b[0m\u001b[1;33m\u001b[0m\u001b[0m\n\u001b[0;32m    383\u001b[0m         \u001b[1;32mif\u001b[0m \u001b[0mself\u001b[0m\u001b[1;33m.\u001b[0m\u001b[0m_exception\u001b[0m\u001b[1;33m:\u001b[0m\u001b[1;33m\u001b[0m\u001b[1;33m\u001b[0m\u001b[0m\n\u001b[1;32m--> 384\u001b[1;33m             \u001b[1;32mraise\u001b[0m \u001b[0mself\u001b[0m\u001b[1;33m.\u001b[0m\u001b[0m_exception\u001b[0m\u001b[1;33m\u001b[0m\u001b[1;33m\u001b[0m\u001b[0m\n\u001b[0m\u001b[0;32m    385\u001b[0m         \u001b[1;32melse\u001b[0m\u001b[1;33m:\u001b[0m\u001b[1;33m\u001b[0m\u001b[1;33m\u001b[0m\u001b[0m\n\u001b[0;32m    386\u001b[0m             \u001b[1;32mreturn\u001b[0m \u001b[0mself\u001b[0m\u001b[1;33m.\u001b[0m\u001b[0m_result\u001b[0m\u001b[1;33m\u001b[0m\u001b[1;33m\u001b[0m\u001b[0m\n",
      "\u001b[1;31mKeyError\u001b[0m: 28345"
     ]
    }
   ],
   "source": [
    "batch.recommend(fittable, user2, 50)"
   ]
  },
  {
   "cell_type": "code",
   "execution_count": 92,
   "metadata": {},
   "outputs": [],
   "source": [
    "ratings_above_5 = pd.DataFrame()\n",
    "for user in filtered_ratings.user.unique():\n",
    "    temp = filtered_ratings[filtered_ratings['user'] == user]\n",
    "    if (len(temp) >= 5):\n",
    "        ratings_above_5 = ratings_above_5.append(temp, ignore_index=True)"
   ]
  },
  {
   "cell_type": "code",
   "execution_count": 93,
   "metadata": {},
   "outputs": [
    {
     "data": {
      "text/html": [
       "<div>\n",
       "<style scoped>\n",
       "    .dataframe tbody tr th:only-of-type {\n",
       "        vertical-align: middle;\n",
       "    }\n",
       "\n",
       "    .dataframe tbody tr th {\n",
       "        vertical-align: top;\n",
       "    }\n",
       "\n",
       "    .dataframe thead th {\n",
       "        text-align: right;\n",
       "    }\n",
       "</style>\n",
       "<table border=\"1\" class=\"dataframe\">\n",
       "  <thead>\n",
       "    <tr style=\"text-align: right;\">\n",
       "      <th></th>\n",
       "      <th>user</th>\n",
       "      <th>item</th>\n",
       "      <th>date</th>\n",
       "      <th>rating</th>\n",
       "    </tr>\n",
       "  </thead>\n",
       "  <tbody>\n",
       "    <tr>\n",
       "      <th>0</th>\n",
       "      <td>296027</td>\n",
       "      <td>182985</td>\n",
       "      <td>2007-05-19</td>\n",
       "      <td>4</td>\n",
       "    </tr>\n",
       "    <tr>\n",
       "      <th>1</th>\n",
       "      <td>296027</td>\n",
       "      <td>277040</td>\n",
       "      <td>2008-01-23</td>\n",
       "      <td>5</td>\n",
       "    </tr>\n",
       "    <tr>\n",
       "      <th>2</th>\n",
       "      <td>296027</td>\n",
       "      <td>219209</td>\n",
       "      <td>2007-08-07</td>\n",
       "      <td>5</td>\n",
       "    </tr>\n",
       "    <tr>\n",
       "      <th>3</th>\n",
       "      <td>296027</td>\n",
       "      <td>249323</td>\n",
       "      <td>2007-09-11</td>\n",
       "      <td>4</td>\n",
       "    </tr>\n",
       "    <tr>\n",
       "      <th>4</th>\n",
       "      <td>296027</td>\n",
       "      <td>257713</td>\n",
       "      <td>2007-11-12</td>\n",
       "      <td>5</td>\n",
       "    </tr>\n",
       "    <tr>\n",
       "      <th>...</th>\n",
       "      <td>...</td>\n",
       "      <td>...</td>\n",
       "      <td>...</td>\n",
       "      <td>...</td>\n",
       "    </tr>\n",
       "    <tr>\n",
       "      <th>10165</th>\n",
       "      <td>416807</td>\n",
       "      <td>164049</td>\n",
       "      <td>2007-05-07</td>\n",
       "      <td>5</td>\n",
       "    </tr>\n",
       "    <tr>\n",
       "      <th>10166</th>\n",
       "      <td>416807</td>\n",
       "      <td>211811</td>\n",
       "      <td>2007-05-27</td>\n",
       "      <td>5</td>\n",
       "    </tr>\n",
       "    <tr>\n",
       "      <th>10167</th>\n",
       "      <td>416807</td>\n",
       "      <td>8821</td>\n",
       "      <td>2007-06-24</td>\n",
       "      <td>5</td>\n",
       "    </tr>\n",
       "    <tr>\n",
       "      <th>10168</th>\n",
       "      <td>416807</td>\n",
       "      <td>224747</td>\n",
       "      <td>2007-05-26</td>\n",
       "      <td>5</td>\n",
       "    </tr>\n",
       "    <tr>\n",
       "      <th>10169</th>\n",
       "      <td>416807</td>\n",
       "      <td>206136</td>\n",
       "      <td>2007-01-28</td>\n",
       "      <td>5</td>\n",
       "    </tr>\n",
       "  </tbody>\n",
       "</table>\n",
       "<p>10170 rows × 4 columns</p>\n",
       "</div>"
      ],
      "text/plain": [
       "         user    item        date  rating\n",
       "0      296027  182985  2007-05-19       4\n",
       "1      296027  277040  2008-01-23       5\n",
       "2      296027  219209  2007-08-07       5\n",
       "3      296027  249323  2007-09-11       4\n",
       "4      296027  257713  2007-11-12       5\n",
       "...       ...     ...         ...     ...\n",
       "10165  416807  164049  2007-05-07       5\n",
       "10166  416807  211811  2007-05-27       5\n",
       "10167  416807    8821  2007-06-24       5\n",
       "10168  416807  224747  2007-05-26       5\n",
       "10169  416807  206136  2007-01-28       5\n",
       "\n",
       "[10170 rows x 4 columns]"
      ]
     },
     "execution_count": 93,
     "metadata": {},
     "output_type": "execute_result"
    }
   ],
   "source": [
    "ratings_above_5"
   ]
  },
  {
   "cell_type": "code",
   "execution_count": 94,
   "metadata": {},
   "outputs": [],
   "source": [
    "items_above_5 = pd.DataFrame()\n",
    "for item in filtered_ratings.item.unique():\n",
    "    temp = filtered_ratings[filtered_ratings['item'] == item]\n",
    "    if (len(temp) >= 5):\n",
    "        items_above_5 = items_above_5.append(temp, ignore_index=True)"
   ]
  },
  {
   "cell_type": "code",
   "execution_count": 95,
   "metadata": {},
   "outputs": [
    {
     "data": {
      "text/html": [
       "<div>\n",
       "<style scoped>\n",
       "    .dataframe tbody tr th:only-of-type {\n",
       "        vertical-align: middle;\n",
       "    }\n",
       "\n",
       "    .dataframe tbody tr th {\n",
       "        vertical-align: top;\n",
       "    }\n",
       "\n",
       "    .dataframe thead th {\n",
       "        text-align: right;\n",
       "    }\n",
       "</style>\n",
       "<table border=\"1\" class=\"dataframe\">\n",
       "  <thead>\n",
       "    <tr style=\"text-align: right;\">\n",
       "      <th></th>\n",
       "      <th>user</th>\n",
       "      <th>item</th>\n",
       "      <th>date</th>\n",
       "      <th>rating</th>\n",
       "    </tr>\n",
       "  </thead>\n",
       "  <tbody>\n",
       "    <tr>\n",
       "      <th>0</th>\n",
       "      <td>1072593</td>\n",
       "      <td>202716</td>\n",
       "      <td>2009-12-02</td>\n",
       "      <td>5</td>\n",
       "    </tr>\n",
       "    <tr>\n",
       "      <th>1</th>\n",
       "      <td>201584</td>\n",
       "      <td>202716</td>\n",
       "      <td>2007-06-29</td>\n",
       "      <td>5</td>\n",
       "    </tr>\n",
       "    <tr>\n",
       "      <th>2</th>\n",
       "      <td>496803</td>\n",
       "      <td>202716</td>\n",
       "      <td>2009-01-09</td>\n",
       "      <td>5</td>\n",
       "    </tr>\n",
       "    <tr>\n",
       "      <th>3</th>\n",
       "      <td>383853</td>\n",
       "      <td>202716</td>\n",
       "      <td>2009-11-22</td>\n",
       "      <td>5</td>\n",
       "    </tr>\n",
       "    <tr>\n",
       "      <th>4</th>\n",
       "      <td>98467</td>\n",
       "      <td>202716</td>\n",
       "      <td>2010-04-27</td>\n",
       "      <td>5</td>\n",
       "    </tr>\n",
       "    <tr>\n",
       "      <th>...</th>\n",
       "      <td>...</td>\n",
       "      <td>...</td>\n",
       "      <td>...</td>\n",
       "      <td>...</td>\n",
       "    </tr>\n",
       "    <tr>\n",
       "      <th>8144</th>\n",
       "      <td>4470</td>\n",
       "      <td>163845</td>\n",
       "      <td>2007-12-16</td>\n",
       "      <td>5</td>\n",
       "    </tr>\n",
       "    <tr>\n",
       "      <th>8145</th>\n",
       "      <td>223169</td>\n",
       "      <td>163845</td>\n",
       "      <td>2007-12-22</td>\n",
       "      <td>5</td>\n",
       "    </tr>\n",
       "    <tr>\n",
       "      <th>8146</th>\n",
       "      <td>242729</td>\n",
       "      <td>163845</td>\n",
       "      <td>2007-12-23</td>\n",
       "      <td>5</td>\n",
       "    </tr>\n",
       "    <tr>\n",
       "      <th>8147</th>\n",
       "      <td>2150588</td>\n",
       "      <td>163845</td>\n",
       "      <td>2012-01-17</td>\n",
       "      <td>1</td>\n",
       "    </tr>\n",
       "    <tr>\n",
       "      <th>8148</th>\n",
       "      <td>2411946</td>\n",
       "      <td>163845</td>\n",
       "      <td>2012-09-20</td>\n",
       "      <td>0</td>\n",
       "    </tr>\n",
       "  </tbody>\n",
       "</table>\n",
       "<p>8149 rows × 4 columns</p>\n",
       "</div>"
      ],
      "text/plain": [
       "         user    item        date  rating\n",
       "0     1072593  202716  2009-12-02       5\n",
       "1      201584  202716  2007-06-29       5\n",
       "2      496803  202716  2009-01-09       5\n",
       "3      383853  202716  2009-11-22       5\n",
       "4       98467  202716  2010-04-27       5\n",
       "...       ...     ...         ...     ...\n",
       "8144     4470  163845  2007-12-16       5\n",
       "8145   223169  163845  2007-12-22       5\n",
       "8146   242729  163845  2007-12-23       5\n",
       "8147  2150588  163845  2012-01-17       1\n",
       "8148  2411946  163845  2012-09-20       0\n",
       "\n",
       "[8149 rows x 4 columns]"
      ]
     },
     "execution_count": 95,
     "metadata": {},
     "output_type": "execute_result"
    }
   ],
   "source": [
    "items_above_5"
   ]
  },
  {
   "cell_type": "code",
   "execution_count": 96,
   "metadata": {},
   "outputs": [],
   "source": [
    "ratings_items_above_5 = pd.DataFrame()\n",
    "for item in ratings_above_5.item.unique():\n",
    "    temp = ratings_above_5[ratings_above_5['item'] == item]\n",
    "    if (len(temp) >= 5):\n",
    "        ratings_items_above_5 = ratings_items_above_5.append(temp, ignore_index=True)"
   ]
  },
  {
   "cell_type": "code",
   "execution_count": 97,
   "metadata": {},
   "outputs": [
    {
     "data": {
      "text/html": [
       "<div>\n",
       "<style scoped>\n",
       "    .dataframe tbody tr th:only-of-type {\n",
       "        vertical-align: middle;\n",
       "    }\n",
       "\n",
       "    .dataframe tbody tr th {\n",
       "        vertical-align: top;\n",
       "    }\n",
       "\n",
       "    .dataframe thead th {\n",
       "        text-align: right;\n",
       "    }\n",
       "</style>\n",
       "<table border=\"1\" class=\"dataframe\">\n",
       "  <thead>\n",
       "    <tr style=\"text-align: right;\">\n",
       "      <th></th>\n",
       "      <th>user</th>\n",
       "      <th>item</th>\n",
       "      <th>date</th>\n",
       "      <th>rating</th>\n",
       "    </tr>\n",
       "  </thead>\n",
       "  <tbody>\n",
       "    <tr>\n",
       "      <th>0</th>\n",
       "      <td>296027</td>\n",
       "      <td>249323</td>\n",
       "      <td>2007-09-11</td>\n",
       "      <td>4</td>\n",
       "    </tr>\n",
       "    <tr>\n",
       "      <th>1</th>\n",
       "      <td>8688</td>\n",
       "      <td>249323</td>\n",
       "      <td>2007-11-27</td>\n",
       "      <td>5</td>\n",
       "    </tr>\n",
       "    <tr>\n",
       "      <th>2</th>\n",
       "      <td>382071</td>\n",
       "      <td>249323</td>\n",
       "      <td>2007-10-14</td>\n",
       "      <td>4</td>\n",
       "    </tr>\n",
       "    <tr>\n",
       "      <th>3</th>\n",
       "      <td>422893</td>\n",
       "      <td>249323</td>\n",
       "      <td>2007-09-07</td>\n",
       "      <td>4</td>\n",
       "    </tr>\n",
       "    <tr>\n",
       "      <th>4</th>\n",
       "      <td>43083</td>\n",
       "      <td>249323</td>\n",
       "      <td>2010-02-03</td>\n",
       "      <td>4</td>\n",
       "    </tr>\n",
       "    <tr>\n",
       "      <th>...</th>\n",
       "      <td>...</td>\n",
       "      <td>...</td>\n",
       "      <td>...</td>\n",
       "      <td>...</td>\n",
       "    </tr>\n",
       "    <tr>\n",
       "      <th>4799</th>\n",
       "      <td>35140</td>\n",
       "      <td>64184</td>\n",
       "      <td>2003-06-16</td>\n",
       "      <td>5</td>\n",
       "    </tr>\n",
       "    <tr>\n",
       "      <th>4800</th>\n",
       "      <td>156653</td>\n",
       "      <td>64184</td>\n",
       "      <td>2005-08-31</td>\n",
       "      <td>5</td>\n",
       "    </tr>\n",
       "    <tr>\n",
       "      <th>4801</th>\n",
       "      <td>189280</td>\n",
       "      <td>64184</td>\n",
       "      <td>2007-02-07</td>\n",
       "      <td>5</td>\n",
       "    </tr>\n",
       "    <tr>\n",
       "      <th>4802</th>\n",
       "      <td>38418</td>\n",
       "      <td>64184</td>\n",
       "      <td>2005-12-29</td>\n",
       "      <td>5</td>\n",
       "    </tr>\n",
       "    <tr>\n",
       "      <th>4803</th>\n",
       "      <td>42720</td>\n",
       "      <td>64184</td>\n",
       "      <td>2004-07-12</td>\n",
       "      <td>5</td>\n",
       "    </tr>\n",
       "  </tbody>\n",
       "</table>\n",
       "<p>4804 rows × 4 columns</p>\n",
       "</div>"
      ],
      "text/plain": [
       "        user    item        date  rating\n",
       "0     296027  249323  2007-09-11       4\n",
       "1       8688  249323  2007-11-27       5\n",
       "2     382071  249323  2007-10-14       4\n",
       "3     422893  249323  2007-09-07       4\n",
       "4      43083  249323  2010-02-03       4\n",
       "...      ...     ...         ...     ...\n",
       "4799   35140   64184  2003-06-16       5\n",
       "4800  156653   64184  2005-08-31       5\n",
       "4801  189280   64184  2007-02-07       5\n",
       "4802   38418   64184  2005-12-29       5\n",
       "4803   42720   64184  2004-07-12       5\n",
       "\n",
       "[4804 rows x 4 columns]"
      ]
     },
     "execution_count": 97,
     "metadata": {},
     "output_type": "execute_result"
    }
   ],
   "source": [
    "ratings_items_above_5"
   ]
  },
  {
   "cell_type": "code",
   "execution_count": 98,
   "metadata": {},
   "outputs": [
    {
     "data": {
      "text/plain": [
       "370"
      ]
     },
     "execution_count": 98,
     "metadata": {},
     "output_type": "execute_result"
    }
   ],
   "source": [
    "len(ratings_items_above_5.user.unique())"
   ]
  },
  {
   "cell_type": "code",
   "execution_count": 99,
   "metadata": {},
   "outputs": [
    {
     "data": {
      "text/plain": [
       "616"
      ]
     },
     "execution_count": 99,
     "metadata": {},
     "output_type": "execute_result"
    }
   ],
   "source": [
    "len(ratings_items_above_5.item.unique())"
   ]
  },
  {
   "cell_type": "code",
   "execution_count": 35,
   "metadata": {},
   "outputs": [],
   "source": [
    "train ,test = train_test_split(filtered_ratings,test_size=0.2, random_state=546)  "
   ]
  },
  {
   "cell_type": "code",
   "execution_count": 43,
   "metadata": {},
   "outputs": [
    {
     "data": {
      "text/html": [
       "<div>\n",
       "<style scoped>\n",
       "    .dataframe tbody tr th:only-of-type {\n",
       "        vertical-align: middle;\n",
       "    }\n",
       "\n",
       "    .dataframe tbody tr th {\n",
       "        vertical-align: top;\n",
       "    }\n",
       "\n",
       "    .dataframe thead th {\n",
       "        text-align: right;\n",
       "    }\n",
       "</style>\n",
       "<table border=\"1\" class=\"dataframe\">\n",
       "  <thead>\n",
       "    <tr style=\"text-align: right;\">\n",
       "      <th></th>\n",
       "      <th>user</th>\n",
       "      <th>item</th>\n",
       "      <th>rating</th>\n",
       "    </tr>\n",
       "  </thead>\n",
       "  <tbody>\n",
       "    <tr>\n",
       "      <th>2996</th>\n",
       "      <td>428885</td>\n",
       "      <td>255839</td>\n",
       "      <td>5</td>\n",
       "    </tr>\n",
       "    <tr>\n",
       "      <th>11930</th>\n",
       "      <td>383346</td>\n",
       "      <td>375019</td>\n",
       "      <td>5</td>\n",
       "    </tr>\n",
       "    <tr>\n",
       "      <th>11143</th>\n",
       "      <td>130663</td>\n",
       "      <td>318516</td>\n",
       "      <td>5</td>\n",
       "    </tr>\n",
       "    <tr>\n",
       "      <th>3736</th>\n",
       "      <td>470799</td>\n",
       "      <td>217467</td>\n",
       "      <td>5</td>\n",
       "    </tr>\n",
       "    <tr>\n",
       "      <th>166</th>\n",
       "      <td>130663</td>\n",
       "      <td>91061</td>\n",
       "      <td>5</td>\n",
       "    </tr>\n",
       "    <tr>\n",
       "      <th>...</th>\n",
       "      <td>...</td>\n",
       "      <td>...</td>\n",
       "      <td>...</td>\n",
       "    </tr>\n",
       "    <tr>\n",
       "      <th>8384</th>\n",
       "      <td>852269</td>\n",
       "      <td>319982</td>\n",
       "      <td>4</td>\n",
       "    </tr>\n",
       "    <tr>\n",
       "      <th>14049</th>\n",
       "      <td>114027</td>\n",
       "      <td>373221</td>\n",
       "      <td>5</td>\n",
       "    </tr>\n",
       "    <tr>\n",
       "      <th>4684</th>\n",
       "      <td>383346</td>\n",
       "      <td>298917</td>\n",
       "      <td>5</td>\n",
       "    </tr>\n",
       "    <tr>\n",
       "      <th>5467</th>\n",
       "      <td>37636</td>\n",
       "      <td>217397</td>\n",
       "      <td>5</td>\n",
       "    </tr>\n",
       "    <tr>\n",
       "      <th>732</th>\n",
       "      <td>122108</td>\n",
       "      <td>67970</td>\n",
       "      <td>1</td>\n",
       "    </tr>\n",
       "  </tbody>\n",
       "</table>\n",
       "<p>2860 rows × 3 columns</p>\n",
       "</div>"
      ],
      "text/plain": [
       "         user    item  rating\n",
       "2996   428885  255839       5\n",
       "11930  383346  375019       5\n",
       "11143  130663  318516       5\n",
       "3736   470799  217467       5\n",
       "166    130663   91061       5\n",
       "...       ...     ...     ...\n",
       "8384   852269  319982       4\n",
       "14049  114027  373221       5\n",
       "4684   383346  298917       5\n",
       "5467    37636  217397       5\n",
       "732    122108   67970       1\n",
       "\n",
       "[2860 rows x 3 columns]"
      ]
     },
     "execution_count": 43,
     "metadata": {},
     "output_type": "execute_result"
    }
   ],
   "source": [
    "test"
   ]
  },
  {
   "cell_type": "code",
   "execution_count": 42,
   "metadata": {},
   "outputs": [
    {
     "data": {
      "text/html": [
       "<div>\n",
       "<style scoped>\n",
       "    .dataframe tbody tr th:only-of-type {\n",
       "        vertical-align: middle;\n",
       "    }\n",
       "\n",
       "    .dataframe tbody tr th {\n",
       "        vertical-align: top;\n",
       "    }\n",
       "\n",
       "    .dataframe thead th {\n",
       "        text-align: right;\n",
       "    }\n",
       "</style>\n",
       "<table border=\"1\" class=\"dataframe\">\n",
       "  <thead>\n",
       "    <tr style=\"text-align: right;\">\n",
       "      <th></th>\n",
       "      <th>user</th>\n",
       "      <th>item</th>\n",
       "      <th>rating</th>\n",
       "    </tr>\n",
       "  </thead>\n",
       "  <tbody>\n",
       "    <tr>\n",
       "      <th>0</th>\n",
       "      <td>17803</td>\n",
       "      <td>244811</td>\n",
       "      <td>5</td>\n",
       "    </tr>\n",
       "    <tr>\n",
       "      <th>1</th>\n",
       "      <td>498271</td>\n",
       "      <td>279997</td>\n",
       "      <td>5</td>\n",
       "    </tr>\n",
       "    <tr>\n",
       "      <th>2</th>\n",
       "      <td>464926</td>\n",
       "      <td>279997</td>\n",
       "      <td>5</td>\n",
       "    </tr>\n",
       "    <tr>\n",
       "      <th>3</th>\n",
       "      <td>96092</td>\n",
       "      <td>279997</td>\n",
       "      <td>5</td>\n",
       "    </tr>\n",
       "    <tr>\n",
       "      <th>4</th>\n",
       "      <td>158087</td>\n",
       "      <td>62275</td>\n",
       "      <td>5</td>\n",
       "    </tr>\n",
       "    <tr>\n",
       "      <th>...</th>\n",
       "      <td>...</td>\n",
       "      <td>...</td>\n",
       "      <td>...</td>\n",
       "    </tr>\n",
       "    <tr>\n",
       "      <th>2387</th>\n",
       "      <td>1777192</td>\n",
       "      <td>323851</td>\n",
       "      <td>5</td>\n",
       "    </tr>\n",
       "    <tr>\n",
       "      <th>2388</th>\n",
       "      <td>2002121167</td>\n",
       "      <td>279095</td>\n",
       "      <td>0</td>\n",
       "    </tr>\n",
       "    <tr>\n",
       "      <th>2389</th>\n",
       "      <td>461834</td>\n",
       "      <td>279095</td>\n",
       "      <td>5</td>\n",
       "    </tr>\n",
       "    <tr>\n",
       "      <th>2390</th>\n",
       "      <td>498271</td>\n",
       "      <td>440382</td>\n",
       "      <td>5</td>\n",
       "    </tr>\n",
       "    <tr>\n",
       "      <th>2391</th>\n",
       "      <td>226863</td>\n",
       "      <td>422485</td>\n",
       "      <td>5</td>\n",
       "    </tr>\n",
       "  </tbody>\n",
       "</table>\n",
       "<p>2392 rows × 3 columns</p>\n",
       "</div>"
      ],
      "text/plain": [
       "            user    item  rating\n",
       "0          17803  244811       5\n",
       "1         498271  279997       5\n",
       "2         464926  279997       5\n",
       "3          96092  279997       5\n",
       "4         158087   62275       5\n",
       "...          ...     ...     ...\n",
       "2387     1777192  323851       5\n",
       "2388  2002121167  279095       0\n",
       "2389      461834  279095       5\n",
       "2390      498271  440382       5\n",
       "2391      226863  422485       5\n",
       "\n",
       "[2392 rows x 3 columns]"
      ]
     },
     "execution_count": 42,
     "metadata": {},
     "output_type": "execute_result"
    }
   ],
   "source": [
    "test2 = pd.DataFrame()\n",
    "for item in train.item.unique():\n",
    "    test2 = test2.append(test[test['item'] == item], ignore_index=True)\n",
    "test2"
   ]
  },
  {
   "cell_type": "code",
   "execution_count": 45,
   "metadata": {},
   "outputs": [
    {
     "data": {
      "text/html": [
       "<div>\n",
       "<style scoped>\n",
       "    .dataframe tbody tr th:only-of-type {\n",
       "        vertical-align: middle;\n",
       "    }\n",
       "\n",
       "    .dataframe tbody tr th {\n",
       "        vertical-align: top;\n",
       "    }\n",
       "\n",
       "    .dataframe thead th {\n",
       "        text-align: right;\n",
       "    }\n",
       "</style>\n",
       "<table border=\"1\" class=\"dataframe\">\n",
       "  <thead>\n",
       "    <tr style=\"text-align: right;\">\n",
       "      <th></th>\n",
       "      <th>user</th>\n",
       "      <th>item</th>\n",
       "      <th>rating</th>\n",
       "    </tr>\n",
       "  </thead>\n",
       "  <tbody>\n",
       "    <tr>\n",
       "      <th>0</th>\n",
       "      <td>143318</td>\n",
       "      <td>264088</td>\n",
       "      <td>5</td>\n",
       "    </tr>\n",
       "    <tr>\n",
       "      <th>1</th>\n",
       "      <td>143318</td>\n",
       "      <td>429618</td>\n",
       "      <td>5</td>\n",
       "    </tr>\n",
       "    <tr>\n",
       "      <th>2</th>\n",
       "      <td>143318</td>\n",
       "      <td>217396</td>\n",
       "      <td>4</td>\n",
       "    </tr>\n",
       "    <tr>\n",
       "      <th>3</th>\n",
       "      <td>143318</td>\n",
       "      <td>309952</td>\n",
       "      <td>5</td>\n",
       "    </tr>\n",
       "    <tr>\n",
       "      <th>4</th>\n",
       "      <td>143318</td>\n",
       "      <td>251571</td>\n",
       "      <td>5</td>\n",
       "    </tr>\n",
       "    <tr>\n",
       "      <th>...</th>\n",
       "      <td>...</td>\n",
       "      <td>...</td>\n",
       "      <td>...</td>\n",
       "    </tr>\n",
       "    <tr>\n",
       "      <th>2279</th>\n",
       "      <td>2310</td>\n",
       "      <td>47526</td>\n",
       "      <td>4</td>\n",
       "    </tr>\n",
       "    <tr>\n",
       "      <th>2280</th>\n",
       "      <td>116856</td>\n",
       "      <td>183971</td>\n",
       "      <td>5</td>\n",
       "    </tr>\n",
       "    <tr>\n",
       "      <th>2281</th>\n",
       "      <td>559283</td>\n",
       "      <td>169601</td>\n",
       "      <td>3</td>\n",
       "    </tr>\n",
       "    <tr>\n",
       "      <th>2282</th>\n",
       "      <td>559283</td>\n",
       "      <td>163484</td>\n",
       "      <td>5</td>\n",
       "    </tr>\n",
       "    <tr>\n",
       "      <th>2283</th>\n",
       "      <td>537617</td>\n",
       "      <td>60549</td>\n",
       "      <td>5</td>\n",
       "    </tr>\n",
       "  </tbody>\n",
       "</table>\n",
       "<p>2284 rows × 3 columns</p>\n",
       "</div>"
      ],
      "text/plain": [
       "        user    item  rating\n",
       "0     143318  264088       5\n",
       "1     143318  429618       5\n",
       "2     143318  217396       4\n",
       "3     143318  309952       5\n",
       "4     143318  251571       5\n",
       "...      ...     ...     ...\n",
       "2279    2310   47526       4\n",
       "2280  116856  183971       5\n",
       "2281  559283  169601       3\n",
       "2282  559283  163484       5\n",
       "2283  537617   60549       5\n",
       "\n",
       "[2284 rows x 3 columns]"
      ]
     },
     "execution_count": 45,
     "metadata": {},
     "output_type": "execute_result"
    }
   ],
   "source": [
    "test3 = pd.DataFrame()\n",
    "for user in train.user.unique():\n",
    "    test3 = test3.append(test[test['user'] == user], ignore_index=True)\n",
    "test3"
   ]
  },
  {
   "cell_type": "code",
   "execution_count": 46,
   "metadata": {},
   "outputs": [
    {
     "data": {
      "text/html": [
       "<div>\n",
       "<style scoped>\n",
       "    .dataframe tbody tr th:only-of-type {\n",
       "        vertical-align: middle;\n",
       "    }\n",
       "\n",
       "    .dataframe tbody tr th {\n",
       "        vertical-align: top;\n",
       "    }\n",
       "\n",
       "    .dataframe thead th {\n",
       "        text-align: right;\n",
       "    }\n",
       "</style>\n",
       "<table border=\"1\" class=\"dataframe\">\n",
       "  <thead>\n",
       "    <tr style=\"text-align: right;\">\n",
       "      <th></th>\n",
       "      <th>user</th>\n",
       "      <th>item</th>\n",
       "      <th>rating</th>\n",
       "    </tr>\n",
       "  </thead>\n",
       "  <tbody>\n",
       "    <tr>\n",
       "      <th>0</th>\n",
       "      <td>143318</td>\n",
       "      <td>217396</td>\n",
       "      <td>4</td>\n",
       "    </tr>\n",
       "    <tr>\n",
       "      <th>1</th>\n",
       "      <td>143318</td>\n",
       "      <td>251571</td>\n",
       "      <td>5</td>\n",
       "    </tr>\n",
       "    <tr>\n",
       "      <th>2</th>\n",
       "      <td>143318</td>\n",
       "      <td>252237</td>\n",
       "      <td>5</td>\n",
       "    </tr>\n",
       "    <tr>\n",
       "      <th>3</th>\n",
       "      <td>143318</td>\n",
       "      <td>166675</td>\n",
       "      <td>5</td>\n",
       "    </tr>\n",
       "    <tr>\n",
       "      <th>4</th>\n",
       "      <td>143318</td>\n",
       "      <td>217536</td>\n",
       "      <td>5</td>\n",
       "    </tr>\n",
       "    <tr>\n",
       "      <th>...</th>\n",
       "      <td>...</td>\n",
       "      <td>...</td>\n",
       "      <td>...</td>\n",
       "    </tr>\n",
       "    <tr>\n",
       "      <th>1885</th>\n",
       "      <td>2310</td>\n",
       "      <td>36536</td>\n",
       "      <td>5</td>\n",
       "    </tr>\n",
       "    <tr>\n",
       "      <th>1886</th>\n",
       "      <td>2310</td>\n",
       "      <td>47526</td>\n",
       "      <td>4</td>\n",
       "    </tr>\n",
       "    <tr>\n",
       "      <th>1887</th>\n",
       "      <td>559283</td>\n",
       "      <td>169601</td>\n",
       "      <td>3</td>\n",
       "    </tr>\n",
       "    <tr>\n",
       "      <th>1888</th>\n",
       "      <td>559283</td>\n",
       "      <td>163484</td>\n",
       "      <td>5</td>\n",
       "    </tr>\n",
       "    <tr>\n",
       "      <th>1889</th>\n",
       "      <td>537617</td>\n",
       "      <td>60549</td>\n",
       "      <td>5</td>\n",
       "    </tr>\n",
       "  </tbody>\n",
       "</table>\n",
       "<p>1890 rows × 3 columns</p>\n",
       "</div>"
      ],
      "text/plain": [
       "        user    item  rating\n",
       "0     143318  217396       4\n",
       "1     143318  251571       5\n",
       "2     143318  252237       5\n",
       "3     143318  166675       5\n",
       "4     143318  217536       5\n",
       "...      ...     ...     ...\n",
       "1885    2310   36536       5\n",
       "1886    2310   47526       4\n",
       "1887  559283  169601       3\n",
       "1888  559283  163484       5\n",
       "1889  537617   60549       5\n",
       "\n",
       "[1890 rows x 3 columns]"
      ]
     },
     "execution_count": 46,
     "metadata": {},
     "output_type": "execute_result"
    }
   ],
   "source": [
    "test4 = pd.DataFrame()\n",
    "for user in train.user.unique():\n",
    "    test4 = test4.append(test2[test2['user'] == user], ignore_index=True)\n",
    "test4"
   ]
  },
  {
   "cell_type": "code",
   "execution_count": null,
   "metadata": {},
   "outputs": [],
   "source": [
    "train = pd.DataFrame()\n",
    "for item in items_above_5.item.unique():\n",
    "    temp = items_above_5[items_above_5['item'] == item]\n",
    "    \n",
    "    if (len(temp) >= 5):\n",
    "        items_above_5 = items_above_5.append(temp, ignore_index=True)"
   ]
  },
  {
   "cell_type": "code",
   "execution_count": 49,
   "metadata": {},
   "outputs": [
    {
     "name": "stdout",
     "output_type": "stream",
     "text": [
      "start training lift_model\n"
     ]
    },
    {
     "data": {
      "application/vnd.jupyter.widget-view+json": {
       "model_id": "04c70ec0b8374016815cebd4d72339d6",
       "version_major": 2,
       "version_minor": 0
      },
      "text/plain": [
       "HBox(children=(HTML(value=''), FloatProgress(value=0.0, max=3.0), HTML(value='')))"
      ]
     },
     "metadata": {},
     "output_type": "display_data"
    },
    {
     "name": "stdout",
     "output_type": "stream",
     "text": [
      "\n",
      "done training lift_model\n",
      "start pickle lift_model\n",
      "done with pickle lift_model\n",
      "start recommend lift_model\n"
     ]
    },
    {
     "ename": "KeyError",
     "evalue": "464926",
     "output_type": "error",
     "traceback": [
      "\u001b[1;31m---------------------------------------------------------------------------\u001b[0m",
      "\u001b[1;31m_RemoteTraceback\u001b[0m                          Traceback (most recent call last)",
      "\u001b[1;31m_RemoteTraceback\u001b[0m: \n\"\"\"\nTraceback (most recent call last):\n  File \"c:\\users\\jncwi\\appdata\\local\\programs\\python\\python37\\lib\\site-packages\\pandas\\core\\indexes\\base.py\", line 2891, in get_loc\n    return self._engine.get_loc(casted_key)\n  File \"pandas\\_libs\\index.pyx\", line 70, in pandas._libs.index.IndexEngine.get_loc\n  File \"pandas\\_libs\\index.pyx\", line 101, in pandas._libs.index.IndexEngine.get_loc\n  File \"pandas\\_libs\\hashtable_class_helper.pxi\", line 1032, in pandas._libs.hashtable.Int64HashTable.get_item\n  File \"pandas\\_libs\\hashtable_class_helper.pxi\", line 1039, in pandas._libs.hashtable.Int64HashTable.get_item\nKeyError: 464926\n\nThe above exception was the direct cause of the following exception:\n\nTraceback (most recent call last):\n  File \"c:\\users\\jncwi\\appdata\\local\\programs\\python\\python37\\lib\\concurrent\\futures\\process.py\", line 239, in _process_worker\n    r = call_item.fn(*call_item.args, **call_item.kwargs)\n  File \"c:\\users\\jncwi\\appdata\\local\\programs\\python\\python37\\lib\\concurrent\\futures\\process.py\", line 198, in _process_chunk\n    return [fn(*args) for args in chunk]\n  File \"c:\\users\\jncwi\\appdata\\local\\programs\\python\\python37\\lib\\concurrent\\futures\\process.py\", line 198, in <listcomp>\n    return [fn(*args) for args in chunk]\n  File \"c:\\users\\jncwi\\appdata\\local\\programs\\python\\python37\\lib\\site-packages\\lenskit\\util\\parallel.py\", line 131, in _mp_invoke_worker\n    return __work_func(model, *args)\n  File \"c:\\users\\jncwi\\appdata\\local\\programs\\python\\python37\\lib\\site-packages\\lenskit\\batch\\_recommend.py\", line 19, in _recommend_user\n    res = algo.recommend(user, n, candidates)\n  File \"c:\\users\\jncwi\\appdata\\local\\programs\\python\\python37\\lib\\site-packages\\lenskit\\algorithms\\basic.py\", line 189, in recommend\n    scores = self.predictor.predict_for_user(user, candidates, ratings)\n  File \"C:\\Users\\jncwi\\OneDrive\\School\\CS533\\CS538\\cocktailProject\\lift.py\", line 183, in predict_for_user\n    u_row = self.user_index_.get_loc(user)\n  File \"c:\\users\\jncwi\\appdata\\local\\programs\\python\\python37\\lib\\site-packages\\pandas\\core\\indexes\\base.py\", line 2893, in get_loc\n    raise KeyError(key) from err\nKeyError: 464926\n\"\"\"",
      "\nThe above exception was the direct cause of the following exception:\n",
      "\u001b[1;31mKeyError\u001b[0m                                  Traceback (most recent call last)",
      "\u001b[1;32m<ipython-input-49-0b91432f502a>\u001b[0m in \u001b[0;36m<module>\u001b[1;34m\u001b[0m\n\u001b[0;32m     23\u001b[0m \u001b[0mprint\u001b[0m\u001b[1;33m(\u001b[0m\u001b[1;34mf\"done with pickle lift_model\"\u001b[0m\u001b[1;33m)\u001b[0m\u001b[1;33m\u001b[0m\u001b[1;33m\u001b[0m\u001b[0m\n\u001b[0;32m     24\u001b[0m \u001b[0mprint\u001b[0m\u001b[1;33m(\u001b[0m\u001b[1;34mf\"start recommend lift_model\"\u001b[0m\u001b[1;33m)\u001b[0m\u001b[1;33m\u001b[0m\u001b[1;33m\u001b[0m\u001b[0m\n\u001b[1;32m---> 25\u001b[1;33m \u001b[0mrecs\u001b[0m \u001b[1;33m=\u001b[0m \u001b[0mbatch\u001b[0m\u001b[1;33m.\u001b[0m\u001b[0mrecommend\u001b[0m\u001b[1;33m(\u001b[0m\u001b[0mfittable\u001b[0m\u001b[1;33m,\u001b[0m \u001b[0musers\u001b[0m\u001b[1;33m,\u001b[0m \u001b[1;36m50\u001b[0m\u001b[1;33m)\u001b[0m\u001b[1;33m\u001b[0m\u001b[1;33m\u001b[0m\u001b[0m\n\u001b[0m\u001b[0;32m     26\u001b[0m \u001b[0mprint\u001b[0m\u001b[1;33m(\u001b[0m\u001b[1;34mf\"done with recommend lift_model\"\u001b[0m\u001b[1;33m)\u001b[0m\u001b[1;33m\u001b[0m\u001b[1;33m\u001b[0m\u001b[0m\n\u001b[0;32m     27\u001b[0m \u001b[0mrecs\u001b[0m\u001b[1;33m[\u001b[0m\u001b[1;34m'Algorithm'\u001b[0m\u001b[1;33m]\u001b[0m \u001b[1;33m=\u001b[0m \u001b[1;34mf'lift'\u001b[0m\u001b[1;33m\u001b[0m\u001b[1;33m\u001b[0m\u001b[0m\n",
      "\u001b[1;32mc:\\users\\jncwi\\appdata\\local\\programs\\python\\python37\\lib\\site-packages\\lenskit\\batch\\_recommend.py\u001b[0m in \u001b[0;36mrecommend\u001b[1;34m(***failed resolving arguments***)\u001b[0m\n\u001b[0;32m     86\u001b[0m         \u001b[0mtimer\u001b[0m \u001b[1;33m=\u001b[0m \u001b[0mutil\u001b[0m\u001b[1;33m.\u001b[0m\u001b[0mStopwatch\u001b[0m\u001b[1;33m(\u001b[0m\u001b[1;33m)\u001b[0m\u001b[1;33m\u001b[0m\u001b[1;33m\u001b[0m\u001b[0m\n\u001b[0;32m     87\u001b[0m         \u001b[0mresults\u001b[0m \u001b[1;33m=\u001b[0m \u001b[0mworker\u001b[0m\u001b[1;33m.\u001b[0m\u001b[0mmap\u001b[0m\u001b[1;33m(\u001b[0m\u001b[1;33m(\u001b[0m\u001b[0muser\u001b[0m\u001b[1;33m,\u001b[0m \u001b[0mn\u001b[0m\u001b[1;33m,\u001b[0m \u001b[0mcandidates\u001b[0m\u001b[1;33m(\u001b[0m\u001b[0muser\u001b[0m\u001b[1;33m)\u001b[0m\u001b[1;33m)\u001b[0m \u001b[1;32mfor\u001b[0m \u001b[0muser\u001b[0m \u001b[1;32min\u001b[0m \u001b[0musers\u001b[0m\u001b[1;33m)\u001b[0m\u001b[1;33m\u001b[0m\u001b[1;33m\u001b[0m\u001b[0m\n\u001b[1;32m---> 88\u001b[1;33m         \u001b[0mresults\u001b[0m \u001b[1;33m=\u001b[0m \u001b[0mpd\u001b[0m\u001b[1;33m.\u001b[0m\u001b[0mconcat\u001b[0m\u001b[1;33m(\u001b[0m\u001b[0mresults\u001b[0m\u001b[1;33m,\u001b[0m \u001b[0mignore_index\u001b[0m\u001b[1;33m=\u001b[0m\u001b[1;32mTrue\u001b[0m\u001b[1;33m,\u001b[0m \u001b[0mcopy\u001b[0m\u001b[1;33m=\u001b[0m\u001b[1;32mFalse\u001b[0m\u001b[1;33m)\u001b[0m\u001b[1;33m\u001b[0m\u001b[1;33m\u001b[0m\u001b[0m\n\u001b[0m\u001b[0;32m     89\u001b[0m         \u001b[0m_logger\u001b[0m\u001b[1;33m.\u001b[0m\u001b[0minfo\u001b[0m\u001b[1;33m(\u001b[0m\u001b[1;34m'recommended for %d users in %s'\u001b[0m\u001b[1;33m,\u001b[0m \u001b[0mlen\u001b[0m\u001b[1;33m(\u001b[0m\u001b[0musers\u001b[0m\u001b[1;33m)\u001b[0m\u001b[1;33m,\u001b[0m \u001b[0mtimer\u001b[0m\u001b[1;33m)\u001b[0m\u001b[1;33m\u001b[0m\u001b[1;33m\u001b[0m\u001b[0m\n\u001b[0;32m     90\u001b[0m \u001b[1;33m\u001b[0m\u001b[0m\n",
      "\u001b[1;32mc:\\users\\jncwi\\appdata\\local\\programs\\python\\python37\\lib\\site-packages\\pandas\\core\\reshape\\concat.py\u001b[0m in \u001b[0;36mconcat\u001b[1;34m(objs, axis, join, ignore_index, keys, levels, names, verify_integrity, sort, copy)\u001b[0m\n\u001b[0;32m    282\u001b[0m         \u001b[0mverify_integrity\u001b[0m\u001b[1;33m=\u001b[0m\u001b[0mverify_integrity\u001b[0m\u001b[1;33m,\u001b[0m\u001b[1;33m\u001b[0m\u001b[1;33m\u001b[0m\u001b[0m\n\u001b[0;32m    283\u001b[0m         \u001b[0mcopy\u001b[0m\u001b[1;33m=\u001b[0m\u001b[0mcopy\u001b[0m\u001b[1;33m,\u001b[0m\u001b[1;33m\u001b[0m\u001b[1;33m\u001b[0m\u001b[0m\n\u001b[1;32m--> 284\u001b[1;33m         \u001b[0msort\u001b[0m\u001b[1;33m=\u001b[0m\u001b[0msort\u001b[0m\u001b[1;33m,\u001b[0m\u001b[1;33m\u001b[0m\u001b[1;33m\u001b[0m\u001b[0m\n\u001b[0m\u001b[0;32m    285\u001b[0m     )\n\u001b[0;32m    286\u001b[0m \u001b[1;33m\u001b[0m\u001b[0m\n",
      "\u001b[1;32mc:\\users\\jncwi\\appdata\\local\\programs\\python\\python37\\lib\\site-packages\\pandas\\core\\reshape\\concat.py\u001b[0m in \u001b[0;36m__init__\u001b[1;34m(self, objs, axis, join, keys, levels, names, ignore_index, verify_integrity, copy, sort)\u001b[0m\n\u001b[0;32m    326\u001b[0m             \u001b[0mobjs\u001b[0m \u001b[1;33m=\u001b[0m \u001b[1;33m[\u001b[0m\u001b[0mobjs\u001b[0m\u001b[1;33m[\u001b[0m\u001b[0mk\u001b[0m\u001b[1;33m]\u001b[0m \u001b[1;32mfor\u001b[0m \u001b[0mk\u001b[0m \u001b[1;32min\u001b[0m \u001b[0mkeys\u001b[0m\u001b[1;33m]\u001b[0m\u001b[1;33m\u001b[0m\u001b[1;33m\u001b[0m\u001b[0m\n\u001b[0;32m    327\u001b[0m         \u001b[1;32melse\u001b[0m\u001b[1;33m:\u001b[0m\u001b[1;33m\u001b[0m\u001b[1;33m\u001b[0m\u001b[0m\n\u001b[1;32m--> 328\u001b[1;33m             \u001b[0mobjs\u001b[0m \u001b[1;33m=\u001b[0m \u001b[0mlist\u001b[0m\u001b[1;33m(\u001b[0m\u001b[0mobjs\u001b[0m\u001b[1;33m)\u001b[0m\u001b[1;33m\u001b[0m\u001b[1;33m\u001b[0m\u001b[0m\n\u001b[0m\u001b[0;32m    329\u001b[0m \u001b[1;33m\u001b[0m\u001b[0m\n\u001b[0;32m    330\u001b[0m         \u001b[1;32mif\u001b[0m \u001b[0mlen\u001b[0m\u001b[1;33m(\u001b[0m\u001b[0mobjs\u001b[0m\u001b[1;33m)\u001b[0m \u001b[1;33m==\u001b[0m \u001b[1;36m0\u001b[0m\u001b[1;33m:\u001b[0m\u001b[1;33m\u001b[0m\u001b[1;33m\u001b[0m\u001b[0m\n",
      "\u001b[1;32mc:\\users\\jncwi\\appdata\\local\\programs\\python\\python37\\lib\\concurrent\\futures\\process.py\u001b[0m in \u001b[0;36m_chain_from_iterable_of_lists\u001b[1;34m(iterable)\u001b[0m\n\u001b[0;32m    481\u001b[0m     \u001b[0mcareful\u001b[0m \u001b[1;32mnot\u001b[0m \u001b[0mto\u001b[0m \u001b[0mkeep\u001b[0m \u001b[0mreferences\u001b[0m \u001b[0mto\u001b[0m \u001b[0myielded\u001b[0m \u001b[0mobjects\u001b[0m\u001b[1;33m.\u001b[0m\u001b[1;33m\u001b[0m\u001b[1;33m\u001b[0m\u001b[0m\n\u001b[0;32m    482\u001b[0m     \"\"\"\n\u001b[1;32m--> 483\u001b[1;33m     \u001b[1;32mfor\u001b[0m \u001b[0melement\u001b[0m \u001b[1;32min\u001b[0m \u001b[0miterable\u001b[0m\u001b[1;33m:\u001b[0m\u001b[1;33m\u001b[0m\u001b[1;33m\u001b[0m\u001b[0m\n\u001b[0m\u001b[0;32m    484\u001b[0m         \u001b[0melement\u001b[0m\u001b[1;33m.\u001b[0m\u001b[0mreverse\u001b[0m\u001b[1;33m(\u001b[0m\u001b[1;33m)\u001b[0m\u001b[1;33m\u001b[0m\u001b[1;33m\u001b[0m\u001b[0m\n\u001b[0;32m    485\u001b[0m         \u001b[1;32mwhile\u001b[0m \u001b[0melement\u001b[0m\u001b[1;33m:\u001b[0m\u001b[1;33m\u001b[0m\u001b[1;33m\u001b[0m\u001b[0m\n",
      "\u001b[1;32mc:\\users\\jncwi\\appdata\\local\\programs\\python\\python37\\lib\\concurrent\\futures\\_base.py\u001b[0m in \u001b[0;36mresult_iterator\u001b[1;34m()\u001b[0m\n\u001b[0;32m    596\u001b[0m                     \u001b[1;31m# Careful not to keep a reference to the popped future\u001b[0m\u001b[1;33m\u001b[0m\u001b[1;33m\u001b[0m\u001b[1;33m\u001b[0m\u001b[0m\n\u001b[0;32m    597\u001b[0m                     \u001b[1;32mif\u001b[0m \u001b[0mtimeout\u001b[0m \u001b[1;32mis\u001b[0m \u001b[1;32mNone\u001b[0m\u001b[1;33m:\u001b[0m\u001b[1;33m\u001b[0m\u001b[1;33m\u001b[0m\u001b[0m\n\u001b[1;32m--> 598\u001b[1;33m                         \u001b[1;32myield\u001b[0m \u001b[0mfs\u001b[0m\u001b[1;33m.\u001b[0m\u001b[0mpop\u001b[0m\u001b[1;33m(\u001b[0m\u001b[1;33m)\u001b[0m\u001b[1;33m.\u001b[0m\u001b[0mresult\u001b[0m\u001b[1;33m(\u001b[0m\u001b[1;33m)\u001b[0m\u001b[1;33m\u001b[0m\u001b[1;33m\u001b[0m\u001b[0m\n\u001b[0m\u001b[0;32m    599\u001b[0m                     \u001b[1;32melse\u001b[0m\u001b[1;33m:\u001b[0m\u001b[1;33m\u001b[0m\u001b[1;33m\u001b[0m\u001b[0m\n\u001b[0;32m    600\u001b[0m                         \u001b[1;32myield\u001b[0m \u001b[0mfs\u001b[0m\u001b[1;33m.\u001b[0m\u001b[0mpop\u001b[0m\u001b[1;33m(\u001b[0m\u001b[1;33m)\u001b[0m\u001b[1;33m.\u001b[0m\u001b[0mresult\u001b[0m\u001b[1;33m(\u001b[0m\u001b[0mend_time\u001b[0m \u001b[1;33m-\u001b[0m \u001b[0mtime\u001b[0m\u001b[1;33m.\u001b[0m\u001b[0mmonotonic\u001b[0m\u001b[1;33m(\u001b[0m\u001b[1;33m)\u001b[0m\u001b[1;33m)\u001b[0m\u001b[1;33m\u001b[0m\u001b[1;33m\u001b[0m\u001b[0m\n",
      "\u001b[1;32mc:\\users\\jncwi\\appdata\\local\\programs\\python\\python37\\lib\\concurrent\\futures\\_base.py\u001b[0m in \u001b[0;36mresult\u001b[1;34m(self, timeout)\u001b[0m\n\u001b[0;32m    426\u001b[0m                 \u001b[1;32mraise\u001b[0m \u001b[0mCancelledError\u001b[0m\u001b[1;33m(\u001b[0m\u001b[1;33m)\u001b[0m\u001b[1;33m\u001b[0m\u001b[1;33m\u001b[0m\u001b[0m\n\u001b[0;32m    427\u001b[0m             \u001b[1;32melif\u001b[0m \u001b[0mself\u001b[0m\u001b[1;33m.\u001b[0m\u001b[0m_state\u001b[0m \u001b[1;33m==\u001b[0m \u001b[0mFINISHED\u001b[0m\u001b[1;33m:\u001b[0m\u001b[1;33m\u001b[0m\u001b[1;33m\u001b[0m\u001b[0m\n\u001b[1;32m--> 428\u001b[1;33m                 \u001b[1;32mreturn\u001b[0m \u001b[0mself\u001b[0m\u001b[1;33m.\u001b[0m\u001b[0m__get_result\u001b[0m\u001b[1;33m(\u001b[0m\u001b[1;33m)\u001b[0m\u001b[1;33m\u001b[0m\u001b[1;33m\u001b[0m\u001b[0m\n\u001b[0m\u001b[0;32m    429\u001b[0m \u001b[1;33m\u001b[0m\u001b[0m\n\u001b[0;32m    430\u001b[0m             \u001b[0mself\u001b[0m\u001b[1;33m.\u001b[0m\u001b[0m_condition\u001b[0m\u001b[1;33m.\u001b[0m\u001b[0mwait\u001b[0m\u001b[1;33m(\u001b[0m\u001b[0mtimeout\u001b[0m\u001b[1;33m)\u001b[0m\u001b[1;33m\u001b[0m\u001b[1;33m\u001b[0m\u001b[0m\n",
      "\u001b[1;32mc:\\users\\jncwi\\appdata\\local\\programs\\python\\python37\\lib\\concurrent\\futures\\_base.py\u001b[0m in \u001b[0;36m__get_result\u001b[1;34m(self)\u001b[0m\n\u001b[0;32m    382\u001b[0m     \u001b[1;32mdef\u001b[0m \u001b[0m__get_result\u001b[0m\u001b[1;33m(\u001b[0m\u001b[0mself\u001b[0m\u001b[1;33m)\u001b[0m\u001b[1;33m:\u001b[0m\u001b[1;33m\u001b[0m\u001b[1;33m\u001b[0m\u001b[0m\n\u001b[0;32m    383\u001b[0m         \u001b[1;32mif\u001b[0m \u001b[0mself\u001b[0m\u001b[1;33m.\u001b[0m\u001b[0m_exception\u001b[0m\u001b[1;33m:\u001b[0m\u001b[1;33m\u001b[0m\u001b[1;33m\u001b[0m\u001b[0m\n\u001b[1;32m--> 384\u001b[1;33m             \u001b[1;32mraise\u001b[0m \u001b[0mself\u001b[0m\u001b[1;33m.\u001b[0m\u001b[0m_exception\u001b[0m\u001b[1;33m\u001b[0m\u001b[1;33m\u001b[0m\u001b[0m\n\u001b[0m\u001b[0;32m    385\u001b[0m         \u001b[1;32melse\u001b[0m\u001b[1;33m:\u001b[0m\u001b[1;33m\u001b[0m\u001b[1;33m\u001b[0m\u001b[0m\n\u001b[0;32m    386\u001b[0m             \u001b[1;32mreturn\u001b[0m \u001b[0mself\u001b[0m\u001b[1;33m.\u001b[0m\u001b[0m_result\u001b[0m\u001b[1;33m\u001b[0m\u001b[1;33m\u001b[0m\u001b[0m\n",
      "\u001b[1;31mKeyError\u001b[0m: 464926"
     ]
    }
   ],
   "source": [
    "from sklearn.model_selection import train_test_split\n",
    "# train ,test = train_test_split(items_above_5,test_size=0.2)  \n",
    "\n",
    "popular = basic.Popular()\n",
    "ImplicitMF = als.ImplicitMF(50)\n",
    "BPR = tf.BPR(50)\n",
    "liftmod = lift.Lift()\n",
    "\n",
    "from hybook import BookTagMF\n",
    "model = BookTagMF(50, device='gpu')\n",
    "\n",
    "users = test2.user.unique()\n",
    "items = test2.item.unique()\n",
    "\n",
    "fittable = util.clone(liftmod)\n",
    "fittable = Recommender.adapt(fittable)\n",
    "print(f\"start training lift_model\")\n",
    "fittable.fit(train)\n",
    "print(f\"done training lift_model\")\n",
    "print(f\"start pickle lift_model\")\n",
    "filename = f'lift_model.sav'\n",
    "pickle.dump(model, open(filename, 'wb'))\n",
    "print(f\"done with pickle lift_model\")\n",
    "print(f\"start recommend lift_model\")\n",
    "recs = batch.recommend(fittable, users, 50)\n",
    "print(f\"done with recommend lift_model\")\n",
    "recs['Algorithm'] = f'lift'\n",
    "print(f\"save recommend lift_model to file\")\n",
    "recs.to_csv('all_recs.csv', mode='a', header=False)"
   ]
  },
  {
   "cell_type": "code",
   "execution_count": 4,
   "metadata": {},
   "outputs": [
    {
     "data": {
      "text/html": [
       "<div>\n",
       "<style scoped>\n",
       "    .dataframe tbody tr th:only-of-type {\n",
       "        vertical-align: middle;\n",
       "    }\n",
       "\n",
       "    .dataframe tbody tr th {\n",
       "        vertical-align: top;\n",
       "    }\n",
       "\n",
       "    .dataframe thead th {\n",
       "        text-align: right;\n",
       "    }\n",
       "</style>\n",
       "<table border=\"1\" class=\"dataframe\">\n",
       "  <thead>\n",
       "    <tr style=\"text-align: right;\">\n",
       "      <th></th>\n",
       "      <th>user</th>\n",
       "      <th>item</th>\n",
       "      <th>date</th>\n",
       "      <th>rating</th>\n",
       "    </tr>\n",
       "  </thead>\n",
       "  <tbody>\n",
       "    <tr>\n",
       "      <th>0</th>\n",
       "      <td>296027</td>\n",
       "      <td>182985</td>\n",
       "      <td>2007-05-19</td>\n",
       "      <td>4</td>\n",
       "    </tr>\n",
       "    <tr>\n",
       "      <th>1</th>\n",
       "      <td>452940</td>\n",
       "      <td>367080</td>\n",
       "      <td>2009-07-10</td>\n",
       "      <td>4</td>\n",
       "    </tr>\n",
       "    <tr>\n",
       "      <th>2</th>\n",
       "      <td>162826</td>\n",
       "      <td>367080</td>\n",
       "      <td>2009-10-04</td>\n",
       "      <td>5</td>\n",
       "    </tr>\n",
       "    <tr>\n",
       "      <th>3</th>\n",
       "      <td>303545</td>\n",
       "      <td>259553</td>\n",
       "      <td>2009-11-01</td>\n",
       "      <td>5</td>\n",
       "    </tr>\n",
       "    <tr>\n",
       "      <th>4</th>\n",
       "      <td>538524</td>\n",
       "      <td>280085</td>\n",
       "      <td>2008-04-12</td>\n",
       "      <td>5</td>\n",
       "    </tr>\n",
       "    <tr>\n",
       "      <th>...</th>\n",
       "      <td>...</td>\n",
       "      <td>...</td>\n",
       "      <td>...</td>\n",
       "      <td>...</td>\n",
       "    </tr>\n",
       "    <tr>\n",
       "      <th>14292</th>\n",
       "      <td>32907</td>\n",
       "      <td>94338</td>\n",
       "      <td>2004-09-16</td>\n",
       "      <td>4</td>\n",
       "    </tr>\n",
       "    <tr>\n",
       "      <th>14293</th>\n",
       "      <td>465056</td>\n",
       "      <td>255933</td>\n",
       "      <td>2007-10-18</td>\n",
       "      <td>5</td>\n",
       "    </tr>\n",
       "    <tr>\n",
       "      <th>14294</th>\n",
       "      <td>37449</td>\n",
       "      <td>255933</td>\n",
       "      <td>2007-10-30</td>\n",
       "      <td>5</td>\n",
       "    </tr>\n",
       "    <tr>\n",
       "      <th>14295</th>\n",
       "      <td>128473</td>\n",
       "      <td>255933</td>\n",
       "      <td>2008-02-07</td>\n",
       "      <td>5</td>\n",
       "    </tr>\n",
       "    <tr>\n",
       "      <th>14296</th>\n",
       "      <td>107583</td>\n",
       "      <td>255933</td>\n",
       "      <td>2008-05-04</td>\n",
       "      <td>5</td>\n",
       "    </tr>\n",
       "  </tbody>\n",
       "</table>\n",
       "<p>14297 rows × 4 columns</p>\n",
       "</div>"
      ],
      "text/plain": [
       "         user    item        date  rating\n",
       "0      296027  182985  2007-05-19       4\n",
       "1      452940  367080  2009-07-10       4\n",
       "2      162826  367080  2009-10-04       5\n",
       "3      303545  259553  2009-11-01       5\n",
       "4      538524  280085  2008-04-12       5\n",
       "...       ...     ...         ...     ...\n",
       "14292   32907   94338  2004-09-16       4\n",
       "14293  465056  255933  2007-10-18       5\n",
       "14294   37449  255933  2007-10-30       5\n",
       "14295  128473  255933  2008-02-07       5\n",
       "14296  107583  255933  2008-05-04       5\n",
       "\n",
       "[14297 rows x 4 columns]"
      ]
     },
     "execution_count": 4,
     "metadata": {},
     "output_type": "execute_result"
    }
   ],
   "source": [
    "filtered_ratings = pd.read_csv('data/filtered_ratings.csv',index_col = 0)\n",
    "filtered_ratings"
   ]
  },
  {
   "cell_type": "code",
   "execution_count": null,
   "metadata": {},
   "outputs": [],
   "source": []
  },
  {
   "cell_type": "code",
   "execution_count": 5,
   "metadata": {},
   "outputs": [
    {
     "data": {
      "text/html": [
       "<div>\n",
       "<style scoped>\n",
       "    .dataframe tbody tr th:only-of-type {\n",
       "        vertical-align: middle;\n",
       "    }\n",
       "\n",
       "    .dataframe tbody tr th {\n",
       "        vertical-align: top;\n",
       "    }\n",
       "\n",
       "    .dataframe thead th {\n",
       "        text-align: right;\n",
       "    }\n",
       "</style>\n",
       "<table border=\"1\" class=\"dataframe\">\n",
       "  <thead>\n",
       "    <tr style=\"text-align: right;\">\n",
       "      <th></th>\n",
       "      <th>item</th>\n",
       "      <th>ingredient</th>\n",
       "    </tr>\n",
       "  </thead>\n",
       "  <tbody>\n",
       "    <tr>\n",
       "      <th>0</th>\n",
       "      <td>45859</td>\n",
       "      <td>limeade</td>\n",
       "    </tr>\n",
       "    <tr>\n",
       "      <th>1</th>\n",
       "      <td>45859</td>\n",
       "      <td>lime juice</td>\n",
       "    </tr>\n",
       "    <tr>\n",
       "      <th>2</th>\n",
       "      <td>45859</td>\n",
       "      <td>tequila</td>\n",
       "    </tr>\n",
       "    <tr>\n",
       "      <th>3</th>\n",
       "      <td>45859</td>\n",
       "      <td>triple sec</td>\n",
       "    </tr>\n",
       "    <tr>\n",
       "      <th>4</th>\n",
       "      <td>45859</td>\n",
       "      <td>lime wedge</td>\n",
       "    </tr>\n",
       "    <tr>\n",
       "      <th>...</th>\n",
       "      <td>...</td>\n",
       "      <td>...</td>\n",
       "    </tr>\n",
       "    <tr>\n",
       "      <th>21957</th>\n",
       "      <td>14224</td>\n",
       "      <td>stolichnaya vodka</td>\n",
       "    </tr>\n",
       "    <tr>\n",
       "      <th>21958</th>\n",
       "      <td>14224</td>\n",
       "      <td>ouzo</td>\n",
       "    </tr>\n",
       "    <tr>\n",
       "      <th>21959</th>\n",
       "      <td>238533</td>\n",
       "      <td>creme de cacao</td>\n",
       "    </tr>\n",
       "    <tr>\n",
       "      <th>21960</th>\n",
       "      <td>238533</td>\n",
       "      <td>almond liqueur</td>\n",
       "    </tr>\n",
       "    <tr>\n",
       "      <th>21961</th>\n",
       "      <td>238533</td>\n",
       "      <td>irish cream</td>\n",
       "    </tr>\n",
       "  </tbody>\n",
       "</table>\n",
       "<p>21962 rows × 2 columns</p>\n",
       "</div>"
      ],
      "text/plain": [
       "         item         ingredient\n",
       "0       45859            limeade\n",
       "1       45859         lime juice\n",
       "2       45859            tequila\n",
       "3       45859         triple sec\n",
       "4       45859         lime wedge\n",
       "...       ...                ...\n",
       "21957   14224  stolichnaya vodka\n",
       "21958   14224               ouzo\n",
       "21959  238533     creme de cacao\n",
       "21960  238533     almond liqueur\n",
       "21961  238533        irish cream\n",
       "\n",
       "[21962 rows x 2 columns]"
      ]
     },
     "execution_count": 5,
     "metadata": {},
     "output_type": "execute_result"
    }
   ],
   "source": [
    "ingredients = pd.read_csv('data/ingredients.csv',index_col = 0)\n",
    "ingredients\n",
    "ingredients"
   ]
  },
  {
   "cell_type": "code",
   "execution_count": 98,
   "metadata": {},
   "outputs": [
    {
     "data": {
      "text/html": [
       "<div>\n",
       "<style scoped>\n",
       "    .dataframe tbody tr th:only-of-type {\n",
       "        vertical-align: middle;\n",
       "    }\n",
       "\n",
       "    .dataframe tbody tr th {\n",
       "        vertical-align: top;\n",
       "    }\n",
       "\n",
       "    .dataframe thead th {\n",
       "        text-align: right;\n",
       "    }\n",
       "</style>\n",
       "<table border=\"1\" class=\"dataframe\">\n",
       "  <thead>\n",
       "    <tr style=\"text-align: right;\">\n",
       "      <th></th>\n",
       "      <th>item</th>\n",
       "      <th>n_steps</th>\n",
       "    </tr>\n",
       "  </thead>\n",
       "  <tbody>\n",
       "    <tr>\n",
       "      <th>102</th>\n",
       "      <td>45859</td>\n",
       "      <td>3</td>\n",
       "    </tr>\n",
       "    <tr>\n",
       "      <th>264</th>\n",
       "      <td>175306</td>\n",
       "      <td>6</td>\n",
       "    </tr>\n",
       "    <tr>\n",
       "      <th>272</th>\n",
       "      <td>423875</td>\n",
       "      <td>2</td>\n",
       "    </tr>\n",
       "    <tr>\n",
       "      <th>295</th>\n",
       "      <td>251021</td>\n",
       "      <td>3</td>\n",
       "    </tr>\n",
       "    <tr>\n",
       "      <th>304</th>\n",
       "      <td>429524</td>\n",
       "      <td>4</td>\n",
       "    </tr>\n",
       "    <tr>\n",
       "      <th>...</th>\n",
       "      <td>...</td>\n",
       "      <td>...</td>\n",
       "    </tr>\n",
       "    <tr>\n",
       "      <th>230382</th>\n",
       "      <td>423088</td>\n",
       "      <td>2</td>\n",
       "    </tr>\n",
       "    <tr>\n",
       "      <th>230766</th>\n",
       "      <td>428485</td>\n",
       "      <td>3</td>\n",
       "    </tr>\n",
       "    <tr>\n",
       "      <th>230828</th>\n",
       "      <td>213532</td>\n",
       "      <td>2</td>\n",
       "    </tr>\n",
       "    <tr>\n",
       "      <th>230833</th>\n",
       "      <td>14224</td>\n",
       "      <td>2</td>\n",
       "    </tr>\n",
       "    <tr>\n",
       "      <th>230834</th>\n",
       "      <td>238533</td>\n",
       "      <td>2</td>\n",
       "    </tr>\n",
       "  </tbody>\n",
       "</table>\n",
       "<p>4313 rows × 2 columns</p>\n",
       "</div>"
      ],
      "text/plain": [
       "          item  n_steps\n",
       "102      45859        3\n",
       "264     175306        6\n",
       "272     423875        2\n",
       "295     251021        3\n",
       "304     429524        4\n",
       "...        ...      ...\n",
       "230382  423088        2\n",
       "230766  428485        3\n",
       "230828  213532        2\n",
       "230833   14224        2\n",
       "230834  238533        2\n",
       "\n",
       "[4313 rows x 2 columns]"
      ]
     },
     "execution_count": 98,
     "metadata": {},
     "output_type": "execute_result"
    }
   ],
   "source": [
    "drink_steps"
   ]
  },
  {
   "cell_type": "code",
   "execution_count": 118,
   "metadata": {},
   "outputs": [],
   "source": [
    "ingredients.set_index('item',inplace=True)"
   ]
  },
  {
   "cell_type": "code",
   "execution_count": 122,
   "metadata": {},
   "outputs": [
    {
     "data": {
      "text/html": [
       "<div>\n",
       "<style scoped>\n",
       "    .dataframe tbody tr th:only-of-type {\n",
       "        vertical-align: middle;\n",
       "    }\n",
       "\n",
       "    .dataframe tbody tr th {\n",
       "        vertical-align: top;\n",
       "    }\n",
       "\n",
       "    .dataframe thead th {\n",
       "        text-align: right;\n",
       "    }\n",
       "</style>\n",
       "<table border=\"1\" class=\"dataframe\">\n",
       "  <thead>\n",
       "    <tr style=\"text-align: right;\">\n",
       "      <th>item</th>\n",
       "      <th>45859</th>\n",
       "      <th>45859</th>\n",
       "      <th>45859</th>\n",
       "      <th>45859</th>\n",
       "      <th>45859</th>\n",
       "      <th>45859</th>\n",
       "      <th>175306</th>\n",
       "      <th>175306</th>\n",
       "      <th>175306</th>\n",
       "      <th>175306</th>\n",
       "      <th>...</th>\n",
       "      <th>213532</th>\n",
       "      <th>213532</th>\n",
       "      <th>213532</th>\n",
       "      <th>213532</th>\n",
       "      <th>213532</th>\n",
       "      <th>14224</th>\n",
       "      <th>14224</th>\n",
       "      <th>238533</th>\n",
       "      <th>238533</th>\n",
       "      <th>238533</th>\n",
       "    </tr>\n",
       "  </thead>\n",
       "  <tbody>\n",
       "    <tr>\n",
       "      <th>ingredient</th>\n",
       "      <td>limeade</td>\n",
       "      <td>lime juice</td>\n",
       "      <td>tequila</td>\n",
       "      <td>triple sec</td>\n",
       "      <td>lime wedge</td>\n",
       "      <td>grand marnier</td>\n",
       "      <td>grenadine</td>\n",
       "      <td>orgeat syrup</td>\n",
       "      <td>white rum</td>\n",
       "      <td>orange curacao</td>\n",
       "      <td>...</td>\n",
       "      <td>grenadine</td>\n",
       "      <td>kahlua</td>\n",
       "      <td>midori melon liqueur</td>\n",
       "      <td>galliano</td>\n",
       "      <td>baileys irish cream</td>\n",
       "      <td>stolichnaya vodka</td>\n",
       "      <td>ouzo</td>\n",
       "      <td>creme de cacao</td>\n",
       "      <td>almond liqueur</td>\n",
       "      <td>irish cream</td>\n",
       "    </tr>\n",
       "  </tbody>\n",
       "</table>\n",
       "<p>1 rows × 21962 columns</p>\n",
       "</div>"
      ],
      "text/plain": [
       "item         45859       45859    45859       45859       45859   \\\n",
       "ingredient  limeade  lime juice  tequila  triple sec  lime wedge   \n",
       "\n",
       "item               45859      175306        175306     175306          175306  \\\n",
       "ingredient  grand marnier  grenadine  orgeat syrup  white rum  orange curacao   \n",
       "\n",
       "item        ...     213532  213532                213532    213532  \\\n",
       "ingredient  ...  grenadine  kahlua  midori melon liqueur  galliano   \n",
       "\n",
       "item                     213532             14224  14224           238533  \\\n",
       "ingredient  baileys irish cream  stolichnaya vodka   ouzo  creme de cacao   \n",
       "\n",
       "item                238533       238533  \n",
       "ingredient  almond liqueur  irish cream  \n",
       "\n",
       "[1 rows x 21962 columns]"
      ]
     },
     "execution_count": 122,
     "metadata": {},
     "output_type": "execute_result"
    }
   ],
   "source": [
    "ingredients.T"
   ]
  },
  {
   "cell_type": "code",
   "execution_count": 116,
   "metadata": {},
   "outputs": [
    {
     "data": {
      "text/html": [
       "<div>\n",
       "<style scoped>\n",
       "    .dataframe tbody tr th:only-of-type {\n",
       "        vertical-align: middle;\n",
       "    }\n",
       "\n",
       "    .dataframe tbody tr th {\n",
       "        vertical-align: top;\n",
       "    }\n",
       "\n",
       "    .dataframe thead th {\n",
       "        text-align: right;\n",
       "    }\n",
       "</style>\n",
       "<table border=\"1\" class=\"dataframe\">\n",
       "  <thead>\n",
       "    <tr style=\"text-align: right;\">\n",
       "      <th></th>\n",
       "      <th>0</th>\n",
       "      <th>1</th>\n",
       "      <th>2</th>\n",
       "      <th>3</th>\n",
       "      <th>4</th>\n",
       "      <th>5</th>\n",
       "      <th>6</th>\n",
       "      <th>7</th>\n",
       "      <th>8</th>\n",
       "      <th>9</th>\n",
       "      <th>...</th>\n",
       "      <th>71541</th>\n",
       "      <th>71542</th>\n",
       "      <th>71543</th>\n",
       "      <th>71544</th>\n",
       "      <th>71545</th>\n",
       "      <th>71546</th>\n",
       "      <th>71547</th>\n",
       "      <th>71548</th>\n",
       "      <th>71549</th>\n",
       "      <th>71550</th>\n",
       "    </tr>\n",
       "  </thead>\n",
       "  <tbody>\n",
       "    <tr>\n",
       "      <th>user</th>\n",
       "      <td>296027</td>\n",
       "      <td>296027</td>\n",
       "      <td>296027</td>\n",
       "      <td>296027</td>\n",
       "      <td>296027</td>\n",
       "      <td>296027</td>\n",
       "      <td>452940</td>\n",
       "      <td>452940</td>\n",
       "      <td>452940</td>\n",
       "      <td>452940</td>\n",
       "      <td>...</td>\n",
       "      <td>128473</td>\n",
       "      <td>128473</td>\n",
       "      <td>128473</td>\n",
       "      <td>128473</td>\n",
       "      <td>107583</td>\n",
       "      <td>107583</td>\n",
       "      <td>107583</td>\n",
       "      <td>107583</td>\n",
       "      <td>107583</td>\n",
       "      <td>107583</td>\n",
       "    </tr>\n",
       "    <tr>\n",
       "      <th>item</th>\n",
       "      <td>182985</td>\n",
       "      <td>182985</td>\n",
       "      <td>182985</td>\n",
       "      <td>182985</td>\n",
       "      <td>182985</td>\n",
       "      <td>182985</td>\n",
       "      <td>367080</td>\n",
       "      <td>367080</td>\n",
       "      <td>367080</td>\n",
       "      <td>367080</td>\n",
       "      <td>...</td>\n",
       "      <td>255933</td>\n",
       "      <td>255933</td>\n",
       "      <td>255933</td>\n",
       "      <td>255933</td>\n",
       "      <td>255933</td>\n",
       "      <td>255933</td>\n",
       "      <td>255933</td>\n",
       "      <td>255933</td>\n",
       "      <td>255933</td>\n",
       "      <td>255933</td>\n",
       "    </tr>\n",
       "    <tr>\n",
       "      <th>date</th>\n",
       "      <td>2007-05-19</td>\n",
       "      <td>2007-05-19</td>\n",
       "      <td>2007-05-19</td>\n",
       "      <td>2007-05-19</td>\n",
       "      <td>2007-05-19</td>\n",
       "      <td>2007-05-19</td>\n",
       "      <td>2009-07-10</td>\n",
       "      <td>2009-07-10</td>\n",
       "      <td>2009-07-10</td>\n",
       "      <td>2009-07-10</td>\n",
       "      <td>...</td>\n",
       "      <td>2008-02-07</td>\n",
       "      <td>2008-02-07</td>\n",
       "      <td>2008-02-07</td>\n",
       "      <td>2008-02-07</td>\n",
       "      <td>2008-05-04</td>\n",
       "      <td>2008-05-04</td>\n",
       "      <td>2008-05-04</td>\n",
       "      <td>2008-05-04</td>\n",
       "      <td>2008-05-04</td>\n",
       "      <td>2008-05-04</td>\n",
       "    </tr>\n",
       "    <tr>\n",
       "      <th>rating</th>\n",
       "      <td>4</td>\n",
       "      <td>4</td>\n",
       "      <td>4</td>\n",
       "      <td>4</td>\n",
       "      <td>4</td>\n",
       "      <td>4</td>\n",
       "      <td>4</td>\n",
       "      <td>4</td>\n",
       "      <td>4</td>\n",
       "      <td>4</td>\n",
       "      <td>...</td>\n",
       "      <td>5</td>\n",
       "      <td>5</td>\n",
       "      <td>5</td>\n",
       "      <td>5</td>\n",
       "      <td>5</td>\n",
       "      <td>5</td>\n",
       "      <td>5</td>\n",
       "      <td>5</td>\n",
       "      <td>5</td>\n",
       "      <td>5</td>\n",
       "    </tr>\n",
       "    <tr>\n",
       "      <th>ingredient</th>\n",
       "      <td>vodka</td>\n",
       "      <td>lime juice</td>\n",
       "      <td>triple sec</td>\n",
       "      <td>watermelon</td>\n",
       "      <td>ice cube</td>\n",
       "      <td>chambord raspberry liquor</td>\n",
       "      <td>brandy</td>\n",
       "      <td>apple juice</td>\n",
       "      <td>lemon juice</td>\n",
       "      <td>lemon slice</td>\n",
       "      <td>...</td>\n",
       "      <td>fresh lemon juice</td>\n",
       "      <td>fresh gingerroot</td>\n",
       "      <td>ginger ale</td>\n",
       "      <td>apple</td>\n",
       "      <td>apple juice</td>\n",
       "      <td>pear juice</td>\n",
       "      <td>fresh lemon juice</td>\n",
       "      <td>fresh gingerroot</td>\n",
       "      <td>ginger ale</td>\n",
       "      <td>apple</td>\n",
       "    </tr>\n",
       "  </tbody>\n",
       "</table>\n",
       "<p>5 rows × 71551 columns</p>\n",
       "</div>"
      ],
      "text/plain": [
       "                 0           1           2           3           4      \\\n",
       "user            296027      296027      296027      296027      296027   \n",
       "item            182985      182985      182985      182985      182985   \n",
       "date        2007-05-19  2007-05-19  2007-05-19  2007-05-19  2007-05-19   \n",
       "rating               4           4           4           4           4   \n",
       "ingredient       vodka  lime juice  triple sec  watermelon    ice cube   \n",
       "\n",
       "                                5           6            7            8      \\\n",
       "user                           296027      452940       452940       452940   \n",
       "item                           182985      367080       367080       367080   \n",
       "date                       2007-05-19  2009-07-10   2009-07-10   2009-07-10   \n",
       "rating                              4           4            4            4   \n",
       "ingredient  chambord raspberry liquor      brandy  apple juice  lemon juice   \n",
       "\n",
       "                  9      ...              71541             71542       71543  \\\n",
       "user             452940  ...             128473            128473      128473   \n",
       "item             367080  ...             255933            255933      255933   \n",
       "date         2009-07-10  ...         2008-02-07        2008-02-07  2008-02-07   \n",
       "rating                4  ...                  5                 5           5   \n",
       "ingredient  lemon slice  ...  fresh lemon juice  fresh gingerroot  ginger ale   \n",
       "\n",
       "                 71544        71545       71546              71547  \\\n",
       "user            128473       107583      107583             107583   \n",
       "item            255933       255933      255933             255933   \n",
       "date        2008-02-07   2008-05-04  2008-05-04         2008-05-04   \n",
       "rating               5            5           5                  5   \n",
       "ingredient       apple  apple juice  pear juice  fresh lemon juice   \n",
       "\n",
       "                       71548       71549       71550  \n",
       "user                  107583      107583      107583  \n",
       "item                  255933      255933      255933  \n",
       "date              2008-05-04  2008-05-04  2008-05-04  \n",
       "rating                     5           5           5  \n",
       "ingredient  fresh gingerroot  ginger ale       apple  \n",
       "\n",
       "[5 rows x 71551 columns]"
      ]
     },
     "execution_count": 116,
     "metadata": {},
     "output_type": "execute_result"
    }
   ],
   "source": [
    "filtered_ratings.merge(ingredients, on='item')"
   ]
  },
  {
   "cell_type": "code",
   "execution_count": 15,
   "metadata": {},
   "outputs": [],
   "source": [
    "maybe_test = filtered_ratings.merge(ingredients, on='item').merge(drink_steps, on='item')"
   ]
  },
  {
   "cell_type": "code",
   "execution_count": 16,
   "metadata": {},
   "outputs": [
    {
     "data": {
      "text/html": [
       "<div>\n",
       "<style scoped>\n",
       "    .dataframe tbody tr th:only-of-type {\n",
       "        vertical-align: middle;\n",
       "    }\n",
       "\n",
       "    .dataframe tbody tr th {\n",
       "        vertical-align: top;\n",
       "    }\n",
       "\n",
       "    .dataframe thead th {\n",
       "        text-align: right;\n",
       "    }\n",
       "</style>\n",
       "<table border=\"1\" class=\"dataframe\">\n",
       "  <thead>\n",
       "    <tr style=\"text-align: right;\">\n",
       "      <th></th>\n",
       "      <th></th>\n",
       "      <th>date</th>\n",
       "      <th>rating</th>\n",
       "      <th>ingredient</th>\n",
       "      <th>n_steps</th>\n",
       "    </tr>\n",
       "    <tr>\n",
       "      <th>user</th>\n",
       "      <th>item</th>\n",
       "      <th></th>\n",
       "      <th></th>\n",
       "      <th></th>\n",
       "      <th></th>\n",
       "    </tr>\n",
       "  </thead>\n",
       "  <tbody>\n",
       "    <tr>\n",
       "      <th rowspan=\"5\" valign=\"top\">1535</th>\n",
       "      <th>8823</th>\n",
       "      <td>2005-06-15</td>\n",
       "      <td>5</td>\n",
       "      <td>vodka</td>\n",
       "      <td>1</td>\n",
       "    </tr>\n",
       "    <tr>\n",
       "      <th>15895</th>\n",
       "      <td>2006-02-25</td>\n",
       "      <td>5</td>\n",
       "      <td>baileys irish cream</td>\n",
       "      <td>2</td>\n",
       "    </tr>\n",
       "    <tr>\n",
       "      <th>30392</th>\n",
       "      <td>2005-01-27</td>\n",
       "      <td>5</td>\n",
       "      <td>vodka</td>\n",
       "      <td>2</td>\n",
       "    </tr>\n",
       "    <tr>\n",
       "      <th>36536</th>\n",
       "      <td>2006-06-06</td>\n",
       "      <td>5</td>\n",
       "      <td>sugar</td>\n",
       "      <td>4</td>\n",
       "    </tr>\n",
       "    <tr>\n",
       "      <th>48814</th>\n",
       "      <td>2006-05-01</td>\n",
       "      <td>4</td>\n",
       "      <td>whole milk</td>\n",
       "      <td>3</td>\n",
       "    </tr>\n",
       "    <tr>\n",
       "      <th>...</th>\n",
       "      <th>...</th>\n",
       "      <td>...</td>\n",
       "      <td>...</td>\n",
       "      <td>...</td>\n",
       "      <td>...</td>\n",
       "    </tr>\n",
       "    <tr>\n",
       "      <th>2002345452</th>\n",
       "      <th>147772</th>\n",
       "      <td>2018-11-22</td>\n",
       "      <td>5</td>\n",
       "      <td>sweetened condensed milk</td>\n",
       "      <td>4</td>\n",
       "    </tr>\n",
       "    <tr>\n",
       "      <th>2002351275</th>\n",
       "      <th>312980</th>\n",
       "      <td>2018-11-29</td>\n",
       "      <td>0</td>\n",
       "      <td>dark rum</td>\n",
       "      <td>9</td>\n",
       "    </tr>\n",
       "    <tr>\n",
       "      <th>2002352970</th>\n",
       "      <th>234344</th>\n",
       "      <td>2018-12-01</td>\n",
       "      <td>0</td>\n",
       "      <td>water</td>\n",
       "      <td>6</td>\n",
       "    </tr>\n",
       "    <tr>\n",
       "      <th>2002361607</th>\n",
       "      <th>107273</th>\n",
       "      <td>2018-12-09</td>\n",
       "      <td>5</td>\n",
       "      <td>eggs</td>\n",
       "      <td>16</td>\n",
       "    </tr>\n",
       "    <tr>\n",
       "      <th>2002363832</th>\n",
       "      <th>234344</th>\n",
       "      <td>2018-12-12</td>\n",
       "      <td>0</td>\n",
       "      <td>water</td>\n",
       "      <td>6</td>\n",
       "    </tr>\n",
       "  </tbody>\n",
       "</table>\n",
       "<p>14297 rows × 4 columns</p>\n",
       "</div>"
      ],
      "text/plain": [
       "                         date  rating                ingredient  n_steps\n",
       "user       item                                                         \n",
       "1535       8823    2005-06-15       5                     vodka        1\n",
       "           15895   2006-02-25       5       baileys irish cream        2\n",
       "           30392   2005-01-27       5                     vodka        2\n",
       "           36536   2006-06-06       5                     sugar        4\n",
       "           48814   2006-05-01       4                whole milk        3\n",
       "...                       ...     ...                       ...      ...\n",
       "2002345452 147772  2018-11-22       5  sweetened condensed milk        4\n",
       "2002351275 312980  2018-11-29       0                  dark rum        9\n",
       "2002352970 234344  2018-12-01       0                     water        6\n",
       "2002361607 107273  2018-12-09       5                      eggs       16\n",
       "2002363832 234344  2018-12-12       0                     water        6\n",
       "\n",
       "[14297 rows x 4 columns]"
      ]
     },
     "execution_count": 16,
     "metadata": {},
     "output_type": "execute_result"
    }
   ],
   "source": [
    "maybe_test.groupby(['user', 'item']).first()"
   ]
  },
  {
   "cell_type": "code",
   "execution_count": 126,
   "metadata": {},
   "outputs": [],
   "source": [
    "train ,test = train_test_split(maybe_test,test_size=0.2, random_state=456)  \n"
   ]
  },
  {
   "cell_type": "code",
   "execution_count": 19,
   "metadata": {},
   "outputs": [
    {
     "data": {
      "text/html": [
       "<div>\n",
       "<style scoped>\n",
       "    .dataframe tbody tr th:only-of-type {\n",
       "        vertical-align: middle;\n",
       "    }\n",
       "\n",
       "    .dataframe tbody tr th {\n",
       "        vertical-align: top;\n",
       "    }\n",
       "\n",
       "    .dataframe thead th {\n",
       "        text-align: right;\n",
       "    }\n",
       "</style>\n",
       "<table border=\"1\" class=\"dataframe\">\n",
       "  <thead>\n",
       "    <tr style=\"text-align: right;\">\n",
       "      <th></th>\n",
       "      <th>user</th>\n",
       "      <th>item</th>\n",
       "      <th>date</th>\n",
       "      <th>rating</th>\n",
       "      <th>ingredient</th>\n",
       "      <th>n_steps</th>\n",
       "    </tr>\n",
       "  </thead>\n",
       "  <tbody>\n",
       "    <tr>\n",
       "      <th>0</th>\n",
       "      <td>296027</td>\n",
       "      <td>182985</td>\n",
       "      <td>2007-05-19</td>\n",
       "      <td>4</td>\n",
       "      <td>vodka</td>\n",
       "      <td>4</td>\n",
       "    </tr>\n",
       "    <tr>\n",
       "      <th>1</th>\n",
       "      <td>296027</td>\n",
       "      <td>182985</td>\n",
       "      <td>2007-05-19</td>\n",
       "      <td>4</td>\n",
       "      <td>lime juice</td>\n",
       "      <td>4</td>\n",
       "    </tr>\n",
       "    <tr>\n",
       "      <th>2</th>\n",
       "      <td>296027</td>\n",
       "      <td>182985</td>\n",
       "      <td>2007-05-19</td>\n",
       "      <td>4</td>\n",
       "      <td>triple sec</td>\n",
       "      <td>4</td>\n",
       "    </tr>\n",
       "    <tr>\n",
       "      <th>3</th>\n",
       "      <td>296027</td>\n",
       "      <td>182985</td>\n",
       "      <td>2007-05-19</td>\n",
       "      <td>4</td>\n",
       "      <td>watermelon</td>\n",
       "      <td>4</td>\n",
       "    </tr>\n",
       "    <tr>\n",
       "      <th>4</th>\n",
       "      <td>296027</td>\n",
       "      <td>182985</td>\n",
       "      <td>2007-05-19</td>\n",
       "      <td>4</td>\n",
       "      <td>ice cube</td>\n",
       "      <td>4</td>\n",
       "    </tr>\n",
       "    <tr>\n",
       "      <th>...</th>\n",
       "      <td>...</td>\n",
       "      <td>...</td>\n",
       "      <td>...</td>\n",
       "      <td>...</td>\n",
       "      <td>...</td>\n",
       "      <td>...</td>\n",
       "    </tr>\n",
       "    <tr>\n",
       "      <th>71546</th>\n",
       "      <td>107583</td>\n",
       "      <td>255933</td>\n",
       "      <td>2008-05-04</td>\n",
       "      <td>5</td>\n",
       "      <td>pear juice</td>\n",
       "      <td>8</td>\n",
       "    </tr>\n",
       "    <tr>\n",
       "      <th>71547</th>\n",
       "      <td>107583</td>\n",
       "      <td>255933</td>\n",
       "      <td>2008-05-04</td>\n",
       "      <td>5</td>\n",
       "      <td>fresh lemon juice</td>\n",
       "      <td>8</td>\n",
       "    </tr>\n",
       "    <tr>\n",
       "      <th>71548</th>\n",
       "      <td>107583</td>\n",
       "      <td>255933</td>\n",
       "      <td>2008-05-04</td>\n",
       "      <td>5</td>\n",
       "      <td>fresh gingerroot</td>\n",
       "      <td>8</td>\n",
       "    </tr>\n",
       "    <tr>\n",
       "      <th>71549</th>\n",
       "      <td>107583</td>\n",
       "      <td>255933</td>\n",
       "      <td>2008-05-04</td>\n",
       "      <td>5</td>\n",
       "      <td>ginger ale</td>\n",
       "      <td>8</td>\n",
       "    </tr>\n",
       "    <tr>\n",
       "      <th>71550</th>\n",
       "      <td>107583</td>\n",
       "      <td>255933</td>\n",
       "      <td>2008-05-04</td>\n",
       "      <td>5</td>\n",
       "      <td>apple</td>\n",
       "      <td>8</td>\n",
       "    </tr>\n",
       "  </tbody>\n",
       "</table>\n",
       "<p>71551 rows × 6 columns</p>\n",
       "</div>"
      ],
      "text/plain": [
       "         user    item        date  rating         ingredient  n_steps\n",
       "0      296027  182985  2007-05-19       4              vodka        4\n",
       "1      296027  182985  2007-05-19       4         lime juice        4\n",
       "2      296027  182985  2007-05-19       4         triple sec        4\n",
       "3      296027  182985  2007-05-19       4         watermelon        4\n",
       "4      296027  182985  2007-05-19       4           ice cube        4\n",
       "...       ...     ...         ...     ...                ...      ...\n",
       "71546  107583  255933  2008-05-04       5         pear juice        8\n",
       "71547  107583  255933  2008-05-04       5  fresh lemon juice        8\n",
       "71548  107583  255933  2008-05-04       5   fresh gingerroot        8\n",
       "71549  107583  255933  2008-05-04       5         ginger ale        8\n",
       "71550  107583  255933  2008-05-04       5              apple        8\n",
       "\n",
       "[71551 rows x 6 columns]"
      ]
     },
     "execution_count": 19,
     "metadata": {},
     "output_type": "execute_result"
    }
   ],
   "source": [
    "maybe_test"
   ]
  },
  {
   "cell_type": "code",
   "execution_count": 22,
   "metadata": {},
   "outputs": [
    {
     "name": "stderr",
     "output_type": "stream",
     "text": [
      "c:\\users\\jncwi\\appdata\\local\\programs\\python\\python37\\lib\\site-packages\\seaborn\\_decorators.py:43: FutureWarning: Pass the following variables as keyword args: x, y. From version 0.12, the only valid positional argument will be `data`, and passing other arguments without an explicit keyword will result in an error or misinterpretation.\n",
      "  FutureWarning\n"
     ]
    },
    {
     "data": {
      "image/png": "[encoded data removed]",
      "text/plain": [
       "<Figure size 432x288 with 1 Axes>"
      ]
     },
     "metadata": {
      "needs_background": "light"
     },
     "output_type": "display_data"
    }
   ],
   "source": [
    "sns.scatterplot('n_steps', 'user', data=maybe_test.unique(subset=[['']]))\n",
    "plt.show()"
   ]
  },
  {
   "cell_type": "code",
   "execution_count": 27,
   "metadata": {},
   "outputs": [
    {
     "name": "stdout",
     "output_type": "stream",
     "text": [
      "<class 'pandas.core.frame.DataFrame'>\n",
      "RangeIndex: 231637 entries, 0 to 231636\n",
      "Data columns (total 12 columns):\n",
      " #   Column          Non-Null Count   Dtype \n",
      "---  ------          --------------   ----- \n",
      " 0   name            231636 non-null  object\n",
      " 1   id              231637 non-null  int64 \n",
      " 2   minutes         231637 non-null  int64 \n",
      " 3   contributor_id  231637 non-null  int64 \n",
      " 4   submitted       231637 non-null  object\n",
      " 5   tags            231637 non-null  object\n",
      " 6   nutrition       231637 non-null  object\n",
      " 7   n_steps         231637 non-null  int64 \n",
      " 8   steps           231637 non-null  object\n",
      " 9   description     226658 non-null  object\n",
      " 10  ingredients     231637 non-null  object\n",
      " 11  n_ingredients   231637 non-null  int64 \n",
      "dtypes: int64(5), object(7)\n",
      "memory usage: 21.2+ MB\n"
     ]
    }
   ],
   "source": [
    "pd.read_csv('food.com-recipes-and-interactions/RAW_recipes.csv').info()"
   ]
  },
  {
   "cell_type": "code",
   "execution_count": 33,
   "metadata": {},
   "outputs": [
    {
     "data": {
      "text/plain": [
       "230186"
      ]
     },
     "execution_count": 33,
     "metadata": {},
     "output_type": "execute_result"
    }
   ],
   "source": [
    "len(pd.read_csv('food.com-recipes-and-interactions/RAW_recipes.csv').name.unique())"
   ]
  },
  {
   "cell_type": "code",
   "execution_count": 50,
   "metadata": {},
   "outputs": [],
   "source": [
    "pd.read_csv('food.com-recipes-and-interactions/RAW_interactions.csv').info()"
   ]
  },
  {
   "cell_type": "code",
   "execution_count": 51,
   "metadata": {},
   "outputs": [
    {
     "data": {
      "text/plain": [
       "0          Great with a salad. Cooked on top of stove for...\n",
       "1          So simple, so delicious! Great for chilly fall...\n",
       "2          This worked very well and is EASY.  I used not...\n",
       "3          I made the Mexican topping and took it to bunk...\n",
       "4          Made the cheddar bacon topping, adding a sprin...\n",
       "                                 ...                        \n",
       "1132362    Another approach is to start making sauce with...\n",
       "1132363    These were so delicious!  My husband and I tru...\n",
       "1132364    WOW!  Sometimes I don't take the time to rate ...\n",
       "1132365    Very good!  I used regular port as well.  The ...\n",
       "1132366    I am so glad I googled and found this here. Th...\n",
       "Name: review, Length: 1132198, dtype: object"
      ]
     },
     "execution_count": 51,
     "metadata": {},
     "output_type": "execute_result"
    }
   ],
   "source": [
    "review = pd.read_csv('food.com-recipes-and-interactions/RAW_interactions.csv').review\n",
    "review.dropna()     "
   ]
  },
  {
   "cell_type": "code",
   "execution_count": 32,
   "metadata": {},
   "outputs": [
    {
     "data": {
      "text/plain": [
       "1619"
      ]
     },
     "execution_count": 32,
     "metadata": {},
     "output_type": "execute_result"
    }
   ],
   "source": [
    "len(ingredients.ingredient.unique())"
   ]
  },
  {
   "cell_type": "code",
   "execution_count": 47,
   "metadata": {},
   "outputs": [
    {
     "data": {
      "text/plain": [
       "1619"
      ]
     },
     "execution_count": 47,
     "metadata": {},
     "output_type": "execute_result"
    }
   ],
   "source": [
    "len(maybe_test.ingredient.unique())"
   ]
  },
  {
   "cell_type": "code",
   "execution_count": 45,
   "metadata": {},
   "outputs": [
    {
     "name": "stdout",
     "output_type": "stream",
     "text": [
      "<class 'pandas.core.frame.DataFrame'>\n",
      "Int64Index: 4313 entries, 102 to 230834\n",
      "Data columns (total 12 columns):\n",
      " #   Column          Non-Null Count  Dtype \n",
      "---  ------          --------------  ----- \n",
      " 0   name            4313 non-null   object\n",
      " 1   id              4313 non-null   int64 \n",
      " 2   minutes         4313 non-null   int64 \n",
      " 3   contributor_id  4313 non-null   int64 \n",
      " 4   submitted       4313 non-null   object\n",
      " 5   tags            4313 non-null   object\n",
      " 6   nutrition       4313 non-null   object\n",
      " 7   n_steps         4313 non-null   int64 \n",
      " 8   steps           4313 non-null   object\n",
      " 9   description     4263 non-null   object\n",
      " 10  ingredients     4313 non-null   object\n",
      " 11  n_ingredients   4313 non-null   int64 \n",
      "dtypes: int64(5), object(7)\n",
      "memory usage: 438.0+ KB\n"
     ]
    }
   ],
   "source": [
    "cocktails.info()"
   ]
  },
  {
   "cell_type": "code",
   "execution_count": 40,
   "metadata": {},
   "outputs": [
    {
     "data": {
      "text/plain": [
       "4313"
      ]
     },
     "execution_count": 40,
     "metadata": {},
     "output_type": "execute_result"
    }
   ],
   "source": [
    "len(cocktails.id.unique())"
   ]
  },
  {
   "cell_type": "code",
   "execution_count": 43,
   "metadata": {},
   "outputs": [
    {
     "data": {
      "text/plain": [
       "4313"
      ]
     },
     "execution_count": 43,
     "metadata": {},
     "output_type": "execute_result"
    }
   ],
   "source": [
    "len(maybe_test.item.unique())"
   ]
  },
  {
   "cell_type": "code",
   "execution_count": 31,
   "metadata": {},
   "outputs": [
    {
     "data": {
      "text/html": [
       "<div>\n",
       "<style scoped>\n",
       "    .dataframe tbody tr th:only-of-type {\n",
       "        vertical-align: middle;\n",
       "    }\n",
       "\n",
       "    .dataframe tbody tr th {\n",
       "        vertical-align: top;\n",
       "    }\n",
       "\n",
       "    .dataframe thead th {\n",
       "        text-align: right;\n",
       "    }\n",
       "</style>\n",
       "<table border=\"1\" class=\"dataframe\">\n",
       "  <thead>\n",
       "    <tr style=\"text-align: right;\">\n",
       "      <th></th>\n",
       "      <th>item</th>\n",
       "      <th>n_steps</th>\n",
       "    </tr>\n",
       "  </thead>\n",
       "  <tbody>\n",
       "    <tr>\n",
       "      <th>102</th>\n",
       "      <td>45859</td>\n",
       "      <td>3</td>\n",
       "    </tr>\n",
       "    <tr>\n",
       "      <th>264</th>\n",
       "      <td>175306</td>\n",
       "      <td>6</td>\n",
       "    </tr>\n",
       "    <tr>\n",
       "      <th>272</th>\n",
       "      <td>423875</td>\n",
       "      <td>2</td>\n",
       "    </tr>\n",
       "    <tr>\n",
       "      <th>295</th>\n",
       "      <td>251021</td>\n",
       "      <td>3</td>\n",
       "    </tr>\n",
       "    <tr>\n",
       "      <th>304</th>\n",
       "      <td>429524</td>\n",
       "      <td>4</td>\n",
       "    </tr>\n",
       "    <tr>\n",
       "      <th>...</th>\n",
       "      <td>...</td>\n",
       "      <td>...</td>\n",
       "    </tr>\n",
       "    <tr>\n",
       "      <th>230382</th>\n",
       "      <td>423088</td>\n",
       "      <td>2</td>\n",
       "    </tr>\n",
       "    <tr>\n",
       "      <th>230766</th>\n",
       "      <td>428485</td>\n",
       "      <td>3</td>\n",
       "    </tr>\n",
       "    <tr>\n",
       "      <th>230828</th>\n",
       "      <td>213532</td>\n",
       "      <td>2</td>\n",
       "    </tr>\n",
       "    <tr>\n",
       "      <th>230833</th>\n",
       "      <td>14224</td>\n",
       "      <td>2</td>\n",
       "    </tr>\n",
       "    <tr>\n",
       "      <th>230834</th>\n",
       "      <td>238533</td>\n",
       "      <td>2</td>\n",
       "    </tr>\n",
       "  </tbody>\n",
       "</table>\n",
       "<p>4313 rows × 2 columns</p>\n",
       "</div>"
      ],
      "text/plain": [
       "          item  n_steps\n",
       "102      45859        3\n",
       "264     175306        6\n",
       "272     423875        2\n",
       "295     251021        3\n",
       "304     429524        4\n",
       "...        ...      ...\n",
       "230382  423088        2\n",
       "230766  428485        3\n",
       "230828  213532        2\n",
       "230833   14224        2\n",
       "230834  238533        2\n",
       "\n",
       "[4313 rows x 2 columns]"
      ]
     },
     "execution_count": 31,
     "metadata": {},
     "output_type": "execute_result"
    }
   ],
   "source": [
    "drink_steps"
   ]
  },
  {
   "cell_type": "code",
   "execution_count": 35,
   "metadata": {},
   "outputs": [
    {
     "data": {
      "text/plain": [
       "3613"
      ]
     },
     "execution_count": 35,
     "metadata": {},
     "output_type": "execute_result"
    }
   ],
   "source": [
    "len(filtered_ratings.user.unique())"
   ]
  },
  {
   "cell_type": "code",
   "execution_count": 36,
   "metadata": {},
   "outputs": [
    {
     "data": {
      "text/plain": [
       "4313"
      ]
     },
     "execution_count": 36,
     "metadata": {},
     "output_type": "execute_result"
    }
   ],
   "source": [
    "len(filtered_ratings.item.unique())"
   ]
  },
  {
   "cell_type": "code",
   "execution_count": 48,
   "metadata": {},
   "outputs": [
    {
     "name": "stdout",
     "output_type": "stream",
     "text": [
      "<class 'pandas.core.frame.DataFrame'>\n",
      "Int64Index: 14297 entries, 0 to 14296\n",
      "Data columns (total 4 columns):\n",
      " #   Column  Non-Null Count  Dtype \n",
      "---  ------  --------------  ----- \n",
      " 0   user    14297 non-null  int64 \n",
      " 1   item    14297 non-null  int64 \n",
      " 2   date    14297 non-null  object\n",
      " 3   rating  14297 non-null  int64 \n",
      "dtypes: int64(3), object(1)\n",
      "memory usage: 558.5+ KB\n"
     ]
    }
   ],
   "source": [
    "filtered_ratings.info()"
   ]
  },
  {
   "cell_type": "code",
   "execution_count": 49,
   "metadata": {},
   "outputs": [
    {
     "data": {
      "text/plain": [
       "4.589214520528782"
      ]
     },
     "execution_count": 49,
     "metadata": {},
     "output_type": "execute_result"
    }
   ],
   "source": [
    "filtered_ratings.rating.mean()"
   ]
  },
  {
   "cell_type": "code",
   "execution_count": 90,
   "metadata": {},
   "outputs": [
    {
     "name": "stdout",
     "output_type": "stream",
     "text": [
      "vodka\n",
      "lime juice\n",
      "triple sec\n",
      "watermelon\n",
      "ice cube\n",
      "chambord raspberry liquor\n",
      "brandy\n",
      "apple juice\n",
      "lemon juice\n",
      "lemon slice\n",
      "sparkling wine\n",
      "orange juice\n",
      "orange sherbet\n",
      "sugar\n",
      "carbonated lemon-lime beverage\n",
      "dry ice\n",
      "grapes\n",
      "citrus-infused vodka\n",
      "apple schnapps\n",
      "watermelon juice\n",
      "ice\n",
      "chocolate syrup\n",
      "milk\n",
      "peppermint schnapps\n",
      "cool whip\n",
      "hot chocolate powder\n",
      "boiling water\n",
      "frozen whipped topping\n",
      "limeade\n",
      "ice cubes\n",
      "creme de cassis\n",
      "champagne\n",
      "lemon twists\n",
      "tomato juice\n",
      "white tequila\n",
      "tabasco sauce\n",
      "cilantro leaf\n",
      "pineapple juice\n",
      "rum\n",
      "vanilla ice cream\n",
      "creme de cacao\n",
      "malibu rum\n",
      "blue curacao\n",
      "water\n",
      "white sugar\n",
      "brown sugar\n",
      "almond extract\n",
      "vanilla extract\n",
      "black cherry gelatin\n",
      "unflavored gelatin\n",
      "coffee\n",
      "maraschino cherries\n",
      "whipped cream\n",
      "apples\n",
      "cinnamon stick\n",
      "pure vanilla extract\n",
      "spiced rum\n",
      "peach schnapps\n",
      "sour mix\n",
      "cranberry juice\n",
      "rose's lime juice\n",
      "lime\n",
      "cranberries\n",
      "lime peel\n",
      "pinot noir wine\n",
      "nectarine\n",
      "white rum\n",
      "dark rum\n",
      "coconut cream\n",
      "double cream\n",
      "angostura bitters\n",
      "maraschino cherry\n",
      "pineapple slice\n",
      "blackberries\n",
      "mushrooms\n",
      "white vinegar\n",
      "pickling salt\n",
      "onion\n",
      "whole black peppercorns\n",
      "garlic cloves\n",
      "strawberry ice cream\n",
      "strawberry liqueur\n",
      "light rum\n",
      "banana liqueur\n",
      "banana\n",
      "fresh strawberries\n",
      "cream\n",
      "simple syrup\n",
      "x-rated fusion liqueur\n",
      "coconut rum\n",
      "frozen lemonade concentrate\n",
      "ginger ale\n",
      "sparkling water\n",
      "tequila\n",
      "blueberries\n",
      "blueberry juice\n",
      "honey\n",
      "salt\n",
      "margarita mix\n",
      "prickly pears\n",
      "gold tequila\n",
      "limes\n",
      "kosher salt\n",
      "cherry brandy\n",
      "gin\n",
      "grenadine\n",
      "sweet and sour cocktail mix\n",
      "lime wedges\n",
      "7-up soda\n",
      "citrus juice\n",
      "red bull energy drink\n",
      "maraschino juice\n",
      "lime, juice of\n",
      "grapefruit juice\n",
      "baileys mint chocolate irish cream liqueur\n",
      "vanilla vodka\n",
      "of fresh mint\n",
      "chocolate stick\n",
      "cointreau liqueur\n",
      "cranberry juice cocktail\n",
      "fresh lime juice\n",
      "superfine sugar\n",
      "lemons\n",
      "grain alcohol\n",
      "tea\n",
      "cranberry-raspberry juice\n",
      "powdered cocoa mix\n",
      "kahlua\n",
      "cinnamon\n",
      "mini marshmallows\n",
      "kiwi\n",
      "orange\n",
      "mango\n",
      "tea bags\n",
      "apricot brandy\n",
      "frozen orange juice\n",
      "frozen lemonade\n",
      "cream of coconut\n",
      "cracked ice\n",
      "grand marnier\n",
      "amaretto\n",
      "tomatoes\n",
      "yellow onions\n",
      "celery ribs\n",
      "bell peppers\n",
      "horseradish\n",
      "dried hot red chili peppers\n",
      "red pepper seasoning\n",
      "granulated sugar\n",
      "white wine\n",
      "seltzer water\n",
      "lemon zest\n",
      "godiva original chocolate liqueur\n",
      "cocoa powder\n",
      "galliano\n",
      "strawberries\n",
      "fresh jalapeno\n",
      "beer\n",
      "fresh cranberries\n",
      "lime slice\n",
      "coke\n",
      "prepared sweet-and-sour mix\n",
      "lemon wedge\n",
      "bourbon whiskey\n",
      "madeira wine\n",
      "creme de noyaux\n",
      "ice cream\n",
      "oreo cookies\n",
      "lemonade concentrate\n",
      "orange juice concentrate\n",
      "cherries\n",
      "melon liqueur\n",
      "bacardi light rum\n",
      "cinnamon schnapps\n",
      "raspberry vodka\n",
      "fresh orange juice\n",
      "decorator sugar\n",
      "coarse salt\n",
      "fresh blueberries\n",
      "frozen limeade concentrate\n",
      "powdered sugar\n",
      "lime wedge\n",
      "chocolate liqueur\n",
      "irish cream\n",
      "tea bag\n",
      "sprite\n",
      "midori melon liqueur\n",
      "lemon slices\n",
      "honeydew melon\n",
      "rose wine\n",
      "sparkling rose wine\n",
      "amarula cream liqueur\n",
      "oranges\n",
      "raspberry preserves\n",
      "heavy cream\n",
      "cherry juice\n",
      "frozen orange juice concentrate\n",
      "carbonated beverage\n",
      "unsweetened pineapple juice\n",
      "whiskey\n",
      "7-up\n",
      "green tea bags\n",
      "frozen concentrated lemonade\n",
      "lemon\n",
      "sweetened iced tea\n",
      "fresh lemon juice\n",
      "fresh thyme\n",
      "sweetened condensed milk\n",
      "evaporated milk\n",
      "whipping cream\n",
      "chocolate chips\n",
      "instant coffee\n",
      "irish whiskey\n",
      "fat-free half-and-half\n",
      "mango vodka\n",
      "white cranberry juice\n",
      "bananas\n",
      "pineapple\n",
      "baileys irish cream\n",
      "strawberry syrup\n",
      "jamaican rum\n",
      "sugar syrup\n",
      "nutmeg\n",
      "hot water\n",
      "butter\n",
      "lemon balm leaves\n",
      "limes, juice of\n",
      "thompson seedless grapes\n",
      "pink lemonade\n",
      "cocktail onion\n",
      "brine\n",
      "fresh garlic\n",
      "dill weed\n",
      "celery seed\n",
      "worchestershire sauce\n",
      "dry vermouth\n",
      "fresh ground pepper\n",
      "sambuca romana\n",
      "espresso\n",
      "white grape juice\n",
      "passion fruit juice\n",
      "riesling wine\n",
      "soho lychee liqueur\n",
      "creme de banane\n",
      "frozen sliced strawberries in syrup\n",
      "tangerine\n",
      "absolut citron vodka\n",
      "mint leaves\n",
      "club soda\n",
      "turbinado sugar\n",
      "bittersweet chocolate\n",
      "lemon twist\n",
      "sake\n",
      "low-fat buttermilk\n",
      "fresh mint leaves\n",
      "mint sprigs\n",
      "coconut milk\n",
      "shredded coconut\n",
      "coffee liqueur\n",
      "dark creme de cacao\n",
      "coffee ice cream\n",
      "red raspberries\n",
      "soda water\n",
      "mint sprig\n",
      "kiwi fruits\n",
      "mineral water\n",
      "chablis\n",
      "fresh peach\n",
      "captain morgan's spiced rum\n",
      "mangoes\n",
      "pineapple chunk\n",
      "kiwi fruit\n",
      "mint leaf\n",
      "vanilla bean\n",
      "peaches\n",
      "fresh raspberry\n",
      "fresh mango\n",
      "lime slices\n",
      "agave syrup\n",
      "frozen strawberries\n",
      "coconut extract\n",
      "aquavit\n",
      "orange rind twists\n",
      "lemon-flavored vodka\n",
      "ginger syrup\n",
      "gingerroot\n",
      "amaretto liqueur\n",
      "butterscotch schnapps\n",
      "chocolate\n",
      "tahini\n",
      "light brown sugar\n",
      "granny smith apple\n",
      "liquid\n",
      "white sambuca\n",
      "half-and-half\n",
      "fresh pineapple juice\n",
      "meyer's dark rum\n",
      "apple cider\n",
      "anise seed\n",
      "ground cinnamon\n",
      "tart apples\n",
      "lemon, zest of\n",
      "apple jack\n",
      "green food coloring\n",
      "calvados\n",
      "red apple\n",
      "orgeat syrup\n",
      "dry sherry\n",
      "sweetened lime juice\n",
      "creole seasoning\n",
      "garlic\n",
      "steak sauce\n",
      "worcestershire sauce\n",
      "lemon, juice of\n",
      "root beer\n",
      "cinnamon cappuccino instant coffee mix\n",
      "caramel liqueur\n",
      "vanilla rum\n",
      "non-dairy whipped topping\n",
      "cinnamon sugar\n",
      "orange liqueur\n",
      "frozen cranberry juice concentrate\n",
      "orange peel\n",
      "red zinfandel wine\n",
      "orange-flavored liqueur\n",
      "orange slice\n",
      "strong hot tea\n",
      "bourbon\n",
      "pomegranate juice\n",
      "brut champagne\n",
      "orange curacao\n",
      "pisco\n",
      "stick\n",
      "vanilla liqueur\n",
      "graham cracker crumbs\n",
      "fresh coriander\n",
      "dutch-processed cocoa powder\n",
      "cornstarch\n",
      "vanilla\n",
      "semisweet chocolate\n",
      "sweet cream\n",
      "peach\n",
      "sangria\n",
      "orange bitters\n",
      "frangelico\n",
      "v8 vegetable juice\n",
      "pepper\n",
      "garlic powder\n",
      "hot sauce\n",
      "milk chocolate\n",
      "golden rum\n",
      "dairy eggnog\n",
      "cognac\n",
      "celery salt\n",
      "clamato juice\n",
      "celery\n",
      "white chocolate liqueur\n",
      "guanabana nectar\n",
      "coarse sugar\n",
      "frozen raspberries\n",
      "fresh pineapple\n",
      "guinness stout\n",
      "sweet and sour sauce\n",
      "white creme de cacao\n",
      "white creme de menthe\n",
      "apple vodka\n",
      "french vanilla ice cream\n",
      "white chocolate\n",
      "southern comfort\n",
      "peach liqueur\n",
      "diet ginger ale\n",
      "grapefruit-mango juice\n",
      "red grapefruit\n",
      "red wine\n",
      "vanilla-flavored syrup\n",
      "coca-cola\n",
      "green creme de menthe\n",
      "prepared horseradish\n",
      "soy sauce\n",
      "wasabi powder\n",
      "old bay seasoning\n",
      "cucumber\n",
      "mango liqueur\n",
      "mango nectar\n",
      "edible orchid\n",
      "apple liqueur\n",
      "absolut mandarin vodka\n",
      "limoncello\n",
      "coconut liqueur\n",
      "fruit\n",
      "orange slices\n",
      "lime sherbet\n",
      "brewed coffee\n",
      "almonds\n",
      "liqueur\n",
      "chocolate ice cream\n",
      "jello gelatin\n",
      "cold water\n",
      "pink grapefruit juice\n",
      "strawberry daiquiri mix\n",
      "irish mist liqueur\n",
      "chocolate shavings\n",
      "coarse black pepper\n",
      "pickle juice\n",
      "vermouth\n",
      "campari\n",
      "lemongrass\n",
      "raspberries\n",
      "almond syrup\n",
      "jagermeister\n",
      "ouzo\n",
      "pomegranate liqueur\n",
      "apricot halves\n",
      "apricot nectar\n",
      "frozen pink lemonade concentrate\n",
      "unsalted butter\n",
      "cinnamon sticks\n",
      "smirnoff citrus twist vodka\n",
      "sparkling white wine\n",
      "sweet vermouth\n",
      "dried apricot\n",
      "vanilla beans\n",
      "fat-free sweetened condensed milk\n",
      "skim milk\n",
      "fat-free evaporated milk\n",
      "black cherry rum\n",
      "cola\n",
      "sour raspberry liqueur\n",
      "lime cordial\n",
      "tonic water\n",
      "clam juice\n",
      "frozen mango citrus concentrate\n",
      "raspberry liqueur\n",
      "whipped topping\n",
      "strawberry\n",
      "dry red wine\n",
      "apple\n",
      "pear\n",
      "hazelnut-flavored liqueur\n",
      "lemon, rind of\n",
      "green seedless grapes\n",
      "frozen sliced peaches\n",
      "eggs\n",
      "fresh nutmeg\n",
      "fresh blackberries\n",
      "mint\n",
      "anise-flavored liqueur\n",
      "coffee beans\n",
      "splenda sugar substitute\n",
      "ground coffee\n",
      "godiva white chocolate liqueur\n",
      "hershey chocolate kisses\n",
      "pure maple syrup\n",
      "grapefruits\n",
      "light cream\n",
      "mandarin vodka\n",
      "french parfait amour liqueur\n",
      "lavender sugar\n",
      "candy cane\n",
      "raspberry sauce\n",
      "bacardi 151 rum\n",
      "passion fruit liqueur\n",
      "fresh peaches\n",
      "artificial sweetener\n",
      "cabernet sauvignon wine\n",
      "grape juice\n",
      "light beer\n",
      "lemonade\n",
      "anjou pear\n",
      "ginger\n",
      "hersheys chocolate syrup\n",
      "oranges, juice of\n",
      "lemons, juice of\n",
      "orange blossom water\n",
      "olive juice\n",
      "sriracha sauce\n",
      "dry white wine\n",
      "cranberry-apple juice\n",
      "lime twist\n",
      "candy canes\n",
      "vegetable cocktail\n",
      "fresh ground black pepper\n",
      "hot pepper sauce\n",
      "balsamic vinegar\n",
      "green maraschino cherry\n",
      "tomato paste\n",
      "vegetable juice\n",
      "distilled white vinegar\n",
      "lawry's seasoned salt\n",
      "black pepper\n",
      "allspice\n",
      "pineapple-orange juice\n",
      "pickled ginger\n",
      "passion fruit\n",
      "lychee juice\n",
      "lychees\n",
      "jack daniels whiskey\n",
      "green tea\n",
      "passion fruit nectar\n",
      "ginger beer\n",
      "cream soda\n",
      "dark brown sugar\n",
      "corn syrup\n",
      "molasses\n",
      "sea salt\n",
      "white wine vinegar\n",
      "icing sugar\n",
      "mango juice\n",
      "merlot\n",
      "spicy vegetable juice\n",
      "louisiana hot sauce\n",
      "green onions\n",
      "alcohol\n",
      "orange sorbet\n",
      "pineapple chunks\n",
      "fresh gingerroot\n",
      "clear honey\n",
      "sherry wine\n",
      "egg yolk\n",
      "canadian rye whisky\n",
      "peach slices\n",
      "berries\n",
      "orange-flavored rum\n",
      "peach brandy\n",
      "seasoning salt\n",
      "olive\n",
      "orange wedge\n",
      "peach nectar\n",
      "creme de coconut\n",
      "egg yolks\n",
      "citronge\n",
      "crystal light ready-to-drink raspberry ice\n",
      "strawberry juice\n",
      "melon ball\n",
      "1% low-fat milk\n",
      "metaxa brandy\n",
      "dr. pepper cola\n",
      "peanut butter\n",
      "mango puree\n",
      "citrus slices\n",
      "schnapps\n",
      "caramel ice cream topping\n",
      "coco lopez\n",
      "coconut\n",
      "sweetened flaked coconut\n",
      "papaya\n",
      "curacao\n",
      "black vodka\n",
      "green apple vodka\n",
      "serrano chili\n",
      "jalapeno pepper\n",
      "habanero pepper\n",
      "cloves\n",
      "lemon-lime flavored soda\n",
      "light cranberry juice\n",
      "crystal light sugar free low calorie lemonade mix\n",
      "quick-cooking oats\n",
      "gold medal all-purpose flour\n",
      "voyant chai cream liqueur\n",
      "chocolate milk\n",
      "eggnog\n",
      "peach vodka\n",
      "mango rum\n",
      "instant tea\n",
      "fresh ginger\n",
      "fresh raspberries\n",
      "grapefruit\n",
      "carob powder\n",
      "tia maria\n",
      "cranberry vodka\n",
      "maraschino cherry juice\n",
      "liquor\n",
      "half-and-half cream\n",
      "black coffee\n",
      "strawberry cream liqueur\n",
      "strawberry schnapps\n",
      "blood orange juice\n",
      "splenda granular\n",
      "parrot bay coconut rum\n",
      "pink grapefruit\n",
      "navel orange\n",
      "grapefruit-tangerine juice\n",
      "condensed milk\n",
      "alize gold passion liqueur\n",
      "strong black coffee\n",
      "ground nutmeg\n",
      "ground cloves\n",
      "orange zest\n",
      "cardamom pods\n",
      "purple basil\n",
      "wild strawberry gelatin\n",
      "scotch whisky\n",
      "guava juice\n",
      "scotch\n",
      "drambuie\n",
      "pear nectar\n",
      "hot cocoa\n",
      "light coconut cream\n",
      "fresh coconut\n",
      "hpnotiq liqueur\n",
      "italian soda\n",
      "whole milk\n",
      "guava nectar\n",
      "absolut vodka\n",
      "wasabi\n",
      "salt & fresh ground pepper\n",
      "beef jerky\n",
      "stolichnaya raspberry vodka\n",
      "sour apple liqueur\n",
      "orange, juice of\n",
      "chocolate fudge topping\n",
      "blackberry brandy\n",
      "bitters\n",
      "vanilla yogurt\n",
      "ciclon\n",
      "glace cherries\n",
      "coconut water\n",
      "pineapple rum\n",
      "benedictine\n",
      "ruby red grapefruit vodka\n",
      "fresh pineapple chunk\n",
      "sparkling grape juice\n",
      "framboise liqueur\n",
      "sugar cubes\n",
      "dry gin\n",
      "diet lemonade\n",
      "cherry kool-aid\n",
      "strawberry kool-aid\n",
      "vegetable juice cocktail\n",
      "celery rib\n",
      "green chartreuse liqueur\n",
      "pomegranate seeds\n",
      "tequila rose\n",
      "allspice berry\n",
      "whole black peppercorn\n",
      "kumquats\n",
      "apple brandy\n",
      "red seedless grapes\n",
      "green seedless grape\n",
      "cranberry-grape juice\n",
      "canned lychees\n",
      "strong coffee\n",
      "caramel syrup\n",
      "absinthe\n",
      "whole cloves\n",
      "allspice berries\n",
      "serrano peppers\n",
      "goldschlager\n",
      "extra-dry vermouth\n",
      "green olives\n",
      "karo syrup\n",
      "baking powder\n",
      "lemon-flavored liqueur\n",
      "honeydews\n",
      "egg whites\n",
      "key lime juice\n",
      "caramel sauce\n",
      "bacardi limon\n",
      "peppar vodka\n",
      "cayenne powder\n",
      "dried red chili\n",
      "english cucumbers\n",
      "frozen cranberries\n",
      "orange soda\n",
      "cherry soda\n",
      "root beer schnapps\n",
      "everclear alcohol\n",
      "mountain dew soda\n",
      "olives\n",
      "nonfat milk\n",
      "egg white\n",
      "frozen pineapple concentrate\n",
      "lemon soda\n",
      "pina colada nonalcoholic drink mix\n",
      "stolichnaya vodka\n",
      "cinnamon vodka\n",
      "fresh jalapeno pepper\n",
      "fresh jalapeno peppers\n",
      "sugar cane\n",
      "fresh pear\n",
      "cachaca\n",
      "diet sprite\n",
      "port wine\n",
      "peach juice\n",
      "dried apricots\n",
      "hot cocoa mix\n",
      "instant coffee granules\n",
      "mandarin juice\n",
      "sugar-free black cherry gelatin\n",
      "cherry vodka\n",
      "advocaat\n",
      "cherry flavored liqueur\n",
      "instant coffee powder\n",
      "sugar substitute\n",
      "blackberry\n",
      "chocolate-flavored liqueur\n",
      "hershey chocolate kiss\n",
      "vanilla schnapps\n",
      "apple pie spice\n",
      "fresh lemon\n",
      "vanilla essence\n",
      "chocolate stout\n",
      "pear liqueur\n",
      "chocolate-covered espresso beans\n",
      "rye whiskey\n",
      "chocolate candy bars\n",
      "frozen dark sweet cherries\n",
      "liquid honey\n",
      "orange-infused vodka\n",
      "whole allspice\n",
      "low calorie raspberry drink mix\n",
      "bacardi dark rum\n",
      "vanilla flavoring\n",
      "sloe gin\n",
      "dark molasses\n",
      "glycerin\n",
      "pear vodka\n",
      "diet lemon-lime soda\n",
      "blue curacao syrup\n",
      "peach tea bag\n",
      "confectioners' sugar\n",
      "warm water\n",
      "sugar-free chai latte mix\n",
      "prepared tapioca\n",
      "fresca soda\n",
      "peppermint candy\n",
      "ground cardamom\n",
      "orange brandy\n",
      "all purpose greek seasoning\n",
      "nectarines\n",
      "frozen cherry lemonade concentrate\n",
      "skewers\n",
      "lemon rind\n",
      "dried prunes\n",
      "dried apples\n",
      "whole almonds\n",
      "golden raisin\n",
      "dark raisin\n",
      "orange, rind of\n",
      "candied pineapple\n",
      "pear halves in natural juice\n",
      "elderflower cordial\n",
      "citrus-infused rum\n",
      "crown royal whiskey\n",
      "caster sugar\n",
      "sweet white wine\n",
      "coconut essence\n",
      "black tea bags\n",
      "seedless watermelon\n",
      "chili powder\n",
      "sparkling apple cider\n",
      "sprite zero\n",
      "lime flavored liqueur\n",
      "nassau royale\n",
      "roasted red peppers\n",
      "cilantro\n",
      "espresso coffee\n",
      "coffee-flavored liqueur\n",
      "fruit punch\n",
      "wine\n",
      "carbonated water\n",
      "granny smith apples\n",
      "orange section\n",
      "strawberry puree\n",
      "green apple\n",
      "red grapes\n",
      "mixed berry\n",
      "hazelnuts\n",
      "almond liqueur\n",
      "maple syrup\n",
      "papaya nectar\n",
      "sunny delight orange drink\n",
      "lemon-flavored rum\n",
      "chardonnay wine\n",
      "yeast\n",
      "unsweetened grape juice\n",
      "raisins\n",
      "clementines\n",
      "cilantro leaves\n",
      "lychee\n",
      "raspberry puree\n",
      "caramel topping\n",
      "dark chocolate\n",
      "mandarin oranges\n",
      "carbonated beverages\n",
      "banana rum\n",
      "basil leaves\n",
      "pineapple slices\n",
      "jellied cranberry sauce\n",
      "burgundy wine\n",
      "whole cardamom pods\n",
      "figs\n",
      "blanched almond\n",
      "orange-flavored sparkling water\n",
      "lemon verbena leaves\n",
      "syrup\n",
      "raspberry sorbet\n",
      "lemon peel\n",
      "eggnog ice cream\n",
      "marshmallows\n",
      "licor 43\n",
      "bouillon\n",
      "pickapeppa sauce\n",
      "hot red pepper sauce\n",
      "lemon pepper seasoning\n",
      "cantaloupe\n",
      "grapefruit zest\n",
      "absolut kurant vodka\n",
      "rosemary sprig\n",
      "fresh meyer lemon juice\n",
      "prosecco\n",
      "semi-sweet chocolate chips\n",
      "chocolate whipped cream\n",
      "lemon sorbet\n",
      "seedless raspberry preserves\n",
      "ruby red grapefruit juice\n",
      "heavy whipping cream\n",
      "2% low-fat milk\n",
      "crushed pineapple in juice\n",
      "orange wedges\n",
      "cinnamon-sugar mixture\n",
      "white peaches\n",
      "mango rum liqueur\n",
      "sugar cube\n",
      "frozen blackberries\n",
      "sunny delight mango flavor orange drink\n",
      "agave nectar\n",
      "lime zest\n",
      "cherry heering\n",
      "frozen mixed berries\n",
      "iced tea\n",
      "unsweetened cocoa powder\n",
      "dried lavender\n",
      "clove\n",
      "clear creme de menthe\n",
      "mango syrup\n",
      "italian brandy\n",
      "corona beer\n",
      "brewed hibiscus tea\n",
      "strawberry jam\n",
      "cherry kijafa wine\n",
      "pineapple jell-o\n",
      "agwa cocoa herbal liqueur\n",
      "limes, zest of\n",
      "apricots\n",
      "plain low-fat yogurt\n",
      "amaretto cookies\n",
      "creme de menthe\n",
      "cookie\n",
      "honey liqueur\n",
      "pimms\n",
      "melon\n",
      "chocolate gelato\n",
      "pineapple-coconut juice\n",
      "banana schnapps\n",
      "red maraschino cherry\n",
      "orange rind\n",
      "mint chocolate liqueur\n",
      "sweet chocolate\n",
      "fresh coarse ground black pepper\n",
      "egg\n",
      "mccormick's montreal brand steak seasoning\n",
      "cayenne pepper\n",
      "canned pumpkin puree\n",
      "pumpkin pie spice\n",
      "bay leaf\n",
      "applejack\n",
      "chili pepper\n",
      "dulce de leche ice cream\n",
      "toffee pieces\n",
      "butterscotch sundae sauce\n",
      "agar-agar\n",
      "vegetable oil\n",
      "frozen peaches\n",
      "heineken lager beer\n",
      "rhubarb\n",
      "yuzu juice\n",
      "lime jell-o gelatin\n",
      "frozen fruit punch concentrate\n",
      "cherry syrup\n",
      "lager beer\n",
      "miniature marshmallow\n",
      "frozen blackberrie\n",
      "frozen blueberries\n",
      "strawberry vodka\n",
      "fresh cream\n",
      "diet 7-up\n",
      "raspberry jell-o gelatin\n",
      "raw sugar\n",
      "star fruit\n",
      "orange flower water\n",
      "sorbet\n",
      "white chocolate chips\n",
      "hot coffee\n",
      "butterscotch chips\n",
      "cherry cola\n",
      "crushed pineapple\n",
      "salt and pepper\n",
      "ground coriander\n",
      "pumpkin seeds\n",
      "olive oil\n",
      "dried rosemary\n",
      "garlic salt\n",
      "dried thyme\n",
      "dried sage\n",
      "salt & pepper\n",
      "full-bodied red wine\n",
      "cardamom seeds\n",
      "black peppercorns\n",
      "plums\n",
      "vanilla sugar\n",
      "thickened cream\n",
      "smirnoff no.21 vodka\n",
      "malibu coconut liqueur\n",
      "cantaloupes\n",
      "frangelico liqueur\n",
      "white zinfandel wine\n",
      "tanqueray london dry gin\n",
      "captain morgan silver spiced rum\n",
      "cuervo especial gold\n",
      "root beer concentrate\n",
      "canned pineapple chunk\n",
      "reduced-calorie cranberry juice cocktail\n",
      "lillet blanc\n",
      "red fruit punch\n",
      "blue cheese\n",
      "spanish olives\n",
      "protein powder\n",
      "orange extract\n",
      "coriander\n",
      "white grapes\n",
      "fruit cocktail\n",
      "fresh water\n",
      "beaujolais wine\n",
      "ground allspice\n",
      "peach preserves\n",
      "pear juice\n",
      "whole nutmeg\n",
      "pepsi\n",
      "bacardi fuzzy navel mix\n",
      "mint liqueur\n",
      "blue hawaiian maui schnapps\n",
      "ruby port\n",
      "light corn syrup\n",
      "fresh fruit\n",
      "plum wine\n",
      "plum\n",
      "tangerine juice\n",
      "italian plums\n",
      "noilly prat\n",
      "white corn syrup\n",
      "100 proof vodka\n",
      "peppermint flavoring\n",
      "sour apple schnapps\n",
      "instant chocolate pudding mix\n",
      "lime concentrate\n",
      "mixed berries\n",
      "soymilk\n",
      "low-sodium v8 juice\n",
      "blueberry schnapps\n",
      "elderberry flowers\n",
      "momokawa pearl sake\n",
      "blueberry vodka\n",
      "crystallized ginger\n",
      "fresh rosemary\n",
      "jalapeno chile\n",
      "frozen mango chunks\n",
      "pickle\n",
      "beans\n",
      "butterscotch syrup\n",
      "mandarin liqueur\n",
      "dark cherries\n",
      "orange jell-o\n",
      "gelatin\n",
      "spices\n",
      "rock melons\n",
      "rock melon\n",
      "mint syrup\n",
      "strawberry sorbet\n",
      "juice\n",
      "fine sugar\n",
      "pecans\n",
      "powdered drink mix\n",
      "black tea\n",
      "jalapeno-stuffed green olives\n",
      "brewed green tea\n",
      "coffee-infused vodka\n",
      "silken tofu\n",
      "glycerine\n",
      "fresh basil leaves\n",
      "unsweetened grapefruit juice\n",
      "lime, zest of\n",
      "fruit juice\n",
      "diet dr. pepper soda\n",
      "sugar-free black cherry syrup\n",
      "pineapple liqueur\n",
      "elderflower liqueur\n",
      "unsweetened tomato juice\n",
      "white pepper\n",
      "orange, zest of\n",
      "blackberry syrup\n",
      "lemon wedges\n",
      "orange twist\n",
      "grappa\n",
      "orange spice tea bags\n",
      "momokawa silver sake\n",
      "chocolate extract\n",
      "crystal light orange drink mix\n",
      "sugar-free cranberry juice\n",
      "red onions\n",
      "dijon mustard\n",
      "capers\n",
      "spicy hot v8\n",
      "watermelon schnapps\n",
      "cucumbers\n",
      "mint chocolate chip ice cream\n",
      "mint extract\n",
      "fig\n",
      "brown sugar cubes\n",
      "coconut syrup\n",
      "seedless grapes\n",
      "cherry tomatoes\n",
      "fresh basil\n",
      "fresh chives\n",
      "cracked pepper\n",
      "fresh basil leaf\n",
      "sugar-free syrup\n",
      "key limes\n",
      "powdered ginger\n",
      "blood orange\n",
      "oranges, juice and zest of\n",
      "brandy flavoring\n",
      "orange food coloring\n",
      "jar\n",
      "brewed black tea\n",
      "valencia oranges\n",
      "fresh lime leaves\n",
      "dried angelica root\n",
      "fennel seed\n",
      "lumps of sugar\n",
      "low-fat yogurt\n",
      "fresh tomato\n",
      "espresso-flavored vodka\n",
      "raspberry flavored syrup\n",
      "grapefruit soda\n",
      "peppermint\n",
      "fresh rosemary leaves\n",
      "fresh edible flower\n",
      "blackberry liqueur\n",
      "candied fruit\n",
      "oysters\n",
      "fresh lemon rind\n",
      "demerara sugar\n",
      "avocados\n",
      "dooley liqueur\n",
      "fresh cilantro\n",
      "adobo sauce\n",
      "ground cumin\n",
      "red chilies\n",
      "chili-garlic sauce\n",
      "raw carrot\n",
      "sauterne\n",
      "amaretti cookie\n",
      "peach puree\n",
      "chocolate vodka\n",
      "light syrup\n",
      "sloes\n",
      "almond essence\n",
      "dried lavender flowers\n",
      "white vermouth\n",
      "canned crushed pineapple\n",
      "banana syrup\n",
      "tuaca liqueur\n",
      "spumanti\n",
      "creme de almond\n",
      "diet v8 splash\n",
      "earl grey tea\n",
      "lime rind\n",
      "blanched almonds\n",
      "dry champagne\n",
      "unsweetened cranberry juice\n",
      "pomegranate\n",
      "egg substitute\n",
      "brewed espresso\n",
      "fresh spearmint\n",
      "yellow cake batter\n",
      "candy sprinkles\n",
      "yellow food coloring\n",
      "sugar-free vanilla syrup\n",
      "fresh coffee\n",
      "paper cups\n",
      "seafood cocktail sauce\n",
      "oyster\n",
      "real vanilla extract\n",
      "ground ginger\n",
      "raspberry schnapps\n",
      "zinfandel\n",
      "coffee ice cubes\n",
      "coffee frozen yogurt\n",
      "english cucumber\n",
      "kumquat\n",
      "lemon cordial\n",
      "sweetened whipped cream\n",
      "coconut flakes\n",
      "hard alcoholic cider\n",
      "strawberry margarita mix\n",
      "brewed cranberry tea\n",
      "salt & freshly ground black pepper\n",
      "pepperoncini peppers\n",
      "paprika\n",
      "curry powder\n",
      "mustard powder\n",
      "dried basil\n",
      "biscotti liqueur\n",
      "frank's red hot sauce\n",
      "grape tomatoes\n",
      "pickled onions\n",
      "garlic sausage\n",
      "raspberry jam\n",
      "unsweetened orange juice\n",
      "hard apple cider\n",
      "bloody mary mix\n",
      "dark jamaican rum\n",
      "pomegranate-cranberry juice\n",
      "miniature marshmallows\n",
      "st. germain elderflower liqueur\n",
      "lime juice concentrate\n",
      "strawberry jell-o gelatin dessert\n",
      "malt liquor\n",
      "cider\n",
      "pink lemonade mix\n",
      "colored crystal sugar\n",
      "frozen raspberry concentrate\n",
      "red food coloring\n",
      "yellow onion\n",
      "jalapenos\n",
      "green chilies\n",
      "habaneros\n",
      "dried chipotle chiles\n",
      "fresh horseradish\n",
      "peppercorns\n",
      "herbsaint\n",
      "bottled lemon juice\n",
      "herbal liqueur\n",
      "sweet mangoes\n",
      "gran gala\n",
      "instant coffee crystals\n",
      "cranberry juice concentrate\n",
      "sauvignon blanc wine\n",
      "watermelon rum\n",
      "tart green apple\n",
      "diet coke\n",
      "strawberry soda\n",
      "golden brown sugar\n",
      "cherry gelatin\n",
      "kaffir lime leaf\n",
      "chili\n",
      "frozen whole strawberries\n",
      "unsweetened frozen peach slices\n",
      "pineapple tidbits\n",
      "condensed beef broth\n",
      "dried small red chilies\n",
      "strawberry banana nectar\n",
      "chopped tomatoes\n",
      "sweet green pepper\n",
      "onions\n",
      "red wine vinegar\n",
      "dried dill\n",
      "alfalfa sprout\n",
      "peppermint stick candy\n",
      "momokawa diamond sake\n",
      "rose water\n",
      "instant chocolate drink mix\n",
      "pickled okra\n",
      "non-dairy powdered coffee creamer\n",
      "unsweetened cocoa\n",
      "instant espresso powder\n",
      "popsicle molds\n",
      "diet cream soda\n",
      "sherbet\n",
      "instant malted milk powder\n",
      "pimm's liqueur\n",
      "pickled jalapeno pepper\n",
      "pumpkin spice syrup\n",
      "fat free sugar free yogurt\n",
      "carrot\n",
      "garlic-stuffed olives\n",
      "chocolate curls\n",
      "chocolate chip cookie\n",
      "anisette\n",
      "nestle sweetened condensed milk\n",
      "intrigue liqueur\n",
      "yogurt\n",
      "nuts\n",
      "chipotle chile in adobo\n",
      "pineapple ring\n",
      "honey syrup\n",
      "grapefruit section\n",
      "unsweetened strawberry kool-aid\n",
      "cocoa\n",
      "brewed tea\n",
      "malt drink powder\n",
      "butter-flavored liqueur\n",
      "italian sweet vermouth\n",
      "pear brandy\n",
      "cranberry jell-o gelatin\n",
      "thyme\n",
      "hawaiian punch drink\n",
      "graham crackers\n",
      "pumpkin spice\n",
      "rum extract\n",
      "pimento-stuffed green olives\n",
      "ground black pepper\n",
      "orange-mango juice\n",
      "after dinner mints\n",
      "cranberry sauce\n",
      "paper\n",
      "lemon jell-o gelatin\n",
      "pears in light syrup\n",
      "cinnamon graham cracker crumbs\n",
      "pineapple stick\n",
      "serrano chilies\n",
      "ground pepper\n",
      "frozen concentrated orange juice\n",
      "dried lavender blossoms\n",
      "alize red passion liqueur\n",
      "pinot grigio wine\n",
      "pink champagne\n",
      "dried hibiscus flowers\n",
      "lump of sugar\n",
      "bottled water\n",
      "prickly pear syrup\n",
      "dry instant coffee\n",
      "blush wine\n",
      "black cherry jell-o\n",
      "raspberry sherbet\n",
      "low-fat vanilla ice cream\n",
      "low-fat milk\n",
      "pomegranate syrup\n",
      "fresh sage leaf\n",
      "miniature peppermint patties\n",
      "grape jell-o\n",
      "stuffed olives\n",
      "bacardi o rum\n",
      "bitter lemon soda\n",
      "lemons, zest of\n",
      "low-sodium tomato juice\n",
      "jalapeno juice\n",
      "vinegar\n",
      "onion powder\n",
      "mixed fruit\n",
      "unsweetened apple juice\n",
      "sweetened cocoa powder\n",
      "grapefruit, juice of\n",
      "pineapple-orange-banana juice\n",
      "prune\n",
      "gingerbread-flavored syrup\n",
      "watermelon vodka\n",
      "watermelon wedges\n",
      "smirnoff orange vodka\n",
      "sugar-free lemonade-flavored drink mix\n",
      "blue food coloring\n",
      "mint vodka\n",
      "stuffed green olives\n",
      "frozen grape juice concentrate\n",
      "ale\n",
      "sweet basil\n",
      "white cranberry juice with splenda\n",
      "beet\n",
      "carrots\n",
      "candied ginger\n",
      "cranberry gelatin\n",
      "black raspberries\n",
      "orange, juice and rind of\n",
      "amaretti\n",
      "graham cracker\n",
      "mojito mix\n",
      "stolichnaya ohranj vodka\n",
      "chocolate-covered coffee beans\n",
      "raw honey\n",
      "cayenne\n",
      "reduced-sodium tomato juice\n",
      "wine vinegar\n",
      "cassis de bordeaux\n",
      "sweet and sour soda\n",
      "manzanilla olives\n",
      "sparkling apple juice\n",
      "cardamom\n",
      "raspberry seltzer water\n",
      "beef bouillon\n",
      "emeril's original essence\n",
      "frozen strawberry daiquiri concentrate\n",
      "frozen pina colada mix\n",
      "onion salt\n",
      "lime-flavored vodka\n",
      "frozen sweetened strawberries\n",
      "shochu\n",
      "sugar crystals\n",
      "prepared lemon kool-aid\n",
      "navel orange, juice of\n",
      "cream cheese\n",
      "jam\n",
      "kirsch\n",
      "stirrings bloody mary cocktail mixer\n",
      "pomegranate vodka\n",
      "fat-free sugar-free vanilla pudding mix\n",
      "orange flavored yogurt\n",
      "captain morgan parrot bay coconut rum\n",
      "orange strip\n",
      "angel food cake mix\n",
      "coffee and chicory blend\n",
      "dried orange peel\n",
      "dried lemon peel\n",
      "whole coriander seeds\n",
      "pecan halves\n",
      "fudge sauce\n",
      "chocolate sprinkles\n",
      "lavender\n",
      "dandelion flowers\n",
      "wine yeast\n",
      "frozen unsweetened strawberries\n",
      "strawberry gelatin\n",
      "orangecello liqueur\n",
      "cherry wine\n",
      "chocolate-covered cherry\n",
      "habanero peppers\n",
      "greek yogurt\n",
      "powdered chocolate milk mix\n",
      "cuervo tequila\n",
      "pernod\n",
      "amaretto cream liqueur\n",
      "cacao\n",
      "milk chocolate chips\n",
      "shiraz wine\n",
      "cranberry-raspberry drink\n",
      "frozen pineapple-orange-guava juice concentrate\n",
      "fruit cocktail in heavy syrup\n",
      "lemon juice concentrate\n",
      "bing cherry\n",
      "raspberry juice\n",
      "godiva milk chocolate liqueur\n",
      "plum tomatoes\n",
      "fennel bulb\n",
      "garlic clove\n",
      "hot chili sauce\n",
      "pickled vegetables\n",
      "martini mix\n",
      "stout beer\n",
      "raspberry beer\n",
      "flaked coconut\n",
      "gummy worms\n",
      "celery & leaves\n",
      "apricot liqueur\n",
      "lemon concentrate\n",
      "creme yvette\n",
      "red apples\n",
      "green apples\n",
      "toothpick\n",
      "red table wine\n",
      "jalapeno\n",
      "fat free powdered cocoa mix\n",
      "lychee puree\n",
      "aromatic bitters\n",
      "blueberry wine\n",
      "tangerines\n",
      "frozen apple juice concentrate\n",
      "raspberry cordial\n",
      "cocoa butter\n",
      "lemons, rind of\n",
      "wooden skewer\n",
      "fresh rhubarb\n",
      "fresh pineapple chunks\n",
      "eau de vie\n",
      "sage leaf\n",
      "frozen daiquiri concentrate\n",
      "ginger juice\n",
      "coffee tequila\n",
      "old-fashioned oatmeal\n",
      "blackberry juice\n",
      "non-fat vanilla frozen yogurt\n",
      "regular grind coffee\n",
      "distilled water\n",
      "pumpkin\n",
      "miniature candy canes\n",
      "apricot\n",
      "candy\n",
      "watermelon liqueur\n",
      "firm ripe peaches\n",
      "frozen margarita mix\n",
      "cheesecloth\n",
      "red gelatin\n",
      "berry blue gelatin mix\n",
      "pineapple rings\n",
      "diet soda\n",
      "grenadine liqueur\n",
      "herbs\n",
      "fruit slices\n",
      "green tea leaves\n",
      "cherry jell-o\n",
      "star anise pods\n",
      "applesauce\n",
      "pumpkin puree\n",
      "baking soda\n",
      "flour\n",
      "low-fat cream cheese\n",
      "english seedless cucumbers\n",
      "creamy peanut butter\n",
      "blood oranges, juice of\n",
      "pineapple chunks in juice\n",
      "tabasco brand chipotle pepper sauce\n",
      "liquid smoke\n",
      "barbecue sauce\n",
      "asparagus\n",
      "kombucha\n",
      "lime segments\n",
      "table cream\n",
      "cherimoya\n",
      "family-size tea bag\n",
      "v8 diet tropical blend\n",
      "disaronno liquor\n",
      "fruit nectar\n",
      "dill sauce\n",
      "dill pickle\n",
      "mrs. dash seasoning mix\n",
      "ice water\n",
      "puree\n",
      "cinnamon syrup\n",
      "caraway seeds\n",
      "dill seeds\n",
      "star anise\n",
      "coriander seed\n",
      "cumin seeds\n",
      "filter coffee\n",
      "chunk pineapple\n",
      "grapefruit peel\n",
      "borage\n",
      "red cinnamon candies\n",
      "kalamansi juice\n",
      "raspberry-cranberry frozen juice concentrate\n",
      "oranges, zest of\n",
      "mulling spices\n",
      "spiced apple cider\n",
      "french vanilla liquid coffee creamer\n",
      "cherry schnapps\n",
      "guavaberry\n",
      "sorrel\n",
      "pineapple sherbet\n",
      "pineapple vodka\n",
      "pears\n",
      "lime sorbet\n",
      "pink grapefruit, juice of\n",
      "frappuccino caramel coffee drink\n",
      "oranges, rind of\n",
      "arugula leaf\n",
      "herbal tea bags\n",
      "ponzu sauce\n",
      "green bell pepper\n",
      "oregano\n",
      "ketchup\n",
      "candies\n",
      "white peach\n",
      "bubblegum\n",
      "powdered cloves\n",
      "red raisins\n",
      "plum brandy\n",
      "canned pineapple\n",
      "pineapple syrup\n",
      "plain yogurt\n",
      "unsweetened white grape juice\n",
      "lemon iced tea\n",
      "navel oranges\n",
      "frozen cherries\n",
      "citrus punch\n",
      "maple sugar\n",
      "passion fruit puree\n",
      "chinese five spice powder\n",
      "chives\n",
      "pie crusts\n",
      "canned pumpkin\n",
      "frozen sliced strawberries\n",
      "black cherries\n",
      "black currants\n",
      "hershey's syrup\n",
      "angostura low-sodium worcestershire sauce\n",
      "tequila liqueur\n",
      "chili sauce\n",
      "champagne yeast\n",
      "cumin\n",
      "lemon drop candy\n",
      "red cherries\n",
      "vanilla pod\n",
      "slivered almonds\n",
      "coke zero\n",
      "passion fruit pulp\n",
      "red raspberry preserves\n",
      "key lime\n",
      "your favorite liqueur\n",
      "coriander seeds\n",
      "angelica\n",
      "meyer lemon\n",
      "ice wine\n",
      "white grapefruit\n",
      "mandarin orange\n",
      "dark beer\n",
      "pale ale\n",
      "coconut sorbet\n",
      "golden syrup\n",
      "salted butter\n",
      "sugar-free almond syrup\n",
      "frozen pineapple chunks\n",
      "coconuts\n",
      "tapioca\n",
      "sweetened raspberry-lemonade drink mix\n",
      "green tea powder\n",
      "canned peaches\n",
      "coffee creamer\n",
      "pomegranate concentrate\n",
      "agave\n",
      "black sambuca\n",
      "cooking apples\n",
      "mango sorbet\n",
      "frozen pitted tart cherries\n",
      "lemonade tea mix\n",
      "peppermint extract\n",
      "peaches in heavy syrup\n",
      "eagle brand condensed milk\n",
      "amaretto-flavored nondairy liquid creamer\n",
      "basil sprig\n",
      "baileys caramel irish cream\n",
      "frozen raspberry-lemonade concentrate\n",
      "butter pecan ice cream\n",
      "orange, juice and zest of\n",
      "lime, juice and zest of\n",
      "lemon, juice and zest of\n",
      "blackberry schnapps\n",
      "sugar free pistachio pudding mix\n",
      "toffee ice cream\n",
      "non-dairy coffee creamer\n",
      "extra virgin olive oil\n",
      "fresh dill\n",
      "feta cheese\n",
      "carrot juice\n",
      "baby carrots\n",
      "cranberry liqueur\n",
      "gilbey's gin\n",
      "blueberry-flavored syrup\n",
      "junior mints\n",
      "banana yogurt\n",
      "banana-flavor brandy\n",
      "crystal light powdered drink mix\n",
      "unsweetened pomegranate juice\n",
      "coconut juice\n",
      "tom & jerry mix\n",
      "pomegranate-blueberry juice\n",
      "blood orange italian soda\n",
      "cream of tartar\n",
      "marshmallow cream\n",
      "yuzu\n",
      "hard candies\n",
      "strawberry-banana gelatin\n",
      "low-fat eggnog\n",
      "lemon extract\n",
      "chocolate-covered cherries\n",
      "crushed pineapple with juice\n",
      "ginger brew\n",
      "lychee syrup\n",
      "v8 tropical blend\n",
      "ginger brandy\n",
      "rosemary sprigs\n",
      "tea leaves\n",
      "family-size tea bags\n",
      "avocado\n",
      "fish sauce\n",
      "asti spumante sparkling wine\n",
      "mint chocolate\n",
      "wild turkey bourbon\n",
      "godiva original liqueur\n",
      "dark corn syrup\n",
      "peach ice cream\n",
      "mandarin orange juice\n",
      "rosemary\n",
      "frozen tropical punch concentrate\n",
      "dried tarragon leaves\n",
      "spearmint\n",
      "camp coffee\n",
      "dubonnet red\n",
      "lavender flowers\n",
      "lemon verbena\n",
      "orange strips\n",
      "rioja wine\n",
      "amaretto di saronno liqueur\n",
      "sweet tea flavored vodka\n",
      "vanilla icing\n",
      "kahlua hazelnut\n",
      "bacardi peach red rum\n",
      "fresh lemon zest\n",
      "table salt\n",
      "dried cranberries\n",
      "chile-infused tequila\n",
      "crystal hot sauce\n",
      "jalapeno peppers\n",
      "hazelnut-flavored coffee\n",
      "low-calorie lemonade drink mix\n",
      "almond flavored liqueur\n",
      "spanish brandy\n",
      "unsifted all-purpose flour\n",
      "dutch process cocoa\n",
      "wheat beer\n",
      "very strong coffee\n",
      "malt syrup\n",
      "compressed yeast cake\n",
      "bosc pear\n",
      "cola drink\n",
      "frozen strawberries in syrup\n",
      "raspberry-flavored sparkling water\n",
      "peach syrup\n",
      "thai basil\n",
      "fat free chocolate soymilk\n",
      "sugar-free chocolate syrup\n"
     ]
    }
   ],
   "source": [
    "for ing in maybe_test.ingredient.unique():\n",
    "    print(ing)"
   ]
  },
  {
   "cell_type": "code",
   "execution_count": 91,
   "metadata": {},
   "outputs": [
    {
     "name": "stdout",
     "output_type": "stream",
     "text": [
      "vodka\n",
      "citrus-infused vodka\n",
      "vanilla vodka\n",
      "raspberry vodka\n",
      "mango vodka\n",
      "absolut citron vodka\n",
      "lemon-flavored vodka\n",
      "apple vodka\n",
      "absolut mandarin vodka\n",
      "smirnoff citrus twist vodka\n",
      "mandarin vodka\n",
      "black vodka\n",
      "green apple vodka\n",
      "peach vodka\n",
      "cranberry vodka\n",
      "absolut vodka\n",
      "stolichnaya raspberry vodka\n",
      "ruby red grapefruit vodka\n",
      "peppar vodka\n",
      "stolichnaya vodka\n",
      "cinnamon vodka\n",
      "cherry vodka\n",
      "orange-infused vodka\n",
      "pear vodka\n",
      "absolut kurant vodka\n",
      "strawberry vodka\n",
      "smirnoff no.21 vodka\n",
      "100 proof vodka\n",
      "blueberry vodka\n",
      "coffee-infused vodka\n",
      "espresso-flavored vodka\n",
      "chocolate vodka\n",
      "watermelon vodka\n",
      "smirnoff orange vodka\n",
      "mint vodka\n",
      "stolichnaya ohranj vodka\n",
      "lime-flavored vodka\n",
      "pomegranate vodka\n",
      "pineapple vodka\n",
      "sweet tea flavored vodka\n"
     ]
    }
   ],
   "source": [
    "for ing in maybe_test.ingredient.unique():\n",
    "    if ('vodka' in ing):\n",
    "        print(ing)"
   ]
  },
  {
   "cell_type": "code",
   "execution_count": 86,
   "metadata": {},
   "outputs": [
    {
     "data": {
      "text/plain": [
       "array([4, 4, 5, ..., 1, 1, 2], dtype=int64)"
      ]
     },
     "execution_count": 86,
     "metadata": {},
     "output_type": "execute_result"
    }
   ],
   "source": [
    "ingredients.groupby(['ingredient']).count()['item'].values"
   ]
  },
  {
   "cell_type": "code",
   "execution_count": 84,
   "metadata": {},
   "outputs": [
    {
     "data": {
      "text/html": [
       "<div>\n",
       "<style scoped>\n",
       "    .dataframe tbody tr th:only-of-type {\n",
       "        vertical-align: middle;\n",
       "    }\n",
       "\n",
       "    .dataframe tbody tr th {\n",
       "        vertical-align: top;\n",
       "    }\n",
       "\n",
       "    .dataframe thead th {\n",
       "        text-align: right;\n",
       "    }\n",
       "</style>\n",
       "<table border=\"1\" class=\"dataframe\">\n",
       "  <thead>\n",
       "    <tr style=\"text-align: right;\">\n",
       "      <th></th>\n",
       "      <th>ingredient</th>\n",
       "      <th>item</th>\n",
       "    </tr>\n",
       "  </thead>\n",
       "  <tbody>\n",
       "    <tr>\n",
       "      <th>0</th>\n",
       "      <td>1% low-fat milk</td>\n",
       "      <td>4</td>\n",
       "    </tr>\n",
       "    <tr>\n",
       "      <th>1</th>\n",
       "      <td>100 proof vodka</td>\n",
       "      <td>4</td>\n",
       "    </tr>\n",
       "    <tr>\n",
       "      <th>2</th>\n",
       "      <td>2% low-fat milk</td>\n",
       "      <td>5</td>\n",
       "    </tr>\n",
       "    <tr>\n",
       "      <th>3</th>\n",
       "      <td>7-up</td>\n",
       "      <td>13</td>\n",
       "    </tr>\n",
       "    <tr>\n",
       "      <th>4</th>\n",
       "      <td>7-up soda</td>\n",
       "      <td>20</td>\n",
       "    </tr>\n",
       "    <tr>\n",
       "      <th>...</th>\n",
       "      <td>...</td>\n",
       "      <td>...</td>\n",
       "    </tr>\n",
       "    <tr>\n",
       "      <th>1614</th>\n",
       "      <td>yogurt</td>\n",
       "      <td>1</td>\n",
       "    </tr>\n",
       "    <tr>\n",
       "      <th>1615</th>\n",
       "      <td>your favorite liqueur</td>\n",
       "      <td>1</td>\n",
       "    </tr>\n",
       "    <tr>\n",
       "      <th>1616</th>\n",
       "      <td>yuzu</td>\n",
       "      <td>1</td>\n",
       "    </tr>\n",
       "    <tr>\n",
       "      <th>1617</th>\n",
       "      <td>yuzu juice</td>\n",
       "      <td>1</td>\n",
       "    </tr>\n",
       "    <tr>\n",
       "      <th>1618</th>\n",
       "      <td>zinfandel</td>\n",
       "      <td>2</td>\n",
       "    </tr>\n",
       "  </tbody>\n",
       "</table>\n",
       "<p>1619 rows × 2 columns</p>\n",
       "</div>"
      ],
      "text/plain": [
       "                 ingredient  item\n",
       "0           1% low-fat milk     4\n",
       "1           100 proof vodka     4\n",
       "2           2% low-fat milk     5\n",
       "3                      7-up    13\n",
       "4                 7-up soda    20\n",
       "...                     ...   ...\n",
       "1614                 yogurt     1\n",
       "1615  your favorite liqueur     1\n",
       "1616                   yuzu     1\n",
       "1617             yuzu juice     1\n",
       "1618              zinfandel     2\n",
       "\n",
       "[1619 rows x 2 columns]"
      ]
     },
     "execution_count": 84,
     "metadata": {},
     "output_type": "execute_result"
    }
   ],
   "source": [
    "ingredients.groupby(['ingredient']).count().reset_index()"
   ]
  },
  {
   "cell_type": "code",
   "execution_count": 83,
   "metadata": {},
   "outputs": [
    {
     "data": {
      "text/html": [
       "<div>\n",
       "<style scoped>\n",
       "    .dataframe tbody tr th:only-of-type {\n",
       "        vertical-align: middle;\n",
       "    }\n",
       "\n",
       "    .dataframe tbody tr th {\n",
       "        vertical-align: top;\n",
       "    }\n",
       "\n",
       "    .dataframe thead th {\n",
       "        text-align: right;\n",
       "    }\n",
       "</style>\n",
       "<table border=\"1\" class=\"dataframe\">\n",
       "  <thead>\n",
       "    <tr style=\"text-align: right;\">\n",
       "      <th></th>\n",
       "      <th>item</th>\n",
       "      <th>ingredient</th>\n",
       "    </tr>\n",
       "  </thead>\n",
       "  <tbody>\n",
       "    <tr>\n",
       "      <th>0</th>\n",
       "      <td>45859</td>\n",
       "      <td>limeade</td>\n",
       "    </tr>\n",
       "    <tr>\n",
       "      <th>1</th>\n",
       "      <td>45859</td>\n",
       "      <td>lime juice</td>\n",
       "    </tr>\n",
       "    <tr>\n",
       "      <th>2</th>\n",
       "      <td>45859</td>\n",
       "      <td>tequila</td>\n",
       "    </tr>\n",
       "    <tr>\n",
       "      <th>3</th>\n",
       "      <td>45859</td>\n",
       "      <td>triple sec</td>\n",
       "    </tr>\n",
       "    <tr>\n",
       "      <th>4</th>\n",
       "      <td>45859</td>\n",
       "      <td>lime wedge</td>\n",
       "    </tr>\n",
       "    <tr>\n",
       "      <th>...</th>\n",
       "      <td>...</td>\n",
       "      <td>...</td>\n",
       "    </tr>\n",
       "    <tr>\n",
       "      <th>21957</th>\n",
       "      <td>14224</td>\n",
       "      <td>stolichnaya vodka</td>\n",
       "    </tr>\n",
       "    <tr>\n",
       "      <th>21958</th>\n",
       "      <td>14224</td>\n",
       "      <td>ouzo</td>\n",
       "    </tr>\n",
       "    <tr>\n",
       "      <th>21959</th>\n",
       "      <td>238533</td>\n",
       "      <td>creme de cacao</td>\n",
       "    </tr>\n",
       "    <tr>\n",
       "      <th>21960</th>\n",
       "      <td>238533</td>\n",
       "      <td>almond liqueur</td>\n",
       "    </tr>\n",
       "    <tr>\n",
       "      <th>21961</th>\n",
       "      <td>238533</td>\n",
       "      <td>irish cream</td>\n",
       "    </tr>\n",
       "  </tbody>\n",
       "</table>\n",
       "<p>21962 rows × 2 columns</p>\n",
       "</div>"
      ],
      "text/plain": [
       "         item         ingredient\n",
       "0       45859            limeade\n",
       "1       45859         lime juice\n",
       "2       45859            tequila\n",
       "3       45859         triple sec\n",
       "4       45859         lime wedge\n",
       "...       ...                ...\n",
       "21957   14224  stolichnaya vodka\n",
       "21958   14224               ouzo\n",
       "21959  238533     creme de cacao\n",
       "21960  238533     almond liqueur\n",
       "21961  238533        irish cream\n",
       "\n",
       "[21962 rows x 2 columns]"
      ]
     },
     "execution_count": 83,
     "metadata": {},
     "output_type": "execute_result"
    }
   ],
   "source": [
    "ingredients"
   ]
  },
  {
   "cell_type": "code",
   "execution_count": 87,
   "metadata": {},
   "outputs": [
    {
     "name": "stderr",
     "output_type": "stream",
     "text": [
      "c:\\users\\jncwi\\appdata\\local\\programs\\python\\python37\\lib\\site-packages\\seaborn\\distributions.py:2551: FutureWarning: `distplot` is a deprecated function and will be removed in a future version. Please adapt your code to use either `displot` (a figure-level function with similar flexibility) or `histplot` (an axes-level function for histograms).\n",
      "  warnings.warn(msg, FutureWarning)\n"
     ]
    },
    {
     "data": {
      "image/png": "[encoded data removed]",
      "text/plain": [
       "<Figure size 432x288 with 1 Axes>"
      ]
     },
     "metadata": {},
     "output_type": "display_data"
    }
   ],
   "source": [
    "import seaborn as sns\n",
    "sns.set_theme()\n",
    "ax = sns.distplot(ingredients.groupby(['ingredient']).count()['item'].values)\n"
   ]
  },
  {
   "cell_type": "code",
   "execution_count": 88,
   "metadata": {},
   "outputs": [
    {
     "name": "stderr",
     "output_type": "stream",
     "text": [
      "c:\\users\\jncwi\\appdata\\local\\programs\\python\\python37\\lib\\site-packages\\seaborn\\distributions.py:2551: FutureWarning: `distplot` is a deprecated function and will be removed in a future version. Please adapt your code to use either `displot` (a figure-level function with similar flexibility) or `histplot` (an axes-level function for histograms).\n",
      "  warnings.warn(msg, FutureWarning)\n"
     ]
    },
    {
     "data": {
      "text/plain": [
       "<AxesSubplot:ylabel='Density'>"
      ]
     },
     "execution_count": 88,
     "metadata": {},
     "output_type": "execute_result"
    },
    {
     "data": {
      "image/png": "[encoded data removed]",
      "text/plain": [
       "<Figure size 432x288 with 1 Axes>"
      ]
     },
     "metadata": {},
     "output_type": "display_data"
    }
   ],
   "source": [
    "sns.distplot(ingredients.groupby(['ingredient']).count()['item'].values)"
   ]
  },
  {
   "cell_type": "code",
   "execution_count": null,
   "metadata": {},
   "outputs": [],
   "source": []
  }
 ],
 "metadata": {
  "kernelspec": {
   "display_name": "Python 3 (ipykernel)",
   "language": "python",
   "name": "python3"
  },
  "language_info": {
   "codemirror_mode": {
    "name": "ipython",
    "version": 3
   },
   "file_extension": ".py",
   "mimetype": "text/x-python",
   "name": "python",
   "nbconvert_exporter": "python",
   "pygments_lexer": "ipython3",
   "version": "3.8.0"
  }
 },
 "nbformat": 4,
 "nbformat_minor": 4
}
